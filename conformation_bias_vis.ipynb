{
 "cells": [
  {
   "cell_type": "code",
   "source": [
    "import os\n",
    "import nltk\n",
    "import tweepy\n",
    "from dotenv import load_dotenv\n",
    "import json\n",
    "from vaderSentiment.vaderSentiment import SentimentIntensityAnalyzer\n",
    "import matplotlib.pyplot as plt\n",
    "from datetime import datetime\n",
    "import re\n",
    "import cv2"
   ],
   "metadata": {
    "collapsed": false,
    "pycharm": {
     "name": "#%%\n"
    }
   },
   "execution_count": null,
   "outputs": []
  },
  {
   "cell_type": "code",
   "execution_count": 8,
   "outputs": [],
   "source": [
    "import ssl\n",
    "def set_up_ssl():\n",
    "    try:\n",
    "        _create_unverified_https_context = ssl._create_unverified_context\n",
    "    except AttributeError:\n",
    "        pass\n",
    "    else:\n",
    "        ssl._create_default_https_context = _create_unverified_https_context"
   ],
   "metadata": {
    "collapsed": false,
    "pycharm": {
     "name": "#%%\n"
    }
   }
  },
  {
   "cell_type": "code",
   "execution_count": 9,
   "outputs": [],
   "source": [
    "twitter_russia_sources_rus = [\"@1tvru_news\", \"@ru_rbc\", \"@er_novosti\",\n",
    "                              \"@rt_com\",\n",
    "                              \"@medvedevrussia\", \"@kremlinrussia\",\n",
    "                              \"@rentvchannel\", \"@vesti_news\", \"@kpru\"]\n",
    "\n",
    "twitter_ukraine_sources_rus = [\"@dmitry_gordon\", \"@SvobodaRadio\",\n",
    "                               \"@euronewsru\", \"@FeyginMark4\", \"@tvrain\", \"@teamnavalny\"]\n",
    "\n",
    "twitter_ukraine_sources_ukr = [\"@HromadskeUA\", \"@tsnua\", \"@24tvua\", \"@unian\",\n",
    "                               \"@radiosvoboda\", \"@5channel\", \"@EspresoTV\"]\n",
    "\n",
    "twitter_ukraine_sources_eng = [\"@mschwirtz\", \"@KyivIndependent\", \"@KyivPost\",\n",
    "                               \"@mchancecnn\", \"@fpleitgenCNN\", \"@Kasparov63\",\n",
    "                               \"@ikhurshudyan\", \"@myroslavapetsa\",\n",
    "                               \"@langfittnpr\", \"@ElBeardsley\", \"@timkmak\"]"
   ],
   "metadata": {
    "collapsed": false,
    "pycharm": {
     "name": "#%%\n"
    }
   }
  },
  {
   "cell_type": "code",
   "execution_count": 31,
   "outputs": [],
   "source": [
    "load_dotenv()\n",
    "TWITTER_BEARER_TOKEN = os.getenv('TWITTER_BEARER_TOKEN')\n",
    "TWITTER_API_KEY = os.getenv('TWITTER_API_KEY')\n",
    "TWITTER_API_SECRET_KEY = os.getenv('TWITTER_API_SECRET_KEY')\n",
    "TWITTER_ACCESS_TOKEN = os.getenv('TWITTER_ACCESS_TOKEN')\n",
    "TWITTER_ACCESS_TOKEN_SECRET = os.getenv('TWITTER_ACCESS_TOKEN_SECRET')"
   ],
   "metadata": {
    "collapsed": false,
    "pycharm": {
     "name": "#%%\n"
    }
   }
  },
  {
   "cell_type": "code",
   "execution_count": 32,
   "outputs": [
    {
     "name": "stdout",
     "output_type": "stream",
     "text": [
      "Authenticating to Twitter...\n"
     ]
    }
   ],
   "source": [
    "print(\"Authenticating to Twitter...\")\n",
    "\n",
    "client = tweepy.Client(bearer_token=TWITTER_BEARER_TOKEN, wait_on_rate_limit=True)\n",
    "auth = tweepy.OAuthHandler(TWITTER_API_KEY, TWITTER_API_SECRET_KEY)\n",
    "auth.set_access_token(TWITTER_ACCESS_TOKEN, TWITTER_ACCESS_TOKEN_SECRET)\n",
    "api = tweepy.API(auth, wait_on_rate_limit=True)"
   ],
   "metadata": {
    "collapsed": false,
    "pycharm": {
     "name": "#%%\n"
    }
   }
  },
  {
   "cell_type": "markdown",
   "source": [
    "https://dev.to/twitterdev/a-comprehensive-guide-for-using-the-twitter-api-v2-using-tweepy-in-python-15d9"
   ],
   "metadata": {
    "collapsed": false
   }
  },
  {
   "cell_type": "code",
   "execution_count": 36,
   "outputs": [],
   "source": [
    "def get_user_id_from_username(username):\n",
    "    user = api.get_user(screen_name=username)\n",
    "    return user.id"
   ],
   "metadata": {
    "collapsed": false,
    "pycharm": {
     "name": "#%%\n"
    }
   }
  },
  {
   "cell_type": "code",
   "execution_count": 37,
   "outputs": [],
   "source": [
    "# user = get_user_id_from_username(\"@euronewsru\")\n",
    "# print(user)"
   ],
   "metadata": {
    "collapsed": false,
    "pycharm": {
     "name": "#%%\n"
    }
   }
  },
  {
   "cell_type": "code",
   "execution_count": 38,
   "outputs": [
    {
     "name": "stdout",
     "output_type": "stream",
     "text": [
      "3333475643\n"
     ]
    }
   ],
   "source": [
    "print(get_user_id_from_username(\"minregion_ua\"))"
   ],
   "metadata": {
    "collapsed": false,
    "pycharm": {
     "name": "#%%\n"
    }
   }
  },
  {
   "cell_type": "code",
   "execution_count": 41,
   "outputs": [],
   "source": [
    "def get_user_followers(username, user_id):\n",
    "    user_followers = {}\n",
    "    followers = []\n",
    "    followers_paginator = tweepy.Paginator(client.get_users_followers, id =\n",
    "    user_id, max_results = 10, limit = 2).flatten()\n",
    "    for follower in followers_paginator:\n",
    "        followers.append(follower)\n",
    "    user_followers[(username, user_id)] = followers\n",
    "    return user_followers"
   ],
   "metadata": {
    "collapsed": false,
    "pycharm": {
     "name": "#%%\n"
    }
   }
  },
  {
   "cell_type": "code",
   "execution_count": 42,
   "outputs": [
    {
     "name": "stderr",
     "output_type": "stream",
     "text": [
      "Rate limit exceeded. Sleeping for 118 seconds.\n"
     ]
    }
   ],
   "source": [
    "followers = get_user_followers(\"@minregion_ua\", 3333475643)"
   ],
   "metadata": {
    "collapsed": false,
    "pycharm": {
     "name": "#%%\n"
    }
   }
  },
  {
   "cell_type": "code",
   "execution_count": 50,
   "outputs": [
    {
     "ename": "TypeError",
     "evalue": "API.get_followers() takes 1 positional argument but 2 were given",
     "output_type": "error",
     "traceback": [
      "\u001B[0;31m---------------------------------------------------------------------------\u001B[0m",
      "\u001B[0;31mTypeError\u001B[0m                                 Traceback (most recent call last)",
      "Cell \u001B[0;32mIn [50], line 5\u001B[0m\n\u001B[1;32m      2\u001B[0m screen_name \u001B[38;5;241m=\u001B[39m \u001B[38;5;124m\"\u001B[39m\u001B[38;5;124mgeeksforgeeks\u001B[39m\u001B[38;5;124m\"\u001B[39m\n\u001B[1;32m      4\u001B[0m \u001B[38;5;66;03m# printing the latest 20 followers of the user\u001B[39;00m\n\u001B[0;32m----> 5\u001B[0m \u001B[38;5;28;01mfor\u001B[39;00m follower \u001B[38;5;129;01min\u001B[39;00m \u001B[43mapi\u001B[49m\u001B[38;5;241;43m.\u001B[39;49m\u001B[43mget_followers\u001B[49m\u001B[43m(\u001B[49m\u001B[43mscreen_name\u001B[49m\u001B[43m)\u001B[49m:\n\u001B[1;32m      6\u001B[0m     \u001B[38;5;28mprint\u001B[39m(follower\u001B[38;5;241m.\u001B[39mscreen_name)\n",
      "File \u001B[0;32m~/NYU-Fall-2022/info_vis/confirmation-bias-vis/venv/lib/python3.10/site-packages/tweepy/api.py:33\u001B[0m, in \u001B[0;36mpagination.<locals>.decorator.<locals>.wrapper\u001B[0;34m(*args, **kwargs)\u001B[0m\n\u001B[1;32m     31\u001B[0m \u001B[38;5;129m@functools\u001B[39m\u001B[38;5;241m.\u001B[39mwraps(method)\n\u001B[1;32m     32\u001B[0m \u001B[38;5;28;01mdef\u001B[39;00m \u001B[38;5;21mwrapper\u001B[39m(\u001B[38;5;241m*\u001B[39margs, \u001B[38;5;241m*\u001B[39m\u001B[38;5;241m*\u001B[39mkwargs):\n\u001B[0;32m---> 33\u001B[0m     \u001B[38;5;28;01mreturn\u001B[39;00m \u001B[43mmethod\u001B[49m\u001B[43m(\u001B[49m\u001B[38;5;241;43m*\u001B[39;49m\u001B[43margs\u001B[49m\u001B[43m,\u001B[49m\u001B[43m \u001B[49m\u001B[38;5;241;43m*\u001B[39;49m\u001B[38;5;241;43m*\u001B[39;49m\u001B[43mkwargs\u001B[49m\u001B[43m)\u001B[49m\n",
      "File \u001B[0;32m~/NYU-Fall-2022/info_vis/confirmation-bias-vis/venv/lib/python3.10/site-packages/tweepy/api.py:46\u001B[0m, in \u001B[0;36mpayload.<locals>.decorator.<locals>.wrapper\u001B[0;34m(*args, **kwargs)\u001B[0m\n\u001B[1;32m     44\u001B[0m kwargs[\u001B[38;5;124m'\u001B[39m\u001B[38;5;124mpayload_list\u001B[39m\u001B[38;5;124m'\u001B[39m] \u001B[38;5;241m=\u001B[39m payload_list\n\u001B[1;32m     45\u001B[0m kwargs[\u001B[38;5;124m'\u001B[39m\u001B[38;5;124mpayload_type\u001B[39m\u001B[38;5;124m'\u001B[39m] \u001B[38;5;241m=\u001B[39m payload_type\n\u001B[0;32m---> 46\u001B[0m \u001B[38;5;28;01mreturn\u001B[39;00m \u001B[43mmethod\u001B[49m\u001B[43m(\u001B[49m\u001B[38;5;241;43m*\u001B[39;49m\u001B[43margs\u001B[49m\u001B[43m,\u001B[49m\u001B[43m \u001B[49m\u001B[38;5;241;43m*\u001B[39;49m\u001B[38;5;241;43m*\u001B[39;49m\u001B[43mkwargs\u001B[49m\u001B[43m)\u001B[49m\n",
      "\u001B[0;31mTypeError\u001B[0m: API.get_followers() takes 1 positional argument but 2 were given"
     ]
    }
   ],
   "source": [
    "# the screen_name of the targeted user\n",
    "screen_name = \"geeksforgeeks\"\n",
    "\n",
    "# printing the latest 20 followers of the user\n",
    "for follower in api.get_followers(screen_name):\n",
    "    print(follower.screen_name)"
   ],
   "metadata": {
    "collapsed": false,
    "pycharm": {
     "name": "#%%\n"
    }
   }
  },
  {
   "cell_type": "code",
   "execution_count": 49,
   "outputs": [
    {
     "name": "stdout",
     "output_type": "stream",
     "text": [
      "1\n"
     ]
    }
   ],
   "source": [
    "print(len(followers))"
   ],
   "metadata": {
    "collapsed": false,
    "pycharm": {
     "name": "#%%\n"
    }
   }
  },
  {
   "cell_type": "code",
   "execution_count": 52,
   "outputs": [
    {
     "name": "stdout",
     "output_type": "stream",
     "text": [
      "20\n",
      "[<User id=1596438068617269248 name=Ігор Зірчак username=IGOR2425888>, <User id=1596233105844707328 name=Valeryy Spetsteh username=spetstehavto>, <User id=2541291170 name=Igor Cvetkovski username=igorcvetkovski7>, <User id=1539285531359596544 name=Nik Cool username=nikcool175>, <User id=2541664184 name=UKR Embassy in HUN username=UKRinHUN>, <User id=2549703642 name=якесь кріативне безглуздя username=pkconline1>, <User id=1567116049002233857 name=nn nn username=nnnn60913189>, <User id=1553414616281227265 name=Влад Казбан username=patriot_Ukr_>, <User id=109796666 name=Klaas Pompstra 🇺🇦 username=KlaasPompstra>, <User id=1502471574871441412 name=ricecake username=risovoyetesto>, <User id=1565987672329490432 name=Dmitry Olefirov username=MaestroRew>, <User id=2687387750 name=Роман username=chipoli2>, <User id=1534639698341154817 name=Гордей username=Gordej23505730>, <User id=1259664191415357443 name=medco.at.ua Asia username=AsiaOvertime>, <User id=1071629801004380160 name=wUAw! username=Serhiywalk>, <User id=1533997090648498178 name=Ivan_Bieber username=_Ivan_Bieber>, <User id=1196012245261664257 name=Seppo Korhonen username=SeppoKorhonen17>, <User id=1497074709220970513 name=Оксана Гордиенко username=OksanaGordien13>, <User id=1577980605773627392 name=Margarita Larina username=Margari45231774>, <User id=1491065531360858116 name=I＆♠SM username=shangzhimeier>]\n"
     ]
    }
   ],
   "source": [
    "print(len(followers[('@minregion_ua', 3333475643)]))\n",
    "print(followers[('@minregion_ua', 3333475643)])"
   ],
   "metadata": {
    "collapsed": false,
    "pycharm": {
     "name": "#%%\n"
    }
   }
  },
  {
   "cell_type": "code",
   "execution_count": null,
   "outputs": [],
   "source": [],
   "metadata": {
    "collapsed": false,
    "pycharm": {
     "name": "#%%\n"
    }
   }
  }
 ],
 "metadata": {
  "kernelspec": {
   "display_name": "Python 3",
   "language": "python",
   "name": "python3"
  },
  "language_info": {
   "codemirror_mode": {
    "name": "ipython",
    "version": 2
   },
   "file_extension": ".py",
   "mimetype": "text/x-python",
   "name": "python",
   "nbconvert_exporter": "python",
   "pygments_lexer": "ipython2",
   "version": "2.7.6"
  }
 },
 "nbformat": 4,
 "nbformat_minor": 0
}