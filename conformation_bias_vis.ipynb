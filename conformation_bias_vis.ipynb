{
 "cells": [
  {
   "cell_type": "code",
   "execution_count": 7,
   "outputs": [],
   "source": [
    "import os\n",
    "import nltk\n",
    "import tweepy\n",
    "from dotenv import load_dotenv\n",
    "import json\n",
    "from vaderSentiment.vaderSentiment import SentimentIntensityAnalyzer\n",
    "import matplotlib.pyplot as plt\n",
    "from datetime import datetime\n",
    "import re\n",
    "import cv2"
   ],
   "metadata": {
    "collapsed": false,
    "pycharm": {
     "name": "#%%\n"
    }
   }
  },
  {
   "cell_type": "code",
   "execution_count": 8,
   "outputs": [],
   "source": [
    "import ssl\n",
    "def set_up_ssl():\n",
    "    try:\n",
    "        _create_unverified_https_context = ssl._create_unverified_context\n",
    "    except AttributeError:\n",
    "        pass\n",
    "    else:\n",
    "        ssl._create_default_https_context = _create_unverified_https_context"
   ],
   "metadata": {
    "collapsed": false,
    "pycharm": {
     "name": "#%%\n"
    }
   }
  },
  {
   "cell_type": "code",
   "execution_count": 9,
   "outputs": [],
   "source": [
    "twitter_russia_sources_rus = [\"@1tvru_news\", \"@ru_rbc\", \"@er_novosti\",\n",
    "                              \"@rt_com\",\n",
    "                              \"@medvedevrussia\", \"@kremlinrussia\",\n",
    "                              \"@rentvchannel\", \"@vesti_news\", \"@kpru\"]\n",
    "\n",
    "twitter_ukraine_sources_rus = [\"@dmitry_gordon\", \"@SvobodaRadio\",\n",
    "                               \"@euronewsru\", \"@FeyginMark4\", \"@tvrain\", \"@teamnavalny\"]\n",
    "\n",
    "twitter_ukraine_sources_ukr = [\"@HromadskeUA\", \"@tsnua\", \"@24tvua\", \"@unian\",\n",
    "                               \"@radiosvoboda\", \"@5channel\"]\n",
    "\n",
    "twitter_ukraine_sources_eng = [\"@mschwirtz\", \"@KyivIndependent\", \"@KyivPost\",\n",
    "                               \"@mchancecnn\", \"@fpleitgenCNN\", \"@Kasparov63\",\n",
    "                               \"@ikhurshudyan\", \"@myroslavapetsa\",\n",
    "                               \"@langfittnpr\", \"@ElBeardsley\", \"@timkmak\"]"
   ],
   "metadata": {
    "collapsed": false,
    "pycharm": {
     "name": "#%%\n"
    }
   }
  },
  {
   "cell_type": "code",
   "execution_count": 10,
   "outputs": [],
   "source": [
    "load_dotenv()\n",
    "TWITTER_BEARER_TOKEN = os.getenv('TWITTER_BEARER_TOKEN')\n",
    "TWITTER_API_KEY = os.getenv('TWITTER_API_KEY')\n",
    "TWITTER_API_SECRET_KEY = os.getenv('TWITTER_API_SECRET_KEY')\n",
    "TWITTER_ACCESS_TOKEN = os.getenv('TWITTER_ACCESS_TOKEN')\n",
    "TWITTER_ACCESS_TOKEN_SECRET = os.getenv('TWITTER_ACCESS_TOKEN_SECRET')"
   ],
   "metadata": {
    "collapsed": false,
    "pycharm": {
     "name": "#%%\n"
    }
   }
  },
  {
   "cell_type": "code",
   "execution_count": 11,
   "outputs": [
    {
     "name": "stdout",
     "output_type": "stream",
     "text": [
      "Authenticating to Twitter...\n"
     ]
    }
   ],
   "source": [
    "print(\"Authenticating to Twitter...\")\n",
    "\n",
    "# client = tweepy.Client(bearer_token=TWITTER_BEARER_TOKEN)\n",
    "client = tweepy.Client(bearer_token=TWITTER_BEARER_TOKEN)\n",
    "auth = tweepy.OAuthHandler(TWITTER_API_KEY, TWITTER_API_SECRET_KEY)\n",
    "auth.set_access_token(TWITTER_ACCESS_TOKEN, TWITTER_ACCESS_TOKEN_SECRET)"
   ],
   "metadata": {
    "collapsed": false,
    "pycharm": {
     "name": "#%%\n"
    }
   }
  },
  {
   "cell_type": "code",
   "execution_count": 12,
   "outputs": [],
   "source": [
    "# create Twitter API client\n",
    "api = tweepy.API(auth, wait_on_rate_limit=True)"
   ],
   "metadata": {
    "collapsed": false,
    "pycharm": {
     "name": "#%%\n"
    }
   }
  },
  {
   "cell_type": "code",
   "execution_count": null,
   "outputs": [],
   "source": [],
   "metadata": {
    "collapsed": false,
    "pycharm": {
     "name": "#%%\n"
    }
   }
  }
 ],
 "metadata": {
  "kernelspec": {
   "display_name": "Python 3",
   "language": "python",
   "name": "python3"
  },
  "language_info": {
   "codemirror_mode": {
    "name": "ipython",
    "version": 2
   },
   "file_extension": ".py",
   "mimetype": "text/x-python",
   "name": "python",
   "nbconvert_exporter": "python",
   "pygments_lexer": "ipython2",
   "version": "2.7.6"
  }
 },
 "nbformat": 4,
 "nbformat_minor": 0
}