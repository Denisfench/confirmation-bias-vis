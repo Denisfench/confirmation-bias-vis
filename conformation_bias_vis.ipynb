{
 "cells": [
  {
   "cell_type": "code",
   "source": [
    "import os\n",
    "import nltk\n",
    "import tweepy\n",
    "from dotenv import load_dotenv\n",
    "import json\n",
    "from vaderSentiment.vaderSentiment import SentimentIntensityAnalyzer\n",
    "import matplotlib.pyplot as plt\n",
    "from datetime import datetime\n",
    "import re\n",
    "import cv2\n",
    "import numpy as np\n",
    "import pandas as pd\n",
    "import pickle"
   ],
   "metadata": {
    "collapsed": false,
    "pycharm": {
     "name": "#%%\n"
    }
   },
   "execution_count": 94,
   "outputs": []
  },
  {
   "cell_type": "code",
   "execution_count": 101,
   "outputs": [],
   "source": [
    "import ssl\n",
    "def set_up_ssl():\n",
    "    try:\n",
    "        _create_unverified_https_context = ssl._create_unverified_context\n",
    "    except AttributeError:\n",
    "        pass\n",
    "    else:\n",
    "        ssl._create_default_https_context = _create_unverified_https_context"
   ],
   "metadata": {
    "collapsed": false,
    "pycharm": {
     "name": "#%%\n"
    }
   }
  },
  {
   "cell_type": "code",
   "execution_count": 102,
   "outputs": [],
   "source": [
    "load_dotenv()\n",
    "TWITTER_BEARER_TOKEN = os.getenv('TWITTER_BEARER_TOKEN')\n",
    "TWITTER_API_KEY = os.getenv('TWITTER_API_KEY')\n",
    "TWITTER_API_SECRET_KEY = os.getenv('TWITTER_API_SECRET_KEY')\n",
    "TWITTER_ACCESS_TOKEN = os.getenv('TWITTER_ACCESS_TOKEN')\n",
    "TWITTER_ACCESS_TOKEN_SECRET = os.getenv('TWITTER_ACCESS_TOKEN_SECRET')"
   ],
   "metadata": {
    "collapsed": false,
    "pycharm": {
     "name": "#%%\n"
    }
   }
  },
  {
   "cell_type": "code",
   "execution_count": 103,
   "outputs": [
    {
     "name": "stdout",
     "output_type": "stream",
     "text": [
      "Authenticating to Twitter...\n"
     ]
    }
   ],
   "source": [
    "print(\"Authenticating to Twitter...\")\n",
    "\n",
    "client = tweepy.Client(bearer_token=TWITTER_BEARER_TOKEN, wait_on_rate_limit=True)\n",
    "auth = tweepy.OAuthHandler(TWITTER_API_KEY, TWITTER_API_SECRET_KEY)\n",
    "auth.set_access_token(TWITTER_ACCESS_TOKEN, TWITTER_ACCESS_TOKEN_SECRET)\n",
    "api = tweepy.API(auth, wait_on_rate_limit=True)"
   ],
   "metadata": {
    "collapsed": false,
    "pycharm": {
     "name": "#%%\n"
    }
   }
  },
  {
   "cell_type": "code",
   "execution_count": 104,
   "outputs": [],
   "source": [
    "twitter_russia_sources_rus_usernames = [\"@1tvru_news\", \"@ru_rbc\",\n",
    "                                         \"@er_novosti\",\n",
    "                              \"@rt_com\",\n",
    "                              \"@medvedevrussia\", \"@kremlinrussia\",\n",
    "                              \"@rentvchannel\", \"@vesti_news\", \"@kpru\"]\n",
    "\n",
    "twitter_ukraine_sources_rus_usernames = [\"@dmitry_gordon\", \"@SvobodaRadio\",\n",
    "                               \"@euronewsru\", \"@FeyginMark4\", \"@tvrain\", \"@teamnavalny\"]\n",
    "\n",
    "twitter_ukraine_sources_ukr_usernames = [\"@HromadskeUA\", \"@tsnua\", \"@24tvua\", \"@unian\",\n",
    "                               \"@radiosvoboda\", \"@5channel\", \"@EspresoTV\"]\n",
    "\n",
    "twitter_ukraine_sources_eng_usernames = [\"@mschwirtz\", \"@KyivIndependent\", \"@KyivPost\",\n",
    "                               \"@mchancecnn\", \"@fpleitgenCNN\", \"@Kasparov63\",\n",
    "                               \"@ikhurshudyan\", \"@myroslavapetsa\",\n",
    "                               \"@langfittnpr\", \"@ElBeardsley\", \"@timkmak\"]"
   ],
   "metadata": {
    "collapsed": false,
    "pycharm": {
     "name": "#%%\n"
    }
   }
  },
  {
   "cell_type": "markdown",
   "source": [
    "https://dev.to/twitterdev/a-comprehensive-guide-for-using-the-twitter-api-v2-using-tweepy-in-python-15d9"
   ],
   "metadata": {
    "collapsed": false
   }
  },
  {
   "cell_type": "code",
   "execution_count": 89,
   "outputs": [],
   "source": [
    "def get_user_id_from_username(username):\n",
    "    user = api.get_user(screen_name=username)\n",
    "    return user.id"
   ],
   "metadata": {
    "collapsed": false,
    "pycharm": {
     "name": "#%%\n"
    }
   }
  },
  {
   "cell_type": "code",
   "execution_count": 105,
   "outputs": [],
   "source": [
    "russia_sources_rus = []\n",
    "ukraine_sources_rus = []\n",
    "ukraine_sources_ukr = []\n",
    "ukraine_sources_eng = []"
   ],
   "metadata": {
    "collapsed": false,
    "pycharm": {
     "name": "#%%\n"
    }
   }
  },
  {
   "cell_type": "code",
   "execution_count": 107,
   "outputs": [],
   "source": [
    "LOAD_CLUSTERS_DATA = True"
   ],
   "metadata": {
    "collapsed": false,
    "pycharm": {
     "name": "#%%\n"
    }
   }
  },
  {
   "cell_type": "code",
   "execution_count": 108,
   "outputs": [],
   "source": [
    "if not LOAD_CLUSTERS_DATA:\n",
    "    for username in twitter_russia_sources_rus_usernames:\n",
    "        russia_sources_rus.append((username, get_user_id_from_username(username)))\n",
    "\n",
    "    for username in twitter_ukraine_sources_rus_usernames:\n",
    "        ukraine_sources_rus.append((username, get_user_id_from_username(username)))\n",
    "\n",
    "    for username in twitter_ukraine_sources_ukr_usernames:\n",
    "        ukraine_sources_ukr.append((username, get_user_id_from_username(username)))\n",
    "\n",
    "    for username in twitter_ukraine_sources_eng_usernames:\n",
    "        ukraine_sources_eng.append((username, get_user_id_from_username(username)))"
   ],
   "metadata": {
    "collapsed": false,
    "pycharm": {
     "name": "#%%\n"
    }
   }
  },
  {
   "cell_type": "code",
   "execution_count": 109,
   "outputs": [],
   "source": [
    "if not LOAD_CLUSTERS_DATA:\n",
    "    russia_sources_rus_pickled = pickle.dumps(russia_sources_rus)\n",
    "    ukraine_sources_rus_pickled = pickle.dumps(ukraine_sources_rus)\n",
    "    ukraine_sources_ukr_pickled = pickle.dumps(ukraine_sources_ukr)\n",
    "    ukraine_sources_eng_pickled = pickle.dumps(ukraine_sources_eng)"
   ],
   "metadata": {
    "collapsed": false,
    "pycharm": {
     "name": "#%%\n"
    }
   }
  },
  {
   "cell_type": "code",
   "execution_count": 112,
   "outputs": [],
   "source": [
    "CLUSTERS_SERIALIZATION_DIR = \"data_clusters/\""
   ],
   "metadata": {
    "collapsed": false,
    "pycharm": {
     "name": "#%%\n"
    }
   }
  },
  {
   "cell_type": "code",
   "execution_count": 110,
   "outputs": [],
   "source": [
    "if not LOAD_CLUSTERS_DATA:\n",
    "    print(\"Writing pickled data to a file...\")\n",
    "\n",
    "    with open(CLUSTERS_SERIALIZATION_DIR + 'russia_sources_rus_pickled.pickle', 'wb') as f:\n",
    "        f.write(russia_sources_rus_pickled)\n",
    "\n",
    "    with open(CLUSTERS_SERIALIZATION_DIR + 'ukraine_sources_rus_pickled.pickle', 'wb') as f:\n",
    "        f.write(ukraine_sources_rus_pickled)\n",
    "\n",
    "    with open(CLUSTERS_SERIALIZATION_DIR + 'ukraine_sources_ukr_pickled.pickle', 'wb') as f:\n",
    "        f.write(ukraine_sources_ukr_pickled)\n",
    "\n",
    "    with open(CLUSTERS_SERIALIZATION_DIR + 'ukraine_sources_eng_pickled.pickle','wb') as f:\n",
    "        f.write(ukraine_sources_eng_pickled)"
   ],
   "metadata": {
    "collapsed": false,
    "pycharm": {
     "name": "#%%\n"
    }
   }
  },
  {
   "cell_type": "code",
   "execution_count": 113,
   "outputs": [],
   "source": [
    "if LOAD_CLUSTERS_DATA:\n",
    "    with open(CLUSTERS_SERIALIZATION_DIR + 'russia_sources_rus_pickled.pickle',\\\n",
    "            'rb') as f:\n",
    "        russia_sources_rus = pickle.load(f)\n",
    "\n",
    "    with open(CLUSTERS_SERIALIZATION_DIR + 'ukraine_sources_rus_pickled' \\\n",
    "            '.pickle', 'rb') as f:\n",
    "        ukraine_sources_rus = pickle.load(f)\n",
    "\n",
    "    with open(CLUSTERS_SERIALIZATION_DIR + 'ukraine_sources_ukr_pickled' \\\n",
    "            '.pickle', 'rb') as f:\n",
    "        ukraine_sources_ukr = pickle.load(f)\n",
    "\n",
    "    with open(CLUSTERS_SERIALIZATION_DIR + 'ukraine_sources_eng_pickled' \\\n",
    "            '.pickle', 'rb') as f:\n",
    "        ukraine_sources_eng = pickle.load(f)"
   ],
   "metadata": {
    "collapsed": false,
    "pycharm": {
     "name": "#%%\n"
    }
   }
  },
  {
   "cell_type": "code",
   "execution_count": 41,
   "outputs": [],
   "source": [
    "def get_user_followers(username, user_id):\n",
    "    user_followers = {}\n",
    "    followers = []\n",
    "    followers_paginator = tweepy.Paginator(client.get_users_followers, id =\n",
    "    user_id, max_results = 10, limit = 2).flatten()\n",
    "    for follower in followers_paginator:\n",
    "        followers.append(follower)\n",
    "    user_followers[(username, user_id)] = followers\n",
    "    return user_followers"
   ],
   "metadata": {
    "collapsed": false,
    "pycharm": {
     "name": "#%%\n"
    }
   }
  },
  {
   "cell_type": "code",
   "execution_count": 42,
   "outputs": [
    {
     "name": "stderr",
     "output_type": "stream",
     "text": [
      "Rate limit exceeded. Sleeping for 118 seconds.\n"
     ]
    }
   ],
   "source": [
    "followers = get_user_followers(\"@minregion_ua\", 3333475643)"
   ],
   "metadata": {
    "collapsed": false,
    "pycharm": {
     "name": "#%%\n"
    }
   }
  },
  {
   "cell_type": "code",
   "execution_count": 50,
   "outputs": [
    {
     "ename": "TypeError",
     "evalue": "API.get_followers() takes 1 positional argument but 2 were given",
     "output_type": "error",
     "traceback": [
      "\u001B[0;31m---------------------------------------------------------------------------\u001B[0m",
      "\u001B[0;31mTypeError\u001B[0m                                 Traceback (most recent call last)",
      "Cell \u001B[0;32mIn [50], line 5\u001B[0m\n\u001B[1;32m      2\u001B[0m screen_name \u001B[38;5;241m=\u001B[39m \u001B[38;5;124m\"\u001B[39m\u001B[38;5;124mgeeksforgeeks\u001B[39m\u001B[38;5;124m\"\u001B[39m\n\u001B[1;32m      4\u001B[0m \u001B[38;5;66;03m# printing the latest 20 followers of the user\u001B[39;00m\n\u001B[0;32m----> 5\u001B[0m \u001B[38;5;28;01mfor\u001B[39;00m follower \u001B[38;5;129;01min\u001B[39;00m \u001B[43mapi\u001B[49m\u001B[38;5;241;43m.\u001B[39;49m\u001B[43mget_followers\u001B[49m\u001B[43m(\u001B[49m\u001B[43mscreen_name\u001B[49m\u001B[43m)\u001B[49m:\n\u001B[1;32m      6\u001B[0m     \u001B[38;5;28mprint\u001B[39m(follower\u001B[38;5;241m.\u001B[39mscreen_name)\n",
      "File \u001B[0;32m~/NYU-Fall-2022/info_vis/confirmation-bias-vis/venv/lib/python3.10/site-packages/tweepy/api.py:33\u001B[0m, in \u001B[0;36mpagination.<locals>.decorator.<locals>.wrapper\u001B[0;34m(*args, **kwargs)\u001B[0m\n\u001B[1;32m     31\u001B[0m \u001B[38;5;129m@functools\u001B[39m\u001B[38;5;241m.\u001B[39mwraps(method)\n\u001B[1;32m     32\u001B[0m \u001B[38;5;28;01mdef\u001B[39;00m \u001B[38;5;21mwrapper\u001B[39m(\u001B[38;5;241m*\u001B[39margs, \u001B[38;5;241m*\u001B[39m\u001B[38;5;241m*\u001B[39mkwargs):\n\u001B[0;32m---> 33\u001B[0m     \u001B[38;5;28;01mreturn\u001B[39;00m \u001B[43mmethod\u001B[49m\u001B[43m(\u001B[49m\u001B[38;5;241;43m*\u001B[39;49m\u001B[43margs\u001B[49m\u001B[43m,\u001B[49m\u001B[43m \u001B[49m\u001B[38;5;241;43m*\u001B[39;49m\u001B[38;5;241;43m*\u001B[39;49m\u001B[43mkwargs\u001B[49m\u001B[43m)\u001B[49m\n",
      "File \u001B[0;32m~/NYU-Fall-2022/info_vis/confirmation-bias-vis/venv/lib/python3.10/site-packages/tweepy/api.py:46\u001B[0m, in \u001B[0;36mpayload.<locals>.decorator.<locals>.wrapper\u001B[0;34m(*args, **kwargs)\u001B[0m\n\u001B[1;32m     44\u001B[0m kwargs[\u001B[38;5;124m'\u001B[39m\u001B[38;5;124mpayload_list\u001B[39m\u001B[38;5;124m'\u001B[39m] \u001B[38;5;241m=\u001B[39m payload_list\n\u001B[1;32m     45\u001B[0m kwargs[\u001B[38;5;124m'\u001B[39m\u001B[38;5;124mpayload_type\u001B[39m\u001B[38;5;124m'\u001B[39m] \u001B[38;5;241m=\u001B[39m payload_type\n\u001B[0;32m---> 46\u001B[0m \u001B[38;5;28;01mreturn\u001B[39;00m \u001B[43mmethod\u001B[49m\u001B[43m(\u001B[49m\u001B[38;5;241;43m*\u001B[39;49m\u001B[43margs\u001B[49m\u001B[43m,\u001B[49m\u001B[43m \u001B[49m\u001B[38;5;241;43m*\u001B[39;49m\u001B[38;5;241;43m*\u001B[39;49m\u001B[43mkwargs\u001B[49m\u001B[43m)\u001B[49m\n",
      "\u001B[0;31mTypeError\u001B[0m: API.get_followers() takes 1 positional argument but 2 were given"
     ]
    }
   ],
   "source": [
    "# the screen_name of the targeted user\n",
    "screen_name = \"geeksforgeeks\"\n",
    "\n",
    "# printing the latest 20 followers of the user\n",
    "for follower in api.get_followers(screen_name):\n",
    "    print(follower.screen_name)"
   ],
   "metadata": {
    "collapsed": false,
    "pycharm": {
     "name": "#%%\n"
    }
   }
  },
  {
   "cell_type": "code",
   "execution_count": 49,
   "outputs": [
    {
     "name": "stdout",
     "output_type": "stream",
     "text": [
      "1\n"
     ]
    }
   ],
   "source": [
    "print(len(followers))"
   ],
   "metadata": {
    "collapsed": false,
    "pycharm": {
     "name": "#%%\n"
    }
   }
  },
  {
   "cell_type": "code",
   "execution_count": 58,
   "outputs": [
    {
     "name": "stdout",
     "output_type": "stream",
     "text": [
      "20\n",
      "[<User id=1596438068617269248 name=Ігор Зірчак username=IGOR2425888>, <User id=1596233105844707328 name=Valeryy Spetsteh username=spetstehavto>, <User id=2541291170 name=Igor Cvetkovski username=igorcvetkovski7>, <User id=1539285531359596544 name=Nik Cool username=nikcool175>, <User id=2541664184 name=UKR Embassy in HUN username=UKRinHUN>, <User id=2549703642 name=якесь кріативне безглуздя username=pkconline1>, <User id=1567116049002233857 name=nn nn username=nnnn60913189>, <User id=1553414616281227265 name=Влад Казбан username=patriot_Ukr_>, <User id=109796666 name=Klaas Pompstra 🇺🇦 username=KlaasPompstra>, <User id=1502471574871441412 name=ricecake username=risovoyetesto>, <User id=1565987672329490432 name=Dmitry Olefirov username=MaestroRew>, <User id=2687387750 name=Роман username=chipoli2>, <User id=1534639698341154817 name=Гордей username=Gordej23505730>, <User id=1259664191415357443 name=medco.at.ua Asia username=AsiaOvertime>, <User id=1071629801004380160 name=wUAw! username=Serhiywalk>, <User id=1533997090648498178 name=Ivan_Bieber username=_Ivan_Bieber>, <User id=1196012245261664257 name=Seppo Korhonen username=SeppoKorhonen17>, <User id=1497074709220970513 name=Оксана Гордиенко username=OksanaGordien13>, <User id=1577980605773627392 name=Margarita Larina username=Margari45231774>, <User id=1491065531360858116 name=I＆♠SM username=shangzhimeier>]\n"
     ]
    }
   ],
   "source": [
    "print(len(followers[('@minregion_ua', 3333475643)]))\n",
    "print(followers[('@minregion_ua', 3333475643)])"
   ],
   "metadata": {
    "collapsed": false,
    "pycharm": {
     "name": "#%%\n"
    }
   }
  },
  {
   "cell_type": "code",
   "execution_count": 71,
   "outputs": [
    {
     "name": "stdout",
     "output_type": "stream",
     "text": [
      "<class 'tweepy.user.User'>\n",
      "Ігор Зірчак\n",
      "1596438068617269248\n"
     ]
    }
   ],
   "source": [
    "print(type(followers[('@minregion_ua', 3333475643)][0]))\n",
    "print(followers[('@minregion_ua', 3333475643)][0].name)\n",
    "print(followers[('@minregion_ua', 3333475643)][0].id)"
   ],
   "metadata": {
    "collapsed": false,
    "pycharm": {
     "name": "#%%\n"
    }
   }
  },
  {
   "cell_type": "code",
   "execution_count": 86,
   "outputs": [
    {
     "ename": "ValueError",
     "evalue": "Shape of passed values is (2, 1), indices imply (2, 2)",
     "output_type": "error",
     "traceback": [
      "\u001B[0;31m---------------------------------------------------------------------------\u001B[0m",
      "\u001B[0;31mValueError\u001B[0m                                Traceback (most recent call last)",
      "Cell \u001B[0;32mIn [86], line 7\u001B[0m\n\u001B[1;32m      4\u001B[0m clusters \u001B[38;5;241m=\u001B[39m {}\n\u001B[1;32m      6\u001B[0m \u001B[38;5;28;01mfor\u001B[39;00m follower \u001B[38;5;129;01min\u001B[39;00m followers:\n\u001B[0;32m----> 7\u001B[0m     clusters[follower] \u001B[38;5;241m=\u001B[39m \u001B[43mpd\u001B[49m\u001B[38;5;241;43m.\u001B[39;49m\u001B[43mDataFrame\u001B[49m\u001B[43m(\u001B[49m\u001B[43m[\u001B[49m\u001B[43mfollowers\u001B[49m\u001B[43m[\u001B[49m\u001B[43mfollower\u001B[49m\u001B[43m]\u001B[49m\u001B[43m[\u001B[49m\u001B[38;5;241;43m0\u001B[39;49m\u001B[43m]\u001B[49m\u001B[38;5;241;43m.\u001B[39;49m\u001B[43mname\u001B[49m\u001B[43m,\u001B[49m\n\u001B[1;32m      8\u001B[0m \u001B[43m                                       \u001B[49m\u001B[43mfollowers\u001B[49m\u001B[43m[\u001B[49m\u001B[43mfollower\u001B[49m\u001B[43m]\u001B[49m\u001B[43m[\u001B[49m\u001B[38;5;241;43m0\u001B[39;49m\u001B[43m]\u001B[49m\u001B[38;5;241;43m.\u001B[39;49m\u001B[43mid\u001B[49m\u001B[43m]\u001B[49m\u001B[43m,\u001B[49m\n\u001B[1;32m      9\u001B[0m \u001B[43m                                            \u001B[49m\u001B[43mcolumns\u001B[49m\u001B[38;5;241;43m=\u001B[39;49m\u001B[43m[\u001B[49m\u001B[38;5;124;43m'\u001B[39;49m\u001B[38;5;124;43mUsername\u001B[39;49m\u001B[38;5;124;43m'\u001B[39;49m\u001B[43m,\u001B[49m\u001B[38;5;124;43m'\u001B[39;49m\u001B[38;5;124;43mId\u001B[39;49m\u001B[38;5;124;43m'\u001B[39;49m\u001B[43m]\u001B[49m\u001B[43m)\u001B[49m\n",
      "File \u001B[0;32m~/NYU-Fall-2022/info_vis/confirmation-bias-vis/venv/lib/python3.10/site-packages/pandas/core/frame.py:761\u001B[0m, in \u001B[0;36mDataFrame.__init__\u001B[0;34m(self, data, index, columns, dtype, copy)\u001B[0m\n\u001B[1;32m    753\u001B[0m         mgr \u001B[38;5;241m=\u001B[39m arrays_to_mgr(\n\u001B[1;32m    754\u001B[0m             arrays,\n\u001B[1;32m    755\u001B[0m             columns,\n\u001B[0;32m   (...)\u001B[0m\n\u001B[1;32m    758\u001B[0m             typ\u001B[38;5;241m=\u001B[39mmanager,\n\u001B[1;32m    759\u001B[0m         )\n\u001B[1;32m    760\u001B[0m     \u001B[38;5;28;01melse\u001B[39;00m:\n\u001B[0;32m--> 761\u001B[0m         mgr \u001B[38;5;241m=\u001B[39m \u001B[43mndarray_to_mgr\u001B[49m\u001B[43m(\u001B[49m\n\u001B[1;32m    762\u001B[0m \u001B[43m            \u001B[49m\u001B[43mdata\u001B[49m\u001B[43m,\u001B[49m\n\u001B[1;32m    763\u001B[0m \u001B[43m            \u001B[49m\u001B[43mindex\u001B[49m\u001B[43m,\u001B[49m\n\u001B[1;32m    764\u001B[0m \u001B[43m            \u001B[49m\u001B[43mcolumns\u001B[49m\u001B[43m,\u001B[49m\n\u001B[1;32m    765\u001B[0m \u001B[43m            \u001B[49m\u001B[43mdtype\u001B[49m\u001B[38;5;241;43m=\u001B[39;49m\u001B[43mdtype\u001B[49m\u001B[43m,\u001B[49m\n\u001B[1;32m    766\u001B[0m \u001B[43m            \u001B[49m\u001B[43mcopy\u001B[49m\u001B[38;5;241;43m=\u001B[39;49m\u001B[43mcopy\u001B[49m\u001B[43m,\u001B[49m\n\u001B[1;32m    767\u001B[0m \u001B[43m            \u001B[49m\u001B[43mtyp\u001B[49m\u001B[38;5;241;43m=\u001B[39;49m\u001B[43mmanager\u001B[49m\u001B[43m,\u001B[49m\n\u001B[1;32m    768\u001B[0m \u001B[43m        \u001B[49m\u001B[43m)\u001B[49m\n\u001B[1;32m    769\u001B[0m \u001B[38;5;28;01melse\u001B[39;00m:\n\u001B[1;32m    770\u001B[0m     mgr \u001B[38;5;241m=\u001B[39m dict_to_mgr(\n\u001B[1;32m    771\u001B[0m         {},\n\u001B[1;32m    772\u001B[0m         index,\n\u001B[0;32m   (...)\u001B[0m\n\u001B[1;32m    775\u001B[0m         typ\u001B[38;5;241m=\u001B[39mmanager,\n\u001B[1;32m    776\u001B[0m     )\n",
      "File \u001B[0;32m~/NYU-Fall-2022/info_vis/confirmation-bias-vis/venv/lib/python3.10/site-packages/pandas/core/internals/construction.py:349\u001B[0m, in \u001B[0;36mndarray_to_mgr\u001B[0;34m(values, index, columns, dtype, copy, typ)\u001B[0m\n\u001B[1;32m    344\u001B[0m \u001B[38;5;66;03m# _prep_ndarraylike ensures that values.ndim == 2 at this point\u001B[39;00m\n\u001B[1;32m    345\u001B[0m index, columns \u001B[38;5;241m=\u001B[39m _get_axes(\n\u001B[1;32m    346\u001B[0m     values\u001B[38;5;241m.\u001B[39mshape[\u001B[38;5;241m0\u001B[39m], values\u001B[38;5;241m.\u001B[39mshape[\u001B[38;5;241m1\u001B[39m], index\u001B[38;5;241m=\u001B[39mindex, columns\u001B[38;5;241m=\u001B[39mcolumns\n\u001B[1;32m    347\u001B[0m )\n\u001B[0;32m--> 349\u001B[0m \u001B[43m_check_values_indices_shape_match\u001B[49m\u001B[43m(\u001B[49m\u001B[43mvalues\u001B[49m\u001B[43m,\u001B[49m\u001B[43m \u001B[49m\u001B[43mindex\u001B[49m\u001B[43m,\u001B[49m\u001B[43m \u001B[49m\u001B[43mcolumns\u001B[49m\u001B[43m)\u001B[49m\n\u001B[1;32m    351\u001B[0m \u001B[38;5;28;01mif\u001B[39;00m typ \u001B[38;5;241m==\u001B[39m \u001B[38;5;124m\"\u001B[39m\u001B[38;5;124marray\u001B[39m\u001B[38;5;124m\"\u001B[39m:\n\u001B[1;32m    353\u001B[0m     \u001B[38;5;28;01mif\u001B[39;00m \u001B[38;5;28missubclass\u001B[39m(values\u001B[38;5;241m.\u001B[39mdtype\u001B[38;5;241m.\u001B[39mtype, \u001B[38;5;28mstr\u001B[39m):\n",
      "File \u001B[0;32m~/NYU-Fall-2022/info_vis/confirmation-bias-vis/venv/lib/python3.10/site-packages/pandas/core/internals/construction.py:420\u001B[0m, in \u001B[0;36m_check_values_indices_shape_match\u001B[0;34m(values, index, columns)\u001B[0m\n\u001B[1;32m    418\u001B[0m passed \u001B[38;5;241m=\u001B[39m values\u001B[38;5;241m.\u001B[39mshape\n\u001B[1;32m    419\u001B[0m implied \u001B[38;5;241m=\u001B[39m (\u001B[38;5;28mlen\u001B[39m(index), \u001B[38;5;28mlen\u001B[39m(columns))\n\u001B[0;32m--> 420\u001B[0m \u001B[38;5;28;01mraise\u001B[39;00m \u001B[38;5;167;01mValueError\u001B[39;00m(\u001B[38;5;124mf\u001B[39m\u001B[38;5;124m\"\u001B[39m\u001B[38;5;124mShape of passed values is \u001B[39m\u001B[38;5;132;01m{\u001B[39;00mpassed\u001B[38;5;132;01m}\u001B[39;00m\u001B[38;5;124m, indices imply \u001B[39m\u001B[38;5;132;01m{\u001B[39;00mimplied\u001B[38;5;132;01m}\u001B[39;00m\u001B[38;5;124m\"\u001B[39m)\n",
      "\u001B[0;31mValueError\u001B[0m: Shape of passed values is (2, 1), indices imply (2, 2)"
     ]
    }
   ],
   "source": [
    "# cluster center : followers\n",
    "# each cluster has a dataframe of followers with username and id field\n",
    "\n",
    "clusters = {}\n",
    "\n",
    "for follower in followers:\n",
    "    clusters[follower] = pd.DataFrame([followers[follower][0].name,\n",
    "                                       followers[follower][0].id],\n",
    "                                            columns=['Username','Id'])"
   ],
   "metadata": {
    "collapsed": false,
    "pycharm": {
     "name": "#%%\n"
    }
   }
  },
  {
   "cell_type": "code",
   "execution_count": 85,
   "outputs": [
    {
     "name": "stdout",
     "output_type": "stream",
     "text": [
      "{}\n"
     ]
    }
   ],
   "source": [
    "# write the dataframes to a file as csv\n",
    "\n",
    "print(clusters)"
   ],
   "metadata": {
    "collapsed": false,
    "pycharm": {
     "name": "#%%\n"
    }
   }
  },
  {
   "cell_type": "code",
   "execution_count": null,
   "outputs": [],
   "source": [],
   "metadata": {
    "collapsed": false,
    "pycharm": {
     "name": "#%%\n"
    }
   }
  }
 ],
 "metadata": {
  "kernelspec": {
   "display_name": "Python 3",
   "language": "python",
   "name": "python3"
  },
  "language_info": {
   "codemirror_mode": {
    "name": "ipython",
    "version": 2
   },
   "file_extension": ".py",
   "mimetype": "text/x-python",
   "name": "python",
   "nbconvert_exporter": "python",
   "pygments_lexer": "ipython2",
   "version": "2.7.6"
  }
 },
 "nbformat": 4,
 "nbformat_minor": 0
}