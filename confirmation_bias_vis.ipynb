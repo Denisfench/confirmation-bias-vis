{
 "cells": [
  {
   "cell_type": "code",
   "source": [
    "import os\n",
    "import sys\n",
    "\n",
    "import nltk\n",
    "import tweepy\n",
    "from dotenv import load_dotenv\n",
    "import json\n",
    "from vaderSentiment.vaderSentiment import SentimentIntensityAnalyzer\n",
    "import matplotlib.pyplot as plt\n",
    "from datetime import datetime\n",
    "import re\n",
    "import cv2\n",
    "import numpy as np\n",
    "import pandas as pd\n",
    "import pickle\n",
    "# NOTE: THE WORDCLOUD PACKAGE ISN'T WORKING FOR SOME VERSIONS OF PYTHON.\n",
    "# LOCKING PYTHON VERSION TO 3.7 BECAUSE OF THAT.\n",
    "from wordcloud import WordCloud\n",
    "import spacy\n",
    "import spacy_transformers\n",
    "import torch"
   ],
   "metadata": {
    "collapsed": false
   },
   "execution_count": 104,
   "outputs": []
  },
  {
   "cell_type": "code",
   "execution_count": 105,
   "outputs": [],
   "source": [
    "import ssl\n",
    "def set_up_ssl():\n",
    "    try:\n",
    "        _create_unverified_https_context = ssl._create_unverified_context\n",
    "    except AttributeError:\n",
    "        pass\n",
    "    else:\n",
    "        ssl._create_default_https_context = _create_unverified_https_context\n",
    "\n",
    "set_up_ssl()"
   ],
   "metadata": {
    "collapsed": false
   }
  },
  {
   "cell_type": "code",
   "execution_count": 106,
   "outputs": [],
   "source": [
    "load_dotenv()\n",
    "TWITTER_BEARER_TOKEN = os.getenv('TWITTER_BEARER_TOKEN')\n",
    "TWITTER_API_KEY = os.getenv('TWITTER_API_KEY')\n",
    "TWITTER_API_SECRET_KEY = os.getenv('TWITTER_API_SECRET_KEY')\n",
    "TWITTER_ACCESS_TOKEN = os.getenv('TWITTER_ACCESS_TOKEN')\n",
    "TWITTER_ACCESS_TOKEN_SECRET = os.getenv('TWITTER_ACCESS_TOKEN_SECRET')"
   ],
   "metadata": {
    "collapsed": false
   }
  },
  {
   "cell_type": "code",
   "execution_count": 107,
   "outputs": [
    {
     "name": "stdout",
     "output_type": "stream",
     "text": [
      "Authenticating to Twitter...\n"
     ]
    }
   ],
   "source": [
    "print(\"Authenticating to Twitter...\")\n",
    "\n",
    "client = tweepy.Client(bearer_token=TWITTER_BEARER_TOKEN, wait_on_rate_limit=True)\n",
    "auth = tweepy.OAuthHandler(TWITTER_API_KEY, TWITTER_API_SECRET_KEY)\n",
    "auth.set_access_token(TWITTER_ACCESS_TOKEN, TWITTER_ACCESS_TOKEN_SECRET)\n",
    "api = tweepy.API(auth, wait_on_rate_limit=True)"
   ],
   "metadata": {
    "collapsed": false
   }
  },
  {
   "cell_type": "code",
   "execution_count": 108,
   "outputs": [],
   "source": [
    "twitter_russia_sources_rus_usernames = [\"@1tvru_news\", \"@ru_rbc\",\n",
    "                                         \"@er_novosti\",\n",
    "                              \"@rt_com\",\n",
    "                              \"@medvedevrussia\", \"@kremlinrussia\",\n",
    "                              \"@rentvchannel\", \"@vesti_news\", \"@kpru\"]\n",
    "\n",
    "twitter_ukraine_sources_rus_usernames = [\"@dmitry_gordon\", \"@SvobodaRadio\",\n",
    "                               \"@euronewsru\", \"@FeyginMark4\", \"@tvrain\", \"@teamnavalny\"]\n",
    "\n",
    "twitter_ukraine_sources_ukr_usernames = [\"@HromadskeUA\", \"@tsnua\", \"@24tvua\", \"@unian\",\n",
    "                               \"@radiosvoboda\", \"@5channel\", \"@EspresoTV\"]\n",
    "\n",
    "twitter_ukraine_sources_eng_usernames = [\"@mschwirtz\", \"@KyivIndependent\", \"@KyivPost\",\n",
    "                               \"@mchancecnn\", \"@fpleitgenCNN\", \"@Kasparov63\",\n",
    "                               \"@ikhurshudyan\", \"@myroslavapetsa\",\n",
    "                               \"@langfittnpr\", \"@ElBeardsley\", \"@timkmak\"]"
   ],
   "metadata": {
    "collapsed": false
   }
  },
  {
   "cell_type": "markdown",
   "source": [
    "https://dev.to/twitterdev/a-comprehensive-guide-for-using-the-twitter-api-v2-using-tweepy-in-python-15d9"
   ],
   "metadata": {
    "collapsed": false
   }
  },
  {
   "cell_type": "code",
   "execution_count": 109,
   "outputs": [],
   "source": [
    "# THIS CELL HITS TWITTER API\n",
    "\n",
    "def get_user_id_from_username(username):\n",
    "    user = api.get_user(screen_name=username)\n",
    "    return user.id"
   ],
   "metadata": {
    "collapsed": false
   }
  },
  {
   "cell_type": "code",
   "execution_count": 110,
   "outputs": [],
   "source": [
    "russia_sources_rus = []\n",
    "ukraine_sources_rus = []\n",
    "ukraine_sources_ukr = []\n",
    "ukraine_sources_eng = []"
   ],
   "metadata": {
    "collapsed": false
   }
  },
  {
   "cell_type": "code",
   "execution_count": 111,
   "outputs": [],
   "source": [
    "LOAD_CLUSTERS_DATA = True"
   ],
   "metadata": {
    "collapsed": false
   }
  },
  {
   "cell_type": "code",
   "execution_count": 112,
   "outputs": [],
   "source": [
    "if not LOAD_CLUSTERS_DATA:\n",
    "    for username in twitter_russia_sources_rus_usernames:\n",
    "        russia_sources_rus.append((username, get_user_id_from_username(username)))\n",
    "\n",
    "    for username in twitter_ukraine_sources_rus_usernames:\n",
    "        ukraine_sources_rus.append((username, get_user_id_from_username(username)))\n",
    "\n",
    "    for username in twitter_ukraine_sources_ukr_usernames:\n",
    "        ukraine_sources_ukr.append((username, get_user_id_from_username(username)))\n",
    "\n",
    "    for username in twitter_ukraine_sources_eng_usernames:\n",
    "        ukraine_sources_eng.append((username, get_user_id_from_username(username)))"
   ],
   "metadata": {
    "collapsed": false
   }
  },
  {
   "cell_type": "code",
   "execution_count": 113,
   "outputs": [],
   "source": [
    "if not LOAD_CLUSTERS_DATA:\n",
    "    russia_sources_rus_pickled = pickle.dumps(russia_sources_rus)\n",
    "    ukraine_sources_rus_pickled = pickle.dumps(ukraine_sources_rus)\n",
    "    ukraine_sources_ukr_pickled = pickle.dumps(ukraine_sources_ukr)\n",
    "    ukraine_sources_eng_pickled = pickle.dumps(ukraine_sources_eng)"
   ],
   "metadata": {
    "collapsed": false
   }
  },
  {
   "cell_type": "code",
   "execution_count": 114,
   "outputs": [],
   "source": [
    "CLUSTERS_SERIALIZATION_DIR = \"data_clusters/\""
   ],
   "metadata": {
    "collapsed": false
   }
  },
  {
   "cell_type": "code",
   "execution_count": 115,
   "outputs": [],
   "source": [
    "if not LOAD_CLUSTERS_DATA:\n",
    "    print(\"Writing pickled data to a file...\")\n",
    "\n",
    "    with open(CLUSTERS_SERIALIZATION_DIR + 'russia_sources_rus_pickled.pickle', 'wb') as f:\n",
    "        f.write(russia_sources_rus_pickled)\n",
    "\n",
    "    with open(CLUSTERS_SERIALIZATION_DIR + 'ukraine_sources_rus_pickled.pickle', 'wb') as f:\n",
    "        f.write(ukraine_sources_rus_pickled)\n",
    "\n",
    "    with open(CLUSTERS_SERIALIZATION_DIR + 'ukraine_sources_ukr_pickled.pickle', 'wb') as f:\n",
    "        f.write(ukraine_sources_ukr_pickled)\n",
    "\n",
    "    with open(CLUSTERS_SERIALIZATION_DIR + 'ukraine_sources_eng_pickled.pickle','wb') as f:\n",
    "        f.write(ukraine_sources_eng_pickled)"
   ],
   "metadata": {
    "collapsed": false
   }
  },
  {
   "cell_type": "code",
   "execution_count": 116,
   "outputs": [],
   "source": [
    "if LOAD_CLUSTERS_DATA:\n",
    "    with open(CLUSTERS_SERIALIZATION_DIR + 'russia_sources_rus_pickled.pickle',\\\n",
    "            'rb') as f:\n",
    "        russia_sources_rus = pickle.load(f)\n",
    "\n",
    "    with open(CLUSTERS_SERIALIZATION_DIR + 'ukraine_sources_rus_pickled' \\\n",
    "            '.pickle', 'rb') as f:\n",
    "        ukraine_sources_rus = pickle.load(f)\n",
    "\n",
    "    with open(CLUSTERS_SERIALIZATION_DIR + 'ukraine_sources_ukr_pickled' \\\n",
    "            '.pickle', 'rb') as f:\n",
    "        ukraine_sources_ukr = pickle.load(f)\n",
    "\n",
    "    with open(CLUSTERS_SERIALIZATION_DIR + 'ukraine_sources_eng_pickled' \\\n",
    "            '.pickle', 'rb') as f:\n",
    "        ukraine_sources_eng = pickle.load(f)"
   ],
   "metadata": {
    "collapsed": false
   }
  },
  {
   "cell_type": "code",
   "execution_count": 117,
   "outputs": [],
   "source": [
    "# THIS CELL HITS TWITTER API\n",
    "\n",
    "def get_user_followers(user_name, user_id, num_pages=1, num_followers=10):\n",
    "    followers = []\n",
    "    # User rate limit (User context): 15 requests per 15-minute window per each authenticated user\n",
    "    # limit – Maximum number of requests to make to the API\n",
    "    # max_results : The maximum number of results to be returned per page. This can be a number between 1 and the 1000. By default, each page will return 100 results.\n",
    "    # I.E. 15 000 followers can be returned in 15 minutes\n",
    "    followers_paginator = tweepy.Paginator(client.get_users_followers, id =\n",
    "    user_id, max_results = num_followers, limit = num_pages).flatten()\n",
    "    for follower in followers_paginator:\n",
    "        followers.append(follower)\n",
    "    return (user_name, user_id), followers"
   ],
   "metadata": {
    "collapsed": false
   }
  },
  {
   "cell_type": "code",
   "execution_count": 185,
   "outputs": [],
   "source": [
    "# THIS CELL HITS TWITTER API\n",
    "\n",
    "def get_user_follower_count(user_id):\n",
    "    # fetching the user\n",
    "    user = api.get_user(user_id = user_id)\n",
    "    return user.followers_count"
   ],
   "metadata": {
    "collapsed": false
   }
  },
  {
   "cell_type": "code",
   "execution_count": 119,
   "outputs": [],
   "source": [
    "rus_cluster_followers = []\n",
    "ukr_eng_cluster_followers = []\n",
    "ukr_rus_cluster_followers = []\n",
    "ukr_ukr_cluster_followers = []"
   ],
   "metadata": {
    "collapsed": false
   }
  },
  {
   "cell_type": "code",
   "execution_count": 120,
   "outputs": [],
   "source": [
    "# PROBLEM: pickling followers causes recursion depth exceeded problem\n",
    "# SOLUTION: process the followers data right away and write the result in csv\n",
    "# format\n",
    "\n",
    "LOAD_FOLLOWERS = False\n",
    "FOLLOWERS_DIR = \"followers/\""
   ],
   "metadata": {
    "collapsed": false
   }
  },
  {
   "cell_type": "code",
   "execution_count": 121,
   "outputs": [
    {
     "data": {
      "text/plain": "'\\nif  not LOAD_FOLLOWERS:\\n    for cluster in russia_sources_rus:\\n        rus_cluster_followers.append(get_user_followers(cluster[0], cluster[1]))\\n\\n    for cluster in ukraine_sources_rus:\\n        ukr_eng_cluster_followers.append(get_user_followers(cluster[0], cluster[1]))\\n\\n    for cluster in ukraine_sources_ukr:\\n        ukr_rus_cluster_followers.append(get_user_followers(cluster[0], cluster[1]))\\n\\n    for cluster in ukraine_sources_eng:\\n        ukr_ukr_cluster_followers.append(get_user_followers(cluster[0], cluster[1]))\\n'"
     },
     "execution_count": 121,
     "metadata": {},
     "output_type": "execute_result"
    }
   ],
   "source": [
    "# PRODUCTION CODE\n",
    "# get 105 000 followers per cluster: 1:45 min per cluster, 105 requests\n",
    "\n",
    "'''\n",
    "if  not LOAD_FOLLOWERS:\n",
    "    for cluster in russia_sources_rus:\n",
    "        rus_cluster_followers.append(get_user_followers(cluster[0], cluster[1]))\n",
    "\n",
    "    for cluster in ukraine_sources_rus:\n",
    "        ukr_eng_cluster_followers.append(get_user_followers(cluster[0], cluster[1]))\n",
    "\n",
    "    for cluster in ukraine_sources_ukr:\n",
    "        ukr_rus_cluster_followers.append(get_user_followers(cluster[0], cluster[1]))\n",
    "\n",
    "    for cluster in ukraine_sources_eng:\n",
    "        ukr_ukr_cluster_followers.append(get_user_followers(cluster[0], cluster[1]))\n",
    "'''"
   ],
   "metadata": {
    "collapsed": false
   }
  },
  {
   "cell_type": "code",
   "execution_count": 122,
   "outputs": [],
   "source": [
    "# THIS CODE HITS TWITTER API\n",
    "# TEST CODE: 50 followers per cluster, 2 cluster per each\n",
    "if not LOAD_FOLLOWERS:\n",
    "    for i in range(0, 2):\n",
    "        rus_cluster_followers.append(get_user_followers(russia_sources_rus[i][0],                                               russia_sources_rus[i][1]))\n",
    "\n",
    "    for i in range(0, 2):\n",
    "        ukr_eng_cluster_followers.append(get_user_followers(ukraine_sources_rus[i][0],                                               ukraine_sources_rus[i][1]))"
   ],
   "metadata": {
    "collapsed": false
   }
  },
  {
   "cell_type": "code",
   "execution_count": 123,
   "outputs": [
    {
     "data": {
      "text/plain": "list"
     },
     "execution_count": 123,
     "metadata": {},
     "output_type": "execute_result"
    }
   ],
   "source": [
    "type(rus_cluster_followers)"
   ],
   "metadata": {
    "collapsed": false
   }
  },
  {
   "cell_type": "code",
   "execution_count": 124,
   "outputs": [],
   "source": [
    "if not LOAD_FOLLOWERS:\n",
    "    rus_cluster_followers_pickled = pickle.dumps(rus_cluster_followers)\n",
    "    ukr_eng_cluster_followers_pickled = pickle.dumps(ukr_eng_cluster_followers)\n",
    "    ukr_rus_cluster_pickled = pickle.dumps(ukr_rus_cluster_followers)\n",
    "    ukr_ukr_cluster_pickled = pickle.dumps(ukr_ukr_cluster_followers)"
   ],
   "metadata": {
    "collapsed": false
   }
  },
  {
   "cell_type": "code",
   "execution_count": 125,
   "outputs": [
    {
     "name": "stdout",
     "output_type": "stream",
     "text": [
      "Writing pickled data to a file...\n"
     ]
    }
   ],
   "source": [
    "if not LOAD_FOLLOWERS:\n",
    "    print(\"Writing pickled data to a file...\")\n",
    "\n",
    "    with open(FOLLOWERS_DIR + 'rus_cluster_followers.pickle', 'wb') as f:\n",
    "        f.write(rus_cluster_followers_pickled)\n",
    "\n",
    "    with open(FOLLOWERS_DIR + 'ukr_eng_cluster_followers.pickle', 'wb') as f:\n",
    "        f.write(ukr_eng_cluster_followers_pickled)\n",
    "\n",
    "    with open(FOLLOWERS_DIR + 'ukr_rus_cluster_followers.pickle', 'wb') as f:\n",
    "        f.write(ukr_rus_cluster_pickled)\n",
    "\n",
    "    with open(FOLLOWERS_DIR + 'ukr_ukr_cluster_followers.pickle','wb') as f:\n",
    "        f.write(ukr_ukr_cluster_pickled)"
   ],
   "metadata": {
    "collapsed": false
   }
  },
  {
   "cell_type": "code",
   "execution_count": 126,
   "outputs": [],
   "source": [
    "# NOTE: causes recursion depth exceeded problem\n",
    "\n",
    "if LOAD_FOLLOWERS:\n",
    "\n",
    "    with open(FOLLOWERS_DIR + 'rus_cluster_followers.pickle',\\\n",
    "            'rb') as f:\n",
    "        rus_cluster_followers = pickle.load(f)\n",
    "\n",
    "    with open(FOLLOWERS_DIR + 'ukr_eng_cluster_followers' \\\n",
    "            '.pickle', 'rb') as f:\n",
    "        ukr_eng_cluster_followers = pickle.load(f)\n",
    "\n",
    "    with open(FOLLOWERS_DIR + 'ukr_rus_cluster_followers' \\\n",
    "            '.pickle', 'rb') as f:\n",
    "        ukr_rus_cluster_followers = pickle.load(f)\n",
    "\n",
    "    with open(FOLLOWERS_DIR + 'ukr_ukr_cluster_followers' \\\n",
    "            '.pickle', 'rb') as f:\n",
    "        ukr_ukr_cluster_followers = pickle.load(f)"
   ],
   "metadata": {
    "collapsed": false
   }
  },
  {
   "cell_type": "code",
   "execution_count": 127,
   "outputs": [
    {
     "name": "stdout",
     "output_type": "stream",
     "text": [
      "[(('@dmitry_gordon', 1334400780), [<User id=1597931832858877952 name=Galina Koshel username=GalinaKoshel>, <User id=1599242588678144001 name=Нурлан Кумаргалиев username=Nurlan_Republic>, <User id=1310362161101717504 name=Olga K 🇺🇸🇺🇦 username=OMoskalova>, <User id=1599226270306426880 name=Владимир username=Vladimi96619262>, <User id=1499583771284230176 name=Раїса Бібова username=BibovaRaisa>, <User id=219742976 name=VictorinaD username=VictorinaD>, <User id=1574287985654214657 name=Gleb username=gleb_usa>, <User id=1599216841905299456 name=Alex Mogilevskiy username=AlexMogilevskiy>, <User id=4337031014 name=where is my mind username=starman055>, <User id=1599203999483367424 name=REYENGEL username=_REYENGEL_>]), (('@SvobodaRadio', 47562921), [<User id=1599246725461442563 name=Masrur Fozil username=FozilMasrur>, <User id=1599244098501857281 name=Мадна Мадина username=MadnaMadina>, <User id=1599243425391546370 name=Алексей Кос username=Alex2531991>, <User id=1599240722582245376 name=z.irina0707 username=zirina0707>, <User id=1456615046205820930 name=hr username=hraj1972>, <User id=1599233507817132037 name=Julieta username=Juliekarou>, <User id=2239216849 name=aogerel@gmail.com username=aogerel>, <User id=1599234813285867520 name=Баходир Шарипов username=BahodirSaripov>, <User id=936404055332720643 name=Khamidullin username=Khamidullin11>, <User id=1599232525632675840 name=Rizvan Tillayev username=RizvanTillayev>])]\n"
     ]
    }
   ],
   "source": [
    "print(ukr_eng_cluster_followers)"
   ],
   "metadata": {
    "collapsed": false
   }
  },
  {
   "cell_type": "code",
   "execution_count": 165,
   "outputs": [
    {
     "data": {
      "text/plain": "tuple"
     },
     "execution_count": 165,
     "metadata": {},
     "output_type": "execute_result"
    }
   ],
   "source": [
    "'''\n",
    "print(type(followers[('@minregion_ua', 3333475643)][0]))\n",
    "print(followers[('@minregion_ua', 3333475643)][0].name)\n",
    "print(followers[('@minregion_ua', 3333475643)][0].id)\n",
    "'''\n",
    "type(rus_cluster_followers[0])"
   ],
   "metadata": {
    "collapsed": false
   }
  },
  {
   "cell_type": "code",
   "execution_count": 166,
   "outputs": [],
   "source": [
    "CLUSTER_IDX = 0\n",
    "FOLLOWER_IDX = 1\n",
    "\n",
    "rus_cluster = {}\n",
    "ukr_eng_cluster = {}\n",
    "ukr_rus_cluster = {}\n",
    "ukr_ukr_cluster = {}"
   ],
   "metadata": {
    "collapsed": false
   }
  },
  {
   "cell_type": "code",
   "execution_count": 130,
   "outputs": [],
   "source": [
    "def cluster_to_dict(cluster_list):\n",
    "\n",
    "    cluster_dfs = {}\n",
    "\n",
    "    for cluster in cluster_list:\n",
    "        follower_names = [follower.name for follower in cluster[FOLLOWER_IDX]]\n",
    "        follower_ids = [follower.id for follower in cluster[FOLLOWER_IDX]]\n",
    "        followers_data = {\n",
    "            'username': follower_names,\n",
    "            'user_id': follower_ids\n",
    "        }\n",
    "        cluster_dfs[cluster[CLUSTER_IDX]] = pd.DataFrame(followers_data)\n",
    "\n",
    "    return cluster_dfs"
   ],
   "metadata": {
    "collapsed": false
   }
  },
  {
   "cell_type": "code",
   "execution_count": 131,
   "outputs": [],
   "source": [
    "rus_cluster = cluster_to_dict(rus_cluster_followers)\n",
    "ukr_eng_cluster = cluster_to_dict(ukr_eng_cluster_followers)\n",
    "ukr_rus_cluster = cluster_to_dict(ukr_rus_cluster_followers)\n",
    "ukr_ukr_cluster = cluster_to_dict(ukr_ukr_cluster_followers)"
   ],
   "metadata": {
    "collapsed": false
   }
  },
  {
   "cell_type": "code",
   "execution_count": 132,
   "outputs": [],
   "source": [
    "# this fucntion converts a list of cluster centers and their followers to csv\n",
    "# files\n",
    "CLUSTERS_DIR = \"clusters/\"\n",
    "\n",
    "def clusters_to_files(clusters_df):\n",
    "    for cluster_center, cluster_followers in clusters_df.items():\n",
    "        cluster_csv = cluster_followers.to_csv()\n",
    "        with open(CLUSTERS_DIR + cluster_center[CLUSTER_IDX][1:] + '_' + str(cluster_center[FOLLOWER_IDX]) + '.csv',\n",
    "                  'w') as f:\n",
    "            f.write(cluster_csv)"
   ],
   "metadata": {
    "collapsed": false
   }
  },
  {
   "cell_type": "code",
   "execution_count": 133,
   "outputs": [],
   "source": [
    "LOAD_CLUSTERS = True"
   ],
   "metadata": {
    "collapsed": false
   }
  },
  {
   "cell_type": "code",
   "execution_count": 134,
   "outputs": [],
   "source": [
    "if not LOAD_CLUSTERS:\n",
    "    clusters_to_files(rus_cluster)\n",
    "    clusters_to_files(ukr_eng_cluster)"
   ],
   "metadata": {
    "collapsed": false
   }
  },
  {
   "cell_type": "code",
   "execution_count": 135,
   "outputs": [
    {
     "data": {
      "text/plain": "[('@1tvru_news', 160881696),\n ('@ru_rbc', 269770723),\n ('@er_novosti', 152984812),\n ('@rt_com', 64643056),\n ('@medvedevrussia', 153812887),\n ('@kremlinrussia', 158650448),\n ('@rentvchannel', 200036850),\n ('@vesti_news', 72525490),\n ('@kpru', 40807205)]"
     },
     "execution_count": 135,
     "metadata": {},
     "output_type": "execute_result"
    }
   ],
   "source": [
    "russia_sources_rus"
   ],
   "metadata": {
    "collapsed": false
   }
  },
  {
   "cell_type": "code",
   "execution_count": 207,
   "outputs": [
    {
     "name": "stdout",
     "output_type": "stream",
     "text": [
      "Loading data for rus_cluster\n",
      "Loading data for ukr_eng_cluster\n",
      "Loading data for the ukr_rus_cluster\n",
      "Loading data for the ukr_ukr_cluster\n"
     ]
    }
   ],
   "source": [
    "if LOAD_CLUSTERS:\n",
    "    print(\"Loading data for rus_cluster\")\n",
    "    rus_cluster = {}\n",
    "    for cluster in russia_sources_rus:\n",
    "        path_to_file = CLUSTERS_DIR + cluster[0][1:] + '_' + str(cluster[1]) + \\\n",
    " '.csv'\n",
    "        if os.path.exists(path_to_file):\n",
    "            cluster_followers = pd.read_csv(path_to_file, usecols=['username', 'user_id'])\n",
    "            rus_cluster[cluster] = cluster_followers\n",
    "\n",
    "    print(\"Loading data for ukr_eng_cluster\")\n",
    "    ukr_eng_cluster = {}\n",
    "    for cluster in ukraine_sources_eng:\n",
    "        path_to_file = CLUSTERS_DIR + cluster[0][1:] + '_' + str(cluster[1]) + \\\n",
    " '.csv'\n",
    "        if os.path.exists(path_to_file):\n",
    "            cluster_followers = pd.read_csv(path_to_file, usecols=['username', 'user_id'])\n",
    "            ukr_eng_cluster[cluster[CLUSTER_IDX]] = cluster_followers\n",
    "\n",
    "    print(\"Loading data for the ukr_rus_cluster\")\n",
    "    ukr_rus_cluster = {}\n",
    "    for cluster in ukraine_sources_rus:\n",
    "        path_to_file = CLUSTERS_DIR + cluster[0][1:] + '_' + str(cluster[1]) + \\\n",
    " '.csv'\n",
    "        if os.path.exists(path_to_file):\n",
    "            cluster_followers = pd.read_csv(path_to_file, usecols=['username', 'user_id'])\n",
    "            ukr_rus_cluster[cluster[CLUSTER_IDX]] = cluster_followers\n",
    "\n",
    "    print(\"Loading data for the ukr_ukr_cluster\")\n",
    "    ukr_ukr_cluster = {}\n",
    "    for cluster in ukraine_sources_ukr:\n",
    "        path_to_file = CLUSTERS_DIR + cluster[0][1:] + '_' + str(cluster[1]) + \\\n",
    " '.csv'\n",
    "        if os.path.exists(path_to_file):\n",
    "            cluster_followers = pd.read_csv(path_to_file, usecols=['username', 'user_id'])\n",
    "            ukr_ukr_cluster[cluster[CLUSTER_IDX]] = cluster_followers"
   ],
   "metadata": {
    "collapsed": false
   }
  },
  {
   "cell_type": "code",
   "execution_count": 208,
   "outputs": [
    {
     "data": {
      "text/plain": "{('@1tvru_news',\n  160881696):                    username              user_id\n 0               jose filipe             19927296\n 1        lechantdesvoyelles           2258325268\n 2                 SPEED NYC           2924392191\n 3            valera karaman  1599152454398099459\n 4                ivanrussia  1599147506654380036\n ..                      ...                  ...\n 995  Zayniddin Xusniddino'v  1595878050276773889\n 996         NEOSHKA NEOSHKA  1542440663698100226\n 997                #Ziyod05  1595848999302479872\n 998             Дмитрий Ким  1595867951399600128\n 999                     kas           1332061843\n \n [1000 rows x 2 columns],\n ('@ru_rbc',\n  269770723):                  username              user_id\n 0            Батал Гамгия  1599163293746302976\n 1               Pletunoff   878179754804957184\n 2                    Mila  1599157008330096640\n 3           Set Mortensen  1599155538507567104\n 4         sweetdreamslizz  1599154015195086848\n ..                    ...                  ...\n 995         Tofig Davudov  1597577365365858307\n 996  Natallia Chodosowska  1597572648267030528\n 997         Елена Лященко  1597574448831516672\n 998          Timur Isakov  1597571656968445954\n 999              Валентин  1597566730188062720\n \n [1000 rows x 2 columns]}"
     },
     "execution_count": 208,
     "metadata": {},
     "output_type": "execute_result"
    }
   ],
   "source": [
    "rus_cluster"
   ],
   "metadata": {
    "collapsed": false
   }
  },
  {
   "cell_type": "markdown",
   "source": [
    "<h2>Visualizing Connections as a Graph</h2>"
   ],
   "metadata": {
    "collapsed": false
   }
  },
  {
   "cell_type": "code",
   "execution_count": 209,
   "outputs": [
    {
     "data": {
      "text/plain": "{'@dmitry_gordon':             username              user_id\n 0            Kryp4ek  1476613048018382850\n 1       Батал Гамгия  1599163293746302976\n 2    Елена Письменюк  1599155737766281218\n 3         stieroglif            492418187\n 4              Алекс  1599150982625218560\n ..               ...                  ...\n 994     osokinnnnnnn  1531585954607161347\n 995         tterewew   926760353878253568\n 996   Artur Kazarian  1595900167667990530\n 997  Виталий Жижанов  1576624669863591938\n 998  Виктор Гнибидин            801410400\n \n [999 rows x 2 columns],\n '@SvobodaRadio':                username              user_id\n 0                 Denis  1599152874797371393\n 1            Žabba Blue  1599160775054135305\n 2               Andrius            983390142\n 3    Александр Черкасов  1599160703394480128\n 4        Vennikov Elena  1528909651936481282\n ..                  ...                  ...\n 995               Pečka  1593594577474174976\n 996     Roman Gabisonia  1597975081472458755\n 997          AntonnY195  1151908574697861120\n 998   АдмиралъБенболовъ             62536997\n 999    Диловар Рахматов  1597201905238818818\n \n [1000 rows x 2 columns]}"
     },
     "execution_count": 209,
     "metadata": {},
     "output_type": "execute_result"
    }
   ],
   "source": [
    "\n",
    "ukr_rus_cluster"
   ],
   "metadata": {
    "collapsed": false
   }
  },
  {
   "cell_type": "code",
   "execution_count": 210,
   "outputs": [],
   "source": [
    "import networkx as nx"
   ],
   "metadata": {
    "collapsed": false
   }
  },
  {
   "cell_type": "code",
   "execution_count": 211,
   "outputs": [
    {
     "name": "stdout",
     "output_type": "stream",
     "text": [
      "Creating a DataFrame containing the complete graph\n"
     ]
    }
   ],
   "source": [
    "print(\"Creating a DataFrame containing the complete graph\")\n",
    "\n",
    "GROUP_ID_MAP = {\n",
    "    \"rus_cluster\": 0,\n",
    "    \"ukr_eng_cluster\": 1,\n",
    "    \"ukr_rus_cluster\": 2,\n",
    "    \"ukr_ukr_cluster\": 3\n",
    "}\n",
    "\n",
    "global_graph_pd = pd.DataFrame(columns=['username', 'user_id',\n",
    "                                     'cluster_name', 'cluster_id',\n",
    "                                     'cluster_follow_count', 'group_id'])"
   ],
   "metadata": {
    "collapsed": false
   }
  },
  {
   "cell_type": "code",
   "execution_count": 212,
   "outputs": [],
   "source": [
    "def add_cluster_to_global_graph(cluster, group_name, graph_pd):\n",
    "    curr_cluster_df = pd.DataFrame()\n",
    "    for cluster_center, cluster_followers in cluster.items():\n",
    "        curr_cluster_df = cluster_followers.copy(deep=True)\n",
    "        curr_cluster_df.insert(2, \"cluster_name\", cluster_center[0])\n",
    "        curr_cluster_df.insert(3, \"cluster_id\", int(cluster_center[1]))\n",
    "        curr_cluster_df.insert(4, \"cluster_follow_count\",\n",
    "                               get_user_follower_count(cluster_center[1]),\n",
    "                               True)\n",
    "        curr_cluster_df.insert(5, \"group_id\", GROUP_ID_MAP[group_name])\n",
    "    return pd.concat([graph_pd, curr_cluster_df])"
   ],
   "metadata": {
    "collapsed": false
   }
  },
  {
   "cell_type": "code",
   "execution_count": 213,
   "outputs": [],
   "source": [
    "def save_image(img, img_name):\n",
    "    IMG_DIR = \"visualizations/\"\n",
    "    plt.imsave(IMG_DIR + img_name, img)"
   ],
   "metadata": {
    "collapsed": false
   }
  },
  {
   "cell_type": "code",
   "execution_count": 214,
   "outputs": [],
   "source": [
    "global_graph_pd = add_cluster_to_global_graph(rus_cluster, \"rus_cluster\", global_graph_pd)\n",
    "global_graph_pd = add_cluster_to_global_graph(ukr_eng_cluster, \"ukr_eng_cluster\",\n",
    "                                              global_graph_pd)"
   ],
   "metadata": {
    "collapsed": false
   }
  },
  {
   "cell_type": "code",
   "execution_count": 215,
   "outputs": [
    {
     "name": "stdout",
     "output_type": "stream",
     "text": [
      "6000\n",
      "{'@ru_rbc'}\n"
     ]
    },
    {
     "data": {
      "text/plain": "          username              user_id cluster_name cluster_id  \\\n0     Батал Гамгия  1599163293746302976      @ru_rbc  269770723   \n1        Pletunoff   878179754804957184      @ru_rbc  269770723   \n2             Mila  1599157008330096640      @ru_rbc  269770723   \n3    Set Mortensen  1599155538507567104      @ru_rbc  269770723   \n4  sweetdreamslizz  1599154015195086848      @ru_rbc  269770723   \n\n  cluster_follow_count group_id  \n0               535871        0  \n1               535871        0  \n2               535871        0  \n3               535871        0  \n4               535871        0  ",
      "text/html": "<div>\n<style scoped>\n    .dataframe tbody tr th:only-of-type {\n        vertical-align: middle;\n    }\n\n    .dataframe tbody tr th {\n        vertical-align: top;\n    }\n\n    .dataframe thead th {\n        text-align: right;\n    }\n</style>\n<table border=\"1\" class=\"dataframe\">\n  <thead>\n    <tr style=\"text-align: right;\">\n      <th></th>\n      <th>username</th>\n      <th>user_id</th>\n      <th>cluster_name</th>\n      <th>cluster_id</th>\n      <th>cluster_follow_count</th>\n      <th>group_id</th>\n    </tr>\n  </thead>\n  <tbody>\n    <tr>\n      <th>0</th>\n      <td>Батал Гамгия</td>\n      <td>1599163293746302976</td>\n      <td>@ru_rbc</td>\n      <td>269770723</td>\n      <td>535871</td>\n      <td>0</td>\n    </tr>\n    <tr>\n      <th>1</th>\n      <td>Pletunoff</td>\n      <td>878179754804957184</td>\n      <td>@ru_rbc</td>\n      <td>269770723</td>\n      <td>535871</td>\n      <td>0</td>\n    </tr>\n    <tr>\n      <th>2</th>\n      <td>Mila</td>\n      <td>1599157008330096640</td>\n      <td>@ru_rbc</td>\n      <td>269770723</td>\n      <td>535871</td>\n      <td>0</td>\n    </tr>\n    <tr>\n      <th>3</th>\n      <td>Set Mortensen</td>\n      <td>1599155538507567104</td>\n      <td>@ru_rbc</td>\n      <td>269770723</td>\n      <td>535871</td>\n      <td>0</td>\n    </tr>\n    <tr>\n      <th>4</th>\n      <td>sweetdreamslizz</td>\n      <td>1599154015195086848</td>\n      <td>@ru_rbc</td>\n      <td>269770723</td>\n      <td>535871</td>\n      <td>0</td>\n    </tr>\n  </tbody>\n</table>\n</div>"
     },
     "execution_count": 215,
     "metadata": {},
     "output_type": "execute_result"
    }
   ],
   "source": [
    "print(global_graph_pd.size)\n",
    "print(set(global_graph_pd['cluster_name']))\n",
    "global_graph_pd.head()"
   ],
   "metadata": {
    "collapsed": false
   }
  },
  {
   "cell_type": "code",
   "execution_count": 223,
   "outputs": [
    {
     "name": "stdout",
     "output_type": "stream",
     "text": [
      "username                object\n",
      "user_id                 object\n",
      "cluster_name            object\n",
      "cluster_id              object\n",
      "cluster_follow_count    object\n",
      "group_id                object\n",
      "dtype: object\n"
     ]
    }
   ],
   "source": [
    "global_graph_pd_columns = list(global_graph_pd.columns)\n",
    "print(global_graph_pd.dtypes)"
   ],
   "metadata": {
    "collapsed": false
   }
  },
  {
   "cell_type": "code",
   "execution_count": 217,
   "outputs": [
    {
     "name": "stdout",
     "output_type": "stream",
     "text": [
      "Constructing NetworkX graph\n"
     ]
    }
   ],
   "source": [
    "print(\"Constructing NetworkX graph\")\n",
    "\n",
    "# what if you store all attributes as edge attributes?\n",
    "G = nx.from_pandas_edgelist(global_graph_pd, source='username',\n",
    "                            target='cluster_name', edge_attr = global_graph_pd_columns,\n",
    "                             create_using=nx.DiGraph())\n",
    "\n",
    "pos = nx.spring_layout(G)"
   ],
   "metadata": {
    "collapsed": false
   }
  },
  {
   "cell_type": "code",
   "execution_count": 218,
   "outputs": [
    {
     "name": "stdout",
     "output_type": "stream",
     "text": [
      "Visualizing a small subset of connections...\n"
     ]
    },
    {
     "data": {
      "text/plain": "<Figure size 640x480 with 1 Axes>",
      "image/png": "[encoded data removed]"
     },
     "metadata": {},
     "output_type": "display_data"
    }
   ],
   "source": [
    "print(\"Visualizing a small subset of connections...\")\n",
    "\n",
    "subgraph = G.subgraph(list(G.nodes)[:10])\n",
    "\n",
    "subgraph_pos = nx.spring_layout(subgraph)\n",
    "\n",
    "nx.draw_networkx(subgraph, subgraph_pos)"
   ],
   "metadata": {
    "collapsed": false
   }
  },
  {
   "cell_type": "markdown",
   "source": [
    "<h2>Network Anslysis Questions:</h2>\n",
    "\n",
    "1. How many connections are overlapping within each given group. (e.g. how\n",
    "many people following SWJ also follow NYT)\n",
    "2. How many overlaps are there in between clusters from different groups?\n",
    "\n",
    "3. Do nodes cluster into tightly connected groups?\n",
    "\n",
    "<h2>Network Visualization Questions</h2>\n",
    "\n",
    "3. Visualize the connections in pretty way\n",
    "4. Visualize Cluster sizes\n",
    "5. Visualize groups by color coding them\n",
    "\n",
    "<h2>Sentiment Analysis Questions</h2>\n",
    "1. Word Cloud: what are people within each group discussing (Use entity recognition)?\n",
    "\n",
    "2. Tag Cloud: who are people within each group discussing?\n",
    "\n",
    "3. What sentiment do mentions within each groups have?\n",
    "\n",
    "4. What is a general Twitter sentiment on this topic (Can use Ukraine dataset)\n",
    "\n",
    "<h2>Visualization Techniques that can be leveraged</h2>\n",
    "1. Network Visualization\n",
    "\n",
    "2. Coloring nodes\n",
    "\n",
    "3. Coloring Connections\n",
    "\n",
    "4. Size of the nodes\n",
    "\n",
    "5. Shape of the nodes\n"
   ],
   "metadata": {
    "collapsed": false
   }
  },
  {
   "cell_type": "code",
   "execution_count": 219,
   "outputs": [
    {
     "name": "stdout",
     "output_type": "stream",
     "text": [
      "{('sweetdreamslizz', '@ru_rbc'): ['sweetdreamslizz', 1599154015195086848, '@ru_rbc', 269770723, 535871, 0], ('Pletunoff', '@ru_rbc'): ['Pletunoff', 878179754804957184, '@ru_rbc', 269770723, 535871, 0], ('valera karaman', '@ru_rbc'): ['valera karaman', 1599152454398099459, '@ru_rbc', 269770723, 535871, 0], ('Батал Гамгия', '@ru_rbc'): ['Батал Гамгия', 1599163293746302976, '@ru_rbc', 269770723, 535871, 0], ('Татьяна Терентьева', '@ru_rbc'): ['Татьяна Терентьева', 1599150059827896322, '@ru_rbc', 269770723, 535871, 0], ('Misha UR', '@ru_rbc'): ['Misha UR', 1599145502104330240, '@ru_rbc', 269770723, 535871, 0], ('Mila', '@ru_rbc'): ['Mila', 1599157008330096640, '@ru_rbc', 269770723, 535871, 0], ('Set Mortensen', '@ru_rbc'): ['Set Mortensen', 1599155538507567104, '@ru_rbc', 269770723, 535871, 0], ('ivanrussia', '@ru_rbc'): ['ivanrussia', 1599147506654380036, '@ru_rbc', 269770723, 535871, 0]}\n"
     ]
    }
   ],
   "source": [
    "def get_edge_attributes(graph, attr_list):\n",
    "    KEY = 0\n",
    "    VALUE = 1\n",
    "    edge_attrs = {}\n",
    "    for attr in attr_list:\n",
    "        edges_attribute = nx.get_edge_attributes(graph, attr)\n",
    "        for edge_attr in edges_attribute.items():\n",
    "            if edge_attr[KEY] in edge_attrs.keys():\n",
    "                edge_attr_values = edge_attrs[edge_attr[KEY]]\n",
    "                edge_attr_values.append(edge_attr[VALUE])\n",
    "                edge_attrs[edge_attr[KEY]] = edge_attr_values\n",
    "            else:\n",
    "                edge_attrs[edge_attr[KEY]] = [edge_attr[VALUE]]\n",
    "    return edge_attrs\n",
    "\n",
    "edge_attrs = get_edge_attributes(subgraph, global_graph_pd_columns)\n",
    "\n",
    "print(edge_attrs)"
   ],
   "metadata": {
    "collapsed": false
   }
  },
  {
   "cell_type": "code",
   "execution_count": 220,
   "outputs": [
    {
     "name": "stdout",
     "output_type": "stream",
     "text": [
      "Running analysis on the network...\n"
     ]
    }
   ],
   "source": [
    "print(\"Running analysis on the network...\")\n",
    "\n",
    "# https://subscription.packtpub.com/book/big-data-and-business-intelligence/9781789955316/7"
   ],
   "metadata": {
    "collapsed": false
   }
  },
  {
   "cell_type": "code",
   "execution_count": 221,
   "outputs": [
    {
     "ename": "TypeError",
     "evalue": "'<' not supported between instances of 'float' and 'str'",
     "output_type": "error",
     "traceback": [
      "\u001B[0;31m---------------------------------------------------------------------------\u001B[0m",
      "\u001B[0;31mTypeError\u001B[0m                                 Traceback (most recent call last)",
      "\u001B[0;32m/var/folders/4l/kfc4gh5d1jn6zkrmv51vvbyw0000gn/T/ipykernel_78359/553245565.py\u001B[0m in \u001B[0;36m<module>\u001B[0;34m\u001B[0m\n\u001B[1;32m      2\u001B[0m \u001B[0;34m\u001B[0m\u001B[0m\n\u001B[1;32m      3\u001B[0m \u001B[0;31m# identifying communities within the network\u001B[0m\u001B[0;34m\u001B[0m\u001B[0;34m\u001B[0m\u001B[0;34m\u001B[0m\u001B[0m\n\u001B[0;32m----> 4\u001B[0;31m twitter_communities = sorted(nxcom.greedy_modularity_communities(G), key=len,\n\u001B[0m\u001B[1;32m      5\u001B[0m                              reverse=True)\n",
      "\u001B[0;32m~/NYU-Fall-2022/info_vis/confirmation-bias-vis/venv/lib/python3.7/site-packages/networkx/algorithms/community/modularity_max.py\u001B[0m in \u001B[0;36mgreedy_modularity_communities\u001B[0;34m(G, weight, resolution, n_communities)\u001B[0m\n\u001B[1;32m    115\u001B[0m     \u001B[0;31m# Use -dq to get a max_heap instead of a min_heap\u001B[0m\u001B[0;34m\u001B[0m\u001B[0;34m\u001B[0m\u001B[0;34m\u001B[0m\u001B[0m\n\u001B[1;32m    116\u001B[0m     \u001B[0;31m# dq_heap holds a heap for each node's neighbors\u001B[0m\u001B[0;34m\u001B[0m\u001B[0;34m\u001B[0m\u001B[0;34m\u001B[0m\u001B[0m\n\u001B[0;32m--> 117\u001B[0;31m     \u001B[0mdq_heap\u001B[0m \u001B[0;34m=\u001B[0m \u001B[0;34m{\u001B[0m\u001B[0mu\u001B[0m\u001B[0;34m:\u001B[0m \u001B[0mMappedQueue\u001B[0m\u001B[0;34m(\u001B[0m\u001B[0;34m{\u001B[0m\u001B[0;34m(\u001B[0m\u001B[0mu\u001B[0m\u001B[0;34m,\u001B[0m \u001B[0mv\u001B[0m\u001B[0;34m)\u001B[0m\u001B[0;34m:\u001B[0m \u001B[0;34m-\u001B[0m\u001B[0mdq\u001B[0m \u001B[0;32mfor\u001B[0m \u001B[0mv\u001B[0m\u001B[0;34m,\u001B[0m \u001B[0mdq\u001B[0m \u001B[0;32min\u001B[0m \u001B[0mdq_dict\u001B[0m\u001B[0;34m[\u001B[0m\u001B[0mu\u001B[0m\u001B[0;34m]\u001B[0m\u001B[0;34m.\u001B[0m\u001B[0mitems\u001B[0m\u001B[0;34m(\u001B[0m\u001B[0;34m)\u001B[0m\u001B[0;34m}\u001B[0m\u001B[0;34m)\u001B[0m \u001B[0;32mfor\u001B[0m \u001B[0mu\u001B[0m \u001B[0;32min\u001B[0m \u001B[0mG\u001B[0m\u001B[0;34m}\u001B[0m\u001B[0;34m\u001B[0m\u001B[0;34m\u001B[0m\u001B[0m\n\u001B[0m\u001B[1;32m    118\u001B[0m     \u001B[0;31m# H -> all_dq_heap holds a heap with the best items for each node\u001B[0m\u001B[0;34m\u001B[0m\u001B[0;34m\u001B[0m\u001B[0;34m\u001B[0m\u001B[0m\n\u001B[1;32m    119\u001B[0m     \u001B[0mH\u001B[0m \u001B[0;34m=\u001B[0m \u001B[0mMappedQueue\u001B[0m\u001B[0;34m(\u001B[0m\u001B[0;34m[\u001B[0m\u001B[0mdq_heap\u001B[0m\u001B[0;34m[\u001B[0m\u001B[0mn\u001B[0m\u001B[0;34m]\u001B[0m\u001B[0;34m.\u001B[0m\u001B[0mheap\u001B[0m\u001B[0;34m[\u001B[0m\u001B[0;36m0\u001B[0m\u001B[0;34m]\u001B[0m \u001B[0;32mfor\u001B[0m \u001B[0mn\u001B[0m \u001B[0;32min\u001B[0m \u001B[0mG\u001B[0m \u001B[0;32mif\u001B[0m \u001B[0mlen\u001B[0m\u001B[0;34m(\u001B[0m\u001B[0mdq_heap\u001B[0m\u001B[0;34m[\u001B[0m\u001B[0mn\u001B[0m\u001B[0;34m]\u001B[0m\u001B[0;34m)\u001B[0m \u001B[0;34m>\u001B[0m \u001B[0;36m0\u001B[0m\u001B[0;34m]\u001B[0m\u001B[0;34m)\u001B[0m\u001B[0;34m\u001B[0m\u001B[0;34m\u001B[0m\u001B[0m\n",
      "\u001B[0;32m~/NYU-Fall-2022/info_vis/confirmation-bias-vis/venv/lib/python3.7/site-packages/networkx/algorithms/community/modularity_max.py\u001B[0m in \u001B[0;36m<dictcomp>\u001B[0;34m(.0)\u001B[0m\n\u001B[1;32m    115\u001B[0m     \u001B[0;31m# Use -dq to get a max_heap instead of a min_heap\u001B[0m\u001B[0;34m\u001B[0m\u001B[0;34m\u001B[0m\u001B[0;34m\u001B[0m\u001B[0m\n\u001B[1;32m    116\u001B[0m     \u001B[0;31m# dq_heap holds a heap for each node's neighbors\u001B[0m\u001B[0;34m\u001B[0m\u001B[0;34m\u001B[0m\u001B[0;34m\u001B[0m\u001B[0m\n\u001B[0;32m--> 117\u001B[0;31m     \u001B[0mdq_heap\u001B[0m \u001B[0;34m=\u001B[0m \u001B[0;34m{\u001B[0m\u001B[0mu\u001B[0m\u001B[0;34m:\u001B[0m \u001B[0mMappedQueue\u001B[0m\u001B[0;34m(\u001B[0m\u001B[0;34m{\u001B[0m\u001B[0;34m(\u001B[0m\u001B[0mu\u001B[0m\u001B[0;34m,\u001B[0m \u001B[0mv\u001B[0m\u001B[0;34m)\u001B[0m\u001B[0;34m:\u001B[0m \u001B[0;34m-\u001B[0m\u001B[0mdq\u001B[0m \u001B[0;32mfor\u001B[0m \u001B[0mv\u001B[0m\u001B[0;34m,\u001B[0m \u001B[0mdq\u001B[0m \u001B[0;32min\u001B[0m \u001B[0mdq_dict\u001B[0m\u001B[0;34m[\u001B[0m\u001B[0mu\u001B[0m\u001B[0;34m]\u001B[0m\u001B[0;34m.\u001B[0m\u001B[0mitems\u001B[0m\u001B[0;34m(\u001B[0m\u001B[0;34m)\u001B[0m\u001B[0;34m}\u001B[0m\u001B[0;34m)\u001B[0m \u001B[0;32mfor\u001B[0m \u001B[0mu\u001B[0m \u001B[0;32min\u001B[0m \u001B[0mG\u001B[0m\u001B[0;34m}\u001B[0m\u001B[0;34m\u001B[0m\u001B[0;34m\u001B[0m\u001B[0m\n\u001B[0m\u001B[1;32m    118\u001B[0m     \u001B[0;31m# H -> all_dq_heap holds a heap with the best items for each node\u001B[0m\u001B[0;34m\u001B[0m\u001B[0;34m\u001B[0m\u001B[0;34m\u001B[0m\u001B[0m\n\u001B[1;32m    119\u001B[0m     \u001B[0mH\u001B[0m \u001B[0;34m=\u001B[0m \u001B[0mMappedQueue\u001B[0m\u001B[0;34m(\u001B[0m\u001B[0;34m[\u001B[0m\u001B[0mdq_heap\u001B[0m\u001B[0;34m[\u001B[0m\u001B[0mn\u001B[0m\u001B[0;34m]\u001B[0m\u001B[0;34m.\u001B[0m\u001B[0mheap\u001B[0m\u001B[0;34m[\u001B[0m\u001B[0;36m0\u001B[0m\u001B[0;34m]\u001B[0m \u001B[0;32mfor\u001B[0m \u001B[0mn\u001B[0m \u001B[0;32min\u001B[0m \u001B[0mG\u001B[0m \u001B[0;32mif\u001B[0m \u001B[0mlen\u001B[0m\u001B[0;34m(\u001B[0m\u001B[0mdq_heap\u001B[0m\u001B[0;34m[\u001B[0m\u001B[0mn\u001B[0m\u001B[0;34m]\u001B[0m\u001B[0;34m)\u001B[0m \u001B[0;34m>\u001B[0m \u001B[0;36m0\u001B[0m\u001B[0;34m]\u001B[0m\u001B[0;34m)\u001B[0m\u001B[0;34m\u001B[0m\u001B[0;34m\u001B[0m\u001B[0m\n",
      "\u001B[0;32m~/NYU-Fall-2022/info_vis/confirmation-bias-vis/venv/lib/python3.7/site-packages/networkx/utils/mapped_queue.py\u001B[0m in \u001B[0;36m__init__\u001B[0;34m(self, data)\u001B[0m\n\u001B[1;32m    130\u001B[0m             \u001B[0mself\u001B[0m\u001B[0;34m.\u001B[0m\u001B[0mheap\u001B[0m \u001B[0;34m=\u001B[0m \u001B[0mlist\u001B[0m\u001B[0;34m(\u001B[0m\u001B[0mdata\u001B[0m\u001B[0;34m)\u001B[0m\u001B[0;34m\u001B[0m\u001B[0;34m\u001B[0m\u001B[0m\n\u001B[1;32m    131\u001B[0m         \u001B[0mself\u001B[0m\u001B[0;34m.\u001B[0m\u001B[0mposition\u001B[0m \u001B[0;34m=\u001B[0m \u001B[0mdict\u001B[0m\u001B[0;34m(\u001B[0m\u001B[0;34m)\u001B[0m\u001B[0;34m\u001B[0m\u001B[0;34m\u001B[0m\u001B[0m\n\u001B[0;32m--> 132\u001B[0;31m         \u001B[0mself\u001B[0m\u001B[0;34m.\u001B[0m\u001B[0m_heapify\u001B[0m\u001B[0;34m(\u001B[0m\u001B[0;34m)\u001B[0m\u001B[0;34m\u001B[0m\u001B[0;34m\u001B[0m\u001B[0m\n\u001B[0m\u001B[1;32m    133\u001B[0m \u001B[0;34m\u001B[0m\u001B[0m\n\u001B[1;32m    134\u001B[0m     \u001B[0;32mdef\u001B[0m \u001B[0m_heapify\u001B[0m\u001B[0;34m(\u001B[0m\u001B[0mself\u001B[0m\u001B[0;34m)\u001B[0m\u001B[0;34m:\u001B[0m\u001B[0;34m\u001B[0m\u001B[0;34m\u001B[0m\u001B[0m\n",
      "\u001B[0;32m~/NYU-Fall-2022/info_vis/confirmation-bias-vis/venv/lib/python3.7/site-packages/networkx/utils/mapped_queue.py\u001B[0m in \u001B[0;36m_heapify\u001B[0;34m(self)\u001B[0m\n\u001B[1;32m    134\u001B[0m     \u001B[0;32mdef\u001B[0m \u001B[0m_heapify\u001B[0m\u001B[0;34m(\u001B[0m\u001B[0mself\u001B[0m\u001B[0;34m)\u001B[0m\u001B[0;34m:\u001B[0m\u001B[0;34m\u001B[0m\u001B[0;34m\u001B[0m\u001B[0m\n\u001B[1;32m    135\u001B[0m         \u001B[0;34m\"\"\"Restore heap invariant and recalculate map.\"\"\"\u001B[0m\u001B[0;34m\u001B[0m\u001B[0;34m\u001B[0m\u001B[0m\n\u001B[0;32m--> 136\u001B[0;31m         \u001B[0mheapq\u001B[0m\u001B[0;34m.\u001B[0m\u001B[0mheapify\u001B[0m\u001B[0;34m(\u001B[0m\u001B[0mself\u001B[0m\u001B[0;34m.\u001B[0m\u001B[0mheap\u001B[0m\u001B[0;34m)\u001B[0m\u001B[0;34m\u001B[0m\u001B[0;34m\u001B[0m\u001B[0m\n\u001B[0m\u001B[1;32m    137\u001B[0m         \u001B[0mself\u001B[0m\u001B[0;34m.\u001B[0m\u001B[0mposition\u001B[0m \u001B[0;34m=\u001B[0m \u001B[0;34m{\u001B[0m\u001B[0melt\u001B[0m\u001B[0;34m:\u001B[0m \u001B[0mpos\u001B[0m \u001B[0;32mfor\u001B[0m \u001B[0mpos\u001B[0m\u001B[0;34m,\u001B[0m \u001B[0melt\u001B[0m \u001B[0;32min\u001B[0m \u001B[0menumerate\u001B[0m\u001B[0;34m(\u001B[0m\u001B[0mself\u001B[0m\u001B[0;34m.\u001B[0m\u001B[0mheap\u001B[0m\u001B[0;34m)\u001B[0m\u001B[0;34m}\u001B[0m\u001B[0;34m\u001B[0m\u001B[0;34m\u001B[0m\u001B[0m\n\u001B[1;32m    138\u001B[0m         \u001B[0;32mif\u001B[0m \u001B[0mlen\u001B[0m\u001B[0;34m(\u001B[0m\u001B[0mself\u001B[0m\u001B[0;34m.\u001B[0m\u001B[0mheap\u001B[0m\u001B[0;34m)\u001B[0m \u001B[0;34m!=\u001B[0m \u001B[0mlen\u001B[0m\u001B[0;34m(\u001B[0m\u001B[0mself\u001B[0m\u001B[0;34m.\u001B[0m\u001B[0mposition\u001B[0m\u001B[0;34m)\u001B[0m\u001B[0;34m:\u001B[0m\u001B[0;34m\u001B[0m\u001B[0;34m\u001B[0m\u001B[0m\n",
      "\u001B[0;32m~/NYU-Fall-2022/info_vis/confirmation-bias-vis/venv/lib/python3.7/site-packages/networkx/utils/mapped_queue.py\u001B[0m in \u001B[0;36m__lt__\u001B[0;34m(self, other)\u001B[0m\n\u001B[1;32m     44\u001B[0m         \u001B[0;31m# assume comparing to another _HeapElement\u001B[0m\u001B[0;34m\u001B[0m\u001B[0;34m\u001B[0m\u001B[0;34m\u001B[0m\u001B[0m\n\u001B[1;32m     45\u001B[0m         \u001B[0;32mif\u001B[0m \u001B[0mself\u001B[0m\u001B[0;34m.\u001B[0m\u001B[0mpriority\u001B[0m \u001B[0;34m==\u001B[0m \u001B[0mother_priority\u001B[0m\u001B[0;34m:\u001B[0m\u001B[0;34m\u001B[0m\u001B[0;34m\u001B[0m\u001B[0m\n\u001B[0;32m---> 46\u001B[0;31m             \u001B[0;32mreturn\u001B[0m \u001B[0mself\u001B[0m\u001B[0;34m.\u001B[0m\u001B[0melement\u001B[0m \u001B[0;34m<\u001B[0m \u001B[0mother\u001B[0m\u001B[0;34m.\u001B[0m\u001B[0melement\u001B[0m\u001B[0;34m\u001B[0m\u001B[0;34m\u001B[0m\u001B[0m\n\u001B[0m\u001B[1;32m     47\u001B[0m         \u001B[0;32mreturn\u001B[0m \u001B[0mself\u001B[0m\u001B[0;34m.\u001B[0m\u001B[0mpriority\u001B[0m \u001B[0;34m<\u001B[0m \u001B[0mother_priority\u001B[0m\u001B[0;34m\u001B[0m\u001B[0;34m\u001B[0m\u001B[0m\n\u001B[1;32m     48\u001B[0m \u001B[0;34m\u001B[0m\u001B[0m\n",
      "\u001B[0;31mTypeError\u001B[0m: '<' not supported between instances of 'float' and 'str'"
     ]
    }
   ],
   "source": [
    "import networkx.algorithms.community as nxcom\n",
    "\n",
    "# identifying communities within the network\n",
    "twitter_communities = sorted(nxcom.greedy_modularity_communities(G), key=len,\n",
    "                             reverse=True)"
   ],
   "metadata": {
    "collapsed": false
   }
  },
  {
   "cell_type": "code",
   "execution_count": 196,
   "outputs": [
    {
     "ename": "NameError",
     "evalue": "name 'twitter_communities' is not defined",
     "output_type": "error",
     "traceback": [
      "\u001B[0;31m---------------------------------------------------------------------------\u001B[0m",
      "\u001B[0;31mNameError\u001B[0m                                 Traceback (most recent call last)",
      "\u001B[0;32m/var/folders/4l/kfc4gh5d1jn6zkrmv51vvbyw0000gn/T/ipykernel_78359/3206672036.py\u001B[0m in \u001B[0;36m<module>\u001B[0;34m\u001B[0m\n\u001B[0;32m----> 1\u001B[0;31m \u001B[0mprint\u001B[0m\u001B[0;34m(\u001B[0m\u001B[0;34m\"The number of communities detected is \"\u001B[0m\u001B[0;34m,\u001B[0m \u001B[0mlen\u001B[0m\u001B[0;34m(\u001B[0m\u001B[0mtwitter_communities\u001B[0m\u001B[0;34m)\u001B[0m\u001B[0;34m)\u001B[0m\u001B[0;34m\u001B[0m\u001B[0;34m\u001B[0m\u001B[0m\n\u001B[0m",
      "\u001B[0;31mNameError\u001B[0m: name 'twitter_communities' is not defined"
     ]
    }
   ],
   "source": [
    "print(\"The number of communities detected is \", len(twitter_communities))"
   ],
   "metadata": {
    "collapsed": false
   }
  },
  {
   "cell_type": "code",
   "execution_count": 43,
   "outputs": [
    {
     "name": "stdout",
     "output_type": "stream",
     "text": [
      "Visualizing Identified Communities\n"
     ]
    }
   ],
   "source": [
    "print(\"Visualizing Identified Communities\")\n",
    "\n",
    "def set_node_community(G, communities):\n",
    "    '''Add community to node attributes'''\n",
    "    for c, v_c in enumerate(communities):\n",
    "        for v in v_c:\n",
    "            # Add 1 to save 0 for external edges\n",
    "            G.nodes[v]['community'] = c + 1\n",
    "\n",
    "def set_edge_community(G):\n",
    "    '''Find internal edges and add their community to their attributes'''\n",
    "    for v, w, in G.edges:\n",
    "        if G.nodes[v]['community'] == G.nodes[w]['community']:\n",
    "            # Internal edge, mark with community\n",
    "            G.edges[v, w]['community'] = G.nodes[v]['community']\n",
    "        else:\n",
    "            # External edge, mark as 0\n",
    "            G.edges[v, w]['community'] = 0"
   ],
   "metadata": {
    "collapsed": false
   }
  },
  {
   "cell_type": "code",
   "execution_count": 44,
   "outputs": [],
   "source": [
    "def get_color(i, r_off=1, g_off=1, b_off=1):\n",
    "    r0, g0, b0 = 0, 0, 0\n",
    "    n = 16\n",
    "    low, high = 0.1, 0.9\n",
    "    span = high - low\n",
    "    r = low + span * (((i + r_off) * 3) % n) / (n - 1)\n",
    "    g = low + span * (((i + g_off) * 5) % n) / (n - 1)\n",
    "    b = low + span * (((i + b_off) * 7) % n) / (n - 1)\n",
    "    return (r, g, b)"
   ],
   "metadata": {
    "collapsed": false
   }
  },
  {
   "cell_type": "code",
   "execution_count": 45,
   "outputs": [
    {
     "ename": "NameError",
     "evalue": "name 'G' is not defined",
     "output_type": "error",
     "traceback": [
      "\u001B[0;31m---------------------------------------------------------------------------\u001B[0m",
      "\u001B[0;31mNameError\u001B[0m                                 Traceback (most recent call last)",
      "\u001B[0;32m/var/folders/4l/kfc4gh5d1jn6zkrmv51vvbyw0000gn/T/ipykernel_76044/1015109808.py\u001B[0m in \u001B[0;36m<module>\u001B[0;34m\u001B[0m\n\u001B[1;32m      1\u001B[0m \u001B[0;31m# Set node and edge communities\u001B[0m\u001B[0;34m\u001B[0m\u001B[0;34m\u001B[0m\u001B[0;34m\u001B[0m\u001B[0m\n\u001B[0;32m----> 2\u001B[0;31m \u001B[0mset_node_community\u001B[0m\u001B[0;34m(\u001B[0m\u001B[0mG\u001B[0m\u001B[0;34m,\u001B[0m \u001B[0mtwitter_communities\u001B[0m\u001B[0;34m)\u001B[0m\u001B[0;34m\u001B[0m\u001B[0;34m\u001B[0m\u001B[0m\n\u001B[0m\u001B[1;32m      3\u001B[0m \u001B[0mset_edge_community\u001B[0m\u001B[0;34m(\u001B[0m\u001B[0mG\u001B[0m\u001B[0;34m)\u001B[0m\u001B[0;34m\u001B[0m\u001B[0;34m\u001B[0m\u001B[0m\n\u001B[1;32m      4\u001B[0m \u001B[0;34m\u001B[0m\u001B[0m\n\u001B[1;32m      5\u001B[0m \u001B[0;31m# Set community color for nodes\u001B[0m\u001B[0;34m\u001B[0m\u001B[0;34m\u001B[0m\u001B[0;34m\u001B[0m\u001B[0m\n",
      "\u001B[0;31mNameError\u001B[0m: name 'G' is not defined"
     ]
    }
   ],
   "source": [
    "# Set node and edge communities\n",
    "set_node_community(G, twitter_communities)\n",
    "set_edge_community(G)\n",
    "\n",
    "# Set community color for nodes\n",
    "node_color = [\n",
    "    get_color(G.nodes[v]['community'])\n",
    "    for v in G.nodes]\n",
    "\n",
    "# Set community color for internal edges\n",
    "external = [\n",
    "    (v, w) for v, w in G.edges\n",
    "    if G.edges[v, w]['community'] == 0]\n",
    "\n",
    "internal = [\n",
    "    (v, w) for v, w in G.edges\n",
    "    if G.edges[v, w]['community'] > 0]\n",
    "\n",
    "internal_color = [\n",
    "    get_color(G.edges[e]['community'])\n",
    "    for e in internal]"
   ],
   "metadata": {
    "collapsed": false
   }
  },
  {
   "cell_type": "code",
   "execution_count": 46,
   "outputs": [
    {
     "ename": "NameError",
     "evalue": "name 'G' is not defined",
     "output_type": "error",
     "traceback": [
      "\u001B[0;31m---------------------------------------------------------------------------\u001B[0m",
      "\u001B[0;31mNameError\u001B[0m                                 Traceback (most recent call last)",
      "\u001B[0;32m/var/folders/4l/kfc4gh5d1jn6zkrmv51vvbyw0000gn/T/ipykernel_76044/3868183160.py\u001B[0m in \u001B[0;36m<module>\u001B[0;34m\u001B[0m\n\u001B[1;32m      1\u001B[0m \u001B[0;31m# Draw external edges\u001B[0m\u001B[0;34m\u001B[0m\u001B[0;34m\u001B[0m\u001B[0;34m\u001B[0m\u001B[0m\n\u001B[1;32m      2\u001B[0m nx.draw_networkx(\n\u001B[0;32m----> 3\u001B[0;31m     \u001B[0mG\u001B[0m\u001B[0;34m,\u001B[0m \u001B[0mpos\u001B[0m\u001B[0;34m=\u001B[0m\u001B[0mpos\u001B[0m\u001B[0;34m,\u001B[0m \u001B[0mnode_size\u001B[0m\u001B[0;34m=\u001B[0m\u001B[0;36m0\u001B[0m\u001B[0;34m,\u001B[0m\u001B[0;34m\u001B[0m\u001B[0;34m\u001B[0m\u001B[0m\n\u001B[0m\u001B[1;32m      4\u001B[0m     \u001B[0medgelist\u001B[0m\u001B[0;34m=\u001B[0m\u001B[0mexternal\u001B[0m\u001B[0;34m,\u001B[0m \u001B[0medge_color\u001B[0m\u001B[0;34m=\u001B[0m\u001B[0;34m\"#333333\"\u001B[0m\u001B[0;34m,\u001B[0m\u001B[0;34m\u001B[0m\u001B[0;34m\u001B[0m\u001B[0m\n\u001B[1;32m      5\u001B[0m     alpha=0.2, with_labels=False)\n",
      "\u001B[0;31mNameError\u001B[0m: name 'G' is not defined"
     ]
    }
   ],
   "source": [
    "# Draw external edges\n",
    "nx.draw_networkx(\n",
    "    G, pos=pos, node_size=0,\n",
    "    edgelist=external, edge_color=\"#333333\",\n",
    "    alpha=0.2, with_labels=False)\n",
    "\n",
    "# Draw internal edges\n",
    "nx.draw_networkx(\n",
    "    G, pos=pos, node_size=0,\n",
    "    edgelist=internal, edge_color=internal_color,\n",
    "    alpha=0.05, with_labels=False)"
   ],
   "metadata": {
    "collapsed": false
   }
  },
  {
   "cell_type": "code",
   "execution_count": 47,
   "outputs": [
    {
     "ename": "NameError",
     "evalue": "name 'G' is not defined",
     "output_type": "error",
     "traceback": [
      "\u001B[0;31m---------------------------------------------------------------------------\u001B[0m",
      "\u001B[0;31mNameError\u001B[0m                                 Traceback (most recent call last)",
      "\u001B[0;32m/var/folders/4l/kfc4gh5d1jn6zkrmv51vvbyw0000gn/T/ipykernel_76044/3745788059.py\u001B[0m in \u001B[0;36m<module>\u001B[0;34m\u001B[0m\n\u001B[1;32m      9\u001B[0m \u001B[0;34m\u001B[0m\u001B[0m\n\u001B[1;32m     10\u001B[0m \u001B[0;32mfor\u001B[0m \u001B[0mcluster\u001B[0m \u001B[0;32min\u001B[0m \u001B[0mall_clusters\u001B[0m\u001B[0;34m:\u001B[0m\u001B[0;34m\u001B[0m\u001B[0;34m\u001B[0m\u001B[0m\n\u001B[0;32m---> 11\u001B[0;31m     \u001B[0;32mif\u001B[0m \u001B[0mstr\u001B[0m\u001B[0;34m(\u001B[0m\u001B[0mcluster\u001B[0m\u001B[0;34m[\u001B[0m\u001B[0;36m0\u001B[0m\u001B[0;34m]\u001B[0m\u001B[0;34m)\u001B[0m \u001B[0;32min\u001B[0m \u001B[0mG\u001B[0m\u001B[0;34m.\u001B[0m\u001B[0mnodes\u001B[0m\u001B[0;34m:\u001B[0m\u001B[0;34m\u001B[0m\u001B[0;34m\u001B[0m\u001B[0m\n\u001B[0m\u001B[1;32m     12\u001B[0m         \u001B[0mall_clusters_dict\u001B[0m\u001B[0;34m[\u001B[0m\u001B[0mstr\u001B[0m\u001B[0;34m(\u001B[0m\u001B[0mcluster\u001B[0m\u001B[0;34m[\u001B[0m\u001B[0;36m0\u001B[0m\u001B[0;34m]\u001B[0m\u001B[0;34m)\u001B[0m\u001B[0;34m]\u001B[0m \u001B[0;34m=\u001B[0m \u001B[0mstr\u001B[0m\u001B[0;34m(\u001B[0m\u001B[0mcluster\u001B[0m\u001B[0;34m[\u001B[0m\u001B[0;36m0\u001B[0m\u001B[0;34m]\u001B[0m\u001B[0;34m)\u001B[0m\u001B[0;34m\u001B[0m\u001B[0;34m\u001B[0m\u001B[0m\n",
      "\u001B[0;31mNameError\u001B[0m: name 'G' is not defined"
     ]
    }
   ],
   "source": [
    "all_clusters = []\n",
    "\n",
    "all_clusters.extend(rus_cluster)\n",
    "all_clusters.extend(ukr_eng_cluster)\n",
    "all_clusters.extend(ukr_rus_cluster)\n",
    "all_clusters.extend(ukr_ukr_cluster)\n",
    "\n",
    "all_clusters_dict = {}\n",
    "\n",
    "for cluster in all_clusters:\n",
    "    if str(cluster[0]) in G.nodes:\n",
    "        all_clusters_dict[str(cluster[0])] = str(cluster[0])"
   ],
   "metadata": {
    "collapsed": false
   }
  },
  {
   "cell_type": "code",
   "execution_count": 48,
   "outputs": [
    {
     "ename": "NameError",
     "evalue": "name 'G' is not defined",
     "output_type": "error",
     "traceback": [
      "\u001B[0;31m---------------------------------------------------------------------------\u001B[0m",
      "\u001B[0;31mNameError\u001B[0m                                 Traceback (most recent call last)",
      "\u001B[0;32m/var/folders/4l/kfc4gh5d1jn6zkrmv51vvbyw0000gn/T/ipykernel_76044/1676722822.py\u001B[0m in \u001B[0;36m<module>\u001B[0;34m\u001B[0m\n\u001B[1;32m      1\u001B[0m \u001B[0;31m# TODO: SAVE AS PDF\u001B[0m\u001B[0;34m\u001B[0m\u001B[0;34m\u001B[0m\u001B[0;34m\u001B[0m\u001B[0m\n\u001B[1;32m      2\u001B[0m \u001B[0;34m\u001B[0m\u001B[0m\n\u001B[0;32m----> 3\u001B[0;31m \u001B[0mpos\u001B[0m \u001B[0;34m=\u001B[0m \u001B[0mnx\u001B[0m\u001B[0;34m.\u001B[0m\u001B[0mspring_layout\u001B[0m\u001B[0;34m(\u001B[0m\u001B[0mG\u001B[0m\u001B[0;34m,\u001B[0m \u001B[0mk\u001B[0m\u001B[0;34m=\u001B[0m\u001B[0;36m0.15\u001B[0m\u001B[0;34m)\u001B[0m\u001B[0;34m\u001B[0m\u001B[0;34m\u001B[0m\u001B[0m\n\u001B[0m\u001B[1;32m      4\u001B[0m \u001B[0;34m\u001B[0m\u001B[0m\n\u001B[1;32m      5\u001B[0m \u001B[0mG_node_degrees\u001B[0m \u001B[0;34m=\u001B[0m \u001B[0mdict\u001B[0m\u001B[0;34m(\u001B[0m\u001B[0mG\u001B[0m\u001B[0;34m.\u001B[0m\u001B[0mdegree\u001B[0m\u001B[0;34m)\u001B[0m\u001B[0;34m\u001B[0m\u001B[0;34m\u001B[0m\u001B[0m\n",
      "\u001B[0;31mNameError\u001B[0m: name 'G' is not defined"
     ]
    }
   ],
   "source": [
    "# TODO: SAVE AS PDF\n",
    "\n",
    "pos = nx.spring_layout(G, k=0.15)\n",
    "\n",
    "G_node_degrees = dict(G.degree)\n",
    "\n",
    "# Draw internal edges\n",
    "nx.draw_networkx(\n",
    "    G, pos=pos, node_size=[v * 1 for v in G_node_degrees.values()],\n",
    "    edgelist=internal, edge_color=internal_color,\n",
    "    alpha=0.05, with_labels=True, label='Group Follower Clusters',\n",
    "    labels=all_clusters_dict, font_color='#00ff00', font_weight='bold')"
   ],
   "metadata": {
    "collapsed": false
   }
  },
  {
   "cell_type": "code",
   "execution_count": 49,
   "outputs": [],
   "source": [
    "def sort_graph_by_deg_desc(graph):\n",
    "    return sorted(G.degree, key=lambda x: x[1], reverse=True)"
   ],
   "metadata": {
    "collapsed": false
   }
  },
  {
   "cell_type": "code",
   "execution_count": 50,
   "outputs": [
    {
     "ename": "NameError",
     "evalue": "name 'G' is not defined",
     "output_type": "error",
     "traceback": [
      "\u001B[0;31m---------------------------------------------------------------------------\u001B[0m",
      "\u001B[0;31mNameError\u001B[0m                                 Traceback (most recent call last)",
      "\u001B[0;32m/var/folders/4l/kfc4gh5d1jn6zkrmv51vvbyw0000gn/T/ipykernel_76044/370835087.py\u001B[0m in \u001B[0;36m<module>\u001B[0;34m\u001B[0m\n\u001B[0;32m----> 1\u001B[0;31m \u001B[0mG_deg_sorted\u001B[0m \u001B[0;34m=\u001B[0m \u001B[0msort_graph_by_deg_desc\u001B[0m\u001B[0;34m(\u001B[0m\u001B[0mG\u001B[0m\u001B[0;34m)\u001B[0m\u001B[0;34m\u001B[0m\u001B[0;34m\u001B[0m\u001B[0m\n\u001B[0m",
      "\u001B[0;31mNameError\u001B[0m: name 'G' is not defined"
     ]
    }
   ],
   "source": [
    "G_deg_sorted = sort_graph_by_deg_desc(G)"
   ],
   "metadata": {
    "collapsed": false
   }
  },
  {
   "cell_type": "code",
   "execution_count": 51,
   "outputs": [
    {
     "name": "stdout",
     "output_type": "stream",
     "text": [
      "Performing connectivity analysis on a graph\n"
     ]
    },
    {
     "ename": "NameError",
     "evalue": "name 'subgraph' is not defined",
     "output_type": "error",
     "traceback": [
      "\u001B[0;31m---------------------------------------------------------------------------\u001B[0m",
      "\u001B[0;31mNameError\u001B[0m                                 Traceback (most recent call last)",
      "\u001B[0;32m/var/folders/4l/kfc4gh5d1jn6zkrmv51vvbyw0000gn/T/ipykernel_76044/1139622079.py\u001B[0m in \u001B[0;36m<module>\u001B[0;34m\u001B[0m\n\u001B[1;32m      1\u001B[0m \u001B[0mprint\u001B[0m\u001B[0;34m(\u001B[0m\u001B[0;34m\"Performing connectivity analysis on a graph\"\u001B[0m\u001B[0;34m)\u001B[0m\u001B[0;34m\u001B[0m\u001B[0;34m\u001B[0m\u001B[0m\n\u001B[1;32m      2\u001B[0m \u001B[0;34m\u001B[0m\u001B[0m\n\u001B[0;32m----> 3\u001B[0;31m \u001B[0mnode_connections\u001B[0m \u001B[0;34m=\u001B[0m \u001B[0mnx\u001B[0m\u001B[0;34m.\u001B[0m\u001B[0mall_pairs_node_connectivity\u001B[0m\u001B[0;34m(\u001B[0m\u001B[0msubgraph\u001B[0m\u001B[0;34m)\u001B[0m\u001B[0;34m\u001B[0m\u001B[0;34m\u001B[0m\u001B[0m\n\u001B[0m",
      "\u001B[0;31mNameError\u001B[0m: name 'subgraph' is not defined"
     ]
    }
   ],
   "source": [
    "print(\"Performing connectivity analysis on a graph\")\n",
    "\n",
    "node_connections = nx.all_pairs_node_connectivity(subgraph)"
   ],
   "metadata": {
    "collapsed": false
   }
  },
  {
   "cell_type": "code",
   "execution_count": 52,
   "outputs": [],
   "source": [
    "def get_shared_nodes_within_group(node_connections, group_members):\n",
    "    shared_connections = []\n",
    "    for username, connections_dict in node_connections.items():\n",
    "        for group_member in group_members:\n",
    "            if group_member in connections_dict.keys() and connections_dict[group_member] == 1:\n",
    "                shared_connections.append(username)\n",
    "    return shared_connections"
   ],
   "metadata": {
    "collapsed": false
   }
  },
  {
   "cell_type": "code",
   "execution_count": 53,
   "outputs": [
    {
     "ename": "NameError",
     "evalue": "name 'node_connections' is not defined",
     "output_type": "error",
     "traceback": [
      "\u001B[0;31m---------------------------------------------------------------------------\u001B[0m",
      "\u001B[0;31mNameError\u001B[0m                                 Traceback (most recent call last)",
      "\u001B[0;32m/var/folders/4l/kfc4gh5d1jn6zkrmv51vvbyw0000gn/T/ipykernel_76044/1181974466.py\u001B[0m in \u001B[0;36m<module>\u001B[0;34m\u001B[0m\n\u001B[0;32m----> 1\u001B[0;31m \u001B[0mget_shared_nodes_within_group\u001B[0m\u001B[0;34m(\u001B[0m\u001B[0mnode_connections\u001B[0m\u001B[0;34m,\u001B[0m \u001B[0mrus_cluster\u001B[0m\u001B[0;34m)\u001B[0m\u001B[0;34m\u001B[0m\u001B[0;34m\u001B[0m\u001B[0m\n\u001B[0m",
      "\u001B[0;31mNameError\u001B[0m: name 'node_connections' is not defined"
     ]
    }
   ],
   "source": [
    "get_shared_nodes_within_group(node_connections, rus_cluster)"
   ],
   "metadata": {
    "collapsed": false
   }
  },
  {
   "cell_type": "code",
   "execution_count": 51,
   "outputs": [],
   "source": [
    "def get_shared_nodes_between_groups(node_connections, cluster_groups):\n",
    "    shared_connections = {}\n",
    "    for username, connections_dict in node_connections.items():\n",
    "        for group_name, group_members in cluster_groups.items():\n",
    "            for group_member in group_members:\n",
    "                if group_member in connections_dict.keys() and connections_dict[group_member] == 1:\n",
    "                    if group_name not in shared_connections.keys():\n",
    "                        shared_connections.append(username)\n",
    "                    else:\n",
    "                        shared_connections[group_name] = shared_connections[group_name].append(username)\n",
    "    return shared_connections"
   ],
   "metadata": {
    "collapsed": false
   }
  },
  {
   "cell_type": "code",
   "execution_count": 52,
   "outputs": [],
   "source": [
    "TWITTER_CLUSTER_GROUPS = {\n",
    "    \"rus_cluster\": russia_sources_rus,\n",
    "    \"ukr_eng_cluster\": ukraine_sources_rus,\n",
    "    \"ukr_rus_cluster\": ukraine_sources_ukr,\n",
    "    \"ukr_ukr_cluster\": ukraine_sources_eng\n",
    "}"
   ],
   "metadata": {
    "collapsed": false
   }
  },
  {
   "cell_type": "code",
   "execution_count": 53,
   "outputs": [],
   "source": [
    "shared_connections_between_groups = get_shared_nodes_between_groups\\\n",
    "(node_connections, TWITTER_CLUSTER_GROUPS)"
   ],
   "metadata": {
    "collapsed": false
   }
  },
  {
   "cell_type": "code",
   "execution_count": 54,
   "outputs": [
    {
     "data": {
      "text/plain": "{}"
     },
     "execution_count": 54,
     "metadata": {},
     "output_type": "execute_result"
    }
   ],
   "source": [
    "shared_connections_between_groups"
   ],
   "metadata": {
    "collapsed": false
   }
  },
  {
   "cell_type": "code",
   "execution_count": 55,
   "outputs": [
    {
     "data": {
      "text/plain": "\"\\nimport matplotlib.pyplot as plt\\n\\nf, ax = plt.subplots(figsize=(10, 10))\\nplt.style.use('ggplot')\\nnodes = nx.draw_networkx_nodes(G, pos,\\n                               alpha=0.8)\\nnodes.set_edgecolor('k')\\nnx.draw_networkx_labels(G, pos, font_size=8)\\nnx.draw_networkx_edges(G, pos, width=1.0, alpha=0.2)\\n\""
     },
     "execution_count": 55,
     "metadata": {},
     "output_type": "execute_result"
    }
   ],
   "source": [
    "'''\n",
    "import matplotlib.pyplot as plt\n",
    "\n",
    "f, ax = plt.subplots(figsize=(10, 10))\n",
    "plt.style.use('ggplot')\n",
    "nodes = nx.draw_networkx_nodes(G, pos,\n",
    "                               alpha=0.8)\n",
    "nodes.set_edgecolor('k')\n",
    "nx.draw_networkx_labels(G, pos, font_size=8)\n",
    "nx.draw_networkx_edges(G, pos, width=1.0, alpha=0.2)\n",
    "'''"
   ],
   "metadata": {
    "collapsed": false
   }
  },
  {
   "cell_type": "code",
   "source": [
    "# TODO: analyze social network graph using NetworkX\n",
    "# TODO: perhaps the network should be cleaned of low degree connected users\n",
    "#  for visualization purposes\n",
    "# TODO: run the graph analytics on the original network w/o visualizing it"
   ],
   "metadata": {
    "collapsed": false
   },
   "execution_count": 56,
   "outputs": []
  },
  {
   "cell_type": "markdown",
   "source": [
    "<h2>Visualizing the Network using Gephi</h2>"
   ],
   "metadata": {
    "collapsed": false
   }
  },
  {
   "cell_type": "code",
   "execution_count": 57,
   "outputs": [],
   "source": [
    "# TODO: node size should correspond to the number of followers the node has\n",
    "# TODO: node color should correspond to the node group"
   ],
   "metadata": {
    "collapsed": false
   }
  },
  {
   "cell_type": "markdown",
   "source": [
    "<h2>Visualizing the Network using Neo4j</h2>"
   ],
   "metadata": {
    "collapsed": false
   }
  },
  {
   "cell_type": "markdown",
   "source": [
    "<h2>Analyzing group sentiments</h2>"
   ],
   "metadata": {
    "collapsed": false
   }
  },
  {
   "cell_type": "code",
   "execution_count": 58,
   "outputs": [],
   "source": [
    "# THIS CELL HITS TWITTER API\n",
    "\n",
    "# NOTE: THIS FUNCTION PULLS THE TWEETS MENTIONING A PARTICULAR USER, NOT FROM\n",
    "# A PARTICULAR USER\n",
    "\n",
    "def get_user_tweet_mentions(username, num_tweets, entities=None):\n",
    "\n",
    "    search_query = username + \" OR \"\n",
    "\n",
    "    if entities is not None:\n",
    "        # include all possible candidate names in a query\n",
    "        for entity in entities:\n",
    "            search_query += \"entity:\" + '\"' + entity + '\"' + \" OR \"\n",
    "\n",
    "    # remove the last OR statement\n",
    "    search_query = search_query[:-3]\n",
    "\n",
    "    search_query += \"-is:retweet\"\n",
    "\n",
    "    tweets = api.search_tweets(q = search_query, count = num_tweets,\n",
    "                               tweet_mode=\"extended\")\n",
    "\n",
    "    return tweets"
   ],
   "metadata": {
    "collapsed": false
   }
  },
  {
   "cell_type": "code",
   "execution_count": 59,
   "outputs": [],
   "source": [
    "# THIS CELL HITS TWITTER API\n",
    "\n",
    "def get_user_tweets(user_id, num_tweets):\n",
    "\n",
    "    # https://docs.tweepy.org/en/stable/client.html#tweepy.Client.get_users_tweets\n",
    "    # https://docs.tweepy.org/en/stable/expansions_and_fields.html#expansions-parameter\n",
    "    # https://dev.to/twitterdev/a-comprehensive-guide-for-using-the-twitter-api-v2-using-tweepy-in-python-15d9\n",
    "\n",
    "    tweets = client.get_users_tweets(id = user_id, max_results = num_tweets,\n",
    "                               exclude = ['retweets'], expansions='entities.mentions.username')\n",
    "\n",
    "    return tweets"
   ],
   "metadata": {
    "collapsed": false
   }
  },
  {
   "cell_type": "code",
   "execution_count": 60,
   "outputs": [],
   "source": [
    "# Sentiment in relation to a different group\n",
    "\n",
    "# Tweets word Cloud\n",
    "\n",
    "# Tweets HashTags Word Cloud\n",
    "\n",
    "# Tweets events mapping? (Maybe)"
   ],
   "metadata": {
    "collapsed": false
   }
  },
  {
   "cell_type": "code",
   "execution_count": 61,
   "outputs": [],
   "source": [
    "# https://www.caida.org/catalog/software/walrus/"
   ],
   "metadata": {
    "collapsed": false
   }
  },
  {
   "cell_type": "code",
   "execution_count": 62,
   "outputs": [
    {
     "name": "stdout",
     "output_type": "stream",
     "text": [
      "Pulling a sample of tweets for all clusters\n"
     ]
    }
   ],
   "source": [
    "print(\"Pulling a sample of tweets for all clusters\")\n",
    "\n",
    "NUM_TWEETS = 5\n",
    "USERNAME_IDX = 0\n",
    "USER_ID_IDX = 1\n",
    "\n",
    "cluster_tweets = {}\n",
    "\n",
    "for cluster in all_clusters:\n",
    "    cluster_tweets[cluster] = get_user_tweets(cluster[USER_ID_IDX], NUM_TWEETS)"
   ],
   "metadata": {
    "collapsed": false
   }
  },
  {
   "cell_type": "code",
   "execution_count": 8,
   "outputs": [
    {
     "ename": "NameError",
     "evalue": "name 'cluster_tweets' is not defined",
     "output_type": "error",
     "traceback": [
      "\u001B[0;31m---------------------------------------------------------------------------\u001B[0m",
      "\u001B[0;31mNameError\u001B[0m                                 Traceback (most recent call last)",
      "\u001B[0;32m/var/folders/4l/kfc4gh5d1jn6zkrmv51vvbyw0000gn/T/ipykernel_76044/1190134407.py\u001B[0m in \u001B[0;36m<module>\u001B[0;34m\u001B[0m\n\u001B[0;32m----> 1\u001B[0;31m \u001B[0mcluster_tweets\u001B[0m\u001B[0;34m\u001B[0m\u001B[0;34m\u001B[0m\u001B[0m\n\u001B[0m",
      "\u001B[0;31mNameError\u001B[0m: name 'cluster_tweets' is not defined"
     ]
    }
   ],
   "source": [
    "cluster_tweets"
   ],
   "metadata": {
    "collapsed": false
   }
  },
  {
   "cell_type": "code",
   "execution_count": 64,
   "outputs": [],
   "source": [
    "def convert_tweets_to_json(raw_tweets_dict):\n",
    "    json_tweets = []\n",
    "    for username, tweets in raw_tweets_dict.items():\n",
    "        for tweet in tweets:\n",
    "            json_tweet_str = json.dumps(tweet.text)\n",
    "            json_tweet = json.loads(json_tweet_str)\n",
    "            json_tweets.append(json_tweet)\n",
    "    return json_tweets"
   ],
   "metadata": {
    "collapsed": false
   }
  },
  {
   "cell_type": "code",
   "execution_count": 65,
   "outputs": [
    {
     "name": "stdout",
     "output_type": "stream",
     "text": [
      "{'created_at': 'Fri Dec 02 16:03:29 +0000 2022', 'id': 1598709448129662977, 'id_str': '1598709448129662977', 'text': 'На канале \"В гостях у Гордона\" транслируется стрим главного редактора интернет-издания \"#ГОРДОН\" Алеси #Бацман с те… https://t.co/ta77zbvZLc', 'truncated': True, 'entities': {'hashtags': [{'text': 'ГОРДОН', 'indices': [88, 95]}, {'text': 'Бацман', 'indices': [103, 110]}], 'symbols': [], 'user_mentions': [], 'urls': [{'url': 'https://t.co/ta77zbvZLc', 'expanded_url': 'https://twitter.com/i/web/status/1598709448129662977', 'display_url': 'twitter.com/i/web/status/1…', 'indices': [117, 140]}]}, 'source': '<a href=\"https://mobile.twitter.com\" rel=\"nofollow\">Twitter Web App</a>', 'in_reply_to_status_id': None, 'in_reply_to_status_id_str': None, 'in_reply_to_user_id': None, 'in_reply_to_user_id_str': None, 'in_reply_to_screen_name': None, 'user': {'id': 1334400780, 'id_str': '1334400780', 'name': 'Дмитрий Гордон', 'screen_name': 'dmitry_gordon', 'location': 'Украина', 'description': 'Украинский писатель, журналист, телеведущий, основатель интернет-издания @Gordonuacom. https://t.co/Xt1COHTG44…', 'url': 'https://t.co/va3Q3oZcxT', 'entities': {'url': {'urls': [{'url': 'https://t.co/va3Q3oZcxT', 'expanded_url': 'https://gordonua.com/', 'display_url': 'gordonua.com', 'indices': [0, 23]}]}, 'description': {'urls': [{'url': 'https://t.co/Xt1COHTG44', 'expanded_url': 'http://t.me/dmytrogordon_o', 'display_url': 't.me/dmytrogordon_o', 'indices': [87, 110]}]}}, 'protected': False, 'followers_count': 155077, 'friends_count': 304, 'listed_count': 772, 'created_at': 'Sun Apr 07 15:50:59 +0000 2013', 'favourites_count': 444, 'utc_offset': None, 'time_zone': None, 'geo_enabled': False, 'verified': True, 'statuses_count': 168548, 'lang': None, 'contributors_enabled': False, 'is_translator': False, 'is_translation_enabled': False, 'profile_background_color': '131516', 'profile_background_image_url': 'http://abs.twimg.com/images/themes/theme14/bg.gif', 'profile_background_image_url_https': 'https://abs.twimg.com/images/themes/theme14/bg.gif', 'profile_background_tile': True, 'profile_image_url': 'http://pbs.twimg.com/profile_images/3714778768/0dd3df4ba1c8a979022cb50fdea8c5c5_normal.jpeg', 'profile_image_url_https': 'https://pbs.twimg.com/profile_images/3714778768/0dd3df4ba1c8a979022cb50fdea8c5c5_normal.jpeg', 'profile_banner_url': 'https://pbs.twimg.com/profile_banners/1334400780/1646739686', 'profile_link_color': '3B4242', 'profile_sidebar_border_color': 'EEEEEE', 'profile_sidebar_fill_color': 'EFEFEF', 'profile_text_color': '333333', 'profile_use_background_image': True, 'has_extended_profile': False, 'default_profile': False, 'default_profile_image': False, 'following': False, 'follow_request_sent': False, 'notifications': False, 'translator_type': 'none', 'withheld_in_countries': []}, 'geo': None, 'coordinates': None, 'place': None, 'contributors': None, 'is_quote_status': False, 'retweet_count': 0, 'favorite_count': 8, 'favorited': False, 'retweeted': False, 'possibly_sensitive': False, 'possibly_sensitive_appealable': False, 'lang': 'ru'}\n"
     ]
    }
   ],
   "source": [
    "tweet_status = api.get_status(1598709448129662977)\n",
    "\n",
    "print(tweet_status._json)"
   ],
   "metadata": {
    "collapsed": false
   }
  },
  {
   "cell_type": "code",
   "execution_count": 66,
   "outputs": [
    {
     "data": {
      "text/plain": "{('@1tvru_news',\n  160881696): Response(data=[<Tweet id=1599119541644054528 text='Новые примеры мужества и отваги российских военных: https://t.co/SCQ2woKZYx https://t.co/xrg4orgU3t'>, <Tweet id=1599119458324611072 text='Дата, навечно вплетенная в летопись нашей воинской славы. Сегодня в России — День неизвестного солдата. День, который объединяет всех нас памятью о героях, погибших за свободу нашей Родины и наше общее будущее. Мероприятия прошли по всей стране: https://t.co/bnqi7NXNiH https://t.co/eadlOTx11b'>, <Tweet id=1599077152514723840 text='В Подмосковье сегодня чествовали уникальный коллектив врачей. Почетные награды и слова благодарности — торжественная церемония прошла в клиническом госпитале «Лапино». Он отмечает 10 лет с момента основания: https://t.co/ylr88tACVo'>, <Tweet id=1598959832866099201 text='Можно покорить любую вершину, когда такая сила воли и такие друзья рядом. Волшебный каток — акция благотворительного фонда «Жизнь в движении». Истории — когда встать на коньки — подвиг. Но эти дети могут все! А подхватят в сложный момент суперзвезды  https://t.co/7I4KvXgYeJ'>, <Tweet id=1598955175556706304 text='Вашингтон готовит новый пакет помощи для Украины. Еще почти 38 миллиардов долларов — именно о такой сумме Белый дом пытается договорится с Конгрессом.  https://t.co/4JW7ludTP1 https://t.co/knrxWU0MS5'>], includes={}, errors=[], meta={'next_token': '7140dibdnow9c7btw424cf219pxw80ujeirkzwi6epv78', 'result_count': 5, 'newest_id': '1599119541644054528', 'oldest_id': '1598955175556706304'}),\n ('@ru_rbc',\n  269770723): Response(data=[<Tweet id=1599127784617660417 text='Новые сезоны уже полюбившихся шоу и премьеры, на которые стоит обратить внимание\\nhttps://t.co/3GRXV5GedI'>, <Tweet id=1599120221079568384 text='В российских кинотеатрах большая премьера — в прокат вышел «Треугольник печали» шведа Рубена Эстлунда, получивший «Золотую пальмовую ветвь» на последнем Каннском фестивале. Критик Катя Загвоздкина объяснила, почему злая комедия могла быть и поострее\\nhttps://t.co/woHdTr62w3'>, <Tweet id=1599118303649304577 text='Всенародная любовь и слава обрушились на молодых актеров еще в раннем возрасте. Что стало с Буратино, Электроником, Сыроежкиным, Петровым и Васечкиным, и как они живут сейчас? Читайте в новом материале РБК Life\\nhttps://t.co/jiXWEF88KU'>, <Tweet id=1599101171897188352 text='Исследования показали, что при подборе персонала эйчары руководствуются внешностью кандидата намного сильнее, чем кажется. Цифры угнетают: соискатели и не подозревают, как часто им отказывали в приеме на работу из-за лишних килограммов\\n\\n#рбк_pro #рбкpro\\n\\nhttps://t.co/H5d1SeYotC https://t.co/Z4MT2v9Vdd'>, <Tweet id=1599089844692598787 text='Молдавия в декабре перенаправит газ из России в Приднестровье ради электроэнергии\\nhttps://t.co/faw3cJpcEy'>], includes={}, errors=[], meta={'next_token': '7140dibdnow9c7btw424ch42fs97j9v1lgn84qhrun60n', 'result_count': 5, 'newest_id': '1599127784617660417', 'oldest_id': '1599089844692598787'}),\n ('@dmitry_gordon',\n  1334400780): Response(data=[<Tweet id=1599152873505312769 text='СБУ назвала 10 человек из УПЦ МП, которые попали в санкционный список СНБО https://t.co/euwy0RlMlb'>, <Tweet id=1599131775501889536 text='Есть стойкое ощущение, что Крым будет возвращен под контроль Украины гораздо раньше, чем мы ожидали в 2021 году – постпред президента https://t.co/fNr1phk7lQ'>, <Tweet id=1599121697453416449 text='Зеленский о пределе цен на российскую нефть: Мир никак не может решиться на подлинное энергетическое разоружение РФ. Это слабая позиция https://t.co/gRWQfnvj3r'>, <Tweet id=1599110714882686977 text='Украинская авиация нанесла 14 ударов по оккупантам, в Донецкой области сбит вражеский самолет – Генштаб ВСУ https://t.co/UwIkjKU2HH'>, <Tweet id=1599099258611044353 text='Ставка верховного главнокомандующего обсудила ситуацию на фронте, восстановление энергетики и духовную независимость Украины https://t.co/keoj0gUanf'>], includes={}, errors=[], meta={'next_token': '7140dibdnow9c7btw424ch42havfw6ahsgwgf409waa0j', 'result_count': 5, 'newest_id': '1599152873505312769', 'oldest_id': '1599099258611044353'}),\n ('@SvobodaRadio',\n  47562921): Response(data=[<Tweet id=1599138314078294016 text='Союзникам по НАТО необходимо подумать о том, какие гарантии безопасности они могут дать России, когда та согласится вернуться за стол переговоров с Украиной. Об этом в интервью телеканалу TF1 сказал президент Франции Эммануэль Макрон. https://t.co/cCShFNT5Ec'>, <Tweet id=1599123380313038848 text='Журналист и блогер из Республики Алтай Амыр Айташев покинул Россию. Свой отъезд он объясняет опасением, что против него намеревались возбудить уголовное дело. \\nРанее Айташева дважды штрафовали по статье о дискредитации армии. https://t.co/bNAQGLobMg'>, <Tweet id=1599115025758621696 text='Заместитель госсекретаря США Виктория Нуланд выразила убеждение, что президент России Владимир Путин решил не прибегать в войне против Украины к использованию ядерного оружия из-за жёстких предупреждений со стороны других государств. https://t.co/l3qMNhzNaW'>, <Tweet id=1599097670366162944 text='Сергей Шойгу в субботу посетил Минск. О его визите в Беларусь заранее не сообщалось. Лукашенко на встрече с Шойгу заявил, что российские и белорусские военные проходят подготовку \"как единая группировка, единая армия\". https://t.co/nUzyP2AlLx'>, <Tweet id=1599084715960832001 text='Зачем Кудрин ушел в Яндекс? Отвечает экономист Сергей Хестанов  #гранивремени https://t.co/ilfC73cugY https://t.co/DVcur18534'>], includes={}, errors=[], meta={'result_count': 5, 'newest_id': '1599138314078294016', 'oldest_id': '1599084715960832001', 'next_token': '7140dibdnow9c7btw424ch42fr6rt4jp3vs8webjpxv01'})}"
     },
     "execution_count": 66,
     "metadata": {},
     "output_type": "execute_result"
    }
   ],
   "source": [
    "cluster_tweets"
   ],
   "metadata": {
    "collapsed": false
   }
  },
  {
   "cell_type": "code",
   "execution_count": 67,
   "outputs": [],
   "source": [
    "TWEETS_DIR = 'tweets/'\n",
    "\n",
    "def tweets_to_df(raw_tweets_dict):\n",
    "    tweets_df = pd.DataFrame(\n",
    "        {\n",
    "            'Cluster Username' : pd.Series(dtype='str'),\n",
    "            'Cluster ID' : pd.Series(dtype='int'),\n",
    "            'Tweet Text' : pd.Series(dtype='str')\n",
    "        }\n",
    "    )\n",
    "    for username, tweets in raw_tweets_dict.items():\n",
    "            for tweet in tweets.data:\n",
    "                new_df_row = {\n",
    "                    'Cluster Username' : username[0],\n",
    "                    'Cluster ID' : username[1],\n",
    "                    'Tweet Text' : str(tweet)\n",
    "                }\n",
    "                tweets_df = tweets_df.append(new_df_row, ignore_index=True)\n",
    "    return tweets_df\n",
    "\n",
    "def tweets_df_to_csv(tweets_df):\n",
    "    tweets_df.to_csv(TWEETS_DIR + 'tweets.csv', index=False)\n",
    "    return"
   ],
   "metadata": {
    "collapsed": false
   }
  },
  {
   "cell_type": "code",
   "execution_count": 68,
   "outputs": [],
   "source": [
    "tweets_df = tweets_to_df(cluster_tweets)\n",
    "tweets_df_to_csv(tweets_df)"
   ],
   "metadata": {
    "collapsed": false
   }
  },
  {
   "cell_type": "markdown",
   "source": [
    "<h2>Processing Collected Tweets Before Visualizing them</h2>"
   ],
   "metadata": {
    "collapsed": false
   }
  },
  {
   "cell_type": "code",
   "execution_count": 69,
   "outputs": [
    {
     "name": "stdout",
     "output_type": "stream",
     "text": [
      "Use this function to clean the tweet's body\n"
     ]
    }
   ],
   "source": [
    "print(\"Use this function to clean the tweet's body\")\n",
    "\n",
    "def clean_tweet(tweet_body):\n",
    "    # remove @ mentions from the tweet\n",
    "    # text = re.sub(r'@[A-Za-z0-9]+', '', tweet_body)\n",
    "    # remove the hashtags from tweets\n",
    "    # text = re.sub(r'#', '', text)\n",
    "    # remove retweet\n",
    "    text = re.sub(r'RT[\\s]+', '', tweet_body)\n",
    "    # remove hyperlinks\n",
    "    text = re.sub(r'https?:\\/\\/\\S+', '', text)\n",
    "    return text"
   ],
   "metadata": {
    "collapsed": false
   }
  },
  {
   "cell_type": "code",
   "execution_count": 70,
   "outputs": [],
   "source": [
    "import string\n",
    "\n",
    "def remove_ua_stopwords(tweet_body):\n",
    "    stopwords_ua = pd.read_csv(\"stopwords_ua.txt\", header=None, names=['stopwords'])\n",
    "    stop_words_ua = list(stopwords_ua.stopwords)\n",
    "    text = \"\".join([word for word in tweet_body if word not in string.punctuation])\n",
    "    text = text.lower()\n",
    "    tokens = re.split('\\W+', text)\n",
    "    text = [word for word in tokens if word not in stop_words_ua]\n",
    "    return text"
   ],
   "metadata": {
    "collapsed": false
   }
  },
  {
   "cell_type": "code",
   "execution_count": 71,
   "outputs": [
    {
     "name": "stdout",
     "output_type": "stream",
     "text": [
      "Supported langauges are: \n",
      "['arabic', 'azerbaijani', 'basque', 'bengali', 'catalan', 'chinese', 'danish', 'dutch', 'english', 'finnish', 'french', 'german', 'greek', 'hebrew', 'hinglish', 'hungarian', 'indonesian', 'italian', 'kazakh', 'nepali', 'norwegian', 'portuguese', 'romanian', 'russian', 'slovene', 'spanish', 'swedish', 'tajik', 'turkish']\n"
     ]
    }
   ],
   "source": [
    "# this fucntion doesn't support Ukrainian\n",
    "\n",
    "from nltk.corpus import stopwords\n",
    "\n",
    "print(\"Supported langauges are: \")\n",
    "print(stopwords.fileids())\n",
    "\n",
    "def remove_stopwords(tweet_body, lang='english'):\n",
    "    stop_words = set(stopwords.words(lang))\n",
    "    word_tokens = nltk.word_tokenize(tweet_body)\n",
    "    filtered_sentence = [w for w in word_tokens if not w.lower() in stop_words]\n",
    "    filtered_sentence =' '.join(filtered_sentence)\n",
    "    return filtered_sentence"
   ],
   "metadata": {
    "collapsed": false
   }
  },
  {
   "cell_type": "code",
   "execution_count": 7,
   "outputs": [
    {
     "ename": "NameError",
     "evalue": "name 'remove_ua_stopwords' is not defined",
     "output_type": "error",
     "traceback": [
      "\u001B[0;31m---------------------------------------------------------------------------\u001B[0m",
      "\u001B[0;31mNameError\u001B[0m                                 Traceback (most recent call last)",
      "\u001B[0;32m/var/folders/4l/kfc4gh5d1jn6zkrmv51vvbyw0000gn/T/ipykernel_76044/2999071691.py\u001B[0m in \u001B[0;36m<module>\u001B[0;34m\u001B[0m\n\u001B[1;32m      1\u001B[0m \u001B[0mtxt\u001B[0m \u001B[0;34m=\u001B[0m \u001B[0;34m\"Засвідчивши свою відпускну в петербурзькій Палаті цивільного суду, Шевченко став учнем Академії мистецтв, де його наставником став К. Брюллов.[49] За словами Шевченка: «настала найсвітліша доба його життя, незабутні, золоті дні» навчання в Академії мистецтв, яким він присвятив у 1856 році автобіографічну повість «Художник».\"\u001B[0m\u001B[0;34m\u001B[0m\u001B[0;34m\u001B[0m\u001B[0m\n\u001B[1;32m      2\u001B[0m \u001B[0;34m\u001B[0m\u001B[0m\n\u001B[0;32m----> 3\u001B[0;31m \u001B[0mtxt\u001B[0m \u001B[0;34m=\u001B[0m \u001B[0mremove_ua_stopwords\u001B[0m\u001B[0;34m(\u001B[0m\u001B[0mtxt\u001B[0m\u001B[0;34m)\u001B[0m\u001B[0;34m\u001B[0m\u001B[0;34m\u001B[0m\u001B[0m\n\u001B[0m\u001B[1;32m      4\u001B[0m \u001B[0;34m\u001B[0m\u001B[0m\n\u001B[1;32m      5\u001B[0m \u001B[0mprint\u001B[0m\u001B[0;34m(\u001B[0m\u001B[0mtxt\u001B[0m\u001B[0;34m)\u001B[0m\u001B[0;34m\u001B[0m\u001B[0;34m\u001B[0m\u001B[0m\n",
      "\u001B[0;31mNameError\u001B[0m: name 'remove_ua_stopwords' is not defined"
     ]
    }
   ],
   "source": [
    "txt = \"Засвідчивши свою відпускну в петербурзькій Палаті цивільного суду, Шевченко став учнем Академії мистецтв, де його наставником став К. Брюллов.[49] За словами Шевченка: «настала найсвітліша доба його життя, незабутні, золоті дні» навчання в Академії мистецтв, яким він присвятив у 1856 році автобіографічну повість «Художник».\"\n",
    "\n",
    "txt = remove_ua_stopwords(txt)\n",
    "\n",
    "print(txt)"
   ],
   "metadata": {
    "collapsed": false
   }
  },
  {
   "cell_type": "code",
   "execution_count": 73,
   "outputs": [
    {
     "name": "stdout",
     "output_type": "stream",
     "text": [
      "Окончательно фамилия « Достоевский » закрепилась внуками Данилы Ивановича , потомки которых временем становятся типичной служилой шляхтой [ 13 ] [ 14 ] . Пинская ветвь Достоевских протяжении двух веков упоминалась различных документах , временем интегрировалась польско-литовским государством , утратив дворянство [ 15 ] [ 16 ] . второй половине XVII века род перебирался Украину . это время резко сократилось количество упоминаний фамилии исторических документах [ 16 ] .\n"
     ]
    }
   ],
   "source": [
    "txt = \"Окончательно фамилия «Достоевский» закрепилась за внуками Данилы Ивановича, потомки которых со временем становятся типичной служилой шляхтой[13][14]. Пинская ветвь Достоевских на протяжении почти двух веков упоминалась в различных документах, но со временем интегрировалась польско-литовским государством, утратив дворянство[15][16]. Во второй половине XVII века род перебирался на Украину. В это же время резко сократилось количество упоминаний фамилии в исторических документах[16].\"\n",
    "\n",
    "txt = remove_stopwords(txt, lang='russian')\n",
    "\n",
    "print(txt)"
   ],
   "metadata": {
    "collapsed": false
   }
  },
  {
   "cell_type": "code",
   "execution_count": 74,
   "outputs": [],
   "source": [
    "# to be used for word cloud creation\n",
    "def get_cleaned_tokens(tweets_df, lang='english'):\n",
    "    tweet_tokens_dict = {}\n",
    "    for _, row in tweets_df.iterrows():\n",
    "        tweet_text = row['Tweet Text']\n",
    "        tweet_text = clean_tweet(tweet_text)\n",
    "        # remove the stopwords\n",
    "        if lang == 'ukrainian':\n",
    "            tweet_text = remove_ua_stopwords(tweet_text)\n",
    "        else:\n",
    "            tweet_text = remove_stopwords(tweet_text, lang=lang)\n",
    "        tokenized_tweet = nltk.word_tokenize(tweet_text)\n",
    "        if row['Cluster Username'] in tweet_tokens_dict.keys():\n",
    "            tweet_tokens_dict[row['Cluster Username']].extend(tokenized_tweet)\n",
    "        else:\n",
    "            tweet_tokens_dict[row['Cluster Username']] = tokenized_tweet\n",
    "\n",
    "    return tweet_tokens_dict"
   ],
   "metadata": {
    "collapsed": false
   }
  },
  {
   "cell_type": "markdown",
   "source": [
    "<h2>Visualizing Tweet Content using Word Cloud</h2>"
   ],
   "metadata": {
    "collapsed": false
   }
  },
  {
   "cell_type": "code",
   "execution_count": 75,
   "outputs": [],
   "source": [
    "tweets_df_tokens = get_cleaned_tokens(tweets_df, lang='russian')"
   ],
   "metadata": {
    "collapsed": false
   }
  },
  {
   "cell_type": "code",
   "execution_count": 93,
   "outputs": [],
   "source": [
    "# NOTE: wordcloud per cluster, not per group\n",
    "def create_wordcloud(tweets_df_tokens, cluster_name):\n",
    "    tweet_word_cloud = WordCloud(random_state=21,\n",
    "                           max_font_size=119).generate(' '.join(tweets_df_tokens[cluster_name]))\n",
    "    plt.figure(figsize=(20,10))\n",
    "    plt.imshow(tweet_word_cloud, interpolation='bilinear')\n",
    "    plt.axis('off')\n",
    "    plt.show()\n",
    "    return"
   ],
   "metadata": {
    "collapsed": false
   }
  },
  {
   "cell_type": "code",
   "execution_count": 94,
   "outputs": [
    {
     "ename": "NameError",
     "evalue": "name 'tweets_df_tokens' is not defined",
     "output_type": "error",
     "traceback": [
      "\u001B[0;31m---------------------------------------------------------------------------\u001B[0m",
      "\u001B[0;31mNameError\u001B[0m                                 Traceback (most recent call last)",
      "\u001B[0;32m/var/folders/4l/kfc4gh5d1jn6zkrmv51vvbyw0000gn/T/ipykernel_78359/269196087.py\u001B[0m in \u001B[0;36m<module>\u001B[0;34m\u001B[0m\n\u001B[0;32m----> 1\u001B[0;31m \u001B[0mcreate_wordcloud\u001B[0m\u001B[0;34m(\u001B[0m\u001B[0mtweets_df_tokens\u001B[0m\u001B[0;34m,\u001B[0m \u001B[0;34m'@SvobodaRadio'\u001B[0m\u001B[0;34m)\u001B[0m\u001B[0;34m\u001B[0m\u001B[0;34m\u001B[0m\u001B[0m\n\u001B[0m",
      "\u001B[0;31mNameError\u001B[0m: name 'tweets_df_tokens' is not defined"
     ]
    }
   ],
   "source": [
    "create_wordcloud(tweets_df_tokens, '@SvobodaRadio')"
   ],
   "metadata": {
    "collapsed": false
   }
  },
  {
   "cell_type": "markdown",
   "source": [
    "<h2>Performing Entity Recognition and Sentiment Analysis for different\n",
    "groups of tweets</h2>"
   ],
   "metadata": {
    "collapsed": false
   }
  },
  {
   "cell_type": "code",
   "execution_count": 78,
   "outputs": [
    {
     "name": "stdout",
     "output_type": "stream",
     "text": [
      "Loading NLP libraries for English, Ukrainian and Russian languages\n"
     ]
    }
   ],
   "source": [
    "print(\"Loading NLP libraries for English, Ukrainian and Russian languages\")"
   ],
   "metadata": {
    "collapsed": false
   }
  },
  {
   "cell_type": "code",
   "execution_count": 79,
   "outputs": [
    {
     "name": "stdout",
     "output_type": "stream",
     "text": [
      "Collecting en-core-web-sm==3.4.1\r\n",
      "  Downloading https://github.com/explosion/spacy-models/releases/download/en_core_web_sm-3.4.1/en_core_web_sm-3.4.1-py3-none-any.whl (12.8 MB)\r\n",
      "     |████████████████████████████████| 12.8 MB 4.3 MB/s            \r\n",
      "\u001B[?25hRequirement already satisfied: spacy<3.5.0,>=3.4.0 in ./venv/lib/python3.7/site-packages (from en-core-web-sm==3.4.1) (3.4.3)\r\n",
      "Requirement already satisfied: pathy>=0.3.5 in ./venv/lib/python3.7/site-packages (from spacy<3.5.0,>=3.4.0->en-core-web-sm==3.4.1) (0.10.0)\r\n",
      "Requirement already satisfied: spacy-loggers<2.0.0,>=1.0.0 in ./venv/lib/python3.7/site-packages (from spacy<3.5.0,>=3.4.0->en-core-web-sm==3.4.1) (1.0.3)\r\n",
      "Requirement already satisfied: numpy>=1.15.0 in ./venv/lib/python3.7/site-packages (from spacy<3.5.0,>=3.4.0->en-core-web-sm==3.4.1) (1.21.6)\r\n",
      "Requirement already satisfied: preshed<3.1.0,>=3.0.2 in ./venv/lib/python3.7/site-packages (from spacy<3.5.0,>=3.4.0->en-core-web-sm==3.4.1) (3.0.8)\r\n",
      "Requirement already satisfied: setuptools in ./venv/lib/python3.7/site-packages (from spacy<3.5.0,>=3.4.0->en-core-web-sm==3.4.1) (60.2.0)\r\n",
      "Requirement already satisfied: typer<0.8.0,>=0.3.0 in ./venv/lib/python3.7/site-packages (from spacy<3.5.0,>=3.4.0->en-core-web-sm==3.4.1) (0.7.0)\r\n",
      "Requirement already satisfied: wasabi<1.1.0,>=0.9.1 in ./venv/lib/python3.7/site-packages (from spacy<3.5.0,>=3.4.0->en-core-web-sm==3.4.1) (0.10.1)\r\n",
      "Requirement already satisfied: catalogue<2.1.0,>=2.0.6 in ./venv/lib/python3.7/site-packages (from spacy<3.5.0,>=3.4.0->en-core-web-sm==3.4.1) (2.0.8)\r\n",
      "Requirement already satisfied: requests<3.0.0,>=2.13.0 in ./venv/lib/python3.7/site-packages (from spacy<3.5.0,>=3.4.0->en-core-web-sm==3.4.1) (2.28.1)\r\n",
      "Requirement already satisfied: murmurhash<1.1.0,>=0.28.0 in ./venv/lib/python3.7/site-packages (from spacy<3.5.0,>=3.4.0->en-core-web-sm==3.4.1) (1.0.9)\r\n",
      "Requirement already satisfied: spacy-legacy<3.1.0,>=3.0.10 in ./venv/lib/python3.7/site-packages (from spacy<3.5.0,>=3.4.0->en-core-web-sm==3.4.1) (3.0.10)\r\n",
      "Requirement already satisfied: tqdm<5.0.0,>=4.38.0 in ./venv/lib/python3.7/site-packages (from spacy<3.5.0,>=3.4.0->en-core-web-sm==3.4.1) (4.64.1)\r\n",
      "Requirement already satisfied: typing-extensions<4.2.0,>=3.7.4 in ./venv/lib/python3.7/site-packages (from spacy<3.5.0,>=3.4.0->en-core-web-sm==3.4.1) (4.1.1)\r\n",
      "Requirement already satisfied: cymem<2.1.0,>=2.0.2 in ./venv/lib/python3.7/site-packages (from spacy<3.5.0,>=3.4.0->en-core-web-sm==3.4.1) (2.0.7)\r\n",
      "Requirement already satisfied: langcodes<4.0.0,>=3.2.0 in ./venv/lib/python3.7/site-packages (from spacy<3.5.0,>=3.4.0->en-core-web-sm==3.4.1) (3.3.0)\r\n",
      "Requirement already satisfied: srsly<3.0.0,>=2.4.3 in ./venv/lib/python3.7/site-packages (from spacy<3.5.0,>=3.4.0->en-core-web-sm==3.4.1) (2.4.5)\r\n",
      "Requirement already satisfied: pydantic!=1.8,!=1.8.1,<1.11.0,>=1.7.4 in ./venv/lib/python3.7/site-packages (from spacy<3.5.0,>=3.4.0->en-core-web-sm==3.4.1) (1.10.2)\r\n",
      "Requirement already satisfied: thinc<8.2.0,>=8.1.0 in ./venv/lib/python3.7/site-packages (from spacy<3.5.0,>=3.4.0->en-core-web-sm==3.4.1) (8.1.5)\r\n",
      "Requirement already satisfied: jinja2 in ./venv/lib/python3.7/site-packages (from spacy<3.5.0,>=3.4.0->en-core-web-sm==3.4.1) (3.1.2)\r\n",
      "Requirement already satisfied: packaging>=20.0 in ./venv/lib/python3.7/site-packages (from spacy<3.5.0,>=3.4.0->en-core-web-sm==3.4.1) (21.3)\r\n",
      "Requirement already satisfied: zipp>=0.5 in ./venv/lib/python3.7/site-packages (from catalogue<2.1.0,>=2.0.6->spacy<3.5.0,>=3.4.0->en-core-web-sm==3.4.1) (3.11.0)\r\n",
      "Requirement already satisfied: pyparsing!=3.0.5,>=2.0.2 in ./venv/lib/python3.7/site-packages (from packaging>=20.0->spacy<3.5.0,>=3.4.0->en-core-web-sm==3.4.1) (3.0.9)\r\n",
      "Requirement already satisfied: smart-open<6.0.0,>=5.2.1 in ./venv/lib/python3.7/site-packages (from pathy>=0.3.5->spacy<3.5.0,>=3.4.0->en-core-web-sm==3.4.1) (5.2.1)\r\n",
      "Requirement already satisfied: idna<4,>=2.5 in ./venv/lib/python3.7/site-packages (from requests<3.0.0,>=2.13.0->spacy<3.5.0,>=3.4.0->en-core-web-sm==3.4.1) (3.4)\r\n",
      "Requirement already satisfied: certifi>=2017.4.17 in ./venv/lib/python3.7/site-packages (from requests<3.0.0,>=2.13.0->spacy<3.5.0,>=3.4.0->en-core-web-sm==3.4.1) (2022.9.24)\r\n",
      "Requirement already satisfied: urllib3<1.27,>=1.21.1 in ./venv/lib/python3.7/site-packages (from requests<3.0.0,>=2.13.0->spacy<3.5.0,>=3.4.0->en-core-web-sm==3.4.1) (1.26.13)\r\n",
      "Requirement already satisfied: charset-normalizer<3,>=2 in ./venv/lib/python3.7/site-packages (from requests<3.0.0,>=2.13.0->spacy<3.5.0,>=3.4.0->en-core-web-sm==3.4.1) (2.1.1)\r\n",
      "Requirement already satisfied: confection<1.0.0,>=0.0.1 in ./venv/lib/python3.7/site-packages (from thinc<8.2.0,>=8.1.0->spacy<3.5.0,>=3.4.0->en-core-web-sm==3.4.1) (0.0.3)\r\n",
      "Requirement already satisfied: blis<0.8.0,>=0.7.8 in ./venv/lib/python3.7/site-packages (from thinc<8.2.0,>=8.1.0->spacy<3.5.0,>=3.4.0->en-core-web-sm==3.4.1) (0.7.9)\r\n",
      "Requirement already satisfied: click<9.0.0,>=7.1.1 in ./venv/lib/python3.7/site-packages (from typer<0.8.0,>=0.3.0->spacy<3.5.0,>=3.4.0->en-core-web-sm==3.4.1) (8.1.3)\r\n",
      "Requirement already satisfied: MarkupSafe>=2.0 in ./venv/lib/python3.7/site-packages (from jinja2->spacy<3.5.0,>=3.4.0->en-core-web-sm==3.4.1) (2.1.1)\r\n",
      "Requirement already satisfied: importlib-metadata in ./venv/lib/python3.7/site-packages (from click<9.0.0,>=7.1.1->typer<0.8.0,>=0.3.0->spacy<3.5.0,>=3.4.0->en-core-web-sm==3.4.1) (5.1.0)\r\n",
      "\u001B[33mWARNING: You are using pip version 21.3.1; however, version 22.3.1 is available.\r\n",
      "You should consider upgrading via the '/Users/dennisfenchenko/NYU-Fall-2022/info_vis/confirmation-bias-vis/venv/bin/python3 -m pip install --upgrade pip' command.\u001B[0m\r\n",
      "\u001B[38;5;2m✔ Download and installation successful\u001B[0m\r\n",
      "You can now load the package via spacy.load('en_core_web_sm')\r\n"
     ]
    }
   ],
   "source": [
    "!python3 -m spacy download en_core_web_sm\n",
    "\n",
    "nlp_eng = spacy.load('en_core_web_sm')"
   ],
   "metadata": {
    "collapsed": false
   }
  },
  {
   "cell_type": "code",
   "execution_count": 80,
   "outputs": [
    {
     "name": "stdout",
     "output_type": "stream",
     "text": [
      "Collecting uk-core-news-sm==3.4.0\r\n",
      "  Downloading https://github.com/explosion/spacy-models/releases/download/uk_core_news_sm-3.4.0/uk_core_news_sm-3.4.0-py3-none-any.whl (14.9 MB)\r\n",
      "     |████████████████████████████████| 14.9 MB 18.2 MB/s            \r\n",
      "\u001B[?25hRequirement already satisfied: spacy<3.5.0,>=3.4.0 in ./venv/lib/python3.7/site-packages (from uk-core-news-sm==3.4.0) (3.4.3)\r\n",
      "Requirement already satisfied: pymorphy2>=0.9 in ./venv/lib/python3.7/site-packages (from uk-core-news-sm==3.4.0) (0.9.1)\r\n",
      "Requirement already satisfied: pymorphy2-dicts-uk in ./venv/lib/python3.7/site-packages (from uk-core-news-sm==3.4.0) (2.4.1.1.1460299261)\r\n",
      "Requirement already satisfied: dawg-python>=0.7.1 in ./venv/lib/python3.7/site-packages (from pymorphy2>=0.9->uk-core-news-sm==3.4.0) (0.7.2)\r\n",
      "Requirement already satisfied: docopt>=0.6 in ./venv/lib/python3.7/site-packages (from pymorphy2>=0.9->uk-core-news-sm==3.4.0) (0.6.2)\r\n",
      "Requirement already satisfied: pymorphy2-dicts-ru<3.0,>=2.4 in ./venv/lib/python3.7/site-packages (from pymorphy2>=0.9->uk-core-news-sm==3.4.0) (2.4.417127.4579844)\r\n",
      "Requirement already satisfied: tqdm<5.0.0,>=4.38.0 in ./venv/lib/python3.7/site-packages (from spacy<3.5.0,>=3.4.0->uk-core-news-sm==3.4.0) (4.64.1)\r\n",
      "Requirement already satisfied: srsly<3.0.0,>=2.4.3 in ./venv/lib/python3.7/site-packages (from spacy<3.5.0,>=3.4.0->uk-core-news-sm==3.4.0) (2.4.5)\r\n",
      "Requirement already satisfied: murmurhash<1.1.0,>=0.28.0 in ./venv/lib/python3.7/site-packages (from spacy<3.5.0,>=3.4.0->uk-core-news-sm==3.4.0) (1.0.9)\r\n",
      "Requirement already satisfied: catalogue<2.1.0,>=2.0.6 in ./venv/lib/python3.7/site-packages (from spacy<3.5.0,>=3.4.0->uk-core-news-sm==3.4.0) (2.0.8)\r\n",
      "Requirement already satisfied: spacy-loggers<2.0.0,>=1.0.0 in ./venv/lib/python3.7/site-packages (from spacy<3.5.0,>=3.4.0->uk-core-news-sm==3.4.0) (1.0.3)\r\n",
      "Requirement already satisfied: typer<0.8.0,>=0.3.0 in ./venv/lib/python3.7/site-packages (from spacy<3.5.0,>=3.4.0->uk-core-news-sm==3.4.0) (0.7.0)\r\n",
      "Requirement already satisfied: spacy-legacy<3.1.0,>=3.0.10 in ./venv/lib/python3.7/site-packages (from spacy<3.5.0,>=3.4.0->uk-core-news-sm==3.4.0) (3.0.10)\r\n",
      "Requirement already satisfied: preshed<3.1.0,>=3.0.2 in ./venv/lib/python3.7/site-packages (from spacy<3.5.0,>=3.4.0->uk-core-news-sm==3.4.0) (3.0.8)\r\n",
      "Requirement already satisfied: thinc<8.2.0,>=8.1.0 in ./venv/lib/python3.7/site-packages (from spacy<3.5.0,>=3.4.0->uk-core-news-sm==3.4.0) (8.1.5)\r\n",
      "Requirement already satisfied: pydantic!=1.8,!=1.8.1,<1.11.0,>=1.7.4 in ./venv/lib/python3.7/site-packages (from spacy<3.5.0,>=3.4.0->uk-core-news-sm==3.4.0) (1.10.2)\r\n",
      "Requirement already satisfied: pathy>=0.3.5 in ./venv/lib/python3.7/site-packages (from spacy<3.5.0,>=3.4.0->uk-core-news-sm==3.4.0) (0.10.0)\r\n",
      "Requirement already satisfied: jinja2 in ./venv/lib/python3.7/site-packages (from spacy<3.5.0,>=3.4.0->uk-core-news-sm==3.4.0) (3.1.2)\r\n",
      "Requirement already satisfied: cymem<2.1.0,>=2.0.2 in ./venv/lib/python3.7/site-packages (from spacy<3.5.0,>=3.4.0->uk-core-news-sm==3.4.0) (2.0.7)\r\n",
      "Requirement already satisfied: wasabi<1.1.0,>=0.9.1 in ./venv/lib/python3.7/site-packages (from spacy<3.5.0,>=3.4.0->uk-core-news-sm==3.4.0) (0.10.1)\r\n",
      "Requirement already satisfied: typing-extensions<4.2.0,>=3.7.4 in ./venv/lib/python3.7/site-packages (from spacy<3.5.0,>=3.4.0->uk-core-news-sm==3.4.0) (4.1.1)\r\n",
      "Requirement already satisfied: packaging>=20.0 in ./venv/lib/python3.7/site-packages (from spacy<3.5.0,>=3.4.0->uk-core-news-sm==3.4.0) (21.3)\r\n",
      "Requirement already satisfied: setuptools in ./venv/lib/python3.7/site-packages (from spacy<3.5.0,>=3.4.0->uk-core-news-sm==3.4.0) (60.2.0)\r\n",
      "Requirement already satisfied: requests<3.0.0,>=2.13.0 in ./venv/lib/python3.7/site-packages (from spacy<3.5.0,>=3.4.0->uk-core-news-sm==3.4.0) (2.28.1)\r\n",
      "Requirement already satisfied: langcodes<4.0.0,>=3.2.0 in ./venv/lib/python3.7/site-packages (from spacy<3.5.0,>=3.4.0->uk-core-news-sm==3.4.0) (3.3.0)\r\n",
      "Requirement already satisfied: numpy>=1.15.0 in ./venv/lib/python3.7/site-packages (from spacy<3.5.0,>=3.4.0->uk-core-news-sm==3.4.0) (1.21.6)\r\n",
      "Requirement already satisfied: zipp>=0.5 in ./venv/lib/python3.7/site-packages (from catalogue<2.1.0,>=2.0.6->spacy<3.5.0,>=3.4.0->uk-core-news-sm==3.4.0) (3.11.0)\r\n",
      "Requirement already satisfied: pyparsing!=3.0.5,>=2.0.2 in ./venv/lib/python3.7/site-packages (from packaging>=20.0->spacy<3.5.0,>=3.4.0->uk-core-news-sm==3.4.0) (3.0.9)\r\n",
      "Requirement already satisfied: smart-open<6.0.0,>=5.2.1 in ./venv/lib/python3.7/site-packages (from pathy>=0.3.5->spacy<3.5.0,>=3.4.0->uk-core-news-sm==3.4.0) (5.2.1)\r\n",
      "Requirement already satisfied: charset-normalizer<3,>=2 in ./venv/lib/python3.7/site-packages (from requests<3.0.0,>=2.13.0->spacy<3.5.0,>=3.4.0->uk-core-news-sm==3.4.0) (2.1.1)\r\n",
      "Requirement already satisfied: idna<4,>=2.5 in ./venv/lib/python3.7/site-packages (from requests<3.0.0,>=2.13.0->spacy<3.5.0,>=3.4.0->uk-core-news-sm==3.4.0) (3.4)\r\n",
      "Requirement already satisfied: urllib3<1.27,>=1.21.1 in ./venv/lib/python3.7/site-packages (from requests<3.0.0,>=2.13.0->spacy<3.5.0,>=3.4.0->uk-core-news-sm==3.4.0) (1.26.13)\r\n",
      "Requirement already satisfied: certifi>=2017.4.17 in ./venv/lib/python3.7/site-packages (from requests<3.0.0,>=2.13.0->spacy<3.5.0,>=3.4.0->uk-core-news-sm==3.4.0) (2022.9.24)\r\n",
      "Requirement already satisfied: confection<1.0.0,>=0.0.1 in ./venv/lib/python3.7/site-packages (from thinc<8.2.0,>=8.1.0->spacy<3.5.0,>=3.4.0->uk-core-news-sm==3.4.0) (0.0.3)\r\n",
      "Requirement already satisfied: blis<0.8.0,>=0.7.8 in ./venv/lib/python3.7/site-packages (from thinc<8.2.0,>=8.1.0->spacy<3.5.0,>=3.4.0->uk-core-news-sm==3.4.0) (0.7.9)\r\n",
      "Requirement already satisfied: click<9.0.0,>=7.1.1 in ./venv/lib/python3.7/site-packages (from typer<0.8.0,>=0.3.0->spacy<3.5.0,>=3.4.0->uk-core-news-sm==3.4.0) (8.1.3)\r\n",
      "Requirement already satisfied: MarkupSafe>=2.0 in ./venv/lib/python3.7/site-packages (from jinja2->spacy<3.5.0,>=3.4.0->uk-core-news-sm==3.4.0) (2.1.1)\r\n",
      "Requirement already satisfied: importlib-metadata in ./venv/lib/python3.7/site-packages (from click<9.0.0,>=7.1.1->typer<0.8.0,>=0.3.0->spacy<3.5.0,>=3.4.0->uk-core-news-sm==3.4.0) (5.1.0)\r\n",
      "\u001B[33mWARNING: You are using pip version 21.3.1; however, version 22.3.1 is available.\r\n",
      "You should consider upgrading via the '/Users/dennisfenchenko/NYU-Fall-2022/info_vis/confirmation-bias-vis/venv/bin/python3 -m pip install --upgrade pip' command.\u001B[0m\r\n",
      "\u001B[38;5;2m✔ Download and installation successful\u001B[0m\r\n",
      "You can now load the package via spacy.load('uk_core_news_sm')\r\n"
     ]
    }
   ],
   "source": [
    "!python3 -m spacy download uk_core_news_sm\n",
    "\n",
    "nlp_ukr = spacy.load('uk_core_news_sm')"
   ],
   "metadata": {
    "collapsed": false
   }
  },
  {
   "cell_type": "code",
   "execution_count": 81,
   "outputs": [
    {
     "name": "stdout",
     "output_type": "stream",
     "text": [
      "Collecting ru-core-news-sm==3.4.0\r\n",
      "  Downloading https://github.com/explosion/spacy-models/releases/download/ru_core_news_sm-3.4.0/ru_core_news_sm-3.4.0-py3-none-any.whl (15.3 MB)\r\n",
      "     |████████████████████████████████| 15.3 MB 1.0 MB/s            \r\n",
      "\u001B[?25hRequirement already satisfied: pymorphy2>=0.9 in ./venv/lib/python3.7/site-packages (from ru-core-news-sm==3.4.0) (0.9.1)\r\n",
      "Requirement already satisfied: spacy<3.5.0,>=3.4.0 in ./venv/lib/python3.7/site-packages (from ru-core-news-sm==3.4.0) (3.4.3)\r\n",
      "Requirement already satisfied: pymorphy2-dicts-ru<3.0,>=2.4 in ./venv/lib/python3.7/site-packages (from pymorphy2>=0.9->ru-core-news-sm==3.4.0) (2.4.417127.4579844)\r\n",
      "Requirement already satisfied: dawg-python>=0.7.1 in ./venv/lib/python3.7/site-packages (from pymorphy2>=0.9->ru-core-news-sm==3.4.0) (0.7.2)\r\n",
      "Requirement already satisfied: docopt>=0.6 in ./venv/lib/python3.7/site-packages (from pymorphy2>=0.9->ru-core-news-sm==3.4.0) (0.6.2)\r\n",
      "Requirement already satisfied: spacy-loggers<2.0.0,>=1.0.0 in ./venv/lib/python3.7/site-packages (from spacy<3.5.0,>=3.4.0->ru-core-news-sm==3.4.0) (1.0.3)\r\n",
      "Requirement already satisfied: murmurhash<1.1.0,>=0.28.0 in ./venv/lib/python3.7/site-packages (from spacy<3.5.0,>=3.4.0->ru-core-news-sm==3.4.0) (1.0.9)\r\n",
      "Requirement already satisfied: langcodes<4.0.0,>=3.2.0 in ./venv/lib/python3.7/site-packages (from spacy<3.5.0,>=3.4.0->ru-core-news-sm==3.4.0) (3.3.0)\r\n",
      "Requirement already satisfied: preshed<3.1.0,>=3.0.2 in ./venv/lib/python3.7/site-packages (from spacy<3.5.0,>=3.4.0->ru-core-news-sm==3.4.0) (3.0.8)\r\n",
      "Requirement already satisfied: tqdm<5.0.0,>=4.38.0 in ./venv/lib/python3.7/site-packages (from spacy<3.5.0,>=3.4.0->ru-core-news-sm==3.4.0) (4.64.1)\r\n",
      "Requirement already satisfied: catalogue<2.1.0,>=2.0.6 in ./venv/lib/python3.7/site-packages (from spacy<3.5.0,>=3.4.0->ru-core-news-sm==3.4.0) (2.0.8)\r\n",
      "Requirement already satisfied: requests<3.0.0,>=2.13.0 in ./venv/lib/python3.7/site-packages (from spacy<3.5.0,>=3.4.0->ru-core-news-sm==3.4.0) (2.28.1)\r\n",
      "Requirement already satisfied: numpy>=1.15.0 in ./venv/lib/python3.7/site-packages (from spacy<3.5.0,>=3.4.0->ru-core-news-sm==3.4.0) (1.21.6)\r\n",
      "Requirement already satisfied: pathy>=0.3.5 in ./venv/lib/python3.7/site-packages (from spacy<3.5.0,>=3.4.0->ru-core-news-sm==3.4.0) (0.10.0)\r\n",
      "Requirement already satisfied: cymem<2.1.0,>=2.0.2 in ./venv/lib/python3.7/site-packages (from spacy<3.5.0,>=3.4.0->ru-core-news-sm==3.4.0) (2.0.7)\r\n",
      "Requirement already satisfied: packaging>=20.0 in ./venv/lib/python3.7/site-packages (from spacy<3.5.0,>=3.4.0->ru-core-news-sm==3.4.0) (21.3)\r\n",
      "Requirement already satisfied: jinja2 in ./venv/lib/python3.7/site-packages (from spacy<3.5.0,>=3.4.0->ru-core-news-sm==3.4.0) (3.1.2)\r\n",
      "Requirement already satisfied: srsly<3.0.0,>=2.4.3 in ./venv/lib/python3.7/site-packages (from spacy<3.5.0,>=3.4.0->ru-core-news-sm==3.4.0) (2.4.5)\r\n",
      "Requirement already satisfied: wasabi<1.1.0,>=0.9.1 in ./venv/lib/python3.7/site-packages (from spacy<3.5.0,>=3.4.0->ru-core-news-sm==3.4.0) (0.10.1)\r\n",
      "Requirement already satisfied: setuptools in ./venv/lib/python3.7/site-packages (from spacy<3.5.0,>=3.4.0->ru-core-news-sm==3.4.0) (60.2.0)\r\n",
      "Requirement already satisfied: typer<0.8.0,>=0.3.0 in ./venv/lib/python3.7/site-packages (from spacy<3.5.0,>=3.4.0->ru-core-news-sm==3.4.0) (0.7.0)\r\n",
      "Requirement already satisfied: typing-extensions<4.2.0,>=3.7.4 in ./venv/lib/python3.7/site-packages (from spacy<3.5.0,>=3.4.0->ru-core-news-sm==3.4.0) (4.1.1)\r\n",
      "Requirement already satisfied: pydantic!=1.8,!=1.8.1,<1.11.0,>=1.7.4 in ./venv/lib/python3.7/site-packages (from spacy<3.5.0,>=3.4.0->ru-core-news-sm==3.4.0) (1.10.2)\r\n",
      "Requirement already satisfied: spacy-legacy<3.1.0,>=3.0.10 in ./venv/lib/python3.7/site-packages (from spacy<3.5.0,>=3.4.0->ru-core-news-sm==3.4.0) (3.0.10)\r\n",
      "Requirement already satisfied: thinc<8.2.0,>=8.1.0 in ./venv/lib/python3.7/site-packages (from spacy<3.5.0,>=3.4.0->ru-core-news-sm==3.4.0) (8.1.5)\r\n",
      "Requirement already satisfied: zipp>=0.5 in ./venv/lib/python3.7/site-packages (from catalogue<2.1.0,>=2.0.6->spacy<3.5.0,>=3.4.0->ru-core-news-sm==3.4.0) (3.11.0)\r\n",
      "Requirement already satisfied: pyparsing!=3.0.5,>=2.0.2 in ./venv/lib/python3.7/site-packages (from packaging>=20.0->spacy<3.5.0,>=3.4.0->ru-core-news-sm==3.4.0) (3.0.9)\r\n",
      "Requirement already satisfied: smart-open<6.0.0,>=5.2.1 in ./venv/lib/python3.7/site-packages (from pathy>=0.3.5->spacy<3.5.0,>=3.4.0->ru-core-news-sm==3.4.0) (5.2.1)\r\n",
      "Requirement already satisfied: charset-normalizer<3,>=2 in ./venv/lib/python3.7/site-packages (from requests<3.0.0,>=2.13.0->spacy<3.5.0,>=3.4.0->ru-core-news-sm==3.4.0) (2.1.1)\r\n",
      "Requirement already satisfied: certifi>=2017.4.17 in ./venv/lib/python3.7/site-packages (from requests<3.0.0,>=2.13.0->spacy<3.5.0,>=3.4.0->ru-core-news-sm==3.4.0) (2022.9.24)\r\n",
      "Requirement already satisfied: urllib3<1.27,>=1.21.1 in ./venv/lib/python3.7/site-packages (from requests<3.0.0,>=2.13.0->spacy<3.5.0,>=3.4.0->ru-core-news-sm==3.4.0) (1.26.13)\r\n",
      "Requirement already satisfied: idna<4,>=2.5 in ./venv/lib/python3.7/site-packages (from requests<3.0.0,>=2.13.0->spacy<3.5.0,>=3.4.0->ru-core-news-sm==3.4.0) (3.4)\r\n",
      "Requirement already satisfied: blis<0.8.0,>=0.7.8 in ./venv/lib/python3.7/site-packages (from thinc<8.2.0,>=8.1.0->spacy<3.5.0,>=3.4.0->ru-core-news-sm==3.4.0) (0.7.9)\r\n",
      "Requirement already satisfied: confection<1.0.0,>=0.0.1 in ./venv/lib/python3.7/site-packages (from thinc<8.2.0,>=8.1.0->spacy<3.5.0,>=3.4.0->ru-core-news-sm==3.4.0) (0.0.3)\r\n",
      "Requirement already satisfied: click<9.0.0,>=7.1.1 in ./venv/lib/python3.7/site-packages (from typer<0.8.0,>=0.3.0->spacy<3.5.0,>=3.4.0->ru-core-news-sm==3.4.0) (8.1.3)\r\n",
      "Requirement already satisfied: MarkupSafe>=2.0 in ./venv/lib/python3.7/site-packages (from jinja2->spacy<3.5.0,>=3.4.0->ru-core-news-sm==3.4.0) (2.1.1)\r\n",
      "Requirement already satisfied: importlib-metadata in ./venv/lib/python3.7/site-packages (from click<9.0.0,>=7.1.1->typer<0.8.0,>=0.3.0->spacy<3.5.0,>=3.4.0->ru-core-news-sm==3.4.0) (5.1.0)\r\n",
      "\u001B[33mWARNING: You are using pip version 21.3.1; however, version 22.3.1 is available.\r\n",
      "You should consider upgrading via the '/Users/dennisfenchenko/NYU-Fall-2022/info_vis/confirmation-bias-vis/venv/bin/python3 -m pip install --upgrade pip' command.\u001B[0m\r\n",
      "\u001B[38;5;2m✔ Download and installation successful\u001B[0m\r\n",
      "You can now load the package via spacy.load('ru_core_news_sm')\r\n"
     ]
    }
   ],
   "source": [
    "!python3 -m spacy download ru_core_news_sm\n",
    "\n",
    "nlp_rus = spacy.load('ru_core_news_sm')"
   ],
   "metadata": {
    "collapsed": false
   }
  },
  {
   "cell_type": "code",
   "execution_count": 87,
   "outputs": [
    {
     "name": "stdout",
     "output_type": "stream",
     "text": [
      "(Гостомеле, Бэнкси, Украина, ВСУ)\n"
     ]
    }
   ],
   "source": [
    "# Spacy has vocabulary for English, Ukrainian and Russian languages\n",
    "\n",
    "text = (\"Восемь вандалов, которые срезали со стены дома в #Гостомеле женщину \"\n",
    "        \"в противогазе авторства #Бэнкси, дали показания полиции #Украина #россия #ВСУ #война #агрессияроссии #вторжениероссии #stoprussia # #войнасукраиной #Войнапутина\")\n",
    "\n",
    "doc = nlp_rus(text)\n",
    "\n",
    "# Find named entities, phrases and concepts\n",
    "for entity in doc.ents:\n",
    "    print(entity.text)\n",
    "    print(entity.text, entity.label_)"
   ],
   "metadata": {
    "collapsed": false
   }
  },
  {
   "cell_type": "code",
   "execution_count": 83,
   "outputs": [
    {
     "name": "stdout",
     "output_type": "stream",
     "text": [
      "Performing sentiment analysis on tweets\n"
     ]
    },
    {
     "data": {
      "text/plain": "{'neg': 0.0, 'neu': 0.281, 'pos': 0.719, 'compound': 0.882}"
     },
     "execution_count": 83,
     "metadata": {},
     "output_type": "execute_result"
    }
   ],
   "source": [
    "print(\"Performing sentiment analysis on tweets\")\n",
    "\n",
    "analyzer = SentimentIntensityAnalyzer()\n",
    "\n",
    "analyzer.polarity_scores(\"Вейдер очень умный, красивый и смешной!!!\")"
   ],
   "metadata": {
    "collapsed": false
   }
  },
  {
   "cell_type": "code",
   "execution_count": 84,
   "outputs": [
    {
     "data": {
      "text/plain": "{'neg': 0.234, 'neu': 0.766, 'pos': 0.0, 'compound': -0.9042}"
     },
     "execution_count": 84,
     "metadata": {},
     "output_type": "execute_result"
    }
   ],
   "source": [
    "analyzer.polarity_scores(\"Новый ракетный удар по мирным жителям Донецка. В сети публикуют момент атаки. Украинские боевики открыли огонь по многоэтажке. Прямое попадание реактивного снаряда. Взрывной волной выбило стекла в соседних зданиях. Два человека погибли https://t.co/xUgOmV4iWN https://t.co/hN8uLeHwzu\")"
   ],
   "metadata": {
    "collapsed": false
   }
  },
  {
   "cell_type": "markdown",
   "source": [
    "<h2>Performing Entity and Sentiment Analysis</h2>"
   ],
   "metadata": {
    "collapsed": false
   }
  },
  {
   "cell_type": "code",
   "execution_count": 104,
   "outputs": [],
   "source": [
    "def augment_entity_to_df(tweets_df, lang='english'):\n",
    "\n",
    "    new_df = tweets_df.copy(deep=True)\n",
    "\n",
    "    entities_col = []\n",
    "\n",
    "    for _, row in tweets_df.iterrows():\n",
    "        entities = []\n",
    "        tweet_text = row['Tweet Text']\n",
    "        tweet_text = clean_tweet(tweet_text)\n",
    "        if lang == 'english':\n",
    "            nlp_doc = nlp_eng(tweet_text)\n",
    "        elif lang == 'russian':\n",
    "            nlp_doc = nlp_rus(tweet_text)\n",
    "        elif lang == 'ukrainian':\n",
    "            nlp_doc = nlp_ukr(text)\n",
    "        else: raise Exception('Language not supported.')\n",
    "\n",
    "        # NOTE: enteteties can be filtered based on the entity. e.g. only\n",
    "        # people\n",
    "        for entity in nlp_doc.ents:\n",
    "            entities.append(entity.text)\n",
    "\n",
    "        entities_col.append(entities)\n",
    "\n",
    "    new_df['Entities'] = entities_col\n",
    "\n",
    "    return new_df"
   ],
   "metadata": {
    "collapsed": false
   }
  },
  {
   "cell_type": "code",
   "execution_count": 105,
   "outputs": [
    {
     "name": "stdout",
     "output_type": "stream",
     "text": [
      "   Cluster Username  Cluster ID  \\\n",
      "0       @1tvru_news   160881696   \n",
      "1       @1tvru_news   160881696   \n",
      "2       @1tvru_news   160881696   \n",
      "3       @1tvru_news   160881696   \n",
      "4       @1tvru_news   160881696   \n",
      "5           @ru_rbc   269770723   \n",
      "6           @ru_rbc   269770723   \n",
      "7           @ru_rbc   269770723   \n",
      "8           @ru_rbc   269770723   \n",
      "9           @ru_rbc   269770723   \n",
      "10   @dmitry_gordon  1334400780   \n",
      "11   @dmitry_gordon  1334400780   \n",
      "12   @dmitry_gordon  1334400780   \n",
      "13   @dmitry_gordon  1334400780   \n",
      "14   @dmitry_gordon  1334400780   \n",
      "15    @SvobodaRadio    47562921   \n",
      "16    @SvobodaRadio    47562921   \n",
      "17    @SvobodaRadio    47562921   \n",
      "18    @SvobodaRadio    47562921   \n",
      "19    @SvobodaRadio    47562921   \n",
      "\n",
      "                                           Tweet Text  \\\n",
      "0   Новые примеры мужества и отваги российских вое...   \n",
      "1   Дата, навечно вплетенная в летопись нашей воин...   \n",
      "2   В Подмосковье сегодня чествовали уникальный ко...   \n",
      "3   Можно покорить любую вершину, когда такая сила...   \n",
      "4   Вашингтон готовит новый пакет помощи для Украи...   \n",
      "5   Новые сезоны уже полюбившихся шоу и премьеры, ...   \n",
      "6   В российских кинотеатрах большая премьера — в ...   \n",
      "7   Всенародная любовь и слава обрушились на молод...   \n",
      "8   Исследования показали, что при подборе персона...   \n",
      "9   Молдавия в декабре перенаправит газ из России ...   \n",
      "10  СБУ назвала 10 человек из УПЦ МП, которые попа...   \n",
      "11  Есть стойкое ощущение, что Крым будет возвраще...   \n",
      "12  Зеленский о пределе цен на российскую нефть: М...   \n",
      "13  Украинская авиация нанесла 14 ударов по оккупа...   \n",
      "14  Ставка верховного главнокомандующего обсудила ...   \n",
      "15  Союзникам по НАТО необходимо подумать о том, к...   \n",
      "16  Журналист и блогер из Республики Алтай Амыр Ай...   \n",
      "17  Заместитель госсекретаря США Виктория Нуланд в...   \n",
      "18  Сергей Шойгу в субботу посетил Минск. О его ви...   \n",
      "19  Зачем Кудрин ушел в Яндекс? Отвечает экономист...   \n",
      "\n",
      "                                             Entities  \n",
      "0                                                  []  \n",
      "1                                            [России]  \n",
      "2                               [Подмосковье, Лапино]  \n",
      "3                                  [Жизнь в движении]  \n",
      "4         [Вашингтон, Украины, Белый дом, Конгрессом]  \n",
      "5                                                  []  \n",
      "6                 [Рубена Эстлунда, Катя Загвоздкина]  \n",
      "7   [Буратино, Электроником, Сыроежкиным, Петровым...  \n",
      "8                                                  []  \n",
      "9                   [Молдавия, России, Приднестровье]  \n",
      "10                                [СБУ, УПЦ МП, СНБО]  \n",
      "11                                    [Крым, Украины]  \n",
      "12                                               [РФ]  \n",
      "13                   [Донецкой области, Генштаб, ВСУ]  \n",
      "14                                          [Украины]  \n",
      "15  [НАТО, России, Украиной, TF1, Франции, Эммануэ...  \n",
      "16  [Республики Алтай, Амыр Айташев, Россию, Айташ...  \n",
      "17  [США, Виктория Нуланд, России, Владимир Путин,...  \n",
      "18  [Сергей Шойгу, Минск, Беларусь, Лукашенко, Шойгу]  \n",
      "19                  [Кудрин, Яндекс, Сергей Хестанов]  \n"
     ]
    }
   ],
   "source": [
    "new_df = augment_entity_to_df(tweets_df, lang='russian')\n",
    "print(new_df)"
   ],
   "metadata": {
    "collapsed": false
   }
  },
  {
   "cell_type": "code",
   "execution_count": 27,
   "outputs": [],
   "source": [
    "def augment_sent_to_df(tweets_df, lang='english'):\n",
    "\n",
    "    new_df = tweets_df.copy(deep=True)\n",
    "\n",
    "    analyzer = SentimentIntensityAnalyzer()\n",
    "\n",
    "    neg_sent = []\n",
    "    pos_sent = []\n",
    "\n",
    "    for _, row in tweets_df.iterrows():\n",
    "        tweet_text = row['Tweet Text']\n",
    "        tweet_text = clean_tweet(tweet_text)\n",
    "        analyzer.polarity_scores(tweet_text)\n",
    "        neg_sent.append(analyzer.polarity_scores['neg'])\n",
    "        pos_sent.append(analyzer.polarity_scores['pos'])\n",
    "\n",
    "    new_df['Neg'] = neg_sent\n",
    "    new_df['Pos'] = pos_sent\n",
    "\n",
    "    return new_df"
   ],
   "metadata": {
    "collapsed": false
   }
  },
  {
   "cell_type": "code",
   "execution_count": 30,
   "outputs": [
    {
     "ename": "NameError",
     "evalue": "name 'new_df' is not defined",
     "output_type": "error",
     "traceback": [
      "\u001B[0;31m---------------------------------------------------------------------------\u001B[0m",
      "\u001B[0;31mNameError\u001B[0m                                 Traceback (most recent call last)",
      "\u001B[0;32m/var/folders/4l/kfc4gh5d1jn6zkrmv51vvbyw0000gn/T/ipykernel_78359/4179587223.py\u001B[0m in \u001B[0;36m<module>\u001B[0;34m\u001B[0m\n\u001B[0;32m----> 1\u001B[0;31m \u001B[0mnew_df\u001B[0m \u001B[0;34m=\u001B[0m \u001B[0maugment_sent_to_df\u001B[0m\u001B[0;34m(\u001B[0m\u001B[0mnew_df\u001B[0m\u001B[0;34m,\u001B[0m \u001B[0mlang\u001B[0m\u001B[0;34m=\u001B[0m\u001B[0;34m'russian'\u001B[0m\u001B[0;34m)\u001B[0m\u001B[0;34m\u001B[0m\u001B[0;34m\u001B[0m\u001B[0m\n\u001B[0m\u001B[1;32m      2\u001B[0m \u001B[0mprint\u001B[0m\u001B[0;34m(\u001B[0m\u001B[0mnew_df\u001B[0m\u001B[0;34m)\u001B[0m\u001B[0;34m\u001B[0m\u001B[0;34m\u001B[0m\u001B[0m\n",
      "\u001B[0;31mNameError\u001B[0m: name 'new_df' is not defined"
     ]
    }
   ],
   "source": [
    "new_df = augment_sent_to_df(new_df, lang='russian')\n",
    "print(new_df)"
   ],
   "metadata": {
    "collapsed": false
   }
  },
  {
   "cell_type": "markdown",
   "source": [
    "<h2>Creating Sentiment Visualizations in Plotly</h2>"
   ],
   "metadata": {
    "collapsed": false
   }
  },
  {
   "cell_type": "code",
   "execution_count": null,
   "outputs": [],
   "source": [],
   "metadata": {
    "collapsed": false
   }
  },
  {
   "cell_type": "code",
   "execution_count": null,
   "outputs": [],
   "source": [],
   "metadata": {
    "collapsed": false
   }
  }
 ],
 "metadata": {
  "kernelspec": {
   "display_name": "Python 3",
   "language": "python",
   "name": "python3"
  },
  "language_info": {
   "codemirror_mode": {
    "name": "ipython",
    "version": 2
   },
   "file_extension": ".py",
   "mimetype": "text/x-python",
   "name": "python",
   "nbconvert_exporter": "python",
   "pygments_lexer": "ipython2",
   "version": "2.7.6"
  }
 },
 "nbformat": 4,
 "nbformat_minor": 0
}
