{
 "cells": [
  {
   "cell_type": "code",
   "source": [
    "import os\n",
    "import sys\n",
    "\n",
    "import nltk\n",
    "import tweepy\n",
    "from dotenv import load_dotenv\n",
    "import json\n",
    "from vaderSentiment.vaderSentiment import SentimentIntensityAnalyzer\n",
    "import matplotlib.pyplot as plt\n",
    "from datetime import datetime\n",
    "import re\n",
    "import cv2\n",
    "import numpy as np\n",
    "import pandas as pd\n",
    "import pickle\n",
    "# NOTE: THE WORDCLOUD PACKAGE ISN'T WORKING FOR SOME VERSIONS OF PYTHON.\n",
    "# LOCKING PYTHON VERSION TO 3.7 BECAUSE OF THAT.\n",
    "from wordcloud import WordCloud\n",
    "import spacy\n",
    "import spacy_transformers\n",
    "import torch"
   ],
   "metadata": {
    "collapsed": false
   },
   "execution_count": 1,
   "outputs": []
  },
  {
   "cell_type": "code",
   "execution_count": 2,
   "outputs": [],
   "source": [
    "import ssl\n",
    "def set_up_ssl():\n",
    "    try:\n",
    "        _create_unverified_https_context = ssl._create_unverified_context\n",
    "    except AttributeError:\n",
    "        pass\n",
    "    else:\n",
    "        ssl._create_default_https_context = _create_unverified_https_context\n",
    "\n",
    "set_up_ssl()"
   ],
   "metadata": {
    "collapsed": false
   }
  },
  {
   "cell_type": "code",
   "execution_count": 3,
   "outputs": [],
   "source": [
    "load_dotenv()\n",
    "TWITTER_BEARER_TOKEN = os.getenv('TWITTER_BEARER_TOKEN')\n",
    "TWITTER_API_KEY = os.getenv('TWITTER_API_KEY')\n",
    "TWITTER_API_SECRET_KEY = os.getenv('TWITTER_API_SECRET_KEY')\n",
    "TWITTER_ACCESS_TOKEN = os.getenv('TWITTER_ACCESS_TOKEN')\n",
    "TWITTER_ACCESS_TOKEN_SECRET = os.getenv('TWITTER_ACCESS_TOKEN_SECRET')"
   ],
   "metadata": {
    "collapsed": false
   }
  },
  {
   "cell_type": "code",
   "execution_count": 4,
   "outputs": [
    {
     "name": "stdout",
     "output_type": "stream",
     "text": [
      "Authenticating to Twitter...\n"
     ]
    }
   ],
   "source": [
    "print(\"Authenticating to Twitter...\")\n",
    "\n",
    "client = tweepy.Client(bearer_token=TWITTER_BEARER_TOKEN, wait_on_rate_limit=True)\n",
    "auth = tweepy.OAuthHandler(TWITTER_API_KEY, TWITTER_API_SECRET_KEY)\n",
    "auth.set_access_token(TWITTER_ACCESS_TOKEN, TWITTER_ACCESS_TOKEN_SECRET)\n",
    "api = tweepy.API(auth, wait_on_rate_limit=True)"
   ],
   "metadata": {
    "collapsed": false
   }
  },
  {
   "cell_type": "code",
   "execution_count": 5,
   "outputs": [],
   "source": [
    "twitter_russia_sources_rus_usernames = [\"@1tvru_news\", \"@ru_rbc\",\n",
    "                                         \"@er_novosti\",\n",
    "                              \"@rt_com\",\n",
    "                              \"@medvedevrussia\", \"@kremlinrussia\",\n",
    "                              \"@rentvchannel\", \"@vesti_news\", \"@kpru\"]\n",
    "\n",
    "twitter_ukraine_sources_rus_usernames = [\"@dmitry_gordon\", \"@SvobodaRadio\",\n",
    "                               \"@euronewsru\", \"@FeyginMark4\", \"@tvrain\", \"@teamnavalny\"]\n",
    "\n",
    "twitter_ukraine_sources_ukr_usernames = [\"@HromadskeUA\", \"@tsnua\", \"@24tvua\", \"@unian\",\n",
    "                               \"@radiosvoboda\", \"@5channel\", \"@EspresoTV\"]\n",
    "\n",
    "twitter_ukraine_sources_eng_usernames = [\"@mschwirtz\", \"@KyivIndependent\", \"@KyivPost\",\n",
    "                               \"@mchancecnn\", \"@fpleitgenCNN\", \"@Kasparov63\",\n",
    "                               \"@ikhurshudyan\", \"@myroslavapetsa\",\n",
    "                               \"@langfittnpr\", \"@ElBeardsley\", \"@timkmak\"]"
   ],
   "metadata": {
    "collapsed": false
   }
  },
  {
   "cell_type": "markdown",
   "source": [
    "https://dev.to/twitterdev/a-comprehensive-guide-for-using-the-twitter-api-v2-using-tweepy-in-python-15d9"
   ],
   "metadata": {
    "collapsed": false
   }
  },
  {
   "cell_type": "code",
   "execution_count": 6,
   "outputs": [],
   "source": [
    "# THIS CELL HITS TWITTER API\n",
    "\n",
    "def get_user_id_from_username(username):\n",
    "    user = api.get_user(screen_name=username)\n",
    "    return user.id"
   ],
   "metadata": {
    "collapsed": false
   }
  },
  {
   "cell_type": "code",
   "execution_count": 7,
   "outputs": [],
   "source": [
    "russia_sources_rus = []\n",
    "ukraine_sources_rus = []\n",
    "ukraine_sources_ukr = []\n",
    "ukraine_sources_eng = []"
   ],
   "metadata": {
    "collapsed": false
   }
  },
  {
   "cell_type": "code",
   "execution_count": 8,
   "outputs": [],
   "source": [
    "LOAD_CLUSTERS_DATA = True"
   ],
   "metadata": {
    "collapsed": false
   }
  },
  {
   "cell_type": "code",
   "execution_count": 9,
   "outputs": [],
   "source": [
    "if not LOAD_CLUSTERS_DATA:\n",
    "    for username in twitter_russia_sources_rus_usernames:\n",
    "        russia_sources_rus.append((username, get_user_id_from_username(username)))\n",
    "\n",
    "    for username in twitter_ukraine_sources_rus_usernames:\n",
    "        ukraine_sources_rus.append((username, get_user_id_from_username(username)))\n",
    "\n",
    "    for username in twitter_ukraine_sources_ukr_usernames:\n",
    "        ukraine_sources_ukr.append((username, get_user_id_from_username(username)))\n",
    "\n",
    "    for username in twitter_ukraine_sources_eng_usernames:\n",
    "        ukraine_sources_eng.append((username, get_user_id_from_username(username)))"
   ],
   "metadata": {
    "collapsed": false
   }
  },
  {
   "cell_type": "code",
   "execution_count": 10,
   "outputs": [],
   "source": [
    "if not LOAD_CLUSTERS_DATA:\n",
    "    russia_sources_rus_pickled = pickle.dumps(russia_sources_rus)\n",
    "    ukraine_sources_rus_pickled = pickle.dumps(ukraine_sources_rus)\n",
    "    ukraine_sources_ukr_pickled = pickle.dumps(ukraine_sources_ukr)\n",
    "    ukraine_sources_eng_pickled = pickle.dumps(ukraine_sources_eng)"
   ],
   "metadata": {
    "collapsed": false
   }
  },
  {
   "cell_type": "code",
   "execution_count": 11,
   "outputs": [],
   "source": [
    "CLUSTERS_SERIALIZATION_DIR = \"data_clusters/\""
   ],
   "metadata": {
    "collapsed": false
   }
  },
  {
   "cell_type": "code",
   "execution_count": 12,
   "outputs": [],
   "source": [
    "if not LOAD_CLUSTERS_DATA:\n",
    "    print(\"Writing pickled data to a file...\")\n",
    "\n",
    "    with open(CLUSTERS_SERIALIZATION_DIR + 'russia_sources_rus_pickled.pickle', 'wb') as f:\n",
    "        f.write(russia_sources_rus_pickled)\n",
    "\n",
    "    with open(CLUSTERS_SERIALIZATION_DIR + 'ukraine_sources_rus_pickled.pickle', 'wb') as f:\n",
    "        f.write(ukraine_sources_rus_pickled)\n",
    "\n",
    "    with open(CLUSTERS_SERIALIZATION_DIR + 'ukraine_sources_ukr_pickled.pickle', 'wb') as f:\n",
    "        f.write(ukraine_sources_ukr_pickled)\n",
    "\n",
    "    with open(CLUSTERS_SERIALIZATION_DIR + 'ukraine_sources_eng_pickled.pickle','wb') as f:\n",
    "        f.write(ukraine_sources_eng_pickled)"
   ],
   "metadata": {
    "collapsed": false
   }
  },
  {
   "cell_type": "code",
   "execution_count": 13,
   "outputs": [],
   "source": [
    "if LOAD_CLUSTERS_DATA:\n",
    "    with open(CLUSTERS_SERIALIZATION_DIR + 'russia_sources_rus_pickled.pickle',\\\n",
    "            'rb') as f:\n",
    "        russia_sources_rus = pickle.load(f)\n",
    "\n",
    "    with open(CLUSTERS_SERIALIZATION_DIR + 'ukraine_sources_rus_pickled' \\\n",
    "            '.pickle', 'rb') as f:\n",
    "        ukraine_sources_rus = pickle.load(f)\n",
    "\n",
    "    with open(CLUSTERS_SERIALIZATION_DIR + 'ukraine_sources_ukr_pickled' \\\n",
    "            '.pickle', 'rb') as f:\n",
    "        ukraine_sources_ukr = pickle.load(f)\n",
    "\n",
    "    with open(CLUSTERS_SERIALIZATION_DIR + 'ukraine_sources_eng_pickled' \\\n",
    "            '.pickle', 'rb') as f:\n",
    "        ukraine_sources_eng = pickle.load(f)"
   ],
   "metadata": {
    "collapsed": false
   }
  },
  {
   "cell_type": "code",
   "execution_count": 14,
   "outputs": [],
   "source": [
    "# THIS CELL HITS TWITTER API\n",
    "\n",
    "def get_user_followers(user_name, user_id, num_pages=1, num_followers=10):\n",
    "    followers = []\n",
    "    # User rate limit (User context): 15 requests per 15-minute window per each authenticated user\n",
    "    # limit – Maximum number of requests to make to the API\n",
    "    # max_results : The maximum number of results to be returned per page. This can be a number between 1 and the 1000. By default, each page will return 100 results.\n",
    "    # I.E. 15 000 followers can be returned in 15 minutes\n",
    "    followers_paginator = tweepy.Paginator(client.get_users_followers, id =\n",
    "    user_id, max_results = num_followers, limit = num_pages).flatten()\n",
    "    for follower in followers_paginator:\n",
    "        followers.append(follower)\n",
    "    return (user_name, user_id), followers"
   ],
   "metadata": {
    "collapsed": false
   }
  },
  {
   "cell_type": "code",
   "execution_count": 15,
   "outputs": [],
   "source": [
    "# THIS CELL HITS TWITTER API\n",
    "\n",
    "def get_user_follower_count(user_id):\n",
    "    # fetching the user\n",
    "    user = api.get_user(user_id = user_id)\n",
    "    return user.followers_count"
   ],
   "metadata": {
    "collapsed": false
   }
  },
  {
   "cell_type": "code",
   "execution_count": 16,
   "outputs": [],
   "source": [
    "rus_cluster_followers = []\n",
    "ukr_eng_cluster_followers = []\n",
    "ukr_rus_cluster_followers = []\n",
    "ukr_ukr_cluster_followers = []"
   ],
   "metadata": {
    "collapsed": false
   }
  },
  {
   "cell_type": "code",
   "execution_count": 17,
   "outputs": [],
   "source": [
    "# PROBLEM: pickling followers causes recursion depth exceeded problem\n",
    "# SOLUTION: process the followers data right away and write the result in csv\n",
    "# format\n",
    "\n",
    "LOAD_FOLLOWERS = False\n",
    "FOLLOWERS_DIR = \"followers/\""
   ],
   "metadata": {
    "collapsed": false
   }
  },
  {
   "cell_type": "code",
   "execution_count": 18,
   "outputs": [
    {
     "data": {
      "text/plain": "'\\nif  not LOAD_FOLLOWERS:\\n    for cluster in russia_sources_rus:\\n        rus_cluster_followers.append(get_user_followers(cluster[0], cluster[1]))\\n\\n    for cluster in ukraine_sources_rus:\\n        ukr_eng_cluster_followers.append(get_user_followers(cluster[0], cluster[1]))\\n\\n    for cluster in ukraine_sources_ukr:\\n        ukr_rus_cluster_followers.append(get_user_followers(cluster[0], cluster[1]))\\n\\n    for cluster in ukraine_sources_eng:\\n        ukr_ukr_cluster_followers.append(get_user_followers(cluster[0], cluster[1]))\\n'"
     },
     "execution_count": 18,
     "metadata": {},
     "output_type": "execute_result"
    }
   ],
   "source": [
    "# PRODUCTION CODE\n",
    "# get 105 000 followers per cluster: 1:45 min per cluster, 105 requests\n",
    "\n",
    "'''\n",
    "if  not LOAD_FOLLOWERS:\n",
    "    for cluster in russia_sources_rus:\n",
    "        rus_cluster_followers.append(get_user_followers(cluster[0], cluster[1]))\n",
    "\n",
    "    for cluster in ukraine_sources_rus:\n",
    "        ukr_eng_cluster_followers.append(get_user_followers(cluster[0], cluster[1]))\n",
    "\n",
    "    for cluster in ukraine_sources_ukr:\n",
    "        ukr_rus_cluster_followers.append(get_user_followers(cluster[0], cluster[1]))\n",
    "\n",
    "    for cluster in ukraine_sources_eng:\n",
    "        ukr_ukr_cluster_followers.append(get_user_followers(cluster[0], cluster[1]))\n",
    "'''"
   ],
   "metadata": {
    "collapsed": false
   }
  },
  {
   "cell_type": "code",
   "execution_count": 19,
   "outputs": [],
   "source": [
    "# THIS CODE HITS TWITTER API\n",
    "# TEST CODE: 50 followers per cluster, 2 cluster per each\n",
    "if not LOAD_FOLLOWERS:\n",
    "    for i in range(0, 2):\n",
    "        rus_cluster_followers.append(get_user_followers(russia_sources_rus[i][0],                                               russia_sources_rus[i][1]))\n",
    "\n",
    "    for i in range(0, 2):\n",
    "        ukr_eng_cluster_followers.append(get_user_followers(ukraine_sources_rus[i][0],                                               ukraine_sources_rus[i][1]))"
   ],
   "metadata": {
    "collapsed": false
   }
  },
  {
   "cell_type": "code",
   "execution_count": 20,
   "outputs": [
    {
     "data": {
      "text/plain": "list"
     },
     "execution_count": 20,
     "metadata": {},
     "output_type": "execute_result"
    }
   ],
   "source": [
    "type(rus_cluster_followers)"
   ],
   "metadata": {
    "collapsed": false
   }
  },
  {
   "cell_type": "code",
   "execution_count": 21,
   "outputs": [],
   "source": [
    "if not LOAD_FOLLOWERS:\n",
    "    rus_cluster_followers_pickled = pickle.dumps(rus_cluster_followers)\n",
    "    ukr_eng_cluster_followers_pickled = pickle.dumps(ukr_eng_cluster_followers)\n",
    "    ukr_rus_cluster_pickled = pickle.dumps(ukr_rus_cluster_followers)\n",
    "    ukr_ukr_cluster_pickled = pickle.dumps(ukr_ukr_cluster_followers)"
   ],
   "metadata": {
    "collapsed": false
   }
  },
  {
   "cell_type": "code",
   "execution_count": 22,
   "outputs": [
    {
     "name": "stdout",
     "output_type": "stream",
     "text": [
      "Writing pickled data to a file...\n"
     ]
    }
   ],
   "source": [
    "if not LOAD_FOLLOWERS:\n",
    "    print(\"Writing pickled data to a file...\")\n",
    "\n",
    "    with open(FOLLOWERS_DIR + 'rus_cluster_followers.pickle', 'wb') as f:\n",
    "        f.write(rus_cluster_followers_pickled)\n",
    "\n",
    "    with open(FOLLOWERS_DIR + 'ukr_eng_cluster_followers.pickle', 'wb') as f:\n",
    "        f.write(ukr_eng_cluster_followers_pickled)\n",
    "\n",
    "    with open(FOLLOWERS_DIR + 'ukr_rus_cluster_followers.pickle', 'wb') as f:\n",
    "        f.write(ukr_rus_cluster_pickled)\n",
    "\n",
    "    with open(FOLLOWERS_DIR + 'ukr_ukr_cluster_followers.pickle','wb') as f:\n",
    "        f.write(ukr_ukr_cluster_pickled)"
   ],
   "metadata": {
    "collapsed": false
   }
  },
  {
   "cell_type": "code",
   "execution_count": 23,
   "outputs": [],
   "source": [
    "# NOTE: causes recursion depth exceeded problem\n",
    "\n",
    "if LOAD_FOLLOWERS:\n",
    "\n",
    "    with open(FOLLOWERS_DIR + 'rus_cluster_followers.pickle',\\\n",
    "            'rb') as f:\n",
    "        rus_cluster_followers = pickle.load(f)\n",
    "\n",
    "    with open(FOLLOWERS_DIR + 'ukr_eng_cluster_followers' \\\n",
    "            '.pickle', 'rb') as f:\n",
    "        ukr_eng_cluster_followers = pickle.load(f)\n",
    "\n",
    "    with open(FOLLOWERS_DIR + 'ukr_rus_cluster_followers' \\\n",
    "            '.pickle', 'rb') as f:\n",
    "        ukr_rus_cluster_followers = pickle.load(f)\n",
    "\n",
    "    with open(FOLLOWERS_DIR + 'ukr_ukr_cluster_followers' \\\n",
    "            '.pickle', 'rb') as f:\n",
    "        ukr_ukr_cluster_followers = pickle.load(f)"
   ],
   "metadata": {
    "collapsed": false
   }
  },
  {
   "cell_type": "code",
   "execution_count": 24,
   "outputs": [
    {
     "name": "stdout",
     "output_type": "stream",
     "text": [
      "[(('@dmitry_gordon', 1334400780), [<User id=1599295496643919872 name=Оля username=Ol094895832>, <User id=1598318795512336387 name=CasualReader username=_Casual_Reader_>, <User id=1532500969371598862 name=Natasha Milman username=milman_natasha>, <User id=1552729759725010946 name=Marina Andrushchenko username=Marina35162778>, <User id=1577327477675941890 name=Ihor username=Ihor_Sh_UA>, <User id=1598848661542379520 name=Денис username=Denis87078157>, <User id=1582089127419428866 name=Iryna username=Iryna0903>, <User id=1599278632165425152 name=Евгеній username=Evgenj06891204>, <User id=2634282462 name=Светлана Филатова username=SvetycikS>, <User id=1480953831634747400 name=Vitautas username=VitautasAlushta>]), (('@SvobodaRadio', 47562921), [<User id=790171261846581253 name=Marcel -Emile YAO username=marcel_emile>, <User id=1599304219714109447 name=Виктор username=Viktor41660377>, <User id=1599303977031581696 name=Pasko Alex username=PaskoAlex2>, <User id=3055603197 name=Anna koma username=KomaAnna>, <User id=1599301658797916160 name=Рамиль username=Ramil19631404>, <User id=1599301440131973121 name=Сергей Гурьев username=gurev691969>, <User id=1522864464491692035 name=Каторгина Ольга username=KatorginaG>, <User id=1599302061627154433 name=Шохрух Хайдаров username=SohruhHajdarov>, <User id=1598318795512336387 name=CasualReader username=_Casual_Reader_>, <User id=1599298105186344961 name=Elena Boyko username=boooykot>])]\n"
     ]
    }
   ],
   "source": [
    "print(ukr_eng_cluster_followers)"
   ],
   "metadata": {
    "collapsed": false
   }
  },
  {
   "cell_type": "code",
   "execution_count": 25,
   "outputs": [
    {
     "data": {
      "text/plain": "tuple"
     },
     "execution_count": 25,
     "metadata": {},
     "output_type": "execute_result"
    }
   ],
   "source": [
    "'''\n",
    "print(type(followers[('@minregion_ua', 3333475643)][0]))\n",
    "print(followers[('@minregion_ua', 3333475643)][0].name)\n",
    "print(followers[('@minregion_ua', 3333475643)][0].id)\n",
    "'''\n",
    "type(rus_cluster_followers[0])"
   ],
   "metadata": {
    "collapsed": false
   }
  },
  {
   "cell_type": "code",
   "execution_count": 26,
   "outputs": [],
   "source": [
    "CLUSTER_IDX = 0\n",
    "FOLLOWER_IDX = 1\n",
    "\n",
    "rus_cluster = {}\n",
    "ukr_eng_cluster = {}\n",
    "ukr_rus_cluster = {}\n",
    "ukr_ukr_cluster = {}"
   ],
   "metadata": {
    "collapsed": false
   }
  },
  {
   "cell_type": "code",
   "execution_count": 27,
   "outputs": [],
   "source": [
    "def cluster_to_dict(cluster_list):\n",
    "\n",
    "    cluster_dfs = {}\n",
    "\n",
    "    for cluster in cluster_list:\n",
    "        follower_names = [follower.name for follower in cluster[FOLLOWER_IDX]]\n",
    "        follower_ids = [follower.id for follower in cluster[FOLLOWER_IDX]]\n",
    "        followers_data = {\n",
    "            'username': follower_names,\n",
    "            'user_id': follower_ids\n",
    "        }\n",
    "        cluster_dfs[cluster[CLUSTER_IDX]] = pd.DataFrame(followers_data)\n",
    "\n",
    "    return cluster_dfs"
   ],
   "metadata": {
    "collapsed": false
   }
  },
  {
   "cell_type": "code",
   "execution_count": 28,
   "outputs": [],
   "source": [
    "rus_cluster = cluster_to_dict(rus_cluster_followers)\n",
    "ukr_eng_cluster = cluster_to_dict(ukr_eng_cluster_followers)\n",
    "ukr_rus_cluster = cluster_to_dict(ukr_rus_cluster_followers)\n",
    "ukr_ukr_cluster = cluster_to_dict(ukr_ukr_cluster_followers)"
   ],
   "metadata": {
    "collapsed": false
   }
  },
  {
   "cell_type": "code",
   "execution_count": 29,
   "outputs": [],
   "source": [
    "# this fucntion converts a list of cluster centers and their followers to csv\n",
    "# files\n",
    "CLUSTERS_DIR = \"clusters/\"\n",
    "\n",
    "def clusters_to_files(clusters_df):\n",
    "    for cluster_center, cluster_followers in clusters_df.items():\n",
    "        cluster_csv = cluster_followers.to_csv()\n",
    "        with open(CLUSTERS_DIR + cluster_center[CLUSTER_IDX][1:] + '_' + str(cluster_center[FOLLOWER_IDX]) + '.csv',\n",
    "                  'w') as f:\n",
    "            f.write(cluster_csv)"
   ],
   "metadata": {
    "collapsed": false
   }
  },
  {
   "cell_type": "code",
   "execution_count": 30,
   "outputs": [],
   "source": [
    "LOAD_CLUSTERS = True"
   ],
   "metadata": {
    "collapsed": false
   }
  },
  {
   "cell_type": "code",
   "execution_count": 31,
   "outputs": [],
   "source": [
    "if not LOAD_CLUSTERS:\n",
    "    clusters_to_files(rus_cluster)\n",
    "    clusters_to_files(ukr_eng_cluster)"
   ],
   "metadata": {
    "collapsed": false
   }
  },
  {
   "cell_type": "code",
   "execution_count": 32,
   "outputs": [
    {
     "data": {
      "text/plain": "[('@1tvru_news', 160881696),\n ('@ru_rbc', 269770723),\n ('@er_novosti', 152984812),\n ('@rt_com', 64643056),\n ('@medvedevrussia', 153812887),\n ('@kremlinrussia', 158650448),\n ('@rentvchannel', 200036850),\n ('@vesti_news', 72525490),\n ('@kpru', 40807205)]"
     },
     "execution_count": 32,
     "metadata": {},
     "output_type": "execute_result"
    }
   ],
   "source": [
    "russia_sources_rus"
   ],
   "metadata": {
    "collapsed": false
   }
  },
  {
   "cell_type": "code",
   "execution_count": 33,
   "outputs": [
    {
     "name": "stdout",
     "output_type": "stream",
     "text": [
      "Loading data for rus_cluster\n",
      "Loading data for ukr_eng_cluster\n",
      "Loading data for the ukr_rus_cluster\n",
      "Loading data for the ukr_ukr_cluster\n"
     ]
    }
   ],
   "source": [
    "if LOAD_CLUSTERS:\n",
    "    print(\"Loading data for rus_cluster\")\n",
    "    rus_cluster = {}\n",
    "    for cluster in russia_sources_rus:\n",
    "        path_to_file = CLUSTERS_DIR + cluster[0][1:] + '_' + str(cluster[1]) + \\\n",
    " '.csv'\n",
    "        if os.path.exists(path_to_file):\n",
    "            cluster_followers = pd.read_csv(path_to_file,\n",
    "                                            usecols=['username', 'user_id'], dtype={'user_id': int})\n",
    "            rus_cluster[cluster] = cluster_followers\n",
    "\n",
    "    print(\"Loading data for ukr_eng_cluster\")\n",
    "    ukr_eng_cluster = {}\n",
    "    for cluster in ukraine_sources_eng:\n",
    "        path_to_file = CLUSTERS_DIR + cluster[0][1:] + '_' + str(cluster[1]) + \\\n",
    " '.csv'\n",
    "        if os.path.exists(path_to_file):\n",
    "            cluster_followers = pd.read_csv(path_to_file,\n",
    "                                            usecols=['username', 'user_id'], dtype={'user_id': int})\n",
    "            ukr_eng_cluster[cluster] = cluster_followers\n",
    "\n",
    "    print(\"Loading data for the ukr_rus_cluster\")\n",
    "    ukr_rus_cluster = {}\n",
    "    for cluster in ukraine_sources_rus:\n",
    "        path_to_file = CLUSTERS_DIR + cluster[0][1:] + '_' + str(cluster[1]) + \\\n",
    " '.csv'\n",
    "        if os.path.exists(path_to_file):\n",
    "            cluster_followers = pd.read_csv(path_to_file,\n",
    "                                            usecols=['username', 'user_id'],\n",
    "                                            dtype={'user_id': int})\n",
    "            ukr_rus_cluster[cluster] = cluster_followers\n",
    "\n",
    "    print(\"Loading data for the ukr_ukr_cluster\")\n",
    "    ukr_ukr_cluster = {}\n",
    "    for cluster in ukraine_sources_ukr:\n",
    "        path_to_file = CLUSTERS_DIR + cluster[0][1:] + '_' + str(cluster[1]) + \\\n",
    " '.csv'\n",
    "        if os.path.exists(path_to_file):\n",
    "            cluster_followers = pd.read_csv(path_to_file,\n",
    "                                            usecols=['username', 'user_id'], dtype={'user_id': int})\n",
    "            ukr_ukr_cluster[cluster] = cluster_followers"
   ],
   "metadata": {
    "collapsed": false
   }
  },
  {
   "cell_type": "code",
   "execution_count": 34,
   "outputs": [
    {
     "data": {
      "text/plain": "{('@1tvru_news',\n  160881696):                    username              user_id\n 0               jose filipe             19927296\n 1        lechantdesvoyelles           2258325268\n 2                 SPEED NYC           2924392191\n 3            valera karaman  1599152454398099459\n 4                ivanrussia  1599147506654380036\n ..                      ...                  ...\n 995  Zayniddin Xusniddino'v  1595878050276773889\n 996         NEOSHKA NEOSHKA  1542440663698100226\n 997                #Ziyod05  1595848999302479872\n 998             Дмитрий Ким  1595867951399600128\n 999                     kas           1332061843\n \n [1000 rows x 2 columns],\n ('@ru_rbc',\n  269770723):                  username              user_id\n 0            Батал Гамгия  1599163293746302976\n 1               Pletunoff   878179754804957184\n 2                    Mila  1599157008330096640\n 3           Set Mortensen  1599155538507567104\n 4         sweetdreamslizz  1599154015195086848\n ..                    ...                  ...\n 995         Tofig Davudov  1597577365365858307\n 996  Natallia Chodosowska  1597572648267030528\n 997         Елена Лященко  1597574448831516672\n 998          Timur Isakov  1597571656968445954\n 999              Валентин  1597566730188062720\n \n [1000 rows x 2 columns]}"
     },
     "execution_count": 34,
     "metadata": {},
     "output_type": "execute_result"
    }
   ],
   "source": [
    "rus_cluster"
   ],
   "metadata": {
    "collapsed": false
   }
  },
  {
   "cell_type": "markdown",
   "source": [
    "<h2>Visualizing Connections as a Graph</h2>"
   ],
   "metadata": {
    "collapsed": false
   }
  },
  {
   "cell_type": "code",
   "execution_count": 35,
   "outputs": [
    {
     "data": {
      "text/plain": "{('@dmitry_gordon',\n  1334400780):             username              user_id\n 0            Kryp4ek  1476613048018382850\n 1       Батал Гамгия  1599163293746302976\n 2    Елена Письменюк  1599155737766281218\n 3         stieroglif            492418187\n 4              Алекс  1599150982625218560\n ..               ...                  ...\n 994     osokinnnnnnn  1531585954607161347\n 995         tterewew   926760353878253568\n 996   Artur Kazarian  1595900167667990530\n 997  Виталий Жижанов  1576624669863591938\n 998  Виктор Гнибидин            801410400\n \n [999 rows x 2 columns],\n ('@SvobodaRadio',\n  47562921):                username              user_id\n 0                 Denis  1599152874797371393\n 1            Žabba Blue  1599160775054135305\n 2               Andrius            983390142\n 3    Александр Черкасов  1599160703394480128\n 4        Vennikov Elena  1528909651936481282\n ..                  ...                  ...\n 995               Pečka  1593594577474174976\n 996     Roman Gabisonia  1597975081472458755\n 997          AntonnY195  1151908574697861120\n 998   АдмиралъБенболовъ             62536997\n 999    Диловар Рахматов  1597201905238818818\n \n [1000 rows x 2 columns]}"
     },
     "execution_count": 35,
     "metadata": {},
     "output_type": "execute_result"
    }
   ],
   "source": [
    "ukr_rus_cluster"
   ],
   "metadata": {
    "collapsed": false
   }
  },
  {
   "cell_type": "code",
   "execution_count": 36,
   "outputs": [],
   "source": [
    "import networkx as nx"
   ],
   "metadata": {
    "collapsed": false
   }
  },
  {
   "cell_type": "code",
   "execution_count": 37,
   "outputs": [
    {
     "name": "stdout",
     "output_type": "stream",
     "text": [
      "Creating a DataFrame containing the complete graph\n"
     ]
    }
   ],
   "source": [
    "print(\"Creating a DataFrame containing the complete graph\")\n",
    "\n",
    "GROUP_ID_MAP = {\n",
    "    \"rus_cluster\": 0,\n",
    "    \"ukr_eng_cluster\": 1,\n",
    "    \"ukr_rus_cluster\": 2,\n",
    "    \"ukr_ukr_cluster\": 3\n",
    "}\n",
    "\n",
    "global_graph_pd = pd.DataFrame(columns=['username', 'user_id',\n",
    "                                     'cluster_name', 'cluster_id',\n",
    "                                     'cluster_follow_count', 'group_id'])"
   ],
   "metadata": {
    "collapsed": false
   }
  },
  {
   "cell_type": "code",
   "execution_count": 38,
   "outputs": [],
   "source": [
    "def add_cluster_to_global_graph(cluster, group_name, graph_pd):\n",
    "    curr_cluster_df = pd.DataFrame()\n",
    "    for cluster_center, cluster_followers in cluster.items():\n",
    "        curr_cluster_df = cluster_followers.copy(deep=True)\n",
    "        curr_cluster_df.insert(2, \"cluster_name\", cluster_center[0])\n",
    "        curr_cluster_df.insert(3, \"cluster_id\", int(cluster_center[1]))\n",
    "        curr_cluster_df.insert(4, \"cluster_follow_count\",\n",
    "                               get_user_follower_count(cluster_center[1]),\n",
    "                               True)\n",
    "        curr_cluster_df.insert(5, \"group_id\", GROUP_ID_MAP[group_name])\n",
    "    return pd.concat([graph_pd, curr_cluster_df])"
   ],
   "metadata": {
    "collapsed": false
   }
  },
  {
   "cell_type": "code",
   "execution_count": 39,
   "outputs": [],
   "source": [
    "def save_image(img, img_name):\n",
    "    IMG_DIR = \"visualizations/\"\n",
    "    plt.imsave(IMG_DIR + img_name, img)"
   ],
   "metadata": {
    "collapsed": false
   }
  },
  {
   "cell_type": "code",
   "execution_count": 40,
   "outputs": [],
   "source": [
    "global_graph_pd = global_graph_pd.iloc[0:0]\n",
    "global_graph_pd = add_cluster_to_global_graph(rus_cluster, \"rus_cluster\", global_graph_pd)\n",
    "global_graph_pd = add_cluster_to_global_graph(ukr_rus_cluster, \"ukr_rus_cluster\",\n",
    "                                              global_graph_pd)"
   ],
   "metadata": {
    "collapsed": false
   }
  },
  {
   "cell_type": "code",
   "execution_count": 41,
   "outputs": [
    {
     "name": "stdout",
     "output_type": "stream",
     "text": [
      "12000\n",
      "{'@SvobodaRadio', '@ru_rbc'}\n",
      "12000\n"
     ]
    }
   ],
   "source": [
    "print(global_graph_pd.size)\n",
    "print(set(global_graph_pd['cluster_name']))\n",
    "global_graph_pd.head()\n",
    "print(global_graph_pd.size)"
   ],
   "metadata": {
    "collapsed": false
   }
  },
  {
   "cell_type": "code",
   "execution_count": 42,
   "outputs": [
    {
     "name": "stdout",
     "output_type": "stream",
     "text": [
      "username                object\n",
      "user_id                 object\n",
      "cluster_name            object\n",
      "cluster_id              object\n",
      "cluster_follow_count    object\n",
      "group_id                object\n",
      "dtype: object\n",
      "['username', 'user_id', 'cluster_name', 'cluster_id', 'cluster_follow_count', 'group_id']\n",
      "          username              user_id cluster_name cluster_id  \\\n",
      "0     Батал Гамгия  1599163293746302976      @ru_rbc  269770723   \n",
      "1        Pletunoff   878179754804957184      @ru_rbc  269770723   \n",
      "2             Mila  1599157008330096640      @ru_rbc  269770723   \n",
      "3    Set Mortensen  1599155538507567104      @ru_rbc  269770723   \n",
      "4  sweetdreamslizz  1599154015195086848      @ru_rbc  269770723   \n",
      "\n",
      "  cluster_follow_count group_id  \n",
      "0               535342        0  \n",
      "1               535342        0  \n",
      "2               535342        0  \n",
      "3               535342        0  \n",
      "4               535342        0  \n"
     ]
    }
   ],
   "source": [
    "global_graph_pd_columns = list(global_graph_pd.columns)\n",
    "print(global_graph_pd.dtypes)\n",
    "print(global_graph_pd_columns)\n",
    "print(global_graph_pd.head())"
   ],
   "metadata": {
    "collapsed": false
   }
  },
  {
   "cell_type": "code",
   "execution_count": 43,
   "outputs": [
    {
     "name": "stdout",
     "output_type": "stream",
     "text": [
      "Constructing NetworkX graph\n"
     ]
    }
   ],
   "source": [
    "print(\"Constructing NetworkX graph\")\n",
    "\n",
    "# what if you store all attributes as edge attributes?\n",
    "G = nx.from_pandas_edgelist(global_graph_pd, source='username',\n",
    "                            target='cluster_name', edge_attr = global_graph_pd_columns,\n",
    "                             create_using=nx.DiGraph())\n",
    "\n",
    "pos = nx.spring_layout(G)"
   ],
   "metadata": {
    "collapsed": false
   }
  },
  {
   "cell_type": "code",
   "execution_count": 44,
   "outputs": [
    {
     "name": "stdout",
     "output_type": "stream",
     "text": [
      "Visualizing a small subset of connections...\n"
     ]
    },
    {
     "name": "stderr",
     "output_type": "stream",
     "text": [
      "/Users/dennisfenchenko/NYU-Fall-2022/info_vis/confirmation-bias-vis/venv/lib/python3.7/site-packages/IPython/core/events.py:89: UserWarning: Glyph 20844 (\\N{CJK UNIFIED IDEOGRAPH-516C}) missing from current font.\n",
      "  func(*args, **kwargs)\n",
      "/Users/dennisfenchenko/NYU-Fall-2022/info_vis/confirmation-bias-vis/venv/lib/python3.7/site-packages/IPython/core/events.py:89: UserWarning: Glyph 35328 (\\N{CJK UNIFIED IDEOGRAPH-8A00}) missing from current font.\n",
      "  func(*args, **kwargs)\n",
      "/Users/dennisfenchenko/NYU-Fall-2022/info_vis/confirmation-bias-vis/venv/lib/python3.7/site-packages/IPython/core/events.py:89: UserWarning: Glyph 37995 (\\N{CJK UNIFIED IDEOGRAPH-946B}) missing from current font.\n",
      "  func(*args, **kwargs)\n",
      "/Users/dennisfenchenko/NYU-Fall-2022/info_vis/confirmation-bias-vis/venv/lib/python3.7/site-packages/IPython/core/events.py:89: UserWarning: Glyph 22826 (\\N{CJK UNIFIED IDEOGRAPH-592A}) missing from current font.\n",
      "  func(*args, **kwargs)\n",
      "/Users/dennisfenchenko/NYU-Fall-2022/info_vis/confirmation-bias-vis/venv/lib/python3.7/site-packages/IPython/core/events.py:89: UserWarning: Glyph 38451 (\\N{CJK UNIFIED IDEOGRAPH-9633}) missing from current font.\n",
      "  func(*args, **kwargs)\n",
      "/Users/dennisfenchenko/NYU-Fall-2022/info_vis/confirmation-bias-vis/venv/lib/python3.7/site-packages/IPython/core/events.py:89: UserWarning: Glyph 127482 (\\N{REGIONAL INDICATOR SYMBOL LETTER U}) missing from current font.\n",
      "  func(*args, **kwargs)\n",
      "/Users/dennisfenchenko/NYU-Fall-2022/info_vis/confirmation-bias-vis/venv/lib/python3.7/site-packages/IPython/core/events.py:89: UserWarning: Glyph 127462 (\\N{REGIONAL INDICATOR SYMBOL LETTER A}) missing from current font.\n",
      "  func(*args, **kwargs)\n",
      "/Users/dennisfenchenko/NYU-Fall-2022/info_vis/confirmation-bias-vis/venv/lib/python3.7/site-packages/IPython/core/pylabtools.py:151: UserWarning: Glyph 20844 (\\N{CJK UNIFIED IDEOGRAPH-516C}) missing from current font.\n",
      "  fig.canvas.print_figure(bytes_io, **kw)\n",
      "/Users/dennisfenchenko/NYU-Fall-2022/info_vis/confirmation-bias-vis/venv/lib/python3.7/site-packages/IPython/core/pylabtools.py:151: UserWarning: Glyph 35328 (\\N{CJK UNIFIED IDEOGRAPH-8A00}) missing from current font.\n",
      "  fig.canvas.print_figure(bytes_io, **kw)\n",
      "/Users/dennisfenchenko/NYU-Fall-2022/info_vis/confirmation-bias-vis/venv/lib/python3.7/site-packages/IPython/core/pylabtools.py:151: UserWarning: Glyph 37995 (\\N{CJK UNIFIED IDEOGRAPH-946B}) missing from current font.\n",
      "  fig.canvas.print_figure(bytes_io, **kw)\n",
      "/Users/dennisfenchenko/NYU-Fall-2022/info_vis/confirmation-bias-vis/venv/lib/python3.7/site-packages/IPython/core/pylabtools.py:151: UserWarning: Glyph 22826 (\\N{CJK UNIFIED IDEOGRAPH-592A}) missing from current font.\n",
      "  fig.canvas.print_figure(bytes_io, **kw)\n",
      "/Users/dennisfenchenko/NYU-Fall-2022/info_vis/confirmation-bias-vis/venv/lib/python3.7/site-packages/IPython/core/pylabtools.py:151: UserWarning: Glyph 38451 (\\N{CJK UNIFIED IDEOGRAPH-9633}) missing from current font.\n",
      "  fig.canvas.print_figure(bytes_io, **kw)\n",
      "/Users/dennisfenchenko/NYU-Fall-2022/info_vis/confirmation-bias-vis/venv/lib/python3.7/site-packages/IPython/core/pylabtools.py:151: UserWarning: Glyph 127482 (\\N{REGIONAL INDICATOR SYMBOL LETTER U}) missing from current font.\n",
      "  fig.canvas.print_figure(bytes_io, **kw)\n",
      "/Users/dennisfenchenko/NYU-Fall-2022/info_vis/confirmation-bias-vis/venv/lib/python3.7/site-packages/IPython/core/pylabtools.py:151: UserWarning: Glyph 127462 (\\N{REGIONAL INDICATOR SYMBOL LETTER A}) missing from current font.\n",
      "  fig.canvas.print_figure(bytes_io, **kw)\n"
     ]
    },
    {
     "data": {
      "text/plain": "<Figure size 640x480 with 1 Axes>",
      "image/png": "[encoded data removed]"
     },
     "metadata": {},
     "output_type": "display_data"
    }
   ],
   "source": [
    "print(\"Visualizing a small subset of connections...\")\n",
    "\n",
    "subgraph = G.subgraph(list(G.nodes)[:100])\n",
    "\n",
    "subgraph_pos = nx.spring_layout(subgraph)\n",
    "\n",
    "nx.draw_networkx(subgraph, subgraph_pos)"
   ],
   "metadata": {
    "collapsed": false
   }
  },
  {
   "cell_type": "markdown",
   "source": [
    "<h2>Network Anslysis Questions:</h2>\n",
    "\n",
    "1. How many connections are overlapping within each given group. (e.g. how\n",
    "many people following SWJ also follow NYT)\n",
    "2. How many overlaps are there in between clusters from different groups?\n",
    "\n",
    "3. Do nodes cluster into tightly connected groups?\n",
    "\n",
    "<h2>Network Visualization Questions</h2>\n",
    "\n",
    "3. Visualize the connections in pretty way\n",
    "4. Visualize Cluster sizes\n",
    "5. Visualize groups by color coding them\n",
    "\n",
    "<h2>Sentiment Analysis Questions</h2>\n",
    "1. Word Cloud: what are people within each group discussing (Use entity recognition)?\n",
    "\n",
    "2. Tag Cloud: who are people within each group discussing?\n",
    "\n",
    "3. What sentiment do mentions within each groups have?\n",
    "\n",
    "4. What is a general Twitter sentiment on this topic (Can use Ukraine dataset)\n",
    "\n",
    "<h2>Visualization Techniques that can be leveraged</h2>\n",
    "1. Network Visualization\n",
    "\n",
    "2. Coloring nodes\n",
    "\n",
    "3. Coloring Connections\n",
    "\n",
    "4. Size of the nodes\n",
    "\n",
    "5. Shape of the nodes\n"
   ],
   "metadata": {
    "collapsed": false
   }
  },
  {
   "cell_type": "code",
   "execution_count": 45,
   "outputs": [
    {
     "name": "stdout",
     "output_type": "stream",
     "text": [
      "{('公言鑫', '@ru_rbc'): ['公言鑫', 1599065250204090369, '@ru_rbc', 269770723, 535342, 0], ('Роман неверов', '@ru_rbc'): ['Роман неверов', 1599146666627563521, '@ru_rbc', 269770723, 535342, 0], ('Rodion', '@ru_rbc'): ['Rodion', 1599084777709211648, '@ru_rbc', 269770723, 535342, 0], ('Алексей Казаков', '@ru_rbc'): ['Алексей Казаков', 1599114264157245440, '@ru_rbc', 269770723, 535342, 0], ('Vit Xak', '@ru_rbc'): ['Vit Xak', 1599073480296759296, '@ru_rbc', 269770723, 535342, 0], ('Elyor Elyor', '@ru_rbc'): ['Elyor Elyor', 1599065986115801088, '@ru_rbc', 269770723, 535342, 0], ('Hassan Riaz', '@ru_rbc'): ['Hassan Riaz', 1428872349449965581, '@ru_rbc', 269770723, 535342, 0], ('Олег Карнаух', '@ru_rbc'): ['Олег Карнаух', 566702146, '@ru_rbc', 269770723, 535342, 0], ('Андрей Фролов', '@ru_rbc'): ['Андрей Фролов', 1599102919990820865, '@ru_rbc', 269770723, 535342, 0], ('Виктория Новик', '@ru_rbc'): ['Виктория Новик', 1599032808600748034, '@ru_rbc', 269770723, 535342, 0], ('Костюхин Сергей', '@ru_rbc'): ['Костюхин Сергей', 893930322, '@ru_rbc', 269770723, 535342, 0], ('WA', '@ru_rbc'): ['WA', 1257746638048821248, '@ru_rbc', 269770723, 535342, 0], ('Андрей КАП', '@ru_rbc'): ['Андрей КАП', 1599085125261746189, '@ru_rbc', 269770723, 535342, 0], ('Garnik Avagyan', '@ru_rbc'): ['Garnik Avagyan', 1599078838436302853, '@ru_rbc', 269770723, 535342, 0], ('Anton Baukov', '@ru_rbc'): ['Anton Baukov', 1599031711240691715, '@ru_rbc', 269770723, 535342, 0], ('sweetdreamslizz', '@ru_rbc'): ['sweetdreamslizz', 1599154015195086848, '@ru_rbc', 269770723, 535342, 0], ('Zayniddin Hasanov', '@ru_rbc'): ['Zayniddin Hasanov', 1599126196456914947, '@ru_rbc', 269770723, 535342, 0], ('Danny Moore', '@ru_rbc'): ['Danny Moore', 1497233237000822793, '@ru_rbc', 269770723, 535342, 0], ('john roger', '@ru_rbc'): ['john roger', 309769121, '@ru_rbc', 269770723, 535342, 0], ('Татьяна Терентьева', '@ru_rbc'): ['Татьяна Терентьева', 1599150059827896322, '@ru_rbc', 269770723, 535342, 0], ('CasualReader', '@ru_rbc'): ['CasualReader', 1598318795512336387, '@ru_rbc', 269770723, 535342, 0], ('Саня Грин', '@ru_rbc'): ['Саня Грин', 1599094432707624960, '@ru_rbc', 269770723, 535342, 0], ('Андрей', '@ru_rbc'): ['Андрей', 1597810080249937921, '@ru_rbc', 269770723, 535342, 0], ('Viliana Titova', '@ru_rbc'): ['Viliana Titova', 1599122701553106947, '@ru_rbc', 269770723, 535342, 0], ('Сергій', '@ru_rbc'): ['Сергій', 1599133414665457665, '@ru_rbc', 269770723, 535342, 0], ('Владимир Потокин', '@ru_rbc'): ['Владимир Потокин', 1599123720043479042, '@ru_rbc', 269770723, 535342, 0], ('Yashar Ismaylov', '@ru_rbc'): ['Yashar Ismaylov', 1599095172171718656, '@ru_rbc', 269770723, 535342, 0], ('rt', '@ru_rbc'): ['rt', 1597168194762031104, '@ru_rbc', 269770723, 535342, 0], ('Aleksandr', '@ru_rbc'): ['Aleksandr', 1599114173023232003, '@ru_rbc', 269770723, 535342, 0], ('Surush', '@ru_rbc'): ['Surush', 1599131534476410882, '@ru_rbc', 269770723, 535342, 0], ('Dmitry Bazekin', '@ru_rbc'): ['Dmitry Bazekin', 1391246809687805952, '@ru_rbc', 269770723, 535342, 0], ('Zaira', '@ru_rbc'): ['Zaira', 1599091335809695744, '@ru_rbc', 269770723, 535342, 0], ('Амалия Шорн', '@ru_rbc'): ['Амалия Шорн', 1599043754479976449, '@ru_rbc', 269770723, 535342, 0], ('Alex', '@ru_rbc'): ['Alex', 1598561158595837952, '@ru_rbc', 269770723, 535342, 0], ('Inter Studio', '@ru_rbc'): ['Inter Studio', 1599117116149563394, '@ru_rbc', 269770723, 535342, 0], ('N.V.', '@ru_rbc'): ['N.V.', 388514756, '@ru_rbc', 269770723, 535342, 0], ('Бобе Денкин', '@ru_rbc'): ['Бобе Денкин', 1599090895764299776, '@ru_rbc', 269770723, 535342, 0], ('Мансур Назаров', '@ru_rbc'): ['Мансур Назаров', 1599045947933220864, '@ru_rbc', 269770723, 535342, 0], ('Haichuan gen', '@ru_rbc'): ['Haichuan gen', 1599060513337606144, '@ru_rbc', 269770723, 535342, 0], ('Валерий Евсин', '@ru_rbc'): ['Валерий Евсин', 1599064637852598276, '@ru_rbc', 269770723, 535342, 0], ('Даниил Сибрин', '@ru_rbc'): ['Даниил Сибрин', 1599110165994901504, '@ru_rbc', 269770723, 535342, 0], ('Бакытжан Асылкан', '@ru_rbc'): ['Бакытжан Асылкан', 1599097938319474693, '@ru_rbc', 269770723, 535342, 0], ('Set Mortensen', '@ru_rbc'): ['Set Mortensen', 1599155538507567104, '@ru_rbc', 269770723, 535342, 0], ('Vladimir', '@ru_rbc'): ['Vladimir', 1599066534940377088, '@ru_rbc', 269770723, 535342, 0], ('Ростислав Жабинец', '@ru_rbc'): ['Ростислав Жабинец', 1599049247420256256, '@ru_rbc', 269770723, 535342, 0], ('ivanrussia', '@ru_rbc'): ['ivanrussia', 1599147506654380036, '@ru_rbc', 269770723, 535342, 0], ('Манчестер Юнайтед', '@ru_rbc'): ['Манчестер Юнайтед', 1520274343254708224, '@ru_rbc', 269770723, 535342, 0], ('Balloon Brothers', '@ru_rbc'): ['Balloon Brothers', 1452718771592998916, '@ru_rbc', 269770723, 535342, 0], ('Pletunoff', '@ru_rbc'): ['Pletunoff', 878179754804957184, '@ru_rbc', 269770723, 535342, 0], ('Мария Цуканова', '@ru_rbc'): ['Мария Цуканова', 1599070116058103810, '@ru_rbc', 269770723, 535342, 0], ('Dmitrii Smirnov', '@ru_rbc'): ['Dmitrii Smirnov', 1505313260563832843, '@ru_rbc', 269770723, 535342, 0], ('Gulia', '@ru_rbc'): ['Gulia', 1599130765937213440, '@ru_rbc', 269770723, 535342, 0], ('mutavali', '@ru_rbc'): ['mutavali', 528745021, '@ru_rbc', 269770723, 535342, 0], ('samsara', '@ru_rbc'): ['samsara', 1599077976670289920, '@ru_rbc', 269770723, 535342, 0], ('Татьяна Леонова', '@ru_rbc'): ['Татьяна Леонова', 1599062492256387073, '@ru_rbc', 269770723, 535342, 0], ('Александр Матвейчук', '@ru_rbc'): ['Александр Матвейчук', 1599104214571048961, '@ru_rbc', 269770723, 535342, 0], ('Kostya', '@ru_rbc'): ['Kostya', 1599146898887155712, '@ru_rbc', 269770723, 535342, 0], ('Galina', '@ru_rbc'): ['Galina', 1599090481677344771, '@ru_rbc', 269770723, 535342, 0], ('Тимофей Тё', '@ru_rbc'): ['Тимофей Тё', 1599059667002347520, '@ru_rbc', 269770723, 535342, 0], ('Рустам Султангалиев', '@ru_rbc'): ['Рустам Султангалиев', 1599073482272382976, '@ru_rbc', 269770723, 535342, 0], ('Misha UR', '@ru_rbc'): ['Misha UR', 1599145502104330240, '@ru_rbc', 269770723, 535342, 0], ('valera karaman', '@ru_rbc'): ['valera karaman', 1599152454398099459, '@ru_rbc', 269770723, 535342, 0], ('dionisovich', '@ru_rbc'): ['dionisovich', 1598072530081906704, '@ru_rbc', 269770723, 535342, 0], ('Кирилл', '@ru_rbc'): ['Кирилл', 1599120227140337664, '@ru_rbc', 269770723, 535342, 0], ('горячий ромарио', '@ru_rbc'): ['горячий ромарио', 1595753782603878402, '@ru_rbc', 269770723, 535342, 0], ('Гелос Шабонов', '@ru_rbc'): ['Гелос Шабонов', 1599037208614371329, '@ru_rbc', 269770723, 535342, 0], ('Алена', '@ru_rbc'): ['Алена', 1598713184776495104, '@ru_rbc', 269770723, 535342, 0], ('Владимир Федянин', '@ru_rbc'): ['Владимир Федянин', 1599058223130202112, '@ru_rbc', 269770723, 535342, 0], ('Alexander Dageron', '@ru_rbc'): ['Alexander Dageron', 1599048230402236416, '@ru_rbc', 269770723, 535342, 0], ('Максим Игнатьев', '@ru_rbc'): ['Максим Игнатьев', 1599070683887292417, '@ru_rbc', 269770723, 535342, 0], ('Демид', '@ru_rbc'): ['Демид', 1599048873833631750, '@ru_rbc', 269770723, 535342, 0], ('Bethany Kimmet', '@ru_rbc'): ['Bethany Kimmet', 1599037179996827648, '@ru_rbc', 269770723, 535342, 0], ('Ronin Barnes', '@ru_rbc'): ['Ronin Barnes', 1585805527438995456, '@ru_rbc', 269770723, 535342, 0], ('Ru.by', '@ru_rbc'): ['Ru.by', 1574846008034729984, '@ru_rbc', 269770723, 535342, 0], ('Aдилет Дуйшембиев', '@ru_rbc'): ['Aдилет Дуйшембиев', 1599043225049784320, '@ru_rbc', 269770723, 535342, 0], ('Матвей Кудряшов', '@ru_rbc'): ['Матвей Кудряшов', 1587657070244921345, '@ru_rbc', 269770723, 535342, 0], ('Lari Sergiu', '@ru_rbc'): ['Lari Sergiu', 1599073779887611905, '@ru_rbc', 269770723, 535342, 0], ('Gulliver007', '@ru_rbc'): ['Gulliver007', 1526625323961417731, '@ru_rbc', 269770723, 535342, 0], ('Равиль Нафиков', '@ru_rbc'): ['Равиль Нафиков', 1599046503292698626, '@ru_rbc', 269770723, 535342, 0], ('Jazzman603', '@ru_rbc'): ['Jazzman603', 1226584209117966337, '@ru_rbc', 269770723, 535342, 0], ('Мария', '@ru_rbc'): ['Мария', 1599036026625949696, '@ru_rbc', 269770723, 535342, 0], ('Олег Виллонен', '@ru_rbc'): ['Олег Виллонен', 2950166687, '@ru_rbc', 269770723, 535342, 0], ('Батал Гамгия', '@ru_rbc'): ['Батал Гамгия', 1599163293746302976, '@ru_rbc', 269770723, 535342, 0], ('Ирина Ясакова', '@ru_rbc'): ['Ирина Ясакова', 1599102893197561858, '@ru_rbc', 269770723, 535342, 0], ('Рамазан Ахметов', '@ru_rbc'): ['Рамазан Ахметов', 1599136455762345985, '@ru_rbc', 269770723, 535342, 0], ('太阳', '@ru_rbc'): ['太阳', 1598142351418920960, '@ru_rbc', 269770723, 535342, 0], ('Елена Кузнецова', '@ru_rbc'): ['Елена Кузнецова', 1599084346786385920, '@ru_rbc', 269770723, 535342, 0], ('Mila', '@ru_rbc'): ['Mila', 1599157008330096640, '@ru_rbc', 269770723, 535342, 0], ('IVAN LOBYNICHEV', '@ru_rbc'): ['IVAN LOBYNICHEV', 1599064469958758401, '@ru_rbc', 269770723, 535342, 0], ('I❤🇺🇦', '@ru_rbc'): ['I❤🇺🇦', 1598377837546901533, '@ru_rbc', 269770723, 535342, 0], ('Marina S.', '@ru_rbc'): ['Marina S.', 1599117239902523392, '@ru_rbc', 269770723, 535342, 0], ('Тагир Садретдинов', '@ru_rbc'): ['Тагир Садретдинов', 1475989477, '@ru_rbc', 269770723, 535342, 0], ('Qizzbo', '@ru_rbc'): ['Qizzbo', 1451152417815347201, '@ru_rbc', 269770723, 535342, 0], ('Ralyube', '@ru_rbc'): ['Ralyube', 1599071750922305537, '@ru_rbc', 269770723, 535342, 0], ('Sherzod Akhmedov', '@ru_rbc'): ['Sherzod Akhmedov', 1599114722560942081, '@ru_rbc', 269770723, 535342, 0], ('Almaz Makhmut', '@ru_rbc'): ['Almaz Makhmut', 1599130384842854400, '@ru_rbc', 269770723, 535342, 0], ('Babek Al-Khalili', '@ru_rbc'): ['Babek Al-Khalili', 1326981838502584328, '@ru_rbc', 269770723, 535342, 0], ('Александр Курюкин', '@ru_rbc'): ['Александр Курюкин', 1443299907293622278, '@ru_rbc', 269770723, 535342, 0], ('ETHEREUM_BOSS', '@ru_rbc'): ['ETHEREUM_BOSS', 1493656847101923330, '@ru_rbc', 269770723, 535342, 0]}\n"
     ]
    }
   ],
   "source": [
    "def get_edge_attributes(graph, attr_list):\n",
    "    KEY = 0\n",
    "    VALUE = 1\n",
    "    edge_attrs = {}\n",
    "    for attr in attr_list:\n",
    "        edges_attribute = nx.get_edge_attributes(graph, attr)\n",
    "        for edge_attr in edges_attribute.items():\n",
    "            if edge_attr[KEY] in edge_attrs.keys():\n",
    "                edge_attr_values = edge_attrs[edge_attr[KEY]]\n",
    "                edge_attr_values.append(edge_attr[VALUE])\n",
    "                edge_attrs[edge_attr[KEY]] = edge_attr_values\n",
    "            else:\n",
    "                edge_attrs[edge_attr[KEY]] = [edge_attr[VALUE]]\n",
    "    return edge_attrs\n",
    "\n",
    "edge_attrs = get_edge_attributes(subgraph, global_graph_pd_columns)\n",
    "\n",
    "print(edge_attrs)"
   ],
   "metadata": {
    "collapsed": false
   }
  },
  {
   "cell_type": "code",
   "execution_count": 46,
   "outputs": [
    {
     "name": "stdout",
     "output_type": "stream",
     "text": [
      "Running analysis on the network...\n"
     ]
    },
    {
     "data": {
      "text/plain": "OutEdgeView([('Батал Гамгия', '@ru_rbc'), ('Pletunoff', '@ru_rbc'), ('Mila', '@ru_rbc'), ('Set Mortensen', '@ru_rbc'), ('sweetdreamslizz', '@ru_rbc'), ('valera karaman', '@ru_rbc'), ('Misha UR', '@ru_rbc'), ('Татьяна Терентьева', '@ru_rbc'), ('ivanrussia', '@ru_rbc'), ('Роман неверов', '@ru_rbc'), ('Kostya', '@ru_rbc'), ('CasualReader', '@ru_rbc'), ('Костюхин Сергей', '@ru_rbc'), ('Костюхин Сергей', '@SvobodaRadio'), ('Рамазан Ахметов', '@ru_rbc'), ('Alex', '@ru_rbc'), ('Alex', '@SvobodaRadio'), ('Сергій', '@ru_rbc'), ('Алена', '@ru_rbc'), ('Алена', '@SvobodaRadio'), ('Gulia', '@ru_rbc'), ('Surush', '@ru_rbc'), ('Almaz Makhmut', '@ru_rbc'), ('I❤🇺🇦', '@ru_rbc'), ('I❤🇺🇦', '@SvobodaRadio'), ('Zayniddin Hasanov', '@ru_rbc'), ('Zayniddin Hasanov', '@SvobodaRadio'), ('Владимир Потокин', '@ru_rbc'), ('Viliana Titova', '@ru_rbc'), ('Кирилл', '@ru_rbc'), ('Marina S.', '@ru_rbc'), ('Inter Studio', '@ru_rbc'), ('Манчестер Юнайтед', '@ru_rbc'), ('Sherzod Akhmedov', '@ru_rbc'), ('Алексей Казаков', '@ru_rbc'), ('Алексей Казаков', '@SvobodaRadio'), ('Aleksandr', '@ru_rbc'), ('Aleksandr', '@SvobodaRadio'), ('Андрей', '@ru_rbc'), ('Андрей', '@SvobodaRadio'), ('Даниил Сибрин', '@ru_rbc'), ('Dmitrii Smirnov', '@ru_rbc'), ('Александр Матвейчук', '@ru_rbc'), ('WA', '@ru_rbc'), ('Андрей Фролов', '@ru_rbc'), ('Ирина Ясакова', '@ru_rbc'), ('Ronin Barnes', '@ru_rbc'), ('Саня Грин', '@ru_rbc'), ('Бакытжан Асылкан', '@ru_rbc'), ('Бакытжан Асылкан', '@SvobodaRadio'), ('john roger', '@ru_rbc'), ('Yashar Ismaylov', '@ru_rbc'), ('Бобе Денкин', '@ru_rbc'), ('samsara', '@ru_rbc'), ('Ru.by', '@ru_rbc'), ('Dmitry Bazekin', '@ru_rbc'), ('Zaira', '@ru_rbc'), ('Galina', '@ru_rbc'), ('Galina', '@SvobodaRadio'), ('Олег Виллонен', '@ru_rbc'), ('Олег Виллонен', '@SvobodaRadio'), ('Babek Al-Khalili', '@ru_rbc'), ('Vladimir', '@ru_rbc'), ('Vladimir', '@SvobodaRadio'), ('ETHEREUM_BOSS', '@ru_rbc'), ('ETHEREUM_BOSS', '@SvobodaRadio'), ('Александр Курюкин', '@ru_rbc'), ('Rodion', '@ru_rbc'), ('Андрей КАП', '@ru_rbc'), ('Елена Кузнецова', '@ru_rbc'), ('Олег Карнаух', '@ru_rbc'), ('Garnik Avagyan', '@ru_rbc'), ('Garnik Avagyan', '@SvobodaRadio'), ('горячий ромарио', '@ru_rbc'), ('Vit Xak', '@ru_rbc'), ('Рустам Султангалиев', '@ru_rbc'), ('Владимир Федянин', '@ru_rbc'), ('公言鑫', '@ru_rbc'), ('Lari Sergiu', '@ru_rbc'), ('Ralyube', '@ru_rbc'), ('Мария Цуканова', '@ru_rbc'), ('Мария Цуканова', '@SvobodaRadio'), ('Максим Игнатьев', '@ru_rbc'), ('Danny Moore', '@ru_rbc'), ('Hassan Riaz', '@ru_rbc'), ('Тагир Садретдинов', '@ru_rbc'), ('Gulliver007', '@ru_rbc'), ('Elyor Elyor', '@ru_rbc'), ('Валерий Евсин', '@ru_rbc'), ('Тимофей Тё', '@ru_rbc'), ('IVAN LOBYNICHEV', '@ru_rbc'), ('Татьяна Леонова', '@ru_rbc'), ('Haichuan gen', '@ru_rbc'), ('N.V.', '@ru_rbc'), ('dionisovich', '@ru_rbc'), ('Balloon Brothers', '@ru_rbc'), ('Qizzbo', '@ru_rbc'), ('太阳', '@ru_rbc'), ('Равиль Нафиков', '@ru_rbc'), ('Демид', '@ru_rbc'), ('Ростислав Жабинец', '@ru_rbc'), ('Матвей Кудряшов', '@ru_rbc'), ('Матвей Кудряшов', '@SvobodaRadio'), ('Alexander Dageron', '@ru_rbc'), ('Мансур Назаров', '@ru_rbc'), ('Aдилет Дуйшембиев', '@ru_rbc'), ('Гелос Шабонов', '@ru_rbc'), ('Гелос Шабонов', '@SvobodaRadio'), ('Амалия Шорн', '@ru_rbc'), ('Виктория Новик', '@ru_rbc'), ('mutavali', '@ru_rbc'), ('Bethany Kimmet', '@ru_rbc'), ('Jazzman603', '@ru_rbc'), ('Мария', '@ru_rbc'), ('Мария', '@SvobodaRadio'), ('rt', '@ru_rbc'), ('Anton Baukov', '@ru_rbc'), ('Anton Baukov', '@SvobodaRadio'), ('Genadiy Babitski', '@ru_rbc'), ('Genadiy Babitski', '@SvobodaRadio'), ('Slava Pivnyuk', '@ru_rbc'), ('Астамур Мушба', '@ru_rbc'), ('Parker', '@ru_rbc'), ('one second', '@ru_rbc'), ('jek dingo', '@ru_rbc'), ('Akmal Juraev', '@ru_rbc'), ('lil lulil', '@ru_rbc'), ('lil lulil', '@SvobodaRadio'), ('Сергей Дмитриев', '@ru_rbc'), ('Анна Рау', '@ru_rbc'), ('Анна Рау', '@SvobodaRadio'), ('Ашимов Дастанбек', '@ru_rbc'), ('memento7mori#️⃣.hft (💙,🧡)', '@ru_rbc'), (nan, '@ru_rbc'), ('Юлиян Балников', '@ru_rbc'), ('Svetlana Ionova', '@ru_rbc'), ('ANDRIIPILOT', '@ru_rbc'), ('Максим', '@ru_rbc'), ('Татьяна', '@ru_rbc'), ('Maxer Warzone Mobile', '@ru_rbc'), ('Frederick Taxo', '@ru_rbc'), ('Юнус', '@ru_rbc'), ('Юнус', '@SvobodaRadio'), ('Михаил Логинов', '@ru_rbc'), ('Алёна Ащеулова', '@ru_rbc'), ('Иван Пупкин', '@ru_rbc'), ('Ilya Romanov', '@ru_rbc'), ('Александр', '@ru_rbc'), ('Александр', '@SvobodaRadio'), ('Андрей Иванов', '@ru_rbc'), ('Рома Переловский', '@ru_rbc'), ('Fanil Valirov', '@ru_rbc'), ('Альбина Фарходовна', '@ru_rbc'), ('Евгений Рейзин', '@ru_rbc'), ('Рафаэль', '@ru_rbc'), ('Никифоров Александр', '@ru_rbc'), ('Никифоров Александр', '@SvobodaRadio'), ('Наталия Близнюк', '@ru_rbc'), ('Рамазан Тагиров', '@ru_rbc'), ('Cyberayo', '@ru_rbc'), ('Cyberayo', '@SvobodaRadio'), ('Игорь Безгалов', '@ru_rbc'), ('Александр Прадед', '@ru_rbc'), ('Виктория Лозицкая', '@ru_rbc'), ('Максат Керимкулов', '@ru_rbc'), ('Micah Spruill', '@ru_rbc'), ('Philipp Korneev', '@ru_rbc'), ('просто катЮ', '@ru_rbc'), ('YaN KalasH Kalash \"LE RETOUR !\"', '@ru_rbc'), ('Ruslan Almanov', '@ru_rbc'), ('Сергей П', '@ru_rbc'), ('Николай Климчик', '@ru_rbc'), ('Roman Tarabanov', '@ru_rbc'), ('Oksana', '@ru_rbc'), ('Евгений Момот', '@ru_rbc'), ('Евгений Момот', '@SvobodaRadio'), ('Moise Kisonia', '@ru_rbc'), ('Roman Ko', '@ru_rbc'), ('Roman Ko', '@SvobodaRadio'), ('Раиль Брагин', '@ru_rbc'), ('Visheri', '@ru_rbc'), ('ABetkhemyan', '@ru_rbc'), ('Mirjalol', '@ru_rbc'), ('Олег', '@ru_rbc'), ('Олег', '@SvobodaRadio'), ('NikKom', '@ru_rbc'), ('Cindy Miller', '@ru_rbc'), ('Pishumm2', '@ru_rbc'), ('Джамшиджон Шарипов', '@ru_rbc'), ('Джамшиджон Шарипов', '@SvobodaRadio'), ('Iskhakov Bulat', '@ru_rbc'), ('坤柳', '@ru_rbc'), ('坤柳', '@SvobodaRadio'), ('Mike', '@ru_rbc'), ('Mike', '@SvobodaRadio'), ('Александр Поротиков', '@ru_rbc'), ('Федор Витев', '@ru_rbc'), ('The Spellsinger', '@ru_rbc'), ('最終問題', '@ru_rbc'), ('Mephistopheles', '@ru_rbc'), ('Muhammad P', '@ru_rbc'), ('Alena', '@ru_rbc'), ('Константин Гришков', '@ru_rbc'), ('crouzz', '@ru_rbc'), ('Юлия', '@ru_rbc'), ('Юлия', '@SvobodaRadio'), ('Shaarani Lawan', '@ru_rbc'), ('Hamidjon Akbarif', '@ru_rbc'), ('Влад Бухман', '@ru_rbc'), ('饶富贵', '@ru_rbc'), ('Katarina Maran', '@ru_rbc'), ('borzoi57', '@ru_rbc'), ('Alexey Gordeyko', '@ru_rbc'), ('Ivan Litvinov', '@ru_rbc'), ('Виктория Александрова', '@ru_rbc'), ('dasigu3(💙,🧡)', '@ru_rbc'), ('Aleksandr S', '@ru_rbc'), ('Александр Островский', '@ru_rbc'), ('Алексей Соболев', '@ru_rbc'), ('garjoui56(💙,🧡)', '@ru_rbc'), ('Vladimir Tsoy', '@ru_rbc'), ('мутный тип', '@ru_rbc'), ('мутный тип', '@SvobodaRadio'), ('CarrieRobin', '@ru_rbc'), ('JasperMaggie', '@ru_rbc'), ('Владислав Водопьян', '@ru_rbc'), ('Сергей Теленков', '@ru_rbc'), ('Лесной Дух', '@ru_rbc'), ('METE AYMAYA', '@ru_rbc'), ('No Zombie', '@ru_rbc'), ('No Zombie', '@SvobodaRadio'), ('Владимир Горделадзе', '@ru_rbc'), ('Ahmadov Shodmon', '@ru_rbc'), ('Ahmadov Shodmon', '@SvobodaRadio'), ('Alice', '@ru_rbc'), ('Ляззат Жусупова', '@ru_rbc'), ('Ляззат Жусупова', '@SvobodaRadio'), ('Natal’ya Kudryavtseva', '@ru_rbc'), ('Natal’ya Kudryavtseva', '@SvobodaRadio'), ('Денис Пробачай', '@ru_rbc'), ('Akmaral Batalova', '@ru_rbc'), ('Александр Солнцев', '@ru_rbc'), ('lotte rocio', '@ru_rbc'), ('Jim Munden', '@ru_rbc'), ('Abdulwahid Afzaly', '@ru_rbc'), ('lanyanting', '@ru_rbc'), ('Алексей', '@ru_rbc'), ('Алексей', '@SvobodaRadio'), ('виктория Бон', '@ru_rbc'), ('Aziz', '@ru_rbc'), ('Aziz', '@SvobodaRadio'), ('Léonidas', '@ru_rbc'), ('Michael Ryzhichenko', '@ru_rbc'), ('Tatyana Letvitskaya', '@ru_rbc'), ('Tatyana Letvitskaya', '@SvobodaRadio'), ('эдуард', '@ru_rbc'), ('эдуард', '@SvobodaRadio'), ('Dadojon Bakosov', '@ru_rbc'), ('Yury Meshkov', '@ru_rbc'), ('Maryna', '@ru_rbc'), ('Maryna', '@SvobodaRadio'), ('Алеша Карамазов', '@ru_rbc'), ('Елизавета', '@ru_rbc'), ('Елизавета', '@SvobodaRadio'), ('d.flawyou', '@ru_rbc'), ('Natali', '@ru_rbc'), ('Natali', '@SvobodaRadio'), ('Celeste Iannacone', '@ru_rbc'), ('bngrkzstr', '@ru_rbc'), ('Svetlana Karpekina', '@ru_rbc'), ('Красная Кнопка', '@ru_rbc'), ('Laurie Schneider', '@ru_rbc'), ('Dr. Shore | iPhotoStreet.com', '@ru_rbc'), ('Денис', '@ru_rbc'), ('Магомед', '@ru_rbc'), ('Igor', '@ru_rbc'), ('Igor', '@SvobodaRadio'), ('thechosenone', '@ru_rbc'), ('Aphelios', '@ru_rbc'), ('Дима', '@ru_rbc'), ('мухаммад', '@ru_rbc'), ('мухаммад', '@SvobodaRadio'), ('Olga', '@ru_rbc'), ('Olga', '@SvobodaRadio'), (' Константин', '@ru_rbc'), ('mustafeahmedmohamud@gmail.com', '@ru_rbc'), ('IreneSt', '@ru_rbc'), ('Ena Meyer', '@ru_rbc'), ('Rasim Sk', '@ru_rbc'), ('Inoagentiy', '@ru_rbc'), ('Uliana', '@ru_rbc'), ('Eddie', '@ru_rbc'), ('Arsenii Shcherba', '@ru_rbc'), ('Анатолий Каларащук', '@ru_rbc'), ('Juri Kusnir', '@ru_rbc'), ('dont_smoke_here_please', '@ru_rbc'), ('Waldemar', '@ru_rbc'), ('Richard Kara', '@ru_rbc'), ('Иван Кузнецов', '@ru_rbc'), ('Muhammad Anvarov', '@ru_rbc'), ('Muhammad Anvarov', '@SvobodaRadio'), ('Sergij Lazebnyk', '@ru_rbc'), ('Askhabull', '@ru_rbc'), ('Askhabull', '@SvobodaRadio'), ('Ilham Ahmad', '@ru_rbc'), ('Godella Petty', '@ru_rbc'), ('Heather Noland', '@ru_rbc'), ('Gintautas Noreika', '@ru_rbc'), ('Elmirhesenli', '@ru_rbc'), ('Elmirhesenli', '@SvobodaRadio'), ('Даня Шакин', '@ru_rbc'), ('МЕРС', '@ru_rbc'), ('NIROLAI', '@ru_rbc'), ('Андрюха Cars', '@ru_rbc'), ('шер', '@ru_rbc'), ('Serous Pavel', '@ru_rbc'), ('Владислав Тютюньков', '@ru_rbc'), ('Andrey Makarov', '@ru_rbc'), ('Dasa Tusco', '@ru_rbc'), ('Disappear', '@ru_rbc'), ('Ivan', '@ru_rbc'), ('Виталий', '@ru_rbc'), ('Виталий', '@SvobodaRadio'), ('NatalyaS.', '@ru_rbc'), ('Adrian', '@ru_rbc'), ('Екатерина Ворошилова', '@ru_rbc'), ('Assel', '@ru_rbc'), ('Assel', '@SvobodaRadio'), ('Andrey', '@ru_rbc'), ('Andrey', '@SvobodaRadio'), ('товарищ ☭ ✭', '@ru_rbc'), ('Алексей Ионашку', '@ru_rbc'), ('Jabrail', '@ru_rbc'), ('Lera', '@ru_rbc'), ('sergio Buskets', '@ru_rbc'), ('Mi Tan', '@ru_rbc'), ('Михаил Орлов', '@ru_rbc'), ('Elena', '@ru_rbc'), ('兔兔最爱国', '@ru_rbc'), ('Роман', '@ru_rbc'), ('Eldar', '@ru_rbc'), ('Дмитрий Домуховский', '@ru_rbc'), ('History', '@ru_rbc'), ('Elnara safronova', '@ru_rbc'), ('REKCIK FORTNITE', '@ru_rbc'), ('Евгений', '@ru_rbc'), ('Наим', '@ru_rbc'), ('Наим', '@SvobodaRadio'), ('alex go', '@ru_rbc'), ('alex go', '@SvobodaRadio'), ('Iacubenco Vitalii', '@ru_rbc'), ('Iacubenco Vitalii', '@SvobodaRadio'), ('A Ab', '@ru_rbc'), ('shohjahon abdujalilov', '@ru_rbc'), ('G.O.A.T.', '@ru_rbc'), ('Sabyr Pernebay', '@ru_rbc'), ('我', '@ru_rbc'), ('Tina Cummins', '@ru_rbc'), ('Komiljon Akhrorov', '@ru_rbc'), ('ирина иванова', '@ru_rbc'), ('ирина иванова', '@SvobodaRadio'), ('Parvin ismatov', '@ru_rbc'), ('Parvin ismatov', '@SvobodaRadio'), ('Вадим Скрипник', '@ru_rbc'), ('Chenxing', '@ru_rbc'), ('Михаил Калих', '@ru_rbc'), ('Михаил Калих', '@SvobodaRadio'), ('Igor Kch', '@ru_rbc'), ('Igor Kch', '@SvobodaRadio'), ('Evelina Khmelevska', '@ru_rbc'), ('Сергей Бояркин', '@ru_rbc'), ('Сергей Бояркин', '@SvobodaRadio'), ('Митя Дробот', '@ru_rbc'), ('Солнце', '@ru_rbc'), ('Andrii', '@ru_rbc'), ('Igorrr', '@ru_rbc'), ('anderson', '@ru_rbc'), ('Katiusha', '@ru_rbc'), ('я танцую сам с собой', '@ru_rbc'), ('Михаил', '@ru_rbc'), ('Dear God', '@ru_rbc'), ('Dear God', '@SvobodaRadio'), ('Liudmila', '@ru_rbc'), ('zp', '@ru_rbc'), ('Rev lur', '@ru_rbc'), ('Bahadır İnanç Özkan', '@ru_rbc'), ('Maximus General', '@ru_rbc'), ('✌', '@ru_rbc'), ('✌', '@SvobodaRadio'), ('Elaman Toktoshev', '@ru_rbc'), ('daria mosolova', '@ru_rbc'), ('Iuliia', '@ru_rbc'), ('Iuliia', '@SvobodaRadio'), ('Anastasiia', '@ru_rbc'), ('Susan Necochea', '@ru_rbc'), ('Karina', '@ru_rbc'), ('Gari Siradekia', '@ru_rbc'), ('Diyor Pubg', '@ru_rbc'), ('Полина', '@ru_rbc'), ('Полина', '@SvobodaRadio'), ('Ольга', '@ru_rbc'), ('Ленинградский Доброволец', '@ru_rbc'), ('martin', '@ru_rbc'), ('martin', '@SvobodaRadio'), ('Женя', '@ru_rbc'), ('Виктор', '@ru_rbc'), ('Виктор', '@SvobodaRadio'), ('ninza', '@ru_rbc'), ('ninza', '@SvobodaRadio'), ('Жамшед Шарофиддинов', '@ru_rbc'), ('Jury Badulin', '@ru_rbc'), ('Jury Badulin', '@SvobodaRadio'), ('Альфа есмь', '@ru_rbc'), ('Denis Novikov', '@ru_rbc'), ('Olia', '@ru_rbc'), ('Пустовойт Тетяна', '@ru_rbc'), ('Пустовойт Тетяна', '@SvobodaRadio'), ('Роман Горбачевский', '@ru_rbc'), ('Anne Johnson', '@ru_rbc'), ('Avgii', '@ru_rbc'), ('Тимур Таиров', '@ru_rbc'), ('Тимур Таиров', '@SvobodaRadio'), ('Anna', '@ru_rbc'), ('Anna', '@SvobodaRadio'), ('NYSOV', '@ru_rbc'), ('София Якимова', '@ru_rbc'), ('Mykeys_123', '@ru_rbc'), ('Ira', '@ru_rbc'), ('Vitalie', '@ru_rbc'), ('Vitalie', '@SvobodaRadio'), ('Nurlan', '@ru_rbc'), ('Иван Карасев', '@ru_rbc'), ('Jen Jones', '@ru_rbc'), ('Игорь Плесканка', '@ru_rbc'), ('Игорь Плесканка', '@SvobodaRadio'), ('Mama V', '@ru_rbc'), ('Maximov Artem', '@ru_rbc'), ('Sergey Spak', '@ru_rbc'), ('куаныш', '@ru_rbc'), ('Murad', '@ru_rbc'), ('Umida Usmonova', '@ru_rbc'), ('Rima Sloutskaia', '@ru_rbc'), ('Rima Sloutskaia', '@SvobodaRadio'), ('Teddy Zamora', '@ru_rbc'), ('Liberty Crew', '@ru_rbc'), ('Liberty Crew', '@SvobodaRadio'), ('Антон Докучаев', '@ru_rbc'), ('WilliamAstrid（有关必回）', '@ru_rbc'), ('Sergey Krasnobaev', '@ru_rbc'), ('Sergey Krasnobaev', '@SvobodaRadio'), ('🇷🇺Пётр Первый✌️', '@ru_rbc'), ('🇷🇺Пётр Первый✌️', '@SvobodaRadio'), ('Рамиль Мамедов', '@ru_rbc'), ('Азам', '@ru_rbc'), ('Азам', '@SvobodaRadio'), ('Александр Родионов', '@ru_rbc'), ('C', '@ru_rbc'), ('Baxtiyor Abdurasulov', '@ru_rbc'), ('Baxtiyor Abdurasulov', '@SvobodaRadio'), ('David Ekanger', '@ru_rbc'), ('Idibek Abdiev', '@ru_rbc'), ('Idibek Abdiev', '@SvobodaRadio'), ('Azizbek', '@ru_rbc'), ('Azizbek', '@SvobodaRadio'), ('Алмаз Жамалдинов', '@ru_rbc'), ('Tisya 99', '@ru_rbc'), ('Ержан Елдашбаев', '@ru_rbc'), ('iljukis', '@ru_rbc'), ('Покер11 Покер11', '@ru_rbc'), ('Militant Robots', '@ru_rbc'), ('Militant Robots', '@SvobodaRadio'), ('Kkkkk Kkkkkk', '@ru_rbc'), ('виктор кашаев', '@ru_rbc'), ('Michail (L3, ❄)', '@ru_rbc'), ('Николай Романов', '@ru_rbc'), ('Николай Романов', '@SvobodaRadio'), ('Andrey Vasilyev', '@ru_rbc'), ('SOUR Adams', '@ru_rbc'), ('Николай Попов', '@ru_rbc'), ('Дмитрий Кожухов', '@ru_rbc'), ('Nata Sara', '@ru_rbc'), ('Мельник Мельников', '@ru_rbc'), ('Operation Witchcraft', '@ru_rbc'), ('Operation Witchcraft', '@SvobodaRadio'), ('Богдан 900', '@ru_rbc'), ('Еd', '@ru_rbc'), ('Эхром', '@ru_rbc'), ('Эхром', '@SvobodaRadio'), ('Миандр', '@ru_rbc'), ('Naila Rustamova', '@ru_rbc'), ('Naila Rustamova', '@SvobodaRadio'), ('Atabekian Lucine', '@ru_rbc'), ('Eduard Kovalenko', '@ru_rbc'), ('Марина', '@ru_rbc'), ('Марина', '@SvobodaRadio'), ('Джам', '@ru_rbc'), ('Илья Соболь', '@ru_rbc'), ('Ilya', '@ru_rbc'), ('Vertex', '@ru_rbc'), ('Vertex', '@SvobodaRadio'), ('corsica', '@ru_rbc'), ('Твиты лайм', '@ru_rbc'), ('Jurijs Ivanovs', '@ru_rbc'), ('Ирина Нескоромная', '@ru_rbc'), ('Veriko', '@ru_rbc'), ('Наталья Нестерова', '@ru_rbc'), ('Махмарачаб Назаров', '@ru_rbc'), ('Махмарачаб Назаров', '@SvobodaRadio'), ('Брюгеман Евгений', '@ru_rbc'), ('Федосеев Михаил', '@ru_rbc'), ('Федосеев Михаил', '@SvobodaRadio'), ('Vladimir Sapego', '@ru_rbc'), ('Nata', '@ru_rbc'), ('Nata', '@SvobodaRadio'), ('мартин', '@ru_rbc'), ('мартин', '@SvobodaRadio'), ('Mira Kutilina', '@ru_rbc'), ('Ruslan Kurchev', '@ru_rbc'), ('zaebashka', '@ru_rbc'), ('александр Янушкевич', '@ru_rbc'), ('Владимир Дунаев', '@ru_rbc'), ('A.Eskin', '@ru_rbc'), ('Андрей Гребенников', '@ru_rbc'), ('Нурдаулет Халилов', '@ru_rbc'), ('Нурдаулет Халилов', '@SvobodaRadio'), ('Rz Rz', '@ru_rbc'), ('Дмитрий Карчёв', '@ru_rbc'), ('Mygame', '@ru_rbc'), ('ELSANA TUJUH', '@ru_rbc'), ('Ереван Армения Երևան Yerevan Armenia հայաստան', '@ru_rbc'), ('Дмитрий Лацко', '@ru_rbc'), ('Muhammad', '@ru_rbc'), ('Muhammad', '@SvobodaRadio'), ('Natalya', '@ru_rbc'), ('Firuz Shukurov', '@ru_rbc'), ('Gintaras Miežanskas', '@ru_rbc'), ('shujo', '@ru_rbc'), ('shujo', '@SvobodaRadio'), ('кот', '@ru_rbc'), ('Виктория Власова', '@ru_rbc'), ('red door', '@ru_rbc'), ('red door', '@SvobodaRadio'), ('Nosirov Dilshodxan', '@ru_rbc'), ('Ivan Shmelev', '@ru_rbc'), ('Юра', '@ru_rbc'), ('Юра', '@SvobodaRadio'), ('Aquarius13271', '@ru_rbc'), ('Alimehdi Memmedov', '@ru_rbc'), ('Джон Мали', '@ru_rbc'), ('Onione Tamiko', '@ru_rbc'), ('Galina Grigoryan', '@ru_rbc'), ('Ekaterina', '@ru_rbc'), ('Ekaterina', '@SvobodaRadio'), ('Ю600022', '@ru_rbc'), ('Анна Трегуб', '@ru_rbc'), ('ixdaya', '@ru_rbc'), ('Максатбек Юсупов', '@ru_rbc'), ('Franciscosantos', '@ru_rbc'), ('Franciscosantos', '@SvobodaRadio'), ('Luccas Viana nunes', '@ru_rbc'), ('Daniel Ward', '@ru_rbc'), ('Елена', '@ru_rbc'), ('Елена', '@SvobodaRadio'), (\"Grecal'o\", '@ru_rbc'), (\"Grecal'o\", '@SvobodaRadio'), ('Samandar Mirzabaev', '@ru_rbc'), ('Наталья Вардугина', '@ru_rbc'), ('Кайрат Юсупов', '@ru_rbc'), ('Arthur Vali', '@ru_rbc'), ('Алексей Уточкин', '@ru_rbc'), ('Алексей Уточкин', '@SvobodaRadio'), ('Maxim Kazhyna', '@ru_rbc'), ('Данияр Маулетов', '@ru_rbc'), ('Максим Боечко', '@ru_rbc'), ('Иванова Татьяна Евгеньевна', '@ru_rbc'), ('𐎣𐏂𐎼', '@ru_rbc'), ('Кирилл Международный', '@ru_rbc'), ('Fayzullo', '@ru_rbc'), ('a.pogodin.xo', '@ru_rbc'), ('Karmela Hodos', '@ru_rbc'), ('Руслан', '@ru_rbc'), ('Иван Чумак', '@ru_rbc'), ('Denis', '@ru_rbc'), ('Denis', '@SvobodaRadio'), ('Юрий Соколов', '@ru_rbc'), ('Angry Cat', '@ru_rbc'), ('Angry Cat', '@SvobodaRadio'), ('Маша Рязанцева', '@ru_rbc'), ('mordosovyura', '@ru_rbc'), ('Lina G', '@ru_rbc'), ('Сергй Григорьев', '@ru_rbc'), ('илья садов', '@ru_rbc'), ('Klara Bek', '@ru_rbc'), ('Klara Bek', '@SvobodaRadio'), ('凡人多烦事', '@ru_rbc'), ('Mansurali jamoliddinov', '@ru_rbc'), ('Наталья Межень', '@ru_rbc'), ('Наталья Межень', '@SvobodaRadio'), ('Темурбек Саидмурадов', '@ru_rbc'), ('Кайрат Жарликасимов', '@ru_rbc'), ('Римма Марасанова', '@ru_rbc'), ('Николай Емельянов', '@ru_rbc'), ('Avazbek', '@ru_rbc'), ('Avazbek', '@SvobodaRadio'), ('Толик', '@ru_rbc'), ('arkel karkel', '@ru_rbc'), ('Lisa Joseph', '@ru_rbc'), ('Дмитро', '@ru_rbc'), ('Дмитро', '@SvobodaRadio'), ('Juia Sevostyanova', '@ru_rbc'), ('Улан Айтбаев', '@ru_rbc'), ('Улан Айтбаев', '@SvobodaRadio'), ('Jokhongir', '@ru_rbc'), ('Бехзод', '@ru_rbc'), ('Бехзод', '@SvobodaRadio'), ('Max Kardonov', '@ru_rbc'), ('Andrej Tiganov', '@ru_rbc'), ('Georg', '@ru_rbc'), ('Georg', '@SvobodaRadio'), ('albert', '@ru_rbc'), ('Peggy Quimby', '@ru_rbc'), ('ООО \"Alsapteka\"', '@ru_rbc'), ('Елена Савельева', '@ru_rbc'), ('Dettdiva Instart', '@ru_rbc'), ('Наталья Янова', '@ru_rbc'), ('Anatoliy Kuznecov', '@ru_rbc'), ('Татьяна Куркина', '@ru_rbc'), ('иван шуляренко', '@ru_rbc'), ('Aziz Kholmanov', '@ru_rbc'), ('игорь малышев', '@ru_rbc'), ('игорь малышев', '@SvobodaRadio'), ('Фёдор', '@ru_rbc'), ('Martin Borman', '@ru_rbc'), ('Martin Borman', '@SvobodaRadio'), ('Svetlana', '@ru_rbc'), ('Сергей Исправников', '@ru_rbc'), ('Dildora', '@ru_rbc'), ('Dildora', '@SvobodaRadio'), ('Soph', '@ru_rbc'), ('Cavansir Cavansir', '@ru_rbc'), ('Cavansir Cavansir', '@SvobodaRadio'), ('Ксения Александровна', '@ru_rbc'), ('Ксения Александровна', '@SvobodaRadio'), ('Екатерина Лерина', '@ru_rbc'), ('Игорь', '@ru_rbc'), ('Игорь', '@SvobodaRadio'), ('毛利小五郎', '@ru_rbc'), ('Irina', '@ru_rbc'), ('Irina', '@SvobodaRadio'), ('МУП \"Тепловые сети\" г. Геленджик', '@ru_rbc'), ('nagita debora', '@ru_rbc'), ('Кублахан', '@ru_rbc'), ('Даниил Мамонтов', '@ru_rbc'), ('ТРАНСПРОЕКТ Групп', '@ru_rbc'), ('My name is yangzuo', '@ru_rbc'), ('My name is yangzuo', '@SvobodaRadio'), ('Татьяна Ивановв', '@ru_rbc'), ('Роман Ананов', '@ru_rbc'), ('同志', '@ru_rbc'), ('同志', '@SvobodaRadio'), ('Sapphire cat', '@ru_rbc'), ('Andrey Gornushechkin', '@ru_rbc'), ('Anh Dũng', '@ru_rbc'), ('Пайрав Мавлонкулов', '@ru_rbc'), ('Сергей ЮЭЙ', '@ru_rbc'), ('Сергей ЮЭЙ', '@SvobodaRadio'), ('A Pao Tráng', '@ru_rbc'), ('A Pao Tráng', '@SvobodaRadio'), ('Kiki_and_Buba', '@ru_rbc'), ('Дмитрий Зольников', '@ru_rbc'), ('Дмитрий Зольников', '@SvobodaRadio'), ('Александр Гриб', '@ru_rbc'), ('Баглан Шарипов', '@ru_rbc'), ('Vadim Fedorenko', '@ru_rbc'), ('Салима Лоу', '@ru_rbc'), ('Sergei Likhachev', '@ru_rbc'), ('сверхзвуковая чайка', '@ru_rbc'), ('Andrian Grati', '@ru_rbc'), ('Andrian Grati', '@SvobodaRadio'), ('Азим', '@ru_rbc'), ('Ivan Serbov', '@ru_rbc'), ('Dasha', '@ru_rbc'), ('Московский пустой бамбук 3.0', '@ru_rbc'), ('Московский пустой бамбук 3.0', '@SvobodaRadio'), ('Stanislav Antilevsky', '@ru_rbc'), ('Artem Gritsenko', '@ru_rbc'), ('Я Марго', '@ru_rbc'), ('Aleksey', '@ru_rbc'), ('Юрий Глинский', '@ru_rbc'), ('Юрий Глинский', '@SvobodaRadio'), ('Tartar', '@ru_rbc'), ('Anna Cuxishvili', '@ru_rbc'), ('Владимир Минаков', '@ru_rbc'), ('Евгений Буяраков', '@ru_rbc'), ('XOJAXMAD', '@ru_rbc'), ('ocrxx', '@ru_rbc'), ('Ирина Комочкова', '@ru_rbc'), ('Виктор Волобуев', '@ru_rbc'), ('Виктор Волобуев', '@SvobodaRadio'), ('Vadim Ivanov', '@ru_rbc'), ('Evgeniia', '@ru_rbc'), ('Naka Universe', '@ru_rbc'), ('Naka Universe', '@SvobodaRadio'), ('андрей хоцянивськый', '@ru_rbc'), ('Марат Гельманов', '@ru_rbc'), ('Артур Тихонов', '@ru_rbc'), ('Mikalayka', '@ru_rbc'), ('Margarita Isaeva', '@ru_rbc'), ('Арман', '@ru_rbc'), ('Павел Воловик', '@ru_rbc'), ('Валерий Щербатых', '@ru_rbc'), ('Jasur Valiev', '@ru_rbc'), ('Katy Mrock', '@ru_rbc'), ('Владимир Цуран', '@ru_rbc'), ('Вадим Кублов', '@ru_rbc'), ('Вадим Кублов', '@SvobodaRadio'), ('Dmitryi Turchin', '@ru_rbc'), ('Romashka Petrushka', '@ru_rbc'), ('KIRA', '@ru_rbc'), ('Ереван Армения Երևան Yerevan հայաստան Armenia', '@ru_rbc'), ('Anton', '@ru_rbc'), ('兰陵笑笑生🇨🇳爱我中华', '@ru_rbc'), ('Muslim Muxtarov', '@ru_rbc'), ('Tasha Tanner', '@ru_rbc'), ('CallMe', '@ru_rbc'), ('Стас', '@ru_rbc'), ('Владимир Скобелев', '@ru_rbc'), ('Владимир Скобелев', '@SvobodaRadio'), ('Victor Armishev', '@ru_rbc'), ('Абдуллoх Махмудов', '@ru_rbc'), ('Angs One', '@ru_rbc'), ('Danielle Rose', '@ru_rbc'), ('Sebastian', '@ru_rbc'), ('Masha', '@ru_rbc'), ('Васёк Евтюшкие', '@ru_rbc'), ('Татьяна Скакулина', '@ru_rbc'), ('Eduard Kolesnikov', '@ru_rbc'), ('Eduard Kolesnikov', '@SvobodaRadio'), ('Никита Григорьев', '@ru_rbc'), ('Николай Сергейко', '@ru_rbc'), ('Николай Сергейко', '@SvobodaRadio'), ('Pohjola', '@ru_rbc'), ('Pohjola', '@SvobodaRadio'), ('Alizamin', '@ru_rbc'), ('Alizamin', '@SvobodaRadio'), ('Agamergen Isangulyyew', '@ru_rbc'), ('Дмитрий Коротков', '@ru_rbc'), ('Карлен', '@ru_rbc'), ('resmon', '@ru_rbc'), ('lazybuzzy', '@ru_rbc'), ('кожаный ветер', '@ru_rbc'), ('Begzod', '@ru_rbc'), ('Светлана Конджария', '@ru_rbc'), ('Светлана Конджария', '@SvobodaRadio'), ('Иван Березовский', '@ru_rbc'), ('Барлас Нурлан', '@ru_rbc'), ('Чайка', '@ru_rbc'), ('Аристарх Растопчин', '@ru_rbc'), ('Аристарх Растопчин', '@SvobodaRadio'), ('Denis Vilman', '@ru_rbc'), ('khlud', '@ru_rbc'), ('Евгений Смирнов', '@ru_rbc'), ('Aziz Khaydarov', '@ru_rbc'), ('Da Phantom Shtr', '@ru_rbc'), ('Da Phantom Shtr', '@SvobodaRadio'), ('Фамилия', '@ru_rbc'), ('Janelle Stephens', '@ru_rbc'), ('Arvydas', '@ru_rbc'), ('Arvydas', '@SvobodaRadio'), ('В.К.С_тат', '@ru_rbc'), ('ruppinwin Odessa', '@ru_rbc'), ('Alina _Emoili', '@ru_rbc'), ('Alina _Emoili', '@SvobodaRadio'), ('ERIMBET', '@ru_rbc'), ('ERIMBET', '@SvobodaRadio'), ('Oxana', '@ru_rbc'), ('Oxana', '@SvobodaRadio'), ('Ismoil', '@ru_rbc'), ('Эржигит Толонбек', '@ru_rbc'), ('Nursultan Baisakalov', '@ru_rbc'), ('Jez', '@ru_rbc'), ('Nadin', '@ru_rbc'), ('TK', '@ru_rbc'), ('Петр', '@ru_rbc'), ('Vvhale', '@ru_rbc'), ('Роман Колин', '@ru_rbc'), ('Ciupaga', '@ru_rbc'), ('Zebo Xaydarova', '@ru_rbc'), ('Zebo Xaydarova', '@SvobodaRadio'), ('antapo', '@ru_rbc'), ('Sergey63', '@ru_rbc'), ('Al', '@ru_rbc'), ('Victoria Johnson', '@ru_rbc'), ('Lev', '@ru_rbc'), ('Коротенко Алексей', '@ru_rbc'), ('رد على شبهة', '@ru_rbc'), ('Kristy Smith', '@ru_rbc'), ('Мордух Ольга', '@ru_rbc'), ('Мордух Ольга', '@SvobodaRadio'), ('waymarkt', '@ru_rbc'), ('waymarkt', '@SvobodaRadio'), ('Abduganikhodja Bakhtiyorkhadjaev', '@ru_rbc'), ('Ranago', '@ru_rbc'), ('Mendsaikhan Purevkhaidav', '@ru_rbc'), ('Mendsaikhan Purevkhaidav', '@SvobodaRadio'), ('Bobir Akbarov', '@ru_rbc'), ('Aizhan Mambetalieva', '@ru_rbc'), ('думинда', '@ru_rbc'), ('Мельничук Даниил', '@ru_rbc'), ('Renato Calore', '@ru_rbc'), ('barbara', '@ru_rbc'), ('Emir Sarvi', '@ru_rbc'), ('алим эльбашир', '@ru_rbc'), ('Алексей Романенко', '@ru_rbc'), ('Soffee', '@ru_rbc'), ('Zura Batiashvili', '@ru_rbc'), ('Гулру Сайфуллоева', '@ru_rbc'), ('Rus Tam77', '@ru_rbc'), ('Rus Tam77', '@SvobodaRadio'), ('Михаил Сорокин', '@ru_rbc'), ('hacrimao', '@ru_rbc'), ('Виктор Мухин', '@ru_rbc'), ('Svetlana Babinica', '@ru_rbc'), ('Rinata', '@ru_rbc'), ('Nadezhda Paul', '@ru_rbc'), ('Василий Пустовит', '@ru_rbc'), ('alessandro michelozz Александр Z Z Z', '@ru_rbc'), ('The freemason', '@ru_rbc'), ('VitAtlas', '@ru_rbc'), ('Guntars Harisovs', '@ru_rbc'), ('Аким Суляргин', '@ru_rbc'), ('TЕLS CARGO', '@ru_rbc'), ('Константин', '@ru_rbc'), ('олимчон', '@ru_rbc'), ('Анна Рубина', '@ru_rbc'), ('Денис Анисимов', '@ru_rbc'), ('Кутырев Юрий', '@ru_rbc'), ('Pussey Crasher 🇺🇦', '@ru_rbc'), ('Viktor Larionov', '@ru_rbc'), ('Pasha Kim', '@ru_rbc'), ('Юрий', '@ru_rbc'), ('grgbltv', '@ru_rbc'), ('أبو نواف', '@ru_rbc'), ('cyclowalk', '@ru_rbc'), ('evgenii markelov', '@ru_rbc'), ('好看就', '@ru_rbc'), ('lia', '@ru_rbc'), ('lido1942', '@ru_rbc'), ('Антон Юшков', '@ru_rbc'), ('Юрий Егоров', '@ru_rbc'), ('la la la', '@ru_rbc'), ('Daniil', '@ru_rbc'), ('Dinorah Jackson', '@ru_rbc'), ('No Face No Name', '@ru_rbc'), ('20 22', '@ru_rbc'), ('Анна', '@ru_rbc'), ('Анна', '@SvobodaRadio'), ('Sherali Nabijonov', '@ru_rbc'), ('Константин Куприянов (PanzerKampfWagenVITigerHI)', '@ru_rbc'), ('Viktors Dukalskis', '@ru_rbc'), ('sncdtyu8(💙,🧡)', '@ru_rbc'), ('Igor Lihatsky', '@ru_rbc'), ('Maxim Vartanov', '@ru_rbc'), ('Juri Zotov', '@ru_rbc'), ('k007ig', '@ru_rbc'), ('Сабир Алыев', '@ru_rbc'), ('Фируза', '@ru_rbc'), ('Клара Сотникова', '@ru_rbc'), ('Анна Соколова', '@ru_rbc'), ('Vladimir Bibishev', '@ru_rbc'), ('Ramazi Giorgadze', '@ru_rbc'), ('Сухроб', '@ru_rbc'), ('Arigato', '@ru_rbc'), ('Otabek', '@ru_rbc'), ('Андрей Титильбаев', '@ru_rbc'), ('Рамзес Клячкин', '@ru_rbc'), ('Сергей Юдин', '@ru_rbc'), ('Olga Prudnikova', '@ru_rbc'), ('Toni Pham', '@ru_rbc'), ('Алибек', '@ru_rbc'), ('генофонд талантов', '@ru_rbc'), ('Ottoscarceni', '@ru_rbc'), ('Сергей Камышный', '@ru_rbc'), ('BATTHEAD', '@ru_rbc'), ('Сергей Царёв', '@ru_rbc'), ('Alex Punch', '@ru_rbc'), ('Artur Akopian', '@ru_rbc'), ('Shakhzod Akhrorov', '@ru_rbc'), ('VicToria Belgique', '@ru_rbc'), ('Артём Федотов', '@ru_rbc'), ('Игорь Ковтун', '@ru_rbc'), ('Тоша', '@ru_rbc'), ('Кожахмет Абдибеков', '@ru_rbc'), ('Karen', '@ru_rbc'), ('🇷🇺 Vasiliy Kalyuzhnyy', '@ru_rbc'), ('Robert Still', '@ru_rbc'), ('Анна Марьясова', '@ru_rbc'), ('Radoslav', '@ru_rbc'), ('Larisa Ushkanova', '@ru_rbc'), ('Ольга Омарова', '@ru_rbc'), ('Спящий Мартин', '@ru_rbc'), ('Ильхом Васидов', '@ru_rbc'), ('Alex Sarkisov', '@ru_rbc'), ('Abdussalam Qayumov', '@ru_rbc'), ('jr.rafo', '@ru_rbc'), ('Julia Gilko/NOwar🇺🇦❤', '@ru_rbc'), ('Александр Ревенко', '@ru_rbc'), ('Crizis', '@ru_rbc'), ('Ясмина Яковлева', '@ru_rbc'), ('Марат Мечетбаев', '@ru_rbc'), ('Kevin', '@ru_rbc'), ('Саян Атигаев', '@ru_rbc'), ('天', '@ru_rbc'), ('Огненная Звезда', '@ru_rbc'), ('Камол', '@ru_rbc'), ('Julia Kurbatova', '@ru_rbc'), ('Иван Понкратов', '@ru_rbc'), ('Nadavonnizeque', '@ru_rbc'), ('dibley Ivanov', '@ru_rbc'), ('VönHell', '@ru_rbc'), ('Cenimunolusacen', '@ru_rbc'), ('Татьяна Плечева', '@ru_rbc'), ('Daniel', '@ru_rbc'), ('😒MingwangSuodeTelusi', '@ru_rbc'), ('Арман Базарбаев', '@ru_rbc'), ('Cudeezereratolo', '@ru_rbc'), ('Nodorinemid', '@ru_rbc'), ('Alex loukitch', '@ru_rbc'), ('Enoheusella', '@ru_rbc'), ('Alexander', '@ru_rbc'), ('Alexander', '@SvobodaRadio'), ('Hanna Grininger', '@ru_rbc'), ('ZloyDed', '@ru_rbc'), ('nehapesasaiston', '@ru_rbc'), ('firuzi Kintsurashvili', '@ru_rbc'), ('Willem van S.', '@ru_rbc'), ('Mobil. Centre', '@ru_rbc'), ('maladetidox', '@ru_rbc'), ('Miron Markus', '@ru_rbc'), ('Vincenza', '@ru_rbc'), ('Alexey Deryaga', '@ru_rbc'), ('阿慢', '@ru_rbc'), ('Святослав Русаков', '@ru_rbc'), ('Леонид Пустовин', '@ru_rbc'), ('Niko Putra', '@ru_rbc'), ('lanuhematonnel', '@ru_rbc'), ('Роман Баутин', '@ru_rbc'), ('Куралай', '@ru_rbc'), ('Дарья Кузнецова', '@ru_rbc'), ('Сергей Цикунков', '@ru_rbc'), ('DonPadloKoksobar🦈', '@ru_rbc'), ('Asgar', '@ru_rbc'), ('Андрей Степанов', '@ru_rbc'), ('Alexander Kim', '@ru_rbc'), ('Omowimozij', '@ru_rbc'), ('Hieininen', '@ru_rbc'), ('erefothanodu', '@ru_rbc'), ('Ratanitut', '@ru_rbc'), ('Игорь Пучков', '@ru_rbc'), ('Shireddin aslanov', '@ru_rbc'), ('Арген', '@ru_rbc'), ('Nuhonotunuther', '@ru_rbc'), ('Сергей Журавлев', '@ru_rbc'), ('hemalepoma', '@ru_rbc'), ('tedananalob', '@ru_rbc'), ('Трофим Харитонов', '@ru_rbc'), ('Aigul Xab', '@ru_rbc'), ('Tefijorina', '@ru_rbc'), ('Potapova Natalia', '@ru_rbc'), ('Санечка,ты снимаешь? 🔋', '@ru_rbc'), ('радной край', '@ru_rbc'), ('WorldWatcher', '@ru_rbc'), ('hitorunonetorow', '@ru_rbc'), ('Sairan Jarboldu', '@ru_rbc'), ('Returohalir', '@ru_rbc'), ('Tehapupesefetac', '@ru_rbc'), ('tesendedagog', '@ru_rbc'), ('Степан', '@ru_rbc'), ('Wehandewem', '@ru_rbc'), ('Inna Konnova', '@ru_rbc'), ('Павел Платонов', '@ru_rbc'), ('Ваня', '@ru_rbc'), ('Adl', '@ru_rbc'), ('Cryptoexplorer0711', '@ru_rbc'), ('Nicole Ruiz', '@ru_rbc'), ('оптический удар', '@ru_rbc'), ('Aleksey Ermolaev', '@ru_rbc'), ('nenoppiteth', '@ru_rbc'), ('Hohatetoululucu', '@ru_rbc'), ('Mikhail', '@ru_rbc'), ('ZARINA', '@ru_rbc'), ('Максим Лось', '@ru_rbc'), ('deremozowoono', '@ru_rbc'), ('Drew', '@ru_rbc'), ('Rasbora', '@ru_rbc'), ('lolope', '@ru_rbc'), ('Никита Сомоев 🇷🇺', '@ru_rbc'), ('На балконе в Кадыкей', '@ru_rbc'), ('Людмила Мирсаева', '@ru_rbc'), ('Nickolas Sarkisyan', '@ru_rbc'), ('Директор (властелин коллег)', '@ru_rbc'), ('Natalia Zarechneva', '@ru_rbc'), ('Helen Mikhailovskaya', '@ru_rbc'), ('Sad E', '@ru_rbc'), ('Кожомкулов', '@ru_rbc'), ('Merab M', '@ru_rbc'), ('Utounubeisaf', '@ru_rbc'), ('nowanofaiqiduw', '@ru_rbc'), ('motyA', '@ru_rbc'), ('rehiopejeanuni', '@ru_rbc'), ('Наталья Якобенко', '@ru_rbc'), ('Stan', '@ru_rbc'), ('Роман Сергеевич', '@ru_rbc'), ('rustam', '@ru_rbc'), ('Vera Smirnova', '@ru_rbc'), ('Дмитрий Шаблинский', '@ru_rbc'), ('Vasiliy Bichkov', '@ru_rbc'), ('maks kaverin', '@ru_rbc'), ('kirill krivoshapkin', '@ru_rbc'), ('Болат', '@ru_rbc'), ('IXTIYOR ODILOV', '@ru_rbc'), ('Knox Knowledge', '@ru_rbc'), ('Consulat Onorific', '@ru_rbc'), ('ELN DEV', '@ru_rbc'), ('Max', '@ru_rbc'), ('Sophia Clarence', '@ru_rbc'), ('Александр Медведев', '@ru_rbc'), ('Munchie', '@ru_rbc'), ('Tetiana', '@ru_rbc'), ('ㅋㅋㅋㅋㅋㅋ', '@ru_rbc'), ('Dominum', '@ru_rbc'), ('love', '@ru_rbc'), ('Gg Ol', '@ru_rbc'), ('Давид', '@ru_rbc'), ('Kostik228 (💙,🧡)', '@ru_rbc'), ('Olev Kotka', '@ru_rbc'), ('Sergey', '@ru_rbc'), ('Sergey', '@SvobodaRadio'), ('maaax_____', '@ru_rbc'), ('Mirelle', '@ru_rbc'), ('I.Wallau', '@ru_rbc'), ('Kevin Douglas', '@ru_rbc'), ('Анонимный iOS’ер', '@ru_rbc'), ('Екатерина Соколова', '@ru_rbc'), ('Алексей Бурсевич', '@ru_rbc'), ('Savin Serg', '@ru_rbc'), ('DecimalCrown', '@ru_rbc'), ('Бек Абдулов', '@ru_rbc'), ('Ас Su', '@ru_rbc'), ('Николай Силинский', '@ru_rbc'), ('molnia18 games', '@ru_rbc'), ('Анастасия', '@ru_rbc'), ('danny costa', '@ru_rbc'), ('Aston Astonzoda', '@ru_rbc'), ('Дарья б', '@ru_rbc'), ('Kote Gelashvili', '@ru_rbc'), ('Dmitriy Kalashnikov', '@ru_rbc'), ('Natasha Touzovskaia', '@ru_rbc'), ('028玖伍贰柒', '@ru_rbc'), ('Юра Андреев', '@ru_rbc'), ('Dmitri Sm', '@ru_rbc'), ('💤', '@ru_rbc'), ('Gennadii', '@ru_rbc'), ('ConorMoore', '@ru_rbc'), ('Сергей Васильевич', '@ru_rbc'), ('николай Унгур', '@ru_rbc'), ('Алексей Борзых', '@ru_rbc'), ('Laky', '@ru_rbc'), ('Nikolay Kaplin', '@ru_rbc'), ('Ирина Коновалова', '@ru_rbc'), ('Андрей Логинов', '@ru_rbc'), ('ТОП VAIN', '@ru_rbc'), ('Shadow Hide', '@ru_rbc'), ('vasas István', '@ru_rbc'), ('Олег Хисматуллин', '@ru_rbc'), ('Икром', '@ru_rbc'), ('Эдуард Шевченко (SEA)', '@ru_rbc'), ('Munteanu Jasmin', '@ru_rbc'), ('Маргарита Крыло́ва', '@ru_rbc'), ('Kulturamultura', '@ru_rbc'), ('Phantom 47', '@ru_rbc'), ('Фаррух Назуров', '@ru_rbc'), ('Фаррух Назуров', '@SvobodaRadio'), ('surald', '@ru_rbc'), ('Lucas Daniel Olivera', '@ru_rbc'), ('Равшан Бебутов', '@ru_rbc'), ('Dmitriy Dumkin', '@ru_rbc'), ('Виктор Arih', '@ru_rbc'), ('cc', '@ru_rbc'), ('Nikolai Grigoriev', '@ru_rbc'), ('Liliya', '@ru_rbc'), ('Андрей Музыченко', '@ru_rbc'), ('Данила Оршанский', '@ru_rbc'), ('Kurban Mamedov', '@ru_rbc'), ('Harvey Dent', '@ru_rbc'), ('Сергей Шапиро', '@ru_rbc'), ('Frank William Abagnale', '@ru_rbc'), ('Dumitru Rusu', '@ru_rbc'), ('Турал Зейналлы', '@ru_rbc'), ('Muana', '@ru_rbc'), ('Владимир Данилович Пак', '@ru_rbc'), ('Макс', '@ru_rbc'), ('Сергей Шустерман', '@ru_rbc'), ('Данил', '@ru_rbc'), ('Ольга Гарчева', '@ru_rbc'), ('Muhammed Riza', '@ru_rbc'), ('Tom Kerrigan', '@ru_rbc'), ('Stanislav', '@ru_rbc'), ('Stanislav', '@SvobodaRadio'), ('к ранам души', '@ru_rbc'), ('lolkik', '@ru_rbc'), ('Tofig Davudov', '@ru_rbc'), ('Natallia Chodosowska', '@ru_rbc'), ('Елена Лященко', '@ru_rbc'), ('Timur Isakov', '@ru_rbc'), ('Валентин', '@ru_rbc'), ('Žabba Blue', '@SvobodaRadio'), ('Andrius', '@SvobodaRadio'), ('Александр Черкасов', '@SvobodaRadio'), ('Vennikov Elena', '@SvobodaRadio'), ('Исматилло Жангихонов', '@SvobodaRadio'), ('Alex Levin 🇺🇲🇺🇦', '@SvobodaRadio'), ('Полина Черниковская', '@SvobodaRadio'), ('ОЛЬГА Меньших', '@SvobodaRadio'), ('Giorgi Koba', '@SvobodaRadio'), ('Dooron Kaldarov', '@SvobodaRadio'), ('Али', '@SvobodaRadio'), ('Roman Green', '@SvobodaRadio'), ('Leqso', '@SvobodaRadio'), ('Tvoy Razum \"(💙,🧡)\"', '@SvobodaRadio'), ('your', '@SvobodaRadio'), ('Nikolya 0311', '@SvobodaRadio'), ('Vera Grigoryeva', '@SvobodaRadio'), ('Nandy', '@SvobodaRadio'), ('Viltarin', '@SvobodaRadio'), ('Viacheslav', '@SvobodaRadio'), ('Grigori Draci', '@SvobodaRadio'), ('tolga yetil', '@SvobodaRadio'), ('Crypto', '@SvobodaRadio'), ('Ruslan', '@SvobodaRadio'), ('Tatiana Berhin', '@SvobodaRadio'), ('Анатолий Задверняк', '@SvobodaRadio'), ('Руслан Кулиев', '@SvobodaRadio'), ('Комил Аслидин', '@SvobodaRadio'), ('Вячеслав', '@SvobodaRadio'), ('саша🦑🦑', '@SvobodaRadio'), ('DesemberWiin00', '@SvobodaRadio'), ('Scorpion', '@SvobodaRadio'), ('Pavel', '@SvobodaRadio'), ('Мария Аргимбаева', '@SvobodaRadio'), ('Yury Mironenlo', '@SvobodaRadio'), ('jalmar pavlovec', '@SvobodaRadio'), ('Ordures à Bennes', '@SvobodaRadio'), ('Фируза Курбонова', '@SvobodaRadio'), ('Geoger', '@SvobodaRadio'), ('марго', '@SvobodaRadio'), ('Sherzod Khamidullaev', '@SvobodaRadio'), ('nuonlithuania', '@SvobodaRadio'), ('Ярик Давиденко (Yasha)', '@SvobodaRadio'), ('Віктор Романович', '@SvobodaRadio'), ('Сергей Ласевич', '@SvobodaRadio'), ('Clarita Zartman', '@SvobodaRadio'), ('Ирина Каминска', '@SvobodaRadio'), ('Мухамедали', '@SvobodaRadio'), ('Terloyeva', '@SvobodaRadio'), ('Нуриддин Шарипов', '@SvobodaRadio'), ('Kats Yanina', '@SvobodaRadio'), ('leonroy', '@SvobodaRadio'), ('Александр Мамонтов', '@SvobodaRadio'), ('Анастасия Глушко', '@SvobodaRadio'), ('Kolya Osten-Backen', '@SvobodaRadio'), ('littlerobbergirl🌻', '@SvobodaRadio'), ('Mutribsho', '@SvobodaRadio'), ('ирина', '@SvobodaRadio'), ('владимир высоцкий', '@SvobodaRadio'), ('Эдуард Ким', '@SvobodaRadio'), ('Ukrainian man', '@SvobodaRadio'), ('Muxammadjon Abdullaev', '@SvobodaRadio'), ('Мирзоолим', '@SvobodaRadio'), ('Сегрей Сергеев', '@SvobodaRadio'), ('نجیب', '@SvobodaRadio'), ('Андрей Лукаш', '@SvobodaRadio'), ('шлакоблокунь', '@SvobodaRadio'), ('Салтанат', '@SvobodaRadio'), ('Mohamed El alfy', '@SvobodaRadio'), ('Sarv', '@SvobodaRadio'), ('Геннадий', '@SvobodaRadio'), ('Аль фудайль', '@SvobodaRadio'), ('Hein Ivar', '@SvobodaRadio'), ('gintoxs', '@SvobodaRadio'), ('sunwukong', '@SvobodaRadio'), ('Расим Агаев', '@SvobodaRadio'), ('Саиднуъмон', '@SvobodaRadio'), ('Карина Бокша', '@SvobodaRadio'), ('Andrey Blinov', '@SvobodaRadio'), ('კახა დოჭვირი', '@SvobodaRadio'), ('Cherious', '@SvobodaRadio'), ('Armineh Grigorian', '@SvobodaRadio'), ('Vladimir Tartasіuk', '@SvobodaRadio'), ('Maria', '@SvobodaRadio'), ('Provinsjules', '@SvobodaRadio'), ('Дмитро Землянов', '@SvobodaRadio'), ('Farxod Norov', '@SvobodaRadio'), ('🌹Sarah🌹 || 🎄$TTC', '@SvobodaRadio'), ('Анастасия Хуина', '@SvobodaRadio'), ('maxsh', '@SvobodaRadio'), ('Музаффар', '@SvobodaRadio'), ('Роман Зеленский', '@SvobodaRadio'), ('Оксана', '@SvobodaRadio'), ('Дмитрий Пульников', '@SvobodaRadio'), ('Olcia Ostroushko', '@SvobodaRadio'), ('Сергей Трофимов', '@SvobodaRadio'), ('tranquiI', '@SvobodaRadio'), ('NoziroFF N', '@SvobodaRadio'), ('BAHAGIA ITU INDAH', '@SvobodaRadio'), ('Boris Burshtein', '@SvobodaRadio'), ('Boris.korg88', '@SvobodaRadio'), ('Mabel Rodriguez', '@SvobodaRadio'), ('Елена Прекрасная', '@SvobodaRadio'), ('Eduard Martirosyan', '@SvobodaRadio'), ('Mihael Katsev', '@SvobodaRadio'), ('DAVID Beleg', '@SvobodaRadio'), ('aleksandra', '@SvobodaRadio'), ('Family nft', '@SvobodaRadio'), ('Наташа Кислова', '@SvobodaRadio'), ('Казыбек Кожогелдиев', '@SvobodaRadio'), ('Yamach Pubgm', '@SvobodaRadio'), ('Ваня Мокан', '@SvobodaRadio'), ('Yevgeny Khodos', '@SvobodaRadio'), ('Bakdaulet Talgat', '@SvobodaRadio'), ('Vyacheslav Serebryakov', '@SvobodaRadio'), ('Iftikhor Shraliev', '@SvobodaRadio'), ('Dmytro Ivanov', '@SvobodaRadio'), ('Виктор Симонов', '@SvobodaRadio'), ('Владимир Старченко', '@SvobodaRadio'), ('Nikolay Grigorievich', '@SvobodaRadio'), ('Siti Munadiroh', '@SvobodaRadio'), ('Claudia Boyd', '@SvobodaRadio'), ('Александр Никулин', '@SvobodaRadio'), ('emil ibraev', '@SvobodaRadio'), ('Злата', '@SvobodaRadio'), ('вова симоненко', '@SvobodaRadio'), ('Alexandru Mihalachi', '@SvobodaRadio'), ('Zahir Esedov', '@SvobodaRadio'), ('Bobir Akhmedjanov', '@SvobodaRadio'), ('Volodumur Grisyuk', '@SvobodaRadio'), ('Ал-----рт', '@SvobodaRadio'), ('Generation Y', '@SvobodaRadio'), ('A Riazanski', '@SvobodaRadio'), ('Şamsi Akhmed', '@SvobodaRadio'), ('Rus', '@SvobodaRadio'), ('AMIR ALI', '@SvobodaRadio'), ('Иван Новышев', '@SvobodaRadio'), ('Дмитрий Закабунин', '@SvobodaRadio'), ('Владимир', '@SvobodaRadio'), ('MoniR HoseN', '@SvobodaRadio'), ('Нана', '@SvobodaRadio'), ('Sergei Safin', '@SvobodaRadio'), ('VITALY EL', '@SvobodaRadio'), ('Donda', '@SvobodaRadio'), ('дочь маминой подруги', '@SvobodaRadio'), ('Aslan Akshin', '@SvobodaRadio'), ('Талгат', '@SvobodaRadio'), ('Віта Голєва', '@SvobodaRadio'), ('Rasulov_04', '@SvobodaRadio'), ('Вячеслав Витвицкий', '@SvobodaRadio'), ('History of the conspiracy / История заговора', '@SvobodaRadio'), ('Сиёвуш Разоков', '@SvobodaRadio'), ('LRBN', '@SvobodaRadio'), ('Яўхім', '@SvobodaRadio'), ('Sasha NHK', '@SvobodaRadio'), ('Alla Danik', '@SvobodaRadio'), ('galina Sylima', '@SvobodaRadio'), ('дуделка с бананом', '@SvobodaRadio'), ('stepan', '@SvobodaRadio'), ('Roman Juve', '@SvobodaRadio'), ('Евгений Русин', '@SvobodaRadio'), ('Larrf', '@SvobodaRadio'), ('Михаил Username', '@SvobodaRadio'), ('Maryaka', '@SvobodaRadio'), ('Nurbek', '@SvobodaRadio'), ('Ор, дед, фениксы', '@SvobodaRadio'), ('Константин Лавров', '@SvobodaRadio'), ('лиза', '@SvobodaRadio'), ('Larissa Pitkenina', '@SvobodaRadio'), ('Muhammad 54', '@SvobodaRadio'), ('Petro Protsiv', '@SvobodaRadio'), ('Jamshed', '@SvobodaRadio'), ('Нет войне! 💙💛🕊️🙏🌏', '@SvobodaRadio'), ('Abu Halas', '@SvobodaRadio'), ('Александр Власов', '@SvobodaRadio'), ('Valerii', '@SvobodaRadio'), ('ion', '@SvobodaRadio'), ('бешеный сканер', '@SvobodaRadio'), ('Khatuna Mamisbedashvili', '@SvobodaRadio'), ('Genadi Kravets', '@SvobodaRadio'), ('Олег Звеков', '@SvobodaRadio'), ('Mkrtich Mkrtchyan', '@SvobodaRadio'), ('evgen', '@SvobodaRadio'), ('мирабелла маграуд', '@SvobodaRadio'), ('אפטר ניסים', '@SvobodaRadio'), ('Murodjon Eshboyev', '@SvobodaRadio'), ('Раис Правдоруб', '@SvobodaRadio'), ('maruf', '@SvobodaRadio'), ('Renatas Katilius', '@SvobodaRadio'), ('Azamat Bilalov', '@SvobodaRadio'), ('Natalie', '@SvobodaRadio'), ('Datu Man', '@SvobodaRadio'), ('Hokim Valiev', '@SvobodaRadio'), ('alpaca1900', '@SvobodaRadio'), ('steven mazurskih', '@SvobodaRadio'), ('Evgeny', '@SvobodaRadio'), ('Fade Asaf', '@SvobodaRadio'), ('mishka', '@SvobodaRadio'), ('Anatoliy Buzdalin', '@SvobodaRadio'), ('Romero Shelby', '@SvobodaRadio'), ('Hoji Bekov', '@SvobodaRadio'), ('Илхом Тохиров', '@SvobodaRadio'), ('Людмила', '@SvobodaRadio'), ('Nunadievis', '@SvobodaRadio'), ('Dmitrij Krahn', '@SvobodaRadio'), ('Ainura Ermeeva', '@SvobodaRadio'), ('ida sveinhaug', '@SvobodaRadio'), ('Вадим Назаренко', '@SvobodaRadio'), ('Виктор Романенко', '@SvobodaRadio'), ('Босайхан Жумабеков', '@SvobodaRadio'), ('King Lion', '@SvobodaRadio'), ('Ilyas Sarsenbaev', '@SvobodaRadio'), ('Ximin | ARG', '@SvobodaRadio'), ('Ivan Karasov', '@SvobodaRadio'), ('ирина быстрова', '@SvobodaRadio'), ('Владимир Мудров', '@SvobodaRadio'), ('Сухроб Мирзобаев', '@SvobodaRadio'), ('luuuuul 2', '@SvobodaRadio'), ('Samuel Felipe', '@SvobodaRadio'), ('Peach', '@SvobodaRadio'), ('Abdukodir Abdusattarov', '@SvobodaRadio'), ('cezar nichiforac', '@SvobodaRadio'), ('ulia lanna', '@SvobodaRadio'), ('Олег Сорока', '@SvobodaRadio'), ('Ong Chong Yee (ichi1996.crypto)', '@SvobodaRadio'), ('Andrei Timofееv', '@SvobodaRadio'), ('татьяна симонова', '@SvobodaRadio'), ('Віктор Тарасенко', '@SvobodaRadio'), ('morik', '@SvobodaRadio'), ('olga mark', '@SvobodaRadio'), ('Сергій Шунько', '@SvobodaRadio'), ('Galinochka', '@SvobodaRadio'), ('Robert', '@SvobodaRadio'), ('Александр Зеленский', '@SvobodaRadio'), ('Дядя Саша', '@SvobodaRadio'), ('Олег Хромов', '@SvobodaRadio'), ('сидим пердим', '@SvobodaRadio'), ('Pashtet_coins', '@SvobodaRadio'), ('Jonsnow', '@SvobodaRadio'), ('Nurdaulet Zharylkapov', '@SvobodaRadio'), ('Yana', '@SvobodaRadio'), ('Hasitha Leanage', '@SvobodaRadio'), ('Curt B.', '@SvobodaRadio'), ('Anastasia Nathans', '@SvobodaRadio'), ('Pirat', '@SvobodaRadio'), ('Андрей Грачёв', '@SvobodaRadio'), ('Saidbek Abduraimov', '@SvobodaRadio'), ('D.V.Zion', '@SvobodaRadio'), ('Татьяна Татьяна', '@SvobodaRadio'), ('DD', '@SvobodaRadio'), ('Moscow Apartments', '@SvobodaRadio'), ('Bakyt Tursaliev', '@SvobodaRadio'), ('Таежный ревизор', '@SvobodaRadio'), ('Сергей', '@SvobodaRadio'), ('Ellen Muniz', '@SvobodaRadio'), ('Irons', '@SvobodaRadio'), ('Антоніна Левченко', '@SvobodaRadio'), ('Iulian Andriuta', '@SvobodaRadio'), ('Anton Belkin', '@SvobodaRadio'), ('Сергій Ференець', '@SvobodaRadio'), ('Jerry Rodriguez', '@SvobodaRadio'), ('стелла', '@SvobodaRadio'), ('Анатолій Антоненко', '@SvobodaRadio'), ('сейитбек ажиканов', '@SvobodaRadio'), ('Инна', '@SvobodaRadio'), ('John', '@SvobodaRadio'), ('Ilya Osterman', '@SvobodaRadio'), ('Субхон Марупов', '@SvobodaRadio'), ('Boris Nedov', '@SvobodaRadio'), ('Vladimir Slavinsky', '@SvobodaRadio'), ('Johnny', '@SvobodaRadio'), ('Сырский Сергей', '@SvobodaRadio'), ('Aleksei Aleksei', '@SvobodaRadio'), ('Виктория Туманская', '@SvobodaRadio'), ('Special Operative Rizzo', '@SvobodaRadio'), ('Тетяна Богатко', '@SvobodaRadio'), ('timer.ge', '@SvobodaRadio'), ('Александр Яскевич', '@SvobodaRadio'), ('Serge Ovcharenko', '@SvobodaRadio'), ('Manus Aeon', '@SvobodaRadio'), ('petrovich', '@SvobodaRadio'), ('Лена Васильева', '@SvobodaRadio'), ('СЕРГЕЙ ГРИГОРЯН', '@SvobodaRadio'), ('дмитрий чехлов', '@SvobodaRadio'), ('Nataliia', '@SvobodaRadio'), ('Katusiime', '@SvobodaRadio'), ('Bob67', '@SvobodaRadio'), ('Gala', '@SvobodaRadio'), ('Морл Оеелелел', '@SvobodaRadio'), ('Эд', '@SvobodaRadio'), ('Вячеслав Кошмила', '@SvobodaRadio'), ('Denis Vladimirovich', '@SvobodaRadio'), ('Кристина Власюк', '@SvobodaRadio'), ('Neuron Shop', '@SvobodaRadio'), ('Irina Sokolova', '@SvobodaRadio'), ('Катерина Могильна', '@SvobodaRadio'), ('Ololosh Ololoew', '@SvobodaRadio'), ('SHYRIK NIKOLAEV', '@SvobodaRadio'), ('جيش التحرير الشعبي اليمني', '@SvobodaRadio'), ('Markian Kuzmowycz 🌻', '@SvobodaRadio'), ('юнус', '@SvobodaRadio'), ('Vasil Zoll', '@SvobodaRadio'), ('Виталий Виталий', '@SvobodaRadio'), ('Реналь Таюпов', '@SvobodaRadio'), ('СинійВітер', '@SvobodaRadio'), ('Kalicha Alikulova', '@SvobodaRadio'), ('giorgi', '@SvobodaRadio'), ('Sevara Sevara', '@SvobodaRadio'), ('Rimvydas Bajorinas', '@SvobodaRadio'), ('Зарем Заиров', '@SvobodaRadio'), ('maRti', '@SvobodaRadio'), ('Kris Muntz', '@SvobodaRadio'), ('Олександр Мохнач', '@SvobodaRadio'), ('Alex&Alis', '@SvobodaRadio'), ('Daler', '@SvobodaRadio'), ('volodymir', '@SvobodaRadio'), ('Iurasco Sergiu', '@SvobodaRadio'), ('Alexey Vasilyev', '@SvobodaRadio'), ('Скрепный цитатник', '@SvobodaRadio'), ('Зокир Холжигитов', '@SvobodaRadio'), ('SHAHBOZ RAKHMATOV', '@SvobodaRadio'), ('leftist drainer \\U0001faa9', '@SvobodaRadio'), ('erno demjen', '@SvobodaRadio'), ('мухамед', '@SvobodaRadio'), ('Артур Манойленко', '@SvobodaRadio'), ('Sino Khisainov', '@SvobodaRadio'), ('Alexandrbar', '@SvobodaRadio'), ('JF', '@SvobodaRadio'), ('Leszek Nowak', '@SvobodaRadio'), ('Игорь Милько', '@SvobodaRadio'), ('Andriy Lazorka', '@SvobodaRadio'), ('Fayzullo Dadajonov', '@SvobodaRadio'), ('Marufjon Toxtasinov', '@SvobodaRadio'), ('Ravshanbek Abdukadirov', '@SvobodaRadio'), ('Върбан', '@SvobodaRadio'), ('Andreu Semenukandreu', '@SvobodaRadio'), ('QiZiQMi ?', '@SvobodaRadio'), ('Eugene Hashchuk', '@SvobodaRadio'), ('Анушка', '@SvobodaRadio'), ('Monica Miller', '@SvobodaRadio'), ('Анатолий Сальников', '@SvobodaRadio'), ('Aniemigos 🏳️\\u200d🌈', '@SvobodaRadio'), ('костян', '@SvobodaRadio'), ('Vladimir Marchukov', '@SvobodaRadio'), ('Петя Xiaome', '@SvobodaRadio'), ('Дима Будревич', '@SvobodaRadio'), ('Mishsqx', '@SvobodaRadio'), ('Нг гс', '@SvobodaRadio'), ('Кобил Имомов', '@SvobodaRadio'), ('killPut$404$n.NotFound', '@SvobodaRadio'), ('Sahil', '@SvobodaRadio'), ('Руслан Яроцкий', '@SvobodaRadio'), ('Hutu', '@SvobodaRadio'), ('MariaSky', '@SvobodaRadio'), ('pavel kotorobai', '@SvobodaRadio'), ('Mason Harvey', '@SvobodaRadio'), ('Xamidullo Ulmasov', '@SvobodaRadio'), ('Акмал Мусоев', '@SvobodaRadio'), ('28 декабря 1997 г.', '@SvobodaRadio'), ('mubariz', '@SvobodaRadio'), ('zlatusik', '@SvobodaRadio'), ('944994411', '@SvobodaRadio'), ('kickbox', '@SvobodaRadio'), ('Andrey IMN', '@SvobodaRadio'), ('ngochuyen0612', '@SvobodaRadio'), ('Ylsaint Wenson', '@SvobodaRadio'), ('Alecks Galley', '@SvobodaRadio'), ('vaska', '@SvobodaRadio'), ('Oleksandr Gladyshko', '@SvobodaRadio'), ('Анатолий', '@SvobodaRadio'), ('ход перевод', '@SvobodaRadio'), ('Emomali', '@SvobodaRadio'), ('Malekula', '@SvobodaRadio'), ('Ingvaridze', '@SvobodaRadio'), ('Prakash rathore', '@SvobodaRadio'), ('алишер шукуров', '@SvobodaRadio'), ('Аттракцион щедрости', '@SvobodaRadio'), ('Александр Гаврилов', '@SvobodaRadio'), ('шерали', '@SvobodaRadio'), ('Renat', '@SvobodaRadio'), ('Бахтовар Баротов', '@SvobodaRadio'), ('Хамид Нуридинов', '@SvobodaRadio'), ('Мишка Квакин', '@SvobodaRadio'), ('Jekabs Kleins', '@SvobodaRadio'), ('Ratundra production', '@SvobodaRadio'), ('Тяжелое поведение', '@SvobodaRadio'), ('Aigera Kalymzhanova', '@SvobodaRadio'), ('Anatol', '@SvobodaRadio'), ('KUZICH', '@SvobodaRadio'), ('Dumitru Guma', '@SvobodaRadio'), ('Amiran', '@SvobodaRadio'), ('Tetiana Kovalenko', '@SvobodaRadio'), ('Lats', '@SvobodaRadio'), ('martin lakosil', '@SvobodaRadio'), ('Temo', '@SvobodaRadio'), ('Vakhobov', '@SvobodaRadio'), ('Arda Oktay', '@SvobodaRadio'), ('Serdar Eymirov', '@SvobodaRadio'), ('Спаска Александрова', '@SvobodaRadio'), ('Tina Rocha', '@SvobodaRadio'), ('Leslie Abney', '@SvobodaRadio'), ('Варвара Овсянникова', '@SvobodaRadio'), ('Николай Андрущак', '@SvobodaRadio'), ('komron nemonov', '@SvobodaRadio'), ('kate.net', '@SvobodaRadio'), ('Nickolas Foxwell', '@SvobodaRadio'), ('Сергей Петров', '@SvobodaRadio'), ('IM Sevostianov Pavel', '@SvobodaRadio'), ('Doctor Sadiq khan', '@SvobodaRadio'), ('nadia zozulia', '@SvobodaRadio'), ('Светлана Ананко', '@SvobodaRadio'), ('Roma EXP', '@SvobodaRadio'), ('MOna Ibrahim', '@SvobodaRadio'), ('Elena Rozhkova', '@SvobodaRadio'), ('Doniallia Webb', '@SvobodaRadio'), ('Artūrs Vanceris', '@SvobodaRadio'), ('arina', '@SvobodaRadio'), ('Ахмадали Рахимбердиев', '@SvobodaRadio'), ('Mwc', '@SvobodaRadio'), ('muhibullo holov', '@SvobodaRadio'), ('Eduard Gasumjants', '@SvobodaRadio'), ('Саня Хатмулин', '@SvobodaRadio'), ('Violetta', '@SvobodaRadio'), ('Ганболд Дорж', '@SvobodaRadio'), ('ash', '@SvobodaRadio'), ('Karaganda Mapper', '@SvobodaRadio'), ('Антонина Иванова', '@SvobodaRadio'), ('Azimbek', '@SvobodaRadio'), ('....', '@SvobodaRadio'), ('Аслиддин', '@SvobodaRadio'), ('Saba gochilaidze', '@SvobodaRadio'), ('Серик', '@SvobodaRadio'), ('Ahmadjon Tohirzoda', '@SvobodaRadio'), ('souS_teRiyaki', '@SvobodaRadio'), ('Andey', '@SvobodaRadio'), ('Alexandr', '@SvobodaRadio'), ('Ліза Харахаш', '@SvobodaRadio'), ('Rambutan', '@SvobodaRadio'), ('🇺🇦 C.A. Tim Gravett 🇨🇦 🍁🇺🇸🇺🇦', '@SvobodaRadio'), ('Aki Scirpion', '@SvobodaRadio'), ('((🆆3🅱🆂🅰🅶3))', '@SvobodaRadio'), ('Алексей Захаров', '@SvobodaRadio'), ('Alex S', '@SvobodaRadio'), ('Валентина Слюсар', '@SvobodaRadio'), ('Тамара Мороз', '@SvobodaRadio'), ('Nadinator94', '@SvobodaRadio'), ('Maxmud Nazarov', '@SvobodaRadio'), ('Qodirhon Botirjanov', '@SvobodaRadio'), ('Bismallah Khoshdil', '@SvobodaRadio'), ('Valensia', '@SvobodaRadio'), ('legio ner', '@SvobodaRadio'), ('Валерий', '@SvobodaRadio'), ('Vad', '@SvobodaRadio'), ('Ihor Humeniuk', '@SvobodaRadio'), ('Andriy Misko', '@SvobodaRadio'), ('Елена Еременко-Андреева', '@SvobodaRadio'), ('Bory Bory', '@SvobodaRadio'), ('Юрий Скрынников', '@SvobodaRadio'), ('Булки Захарової', '@SvobodaRadio'), ('Сергей Сергеев', '@SvobodaRadio'), ('Настя', '@SvobodaRadio'), ('R. Wladimir S.', '@SvobodaRadio'), ('Vladimir Gerasimov', '@SvobodaRadio'), ('Ivan Ivanov', '@SvobodaRadio'), ('Максим Дашкевич', '@SvobodaRadio'), ('Max Arbuzov', '@SvobodaRadio'), ('Нет друзей на закате', '@SvobodaRadio'), ('TEMREZ', '@SvobodaRadio'), ('Олександр Самойленко', '@SvobodaRadio'), ('Daniel M.', '@SvobodaRadio'), ('Мухаммад Мухаммад', '@SvobodaRadio'), ('Vladymyr Rabenok', '@SvobodaRadio'), ('Mr Dan', '@SvobodaRadio'), ('Шероз Хакимов', '@SvobodaRadio'), ('Биҳишти руйи замин ТОҶИКИСТОНАМ!', '@SvobodaRadio'), ('sethlon', '@SvobodaRadio'), ('Khurshedjon Rustamov', '@SvobodaRadio'), ('Sunnat', '@SvobodaRadio'), ('александр стадник', '@SvobodaRadio'), ('Дониёр Нусратов', '@SvobodaRadio'), ('Колісник Руслан', '@SvobodaRadio'), ('Анатолий Кузуб', '@SvobodaRadio'), ('🐈', '@SvobodaRadio'), ('Анжела Алло', '@SvobodaRadio'), ('Oksana Syrvarovska', '@SvobodaRadio'), ('Настя Коровина', '@SvobodaRadio'), ('Dr. Joshua', '@SvobodaRadio'), ('Max Tanaka', '@SvobodaRadio'), ('Илья', '@SvobodaRadio'), ('Alexander Geiro', '@SvobodaRadio'), ('Mukhammadali', '@SvobodaRadio'), ('Slava Nort', '@SvobodaRadio'), ('macpawspace', '@SvobodaRadio'), ('Razmo Karapetyan', '@SvobodaRadio'), ('iii ooo', '@SvobodaRadio'), ('Yashar emlak', '@SvobodaRadio'), ('Malu Ficent', '@SvobodaRadio'), ('Peter Pantke', '@SvobodaRadio'), ('Егор Алгазин', '@SvobodaRadio'), ('Artush Ghazaryan', '@SvobodaRadio'), ('No name', '@SvobodaRadio'), ('Сермухамбет', '@SvobodaRadio'), ('Tatjana', '@SvobodaRadio'), ('Oleg Busmanov', '@SvobodaRadio'), ('Ramaz Gvarishvili', '@SvobodaRadio'), ('Leo Moses', '@SvobodaRadio'), ('Руслан Критюк', '@SvobodaRadio'), ('Хушнуд 2010', '@SvobodaRadio'), ('Makszz77', '@SvobodaRadio'), ('Ева', '@SvobodaRadio'), ('Umarov Daler', '@SvobodaRadio'), ('Улмас Чориев', '@SvobodaRadio'), ('ANASJON NEGMATOV', '@SvobodaRadio'), ('Pr.Farnsworth', '@SvobodaRadio'), ('Хусрав Насридинов', '@SvobodaRadio'), ('bebbe123', '@SvobodaRadio'), ('Gttgtt', '@SvobodaRadio'), ('Иван Лангуев', '@SvobodaRadio'), ('Юрий Матвейков', '@SvobodaRadio'), ('Бесстыдник', '@SvobodaRadio'), ('Erica Zavala', '@SvobodaRadio'), ('Misty Brown', '@SvobodaRadio'), ('Andre_ja Pokorná🇺🇦🕊️', '@SvobodaRadio'), ('Эдуард', '@SvobodaRadio'), ('New User', '@SvobodaRadio'), ('Р.Туяа', '@SvobodaRadio'), ('Shuhrat Kamilov', '@SvobodaRadio'), ('CumDowns', '@SvobodaRadio'), ('Juan Manuel Arbeloa Cidoncha', '@SvobodaRadio'), ('Серёга с выставки ВанГога', '@SvobodaRadio'), ('Алексей Zапрудноff', '@SvobodaRadio'), ('Kross - Gen', '@SvobodaRadio'), ('Michele Jones', '@SvobodaRadio'), ('Лысый Коршун🛸', '@SvobodaRadio'), ('Umid Aytbayev', '@SvobodaRadio'), ('Eugene', '@SvobodaRadio'), ('Антон Садовник', '@SvobodaRadio'), ('Старий Пірат', '@SvobodaRadio'), ('sabrina', '@SvobodaRadio'), ('Alla Ostapchuk', '@SvobodaRadio'), ('valijon2008', '@SvobodaRadio'), ('sany samy', '@SvobodaRadio'), ('Vlad Sheiko', '@SvobodaRadio'), ('TerraEternity', '@SvobodaRadio'), ('Павел Михайлович', '@SvobodaRadio'), ('Locs', '@SvobodaRadio'), ('Наталья Фридман', '@SvobodaRadio'), ('Ирина Ляшенко', '@SvobodaRadio'), ('Rashid Huja', '@SvobodaRadio'), ('Кавайный Лобзик', '@SvobodaRadio'), ('Joni', '@SvobodaRadio'), ('Nicole Adams', '@SvobodaRadio'), ('Tatyana Nikitchenko', '@SvobodaRadio'), ('Azam Apple', '@SvobodaRadio'), ('SETRO', '@SvobodaRadio'), ('Старець Пігідій', '@SvobodaRadio'), ('bradstplug', '@SvobodaRadio'), ('Clover Frostwaker', '@SvobodaRadio'), ('Pejskov Dmitrij S.', '@SvobodaRadio'), ('Кондратий ⛧', '@SvobodaRadio'), ('Мукагали Санакулов', '@SvobodaRadio'), ('jonas', '@SvobodaRadio'), ('Stefan', '@SvobodaRadio'), ('Linda Wilson', '@SvobodaRadio'), ('Evgeniy', '@SvobodaRadio'), ('Вячеслав Вербицкий', '@SvobodaRadio'), ('Andreas', '@SvobodaRadio'), ('Yuliia Zemliakova', '@SvobodaRadio'), ('АБУБАКР НОЗАНИН', '@SvobodaRadio'), ('Irina Aleksandrova', '@SvobodaRadio'), ('Хундай', '@SvobodaRadio'), ('Lamro Arthur', '@SvobodaRadio'), ('переломный момент позвоночника', '@SvobodaRadio'), ('Ventsi', '@SvobodaRadio'), ('Игорь Сокол', '@SvobodaRadio'), ('IrinaYu', '@SvobodaRadio'), ('Саша . Сулава', '@SvobodaRadio'), ('Miron', '@SvobodaRadio'), ('nina klyukina', '@SvobodaRadio'), ('Птица', '@SvobodaRadio'), ('Dmitry', '@SvobodaRadio'), ('RAHMATJON', '@SvobodaRadio'), ('Svitlana Onufrii', '@SvobodaRadio'), ('Korkem Zhumashkina', '@SvobodaRadio'), ('Lauren Holmes', '@SvobodaRadio'), ('Evgeniy Makar', '@SvobodaRadio'), ('Володя Чепурной', '@SvobodaRadio'), ('Зена Королева Воинов', '@SvobodaRadio'), ('Кирилл Рыбин', '@SvobodaRadio'), ('Stephany1', '@SvobodaRadio'), ('Megan', '@SvobodaRadio'), ('Robert Nolton', '@SvobodaRadio'), ('sharifjon rahimov', '@SvobodaRadio'), ('Фаридун Шокиров', '@SvobodaRadio'), ('@@@@@@@', '@SvobodaRadio'), ('Евгений Меркулов', '@SvobodaRadio'), ('Сухроб Абдурахимов', '@SvobodaRadio'), ('Zoya Kinstler', '@SvobodaRadio'), ('Сухробхон Исмоилов', '@SvobodaRadio'), ('Tojiddin Sirojov', '@SvobodaRadio'), ('Danya', '@SvobodaRadio'), ('𝔏𝔞𝔷𝔢𝔯 𝔗𝔥𝔬𝔪𝔭𝔰𝔬𝔫 © ℗', '@SvobodaRadio'), ('NickZ', '@SvobodaRadio'), ('LIC HERNANDO CARDENAS', '@SvobodaRadio'), ('esmaeil', '@SvobodaRadio'), ('Crocodile Gennadi', '@SvobodaRadio'), ('РОап Ппп', '@SvobodaRadio'), ('Desh.tjk', '@SvobodaRadio'), ('Sarah Bates', '@SvobodaRadio'), ('Leopold', '@SvobodaRadio'), ('Mykola Svydran` (Forsher)', '@SvobodaRadio'), ('Картина мясом', '@SvobodaRadio'), ('Omitanofitoubef', '@SvobodaRadio'), ('Андрей Кондратенко', '@SvobodaRadio'), ('паша воля', '@SvobodaRadio'), ('Anna Movsesyan', '@SvobodaRadio'), ('Mirzoev Muhammad', '@SvobodaRadio'), ('Den', '@SvobodaRadio'), ('Fedy', '@SvobodaRadio'), ('BENDERA STEPAN', '@SvobodaRadio'), ('Sukhumi Denzel', '@SvobodaRadio'), ('Djub', '@SvobodaRadio'), ('ЦДАЕА', '@SvobodaRadio'), ('Иброхим Шарифов', '@SvobodaRadio'), ('Исроил Якубов', '@SvobodaRadio'), ('Мухаммаджон Утбасаров', '@SvobodaRadio'), ('Regina Hill', '@SvobodaRadio'), ('Andriy', '@SvobodaRadio'), ('IrB', '@SvobodaRadio'), ('JulBari', '@SvobodaRadio'), ('экспедиция в никуда', '@SvobodaRadio'), ('oldmammut', '@SvobodaRadio'), ('палки деньги два двора', '@SvobodaRadio'), ('019asvx', '@SvobodaRadio'), ('Сметана Сметановна', '@SvobodaRadio'), ('Сергей Кривенко', '@SvobodaRadio'), ('Мария Загоровская', '@SvobodaRadio'), ('rem san', '@SvobodaRadio'), ('Dima', '@SvobodaRadio'), ('gg', '@SvobodaRadio'), ('Kira Orions', '@SvobodaRadio'), ('Дмитрий Комаров', '@SvobodaRadio'), ('عبدالوهاب', '@SvobodaRadio'), ('Nurullo Ergashev', '@SvobodaRadio'), ('Ihar Haro', '@SvobodaRadio'), ('Ахмаджон', '@SvobodaRadio'), ('абдурахим', '@SvobodaRadio'), ('Наталі Кільчевська', '@SvobodaRadio'), ('Marko.M', '@SvobodaRadio'), ('Габит', '@SvobodaRadio'), ('случайный прохожий', '@SvobodaRadio'), ('Aruan Shaukenov', '@SvobodaRadio'), ('Muhammad Ali', '@SvobodaRadio'), ('Yan Sivashcko', '@SvobodaRadio'), ('Лего самоделки', '@SvobodaRadio'), ('Lochinbek Allamuratov', '@SvobodaRadio'), ('Gefaestus', '@SvobodaRadio'), ('Ника Батук', '@SvobodaRadio'), ('Сергей Самохвалов', '@SvobodaRadio'), ('Gleb Sokolov', '@SvobodaRadio'), ('Wildfire Cat', '@SvobodaRadio'), ('honto no neko', '@SvobodaRadio'), ('Andrejs Borovkovs', '@SvobodaRadio'), ('Biloljon Qodirv', '@SvobodaRadio'), ('Дмитрий Чахлэу', '@SvobodaRadio'), ('Игорь Гуреев', '@SvobodaRadio'), ('Conea Valeriu', '@SvobodaRadio'), ('Mahir Eyvazov', '@SvobodaRadio'), ('Марат', '@SvobodaRadio'), ('John Lackland', '@SvobodaRadio'), ('Вальдемар Смирнов', '@SvobodaRadio'), ('AkvaservisGL', '@SvobodaRadio'), ('Антонина Гончаренко', '@SvobodaRadio'), ('Xander Paul', '@SvobodaRadio'), ('Slava', '@SvobodaRadio'), ('Dmitry Zyravlev', '@SvobodaRadio'), ('Adil', '@SvobodaRadio'), ('Миранда Жидкова', '@SvobodaRadio'), ('Світлана Чубук', '@SvobodaRadio'), ('Али Рамазанов', '@SvobodaRadio'), ('Рустам', '@SvobodaRadio'), ('Бабенко Олександр', '@SvobodaRadio'), ('Павел Ефремов', '@SvobodaRadio'), ('Лилия Земляная', '@SvobodaRadio'), ('LK\\U0001f90d💙\\U0001f90d', '@SvobodaRadio'), ('Хамза Сангинов', '@SvobodaRadio'), ('bob', '@SvobodaRadio'), ('Алексей Гопак', '@SvobodaRadio'), ('Нурасхан Токсанбаев', '@SvobodaRadio'), ('Rafu Kygyrov', '@SvobodaRadio'), ('Красотка', '@SvobodaRadio'), ('valeria smith', '@SvobodaRadio'), ('Шавкат Набиев', '@SvobodaRadio'), ('Григорий', '@SvobodaRadio'), ('Samir Musoev', '@SvobodaRadio'), ('нозимзода шарофиддин', '@SvobodaRadio'), ('Gbulanova', '@SvobodaRadio'), ('марям', '@SvobodaRadio'), ('Timporello', '@SvobodaRadio'), ('Евгений Любезнов', '@SvobodaRadio'), ('Viktor Zhornyak', '@SvobodaRadio'), ('Awayfromputin', '@SvobodaRadio'), ('Уну Уна', '@SvobodaRadio'), ('Eugene Donnik', '@SvobodaRadio'), ('Sumay Behzodzoda', '@SvobodaRadio'), ('firdavs', '@SvobodaRadio'), ('Дінмұхамед', '@SvobodaRadio'), ('Wiljams', '@SvobodaRadio'), ('Tall Guy 🔞', '@SvobodaRadio'), ('taratata', '@SvobodaRadio'), ('набиев набичон', '@SvobodaRadio'), ('❌Don Hamster de Shawshank🇪🇸🇺🇦❌ (aka Бегущий)', '@SvobodaRadio'), ('ibeaded.com', '@SvobodaRadio'), ('Алина про фарму', '@SvobodaRadio'), ('Serhii', '@SvobodaRadio'), ('Ashlee Cummings', '@SvobodaRadio'), ('Keny G', '@SvobodaRadio'), ('lok1zz | 61', '@SvobodaRadio'), ('Odessa Ukraine Dnipro', '@SvobodaRadio'), ('Тимур', '@SvobodaRadio'), ('Ислом Авлияев', '@SvobodaRadio'), ('Leyla', '@SvobodaRadio'), ('Nicole Cottrill', '@SvobodaRadio'), ('prostozashel', '@SvobodaRadio'), ('Кирилл Чигирин', '@SvobodaRadio'), ('Sandy Alicandro', '@SvobodaRadio'), ('Vahit Sultanov', '@SvobodaRadio'), ('𝘛𝘪𝘮 𝘈. 𝘓𝘢𝘳𝘴𝘰𝘯', '@SvobodaRadio'), ('Тимур Баразбиев', '@SvobodaRadio'), ('Roman Kudriashov', '@SvobodaRadio'), ('Issayev Erkin', '@SvobodaRadio'), ('Dawn Cox', '@SvobodaRadio'), ('Владислав Седов', '@SvobodaRadio'), ('Ibraghimov.i', '@SvobodaRadio'), ('Storm Rain', '@SvobodaRadio'), ('Шарипов Сухайли', '@SvobodaRadio'), ('Ruzanna Dadyan', '@SvobodaRadio'), ('Xinhao Fortunata', '@SvobodaRadio'), ('lukas zvezdovas', '@SvobodaRadio'), ('Артем Фочук', '@SvobodaRadio'), ('Аня Миронова', '@SvobodaRadio'), ('Света Черней', '@SvobodaRadio'), ('nikolai boyadjiev', '@SvobodaRadio'), ('Emil Buba', '@SvobodaRadio'), ('Azbilirkişi', '@SvobodaRadio'), ('Alex Merlin', '@SvobodaRadio'), ('Ángel🌻', '@SvobodaRadio'), ('Denis Klimov', '@SvobodaRadio'), ('nikicak', '@SvobodaRadio'), ('An', '@SvobodaRadio'), ('фаррух', '@SvobodaRadio'), ('Arcrun martirosyan', '@SvobodaRadio'), ('Рая Шубаева', '@SvobodaRadio'), ('neonilla', '@SvobodaRadio'), ('Валентин Ткачук', '@SvobodaRadio'), ('Kairat Sultanbek', '@SvobodaRadio'), ('CIRCLE', '@SvobodaRadio'), ('SOHIL.4249', '@SvobodaRadio'), ('daria', '@SvobodaRadio'), ('федрос федрос', '@SvobodaRadio'), ('Аким', '@SvobodaRadio'), ('asel', '@SvobodaRadio'), ('игорь', '@SvobodaRadio'), ('Сулейман', '@SvobodaRadio'), ('Алексей Рогач', '@SvobodaRadio'), ('Madina Karimdodova', '@SvobodaRadio'), ('Аlexander', '@SvobodaRadio'), ('Vladimir Zigarevich', '@SvobodaRadio'), ('ART', '@SvobodaRadio'), ('yo1q1v', '@SvobodaRadio'), ('Hashmatullah saadat', '@SvobodaRadio'), ('Arman', '@SvobodaRadio'), ('стефф', '@SvobodaRadio'), ('Андрей Погорелов', '@SvobodaRadio'), ('szur', '@SvobodaRadio'), ('Михайло', '@SvobodaRadio'), ('👫 ИИСУС НАШ СПАСИТЕЛЬ', '@SvobodaRadio'), ('umbet seksenbayev', '@SvobodaRadio'), ('Fiodor logvinenko', '@SvobodaRadio'), ('Muhammadnabi', '@SvobodaRadio'), ('VTKuts', '@SvobodaRadio'), ('Alex Mishkin', '@SvobodaRadio'), ('N', '@SvobodaRadio'), ('Vytautas.N', '@SvobodaRadio'), ('mate xeladze', '@SvobodaRadio'), ('Vitalik Ryabokozhushniy', '@SvobodaRadio'), ('Руслан Ганзюк', '@SvobodaRadio'), ('Махфиратбегим', '@SvobodaRadio'), ('Aisha Usenova', '@SvobodaRadio'), ('Жаныбек Чоробаев', '@SvobodaRadio'), ('Zulqaynar Hudayqulov', '@SvobodaRadio'), ('Nicolae Mereuta', '@SvobodaRadio'), ('bultik', '@SvobodaRadio'), ('Егор Григорьев', '@SvobodaRadio'), ('Vladimir Fedorenko', '@SvobodaRadio'), ('NightBirdSava Women', '@SvobodaRadio'), ('Эмилия', '@SvobodaRadio'), ('Максим Иванов', '@SvobodaRadio'), ('Zzzz Mmmm', '@SvobodaRadio'), ('Augustin Zelenka', '@SvobodaRadio'), ('Антон «speeller» Маршенюк', '@SvobodaRadio'), ('Татьяна Середкина', '@SvobodaRadio'), ('Ярослава', '@SvobodaRadio'), ('Arif Lbrahimi', '@SvobodaRadio'), ('Natalija Gavrilova', '@SvobodaRadio'), ('Malik', '@SvobodaRadio'), ('Nikolay Churlyaev', '@SvobodaRadio'), ('nigora.rustamovna.99@mail.ru', '@SvobodaRadio'), ('Luda', '@SvobodaRadio'), ('Azizjon Pirmukhamedov', '@SvobodaRadio'), ('Ieva', '@SvobodaRadio'), ('Roma Dovganchuk', '@SvobodaRadio'), ('Максат Панов', '@SvobodaRadio'), ('Angela Wallace', '@SvobodaRadio'), ('kirichenko.k', '@SvobodaRadio'), ('marina shteynberg', '@SvobodaRadio'), ('умар', '@SvobodaRadio'), ('Aziz Timp', '@SvobodaRadio'), ('Игорь Сотников', '@SvobodaRadio'), ('mirfuad@mail.ru', '@SvobodaRadio'), ('serega', '@SvobodaRadio'), ('мухаммадюнус кувватов', '@SvobodaRadio'), ('Pečka', '@SvobodaRadio'), ('Roman Gabisonia', '@SvobodaRadio'), ('AntonnY195', '@SvobodaRadio'), ('АдмиралъБенболовъ', '@SvobodaRadio'), ('Диловар Рахматов', '@SvobodaRadio')])"
     },
     "execution_count": 46,
     "metadata": {},
     "output_type": "execute_result"
    }
   ],
   "source": [
    "print(\"Running analysis on the network...\")\n",
    "\n",
    "# https://subscription.packtpub.com/book/big-data-and-business-intelligence/9781789955316/7\n",
    "\n",
    "G.edges"
   ],
   "metadata": {
    "collapsed": false
   }
  },
  {
   "cell_type": "code",
   "execution_count": 47,
   "outputs": [
    {
     "data": {
      "text/plain": "OutEdgeView([('公言鑫', '@ru_rbc'), ('Роман неверов', '@ru_rbc'), ('Rodion', '@ru_rbc'), ('Алексей Казаков', '@ru_rbc'), ('Vit Xak', '@ru_rbc'), ('Elyor Elyor', '@ru_rbc'), ('Hassan Riaz', '@ru_rbc'), ('Олег Карнаух', '@ru_rbc'), ('Андрей Фролов', '@ru_rbc'), ('Виктория Новик', '@ru_rbc'), ('Костюхин Сергей', '@ru_rbc'), ('WA', '@ru_rbc'), ('Андрей КАП', '@ru_rbc'), ('Garnik Avagyan', '@ru_rbc'), ('Anton Baukov', '@ru_rbc'), ('sweetdreamslizz', '@ru_rbc'), ('Zayniddin Hasanov', '@ru_rbc'), ('Danny Moore', '@ru_rbc'), ('john roger', '@ru_rbc'), ('Татьяна Терентьева', '@ru_rbc'), ('CasualReader', '@ru_rbc'), ('Саня Грин', '@ru_rbc'), ('Андрей', '@ru_rbc'), ('Viliana Titova', '@ru_rbc'), ('Сергій', '@ru_rbc'), ('Владимир Потокин', '@ru_rbc'), ('Yashar Ismaylov', '@ru_rbc'), ('rt', '@ru_rbc'), ('Aleksandr', '@ru_rbc'), ('Surush', '@ru_rbc'), ('Dmitry Bazekin', '@ru_rbc'), ('Zaira', '@ru_rbc'), ('Амалия Шорн', '@ru_rbc'), ('Alex', '@ru_rbc'), ('Inter Studio', '@ru_rbc'), ('N.V.', '@ru_rbc'), ('Бобе Денкин', '@ru_rbc'), ('Мансур Назаров', '@ru_rbc'), ('Haichuan gen', '@ru_rbc'), ('Валерий Евсин', '@ru_rbc'), ('Даниил Сибрин', '@ru_rbc'), ('Бакытжан Асылкан', '@ru_rbc'), ('Set Mortensen', '@ru_rbc'), ('Vladimir', '@ru_rbc'), ('Ростислав Жабинец', '@ru_rbc'), ('ivanrussia', '@ru_rbc'), ('Манчестер Юнайтед', '@ru_rbc'), ('Balloon Brothers', '@ru_rbc'), ('Pletunoff', '@ru_rbc'), ('Мария Цуканова', '@ru_rbc'), ('Dmitrii Smirnov', '@ru_rbc'), ('Gulia', '@ru_rbc'), ('mutavali', '@ru_rbc'), ('samsara', '@ru_rbc'), ('Татьяна Леонова', '@ru_rbc'), ('Александр Матвейчук', '@ru_rbc'), ('Kostya', '@ru_rbc'), ('Galina', '@ru_rbc'), ('Тимофей Тё', '@ru_rbc'), ('Рустам Султангалиев', '@ru_rbc'), ('Misha UR', '@ru_rbc'), ('valera karaman', '@ru_rbc'), ('dionisovich', '@ru_rbc'), ('Кирилл', '@ru_rbc'), ('горячий ромарио', '@ru_rbc'), ('Гелос Шабонов', '@ru_rbc'), ('Алена', '@ru_rbc'), ('Владимир Федянин', '@ru_rbc'), ('Alexander Dageron', '@ru_rbc'), ('Максим Игнатьев', '@ru_rbc'), ('Демид', '@ru_rbc'), ('Bethany Kimmet', '@ru_rbc'), ('Ronin Barnes', '@ru_rbc'), ('Ru.by', '@ru_rbc'), ('Aдилет Дуйшембиев', '@ru_rbc'), ('Матвей Кудряшов', '@ru_rbc'), ('Lari Sergiu', '@ru_rbc'), ('Gulliver007', '@ru_rbc'), ('Равиль Нафиков', '@ru_rbc'), ('Jazzman603', '@ru_rbc'), ('Мария', '@ru_rbc'), ('Олег Виллонен', '@ru_rbc'), ('Батал Гамгия', '@ru_rbc'), ('Ирина Ясакова', '@ru_rbc'), ('Рамазан Ахметов', '@ru_rbc'), ('太阳', '@ru_rbc'), ('Елена Кузнецова', '@ru_rbc'), ('Mila', '@ru_rbc'), ('IVAN LOBYNICHEV', '@ru_rbc'), ('I❤🇺🇦', '@ru_rbc'), ('Marina S.', '@ru_rbc'), ('Тагир Садретдинов', '@ru_rbc'), ('Qizzbo', '@ru_rbc'), ('Ralyube', '@ru_rbc'), ('Sherzod Akhmedov', '@ru_rbc'), ('Almaz Makhmut', '@ru_rbc'), ('Babek Al-Khalili', '@ru_rbc'), ('Александр Курюкин', '@ru_rbc'), ('ETHEREUM_BOSS', '@ru_rbc')])"
     },
     "execution_count": 47,
     "metadata": {},
     "output_type": "execute_result"
    }
   ],
   "source": [
    "subgraph.edges"
   ],
   "metadata": {
    "collapsed": false
   }
  },
  {
   "cell_type": "code",
   "execution_count": 48,
   "outputs": [
    {
     "ename": "TypeError",
     "evalue": "'<' not supported between instances of 'float' and 'str'",
     "output_type": "error",
     "traceback": [
      "\u001B[0;31m---------------------------------------------------------------------------\u001B[0m",
      "\u001B[0;31mTypeError\u001B[0m                                 Traceback (most recent call last)",
      "\u001B[0;32m/var/folders/4l/kfc4gh5d1jn6zkrmv51vvbyw0000gn/T/ipykernel_92412/1502143343.py\u001B[0m in \u001B[0;36m<module>\u001B[0;34m\u001B[0m\n\u001B[1;32m      5\u001B[0m \u001B[0;31m# identifying communities within the network\u001B[0m\u001B[0;34m\u001B[0m\u001B[0;34m\u001B[0m\u001B[0;34m\u001B[0m\u001B[0m\n\u001B[1;32m      6\u001B[0m twitter_communities = sorted(nxcom.greedy_modularity_communities(G,\n\u001B[0;32m----> 7\u001B[0;31m                                                                  weight=None),\n\u001B[0m\u001B[1;32m      8\u001B[0m                              \u001B[0mkey\u001B[0m\u001B[0;34m=\u001B[0m\u001B[0mlen\u001B[0m\u001B[0;34m,\u001B[0m\u001B[0;34m\u001B[0m\u001B[0;34m\u001B[0m\u001B[0m\n\u001B[1;32m      9\u001B[0m                              reverse=True)\n",
      "\u001B[0;32m~/NYU-Fall-2022/info_vis/confirmation-bias-vis/venv/lib/python3.7/site-packages/networkx/algorithms/community/modularity_max.py\u001B[0m in \u001B[0;36mgreedy_modularity_communities\u001B[0;34m(G, weight, resolution, n_communities)\u001B[0m\n\u001B[1;32m    115\u001B[0m     \u001B[0;31m# Use -dq to get a max_heap instead of a min_heap\u001B[0m\u001B[0;34m\u001B[0m\u001B[0;34m\u001B[0m\u001B[0;34m\u001B[0m\u001B[0m\n\u001B[1;32m    116\u001B[0m     \u001B[0;31m# dq_heap holds a heap for each node's neighbors\u001B[0m\u001B[0;34m\u001B[0m\u001B[0;34m\u001B[0m\u001B[0;34m\u001B[0m\u001B[0m\n\u001B[0;32m--> 117\u001B[0;31m     \u001B[0mdq_heap\u001B[0m \u001B[0;34m=\u001B[0m \u001B[0;34m{\u001B[0m\u001B[0mu\u001B[0m\u001B[0;34m:\u001B[0m \u001B[0mMappedQueue\u001B[0m\u001B[0;34m(\u001B[0m\u001B[0;34m{\u001B[0m\u001B[0;34m(\u001B[0m\u001B[0mu\u001B[0m\u001B[0;34m,\u001B[0m \u001B[0mv\u001B[0m\u001B[0;34m)\u001B[0m\u001B[0;34m:\u001B[0m \u001B[0;34m-\u001B[0m\u001B[0mdq\u001B[0m \u001B[0;32mfor\u001B[0m \u001B[0mv\u001B[0m\u001B[0;34m,\u001B[0m \u001B[0mdq\u001B[0m \u001B[0;32min\u001B[0m \u001B[0mdq_dict\u001B[0m\u001B[0;34m[\u001B[0m\u001B[0mu\u001B[0m\u001B[0;34m]\u001B[0m\u001B[0;34m.\u001B[0m\u001B[0mitems\u001B[0m\u001B[0;34m(\u001B[0m\u001B[0;34m)\u001B[0m\u001B[0;34m}\u001B[0m\u001B[0;34m)\u001B[0m \u001B[0;32mfor\u001B[0m \u001B[0mu\u001B[0m \u001B[0;32min\u001B[0m \u001B[0mG\u001B[0m\u001B[0;34m}\u001B[0m\u001B[0;34m\u001B[0m\u001B[0;34m\u001B[0m\u001B[0m\n\u001B[0m\u001B[1;32m    118\u001B[0m     \u001B[0;31m# H -> all_dq_heap holds a heap with the best items for each node\u001B[0m\u001B[0;34m\u001B[0m\u001B[0;34m\u001B[0m\u001B[0;34m\u001B[0m\u001B[0m\n\u001B[1;32m    119\u001B[0m     \u001B[0mH\u001B[0m \u001B[0;34m=\u001B[0m \u001B[0mMappedQueue\u001B[0m\u001B[0;34m(\u001B[0m\u001B[0;34m[\u001B[0m\u001B[0mdq_heap\u001B[0m\u001B[0;34m[\u001B[0m\u001B[0mn\u001B[0m\u001B[0;34m]\u001B[0m\u001B[0;34m.\u001B[0m\u001B[0mheap\u001B[0m\u001B[0;34m[\u001B[0m\u001B[0;36m0\u001B[0m\u001B[0;34m]\u001B[0m \u001B[0;32mfor\u001B[0m \u001B[0mn\u001B[0m \u001B[0;32min\u001B[0m \u001B[0mG\u001B[0m \u001B[0;32mif\u001B[0m \u001B[0mlen\u001B[0m\u001B[0;34m(\u001B[0m\u001B[0mdq_heap\u001B[0m\u001B[0;34m[\u001B[0m\u001B[0mn\u001B[0m\u001B[0;34m]\u001B[0m\u001B[0;34m)\u001B[0m \u001B[0;34m>\u001B[0m \u001B[0;36m0\u001B[0m\u001B[0;34m]\u001B[0m\u001B[0;34m)\u001B[0m\u001B[0;34m\u001B[0m\u001B[0;34m\u001B[0m\u001B[0m\n",
      "\u001B[0;32m~/NYU-Fall-2022/info_vis/confirmation-bias-vis/venv/lib/python3.7/site-packages/networkx/algorithms/community/modularity_max.py\u001B[0m in \u001B[0;36m<dictcomp>\u001B[0;34m(.0)\u001B[0m\n\u001B[1;32m    115\u001B[0m     \u001B[0;31m# Use -dq to get a max_heap instead of a min_heap\u001B[0m\u001B[0;34m\u001B[0m\u001B[0;34m\u001B[0m\u001B[0;34m\u001B[0m\u001B[0m\n\u001B[1;32m    116\u001B[0m     \u001B[0;31m# dq_heap holds a heap for each node's neighbors\u001B[0m\u001B[0;34m\u001B[0m\u001B[0;34m\u001B[0m\u001B[0;34m\u001B[0m\u001B[0m\n\u001B[0;32m--> 117\u001B[0;31m     \u001B[0mdq_heap\u001B[0m \u001B[0;34m=\u001B[0m \u001B[0;34m{\u001B[0m\u001B[0mu\u001B[0m\u001B[0;34m:\u001B[0m \u001B[0mMappedQueue\u001B[0m\u001B[0;34m(\u001B[0m\u001B[0;34m{\u001B[0m\u001B[0;34m(\u001B[0m\u001B[0mu\u001B[0m\u001B[0;34m,\u001B[0m \u001B[0mv\u001B[0m\u001B[0;34m)\u001B[0m\u001B[0;34m:\u001B[0m \u001B[0;34m-\u001B[0m\u001B[0mdq\u001B[0m \u001B[0;32mfor\u001B[0m \u001B[0mv\u001B[0m\u001B[0;34m,\u001B[0m \u001B[0mdq\u001B[0m \u001B[0;32min\u001B[0m \u001B[0mdq_dict\u001B[0m\u001B[0;34m[\u001B[0m\u001B[0mu\u001B[0m\u001B[0;34m]\u001B[0m\u001B[0;34m.\u001B[0m\u001B[0mitems\u001B[0m\u001B[0;34m(\u001B[0m\u001B[0;34m)\u001B[0m\u001B[0;34m}\u001B[0m\u001B[0;34m)\u001B[0m \u001B[0;32mfor\u001B[0m \u001B[0mu\u001B[0m \u001B[0;32min\u001B[0m \u001B[0mG\u001B[0m\u001B[0;34m}\u001B[0m\u001B[0;34m\u001B[0m\u001B[0;34m\u001B[0m\u001B[0m\n\u001B[0m\u001B[1;32m    118\u001B[0m     \u001B[0;31m# H -> all_dq_heap holds a heap with the best items for each node\u001B[0m\u001B[0;34m\u001B[0m\u001B[0;34m\u001B[0m\u001B[0;34m\u001B[0m\u001B[0m\n\u001B[1;32m    119\u001B[0m     \u001B[0mH\u001B[0m \u001B[0;34m=\u001B[0m \u001B[0mMappedQueue\u001B[0m\u001B[0;34m(\u001B[0m\u001B[0;34m[\u001B[0m\u001B[0mdq_heap\u001B[0m\u001B[0;34m[\u001B[0m\u001B[0mn\u001B[0m\u001B[0;34m]\u001B[0m\u001B[0;34m.\u001B[0m\u001B[0mheap\u001B[0m\u001B[0;34m[\u001B[0m\u001B[0;36m0\u001B[0m\u001B[0;34m]\u001B[0m \u001B[0;32mfor\u001B[0m \u001B[0mn\u001B[0m \u001B[0;32min\u001B[0m \u001B[0mG\u001B[0m \u001B[0;32mif\u001B[0m \u001B[0mlen\u001B[0m\u001B[0;34m(\u001B[0m\u001B[0mdq_heap\u001B[0m\u001B[0;34m[\u001B[0m\u001B[0mn\u001B[0m\u001B[0;34m]\u001B[0m\u001B[0;34m)\u001B[0m \u001B[0;34m>\u001B[0m \u001B[0;36m0\u001B[0m\u001B[0;34m]\u001B[0m\u001B[0;34m)\u001B[0m\u001B[0;34m\u001B[0m\u001B[0;34m\u001B[0m\u001B[0m\n",
      "\u001B[0;32m~/NYU-Fall-2022/info_vis/confirmation-bias-vis/venv/lib/python3.7/site-packages/networkx/utils/mapped_queue.py\u001B[0m in \u001B[0;36m__init__\u001B[0;34m(self, data)\u001B[0m\n\u001B[1;32m    130\u001B[0m             \u001B[0mself\u001B[0m\u001B[0;34m.\u001B[0m\u001B[0mheap\u001B[0m \u001B[0;34m=\u001B[0m \u001B[0mlist\u001B[0m\u001B[0;34m(\u001B[0m\u001B[0mdata\u001B[0m\u001B[0;34m)\u001B[0m\u001B[0;34m\u001B[0m\u001B[0;34m\u001B[0m\u001B[0m\n\u001B[1;32m    131\u001B[0m         \u001B[0mself\u001B[0m\u001B[0;34m.\u001B[0m\u001B[0mposition\u001B[0m \u001B[0;34m=\u001B[0m \u001B[0mdict\u001B[0m\u001B[0;34m(\u001B[0m\u001B[0;34m)\u001B[0m\u001B[0;34m\u001B[0m\u001B[0;34m\u001B[0m\u001B[0m\n\u001B[0;32m--> 132\u001B[0;31m         \u001B[0mself\u001B[0m\u001B[0;34m.\u001B[0m\u001B[0m_heapify\u001B[0m\u001B[0;34m(\u001B[0m\u001B[0;34m)\u001B[0m\u001B[0;34m\u001B[0m\u001B[0;34m\u001B[0m\u001B[0m\n\u001B[0m\u001B[1;32m    133\u001B[0m \u001B[0;34m\u001B[0m\u001B[0m\n\u001B[1;32m    134\u001B[0m     \u001B[0;32mdef\u001B[0m \u001B[0m_heapify\u001B[0m\u001B[0;34m(\u001B[0m\u001B[0mself\u001B[0m\u001B[0;34m)\u001B[0m\u001B[0;34m:\u001B[0m\u001B[0;34m\u001B[0m\u001B[0;34m\u001B[0m\u001B[0m\n",
      "\u001B[0;32m~/NYU-Fall-2022/info_vis/confirmation-bias-vis/venv/lib/python3.7/site-packages/networkx/utils/mapped_queue.py\u001B[0m in \u001B[0;36m_heapify\u001B[0;34m(self)\u001B[0m\n\u001B[1;32m    134\u001B[0m     \u001B[0;32mdef\u001B[0m \u001B[0m_heapify\u001B[0m\u001B[0;34m(\u001B[0m\u001B[0mself\u001B[0m\u001B[0;34m)\u001B[0m\u001B[0;34m:\u001B[0m\u001B[0;34m\u001B[0m\u001B[0;34m\u001B[0m\u001B[0m\n\u001B[1;32m    135\u001B[0m         \u001B[0;34m\"\"\"Restore heap invariant and recalculate map.\"\"\"\u001B[0m\u001B[0;34m\u001B[0m\u001B[0;34m\u001B[0m\u001B[0m\n\u001B[0;32m--> 136\u001B[0;31m         \u001B[0mheapq\u001B[0m\u001B[0;34m.\u001B[0m\u001B[0mheapify\u001B[0m\u001B[0;34m(\u001B[0m\u001B[0mself\u001B[0m\u001B[0;34m.\u001B[0m\u001B[0mheap\u001B[0m\u001B[0;34m)\u001B[0m\u001B[0;34m\u001B[0m\u001B[0;34m\u001B[0m\u001B[0m\n\u001B[0m\u001B[1;32m    137\u001B[0m         \u001B[0mself\u001B[0m\u001B[0;34m.\u001B[0m\u001B[0mposition\u001B[0m \u001B[0;34m=\u001B[0m \u001B[0;34m{\u001B[0m\u001B[0melt\u001B[0m\u001B[0;34m:\u001B[0m \u001B[0mpos\u001B[0m \u001B[0;32mfor\u001B[0m \u001B[0mpos\u001B[0m\u001B[0;34m,\u001B[0m \u001B[0melt\u001B[0m \u001B[0;32min\u001B[0m \u001B[0menumerate\u001B[0m\u001B[0;34m(\u001B[0m\u001B[0mself\u001B[0m\u001B[0;34m.\u001B[0m\u001B[0mheap\u001B[0m\u001B[0;34m)\u001B[0m\u001B[0;34m}\u001B[0m\u001B[0;34m\u001B[0m\u001B[0;34m\u001B[0m\u001B[0m\n\u001B[1;32m    138\u001B[0m         \u001B[0;32mif\u001B[0m \u001B[0mlen\u001B[0m\u001B[0;34m(\u001B[0m\u001B[0mself\u001B[0m\u001B[0;34m.\u001B[0m\u001B[0mheap\u001B[0m\u001B[0;34m)\u001B[0m \u001B[0;34m!=\u001B[0m \u001B[0mlen\u001B[0m\u001B[0;34m(\u001B[0m\u001B[0mself\u001B[0m\u001B[0;34m.\u001B[0m\u001B[0mposition\u001B[0m\u001B[0;34m)\u001B[0m\u001B[0;34m:\u001B[0m\u001B[0;34m\u001B[0m\u001B[0;34m\u001B[0m\u001B[0m\n",
      "\u001B[0;32m~/NYU-Fall-2022/info_vis/confirmation-bias-vis/venv/lib/python3.7/site-packages/networkx/utils/mapped_queue.py\u001B[0m in \u001B[0;36m__lt__\u001B[0;34m(self, other)\u001B[0m\n\u001B[1;32m     44\u001B[0m         \u001B[0;31m# assume comparing to another _HeapElement\u001B[0m\u001B[0;34m\u001B[0m\u001B[0;34m\u001B[0m\u001B[0;34m\u001B[0m\u001B[0m\n\u001B[1;32m     45\u001B[0m         \u001B[0;32mif\u001B[0m \u001B[0mself\u001B[0m\u001B[0;34m.\u001B[0m\u001B[0mpriority\u001B[0m \u001B[0;34m==\u001B[0m \u001B[0mother_priority\u001B[0m\u001B[0;34m:\u001B[0m\u001B[0;34m\u001B[0m\u001B[0;34m\u001B[0m\u001B[0m\n\u001B[0;32m---> 46\u001B[0;31m             \u001B[0;32mreturn\u001B[0m \u001B[0mself\u001B[0m\u001B[0;34m.\u001B[0m\u001B[0melement\u001B[0m \u001B[0;34m<\u001B[0m \u001B[0mother\u001B[0m\u001B[0;34m.\u001B[0m\u001B[0melement\u001B[0m\u001B[0;34m\u001B[0m\u001B[0;34m\u001B[0m\u001B[0m\n\u001B[0m\u001B[1;32m     47\u001B[0m         \u001B[0;32mreturn\u001B[0m \u001B[0mself\u001B[0m\u001B[0;34m.\u001B[0m\u001B[0mpriority\u001B[0m \u001B[0;34m<\u001B[0m \u001B[0mother_priority\u001B[0m\u001B[0;34m\u001B[0m\u001B[0;34m\u001B[0m\u001B[0m\n\u001B[1;32m     48\u001B[0m \u001B[0;34m\u001B[0m\u001B[0m\n",
      "\u001B[0;31mTypeError\u001B[0m: '<' not supported between instances of 'float' and 'str'"
     ]
    }
   ],
   "source": [
    "# probability some bad values are in dataframe that have incorrect type\n",
    "# TODO: CREATE COMMUNITIES BY HAND, YOU KNOW WHAT THEY ARE\n",
    "\n",
    "import networkx.algorithms.community as nxcom\n",
    "\n",
    "# identifying communities within the network\n",
    "twitter_communities = sorted(nxcom.greedy_modularity_communities(G,\n",
    "                                                                 weight=None),\n",
    "                             key=len,\n",
    "                             reverse=True)"
   ],
   "metadata": {
    "collapsed": false
   }
  },
  {
   "cell_type": "code",
   "execution_count": 49,
   "outputs": [
    {
     "ename": "NameError",
     "evalue": "name 'twitter_communities' is not defined",
     "output_type": "error",
     "traceback": [
      "\u001B[0;31m---------------------------------------------------------------------------\u001B[0m",
      "\u001B[0;31mNameError\u001B[0m                                 Traceback (most recent call last)",
      "\u001B[0;32m/var/folders/4l/kfc4gh5d1jn6zkrmv51vvbyw0000gn/T/ipykernel_92412/665098508.py\u001B[0m in \u001B[0;36m<module>\u001B[0;34m\u001B[0m\n\u001B[0;32m----> 1\u001B[0;31m \u001B[0mprint\u001B[0m\u001B[0;34m(\u001B[0m\u001B[0;34m\"The number of communities detected is \"\u001B[0m\u001B[0;34m,\u001B[0m \u001B[0mlen\u001B[0m\u001B[0;34m(\u001B[0m\u001B[0mtwitter_communities\u001B[0m\u001B[0;34m)\u001B[0m\u001B[0;34m)\u001B[0m\u001B[0;34m\u001B[0m\u001B[0;34m\u001B[0m\u001B[0m\n\u001B[0m\u001B[1;32m      2\u001B[0m \u001B[0mprint\u001B[0m\u001B[0;34m(\u001B[0m\u001B[0;34m\"The communities detected are \"\u001B[0m\u001B[0;34m,\u001B[0m \u001B[0mtwitter_communities\u001B[0m\u001B[0;34m)\u001B[0m\u001B[0;34m\u001B[0m\u001B[0;34m\u001B[0m\u001B[0m\n",
      "\u001B[0;31mNameError\u001B[0m: name 'twitter_communities' is not defined"
     ]
    }
   ],
   "source": [
    "print(\"The number of communities detected is \", len(twitter_communities))\n",
    "print(\"The communities detected are \", twitter_communities)"
   ],
   "metadata": {
    "collapsed": false
   }
  },
  {
   "cell_type": "code",
   "execution_count": 124,
   "outputs": [
    {
     "name": "stdout",
     "output_type": "stream",
     "text": [
      "Visualizing Identified Communities\n"
     ]
    }
   ],
   "source": [
    "print(\"Visualizing Identified Communities\")\n",
    "\n",
    "def set_node_community(G, communities):\n",
    "    '''Add community to node attributes'''\n",
    "    for c, v_c in enumerate(communities):\n",
    "        for v in v_c:\n",
    "            # Add 1 to save 0 for external edges\n",
    "            G.nodes[v]['community'] = c + 1\n",
    "\n",
    "def set_edge_community(G):\n",
    "    '''Find internal edges and add their community to their attributes'''\n",
    "    for v, w, in G.edges:\n",
    "        if G.nodes[v]['community'] == G.nodes[w]['community']:\n",
    "            # Internal edge, mark with community\n",
    "            G.edges[v, w]['community'] = G.nodes[v]['community']\n",
    "        else:\n",
    "            # External edge, mark as 0\n",
    "            G.edges[v, w]['community'] = 0"
   ],
   "metadata": {
    "collapsed": false
   }
  },
  {
   "cell_type": "code",
   "execution_count": 125,
   "outputs": [],
   "source": [
    "def get_color(i, r_off=1, g_off=1, b_off=1):\n",
    "    r0, g0, b0 = 0, 0, 0\n",
    "    n = 16\n",
    "    low, high = 0.1, 0.9\n",
    "    span = high - low\n",
    "    r = low + span * (((i + r_off) * 3) % n) / (n - 1)\n",
    "    g = low + span * (((i + g_off) * 5) % n) / (n - 1)\n",
    "    b = low + span * (((i + b_off) * 7) % n) / (n - 1)\n",
    "    return (r, g, b)"
   ],
   "metadata": {
    "collapsed": false
   }
  },
  {
   "cell_type": "code",
   "execution_count": 126,
   "outputs": [
    {
     "ename": "KeyError",
     "evalue": "'community'",
     "output_type": "error",
     "traceback": [
      "\u001B[0;31m---------------------------------------------------------------------------\u001B[0m",
      "\u001B[0;31mKeyError\u001B[0m                                  Traceback (most recent call last)",
      "\u001B[0;32m/var/folders/4l/kfc4gh5d1jn6zkrmv51vvbyw0000gn/T/ipykernel_91034/1015109808.py\u001B[0m in \u001B[0;36m<module>\u001B[0;34m\u001B[0m\n\u001B[1;32m      1\u001B[0m \u001B[0;31m# Set node and edge communities\u001B[0m\u001B[0;34m\u001B[0m\u001B[0;34m\u001B[0m\u001B[0;34m\u001B[0m\u001B[0m\n\u001B[1;32m      2\u001B[0m \u001B[0mset_node_community\u001B[0m\u001B[0;34m(\u001B[0m\u001B[0mG\u001B[0m\u001B[0;34m,\u001B[0m \u001B[0mtwitter_communities\u001B[0m\u001B[0;34m)\u001B[0m\u001B[0;34m\u001B[0m\u001B[0;34m\u001B[0m\u001B[0m\n\u001B[0;32m----> 3\u001B[0;31m \u001B[0mset_edge_community\u001B[0m\u001B[0;34m(\u001B[0m\u001B[0mG\u001B[0m\u001B[0;34m)\u001B[0m\u001B[0;34m\u001B[0m\u001B[0;34m\u001B[0m\u001B[0m\n\u001B[0m\u001B[1;32m      4\u001B[0m \u001B[0;34m\u001B[0m\u001B[0m\n\u001B[1;32m      5\u001B[0m \u001B[0;31m# Set community color for nodes\u001B[0m\u001B[0;34m\u001B[0m\u001B[0;34m\u001B[0m\u001B[0;34m\u001B[0m\u001B[0m\n",
      "\u001B[0;32m/var/folders/4l/kfc4gh5d1jn6zkrmv51vvbyw0000gn/T/ipykernel_91034/3408237246.py\u001B[0m in \u001B[0;36mset_edge_community\u001B[0;34m(G)\u001B[0m\n\u001B[1;32m     11\u001B[0m     \u001B[0;34m'''Find internal edges and add their community to their attributes'''\u001B[0m\u001B[0;34m\u001B[0m\u001B[0;34m\u001B[0m\u001B[0m\n\u001B[1;32m     12\u001B[0m     \u001B[0;32mfor\u001B[0m \u001B[0mv\u001B[0m\u001B[0;34m,\u001B[0m \u001B[0mw\u001B[0m\u001B[0;34m,\u001B[0m \u001B[0;32min\u001B[0m \u001B[0mG\u001B[0m\u001B[0;34m.\u001B[0m\u001B[0medges\u001B[0m\u001B[0;34m:\u001B[0m\u001B[0;34m\u001B[0m\u001B[0;34m\u001B[0m\u001B[0m\n\u001B[0;32m---> 13\u001B[0;31m         \u001B[0;32mif\u001B[0m \u001B[0mG\u001B[0m\u001B[0;34m.\u001B[0m\u001B[0mnodes\u001B[0m\u001B[0;34m[\u001B[0m\u001B[0mv\u001B[0m\u001B[0;34m]\u001B[0m\u001B[0;34m[\u001B[0m\u001B[0;34m'community'\u001B[0m\u001B[0;34m]\u001B[0m \u001B[0;34m==\u001B[0m \u001B[0mG\u001B[0m\u001B[0;34m.\u001B[0m\u001B[0mnodes\u001B[0m\u001B[0;34m[\u001B[0m\u001B[0mw\u001B[0m\u001B[0;34m]\u001B[0m\u001B[0;34m[\u001B[0m\u001B[0;34m'community'\u001B[0m\u001B[0;34m]\u001B[0m\u001B[0;34m:\u001B[0m\u001B[0;34m\u001B[0m\u001B[0;34m\u001B[0m\u001B[0m\n\u001B[0m\u001B[1;32m     14\u001B[0m             \u001B[0;31m# Internal edge, mark with community\u001B[0m\u001B[0;34m\u001B[0m\u001B[0;34m\u001B[0m\u001B[0;34m\u001B[0m\u001B[0m\n\u001B[1;32m     15\u001B[0m             \u001B[0mG\u001B[0m\u001B[0;34m.\u001B[0m\u001B[0medges\u001B[0m\u001B[0;34m[\u001B[0m\u001B[0mv\u001B[0m\u001B[0;34m,\u001B[0m \u001B[0mw\u001B[0m\u001B[0;34m]\u001B[0m\u001B[0;34m[\u001B[0m\u001B[0;34m'community'\u001B[0m\u001B[0;34m]\u001B[0m \u001B[0;34m=\u001B[0m \u001B[0mG\u001B[0m\u001B[0;34m.\u001B[0m\u001B[0mnodes\u001B[0m\u001B[0;34m[\u001B[0m\u001B[0mv\u001B[0m\u001B[0;34m]\u001B[0m\u001B[0;34m[\u001B[0m\u001B[0;34m'community'\u001B[0m\u001B[0;34m]\u001B[0m\u001B[0;34m\u001B[0m\u001B[0;34m\u001B[0m\u001B[0m\n",
      "\u001B[0;31mKeyError\u001B[0m: 'community'"
     ]
    }
   ],
   "source": [
    "# Set node and edge communities\n",
    "set_node_community(G, twitter_communities)\n",
    "set_edge_community(G)\n",
    "\n",
    "# Set community color for nodes\n",
    "node_color = [\n",
    "    get_color(G.nodes[v]['community'])\n",
    "    for v in G.nodes]\n",
    "\n",
    "# Set community color for internal edges\n",
    "external = [\n",
    "    (v, w) for v, w in G.edges\n",
    "    if G.edges[v, w]['community'] == 0]\n",
    "\n",
    "internal = [\n",
    "    (v, w) for v, w in G.edges\n",
    "    if G.edges[v, w]['community'] > 0]\n",
    "\n",
    "internal_color = [\n",
    "    get_color(G.edges[e]['community'])\n",
    "    for e in internal]"
   ],
   "metadata": {
    "collapsed": false
   }
  },
  {
   "cell_type": "code",
   "execution_count": 286,
   "outputs": [
    {
     "ename": "NetworkXError",
     "evalue": "Node 0 has no position.",
     "output_type": "error",
     "traceback": [
      "\u001B[0;31m---------------------------------------------------------------------------\u001B[0m",
      "\u001B[0;31mKeyError\u001B[0m                                  Traceback (most recent call last)",
      "\u001B[0;32m~/NYU-Fall-2022/info_vis/confirmation-bias-vis/venv/lib/python3.7/site-packages/networkx/drawing/nx_pylab.py\u001B[0m in \u001B[0;36mdraw_networkx_nodes\u001B[0;34m(G, pos, nodelist, node_size, node_color, node_shape, alpha, cmap, vmin, vmax, ax, linewidths, edgecolors, label, margins)\u001B[0m\n\u001B[1;32m    453\u001B[0m     \u001B[0;32mtry\u001B[0m\u001B[0;34m:\u001B[0m\u001B[0;34m\u001B[0m\u001B[0;34m\u001B[0m\u001B[0m\n\u001B[0;32m--> 454\u001B[0;31m         \u001B[0mxy\u001B[0m \u001B[0;34m=\u001B[0m \u001B[0mnp\u001B[0m\u001B[0;34m.\u001B[0m\u001B[0masarray\u001B[0m\u001B[0;34m(\u001B[0m\u001B[0;34m[\u001B[0m\u001B[0mpos\u001B[0m\u001B[0;34m[\u001B[0m\u001B[0mv\u001B[0m\u001B[0;34m]\u001B[0m \u001B[0;32mfor\u001B[0m \u001B[0mv\u001B[0m \u001B[0;32min\u001B[0m \u001B[0mnodelist\u001B[0m\u001B[0;34m]\u001B[0m\u001B[0;34m)\u001B[0m\u001B[0;34m\u001B[0m\u001B[0;34m\u001B[0m\u001B[0m\n\u001B[0m\u001B[1;32m    455\u001B[0m     \u001B[0;32mexcept\u001B[0m \u001B[0mKeyError\u001B[0m \u001B[0;32mas\u001B[0m \u001B[0me\u001B[0m\u001B[0;34m:\u001B[0m\u001B[0;34m\u001B[0m\u001B[0;34m\u001B[0m\u001B[0m\n",
      "\u001B[0;32m~/NYU-Fall-2022/info_vis/confirmation-bias-vis/venv/lib/python3.7/site-packages/networkx/drawing/nx_pylab.py\u001B[0m in \u001B[0;36m<listcomp>\u001B[0;34m(.0)\u001B[0m\n\u001B[1;32m    453\u001B[0m     \u001B[0;32mtry\u001B[0m\u001B[0;34m:\u001B[0m\u001B[0;34m\u001B[0m\u001B[0;34m\u001B[0m\u001B[0m\n\u001B[0;32m--> 454\u001B[0;31m         \u001B[0mxy\u001B[0m \u001B[0;34m=\u001B[0m \u001B[0mnp\u001B[0m\u001B[0;34m.\u001B[0m\u001B[0masarray\u001B[0m\u001B[0;34m(\u001B[0m\u001B[0;34m[\u001B[0m\u001B[0mpos\u001B[0m\u001B[0;34m[\u001B[0m\u001B[0mv\u001B[0m\u001B[0;34m]\u001B[0m \u001B[0;32mfor\u001B[0m \u001B[0mv\u001B[0m \u001B[0;32min\u001B[0m \u001B[0mnodelist\u001B[0m\u001B[0;34m]\u001B[0m\u001B[0;34m)\u001B[0m\u001B[0;34m\u001B[0m\u001B[0;34m\u001B[0m\u001B[0m\n\u001B[0m\u001B[1;32m    455\u001B[0m     \u001B[0;32mexcept\u001B[0m \u001B[0mKeyError\u001B[0m \u001B[0;32mas\u001B[0m \u001B[0me\u001B[0m\u001B[0;34m:\u001B[0m\u001B[0;34m\u001B[0m\u001B[0;34m\u001B[0m\u001B[0m\n",
      "\u001B[0;31mKeyError\u001B[0m: 0",
      "\nThe above exception was the direct cause of the following exception:\n",
      "\u001B[0;31mNetworkXError\u001B[0m                             Traceback (most recent call last)",
      "\u001B[0;32m/var/folders/4l/kfc4gh5d1jn6zkrmv51vvbyw0000gn/T/ipykernel_78359/3868183160.py\u001B[0m in \u001B[0;36m<module>\u001B[0;34m\u001B[0m\n\u001B[1;32m      3\u001B[0m     \u001B[0mG\u001B[0m\u001B[0;34m,\u001B[0m \u001B[0mpos\u001B[0m\u001B[0;34m=\u001B[0m\u001B[0mpos\u001B[0m\u001B[0;34m,\u001B[0m \u001B[0mnode_size\u001B[0m\u001B[0;34m=\u001B[0m\u001B[0;36m0\u001B[0m\u001B[0;34m,\u001B[0m\u001B[0;34m\u001B[0m\u001B[0;34m\u001B[0m\u001B[0m\n\u001B[1;32m      4\u001B[0m     \u001B[0medgelist\u001B[0m\u001B[0;34m=\u001B[0m\u001B[0mexternal\u001B[0m\u001B[0;34m,\u001B[0m \u001B[0medge_color\u001B[0m\u001B[0;34m=\u001B[0m\u001B[0;34m\"#333333\"\u001B[0m\u001B[0;34m,\u001B[0m\u001B[0;34m\u001B[0m\u001B[0;34m\u001B[0m\u001B[0m\n\u001B[0;32m----> 5\u001B[0;31m     alpha=0.2, with_labels=False)\n\u001B[0m\u001B[1;32m      6\u001B[0m \u001B[0;34m\u001B[0m\u001B[0m\n\u001B[1;32m      7\u001B[0m \u001B[0;31m# Draw internal edges\u001B[0m\u001B[0;34m\u001B[0m\u001B[0;34m\u001B[0m\u001B[0;34m\u001B[0m\u001B[0m\n",
      "\u001B[0;32m~/NYU-Fall-2022/info_vis/confirmation-bias-vis/venv/lib/python3.7/site-packages/networkx/drawing/nx_pylab.py\u001B[0m in \u001B[0;36mdraw_networkx\u001B[0;34m(G, pos, arrows, with_labels, **kwds)\u001B[0m\n\u001B[1;32m    331\u001B[0m         \u001B[0mpos\u001B[0m \u001B[0;34m=\u001B[0m \u001B[0mnx\u001B[0m\u001B[0;34m.\u001B[0m\u001B[0mdrawing\u001B[0m\u001B[0;34m.\u001B[0m\u001B[0mspring_layout\u001B[0m\u001B[0;34m(\u001B[0m\u001B[0mG\u001B[0m\u001B[0;34m)\u001B[0m  \u001B[0;31m# default to spring layout\u001B[0m\u001B[0;34m\u001B[0m\u001B[0;34m\u001B[0m\u001B[0m\n\u001B[1;32m    332\u001B[0m \u001B[0;34m\u001B[0m\u001B[0m\n\u001B[0;32m--> 333\u001B[0;31m     \u001B[0mdraw_networkx_nodes\u001B[0m\u001B[0;34m(\u001B[0m\u001B[0mG\u001B[0m\u001B[0;34m,\u001B[0m \u001B[0mpos\u001B[0m\u001B[0;34m,\u001B[0m \u001B[0;34m**\u001B[0m\u001B[0mnode_kwds\u001B[0m\u001B[0;34m)\u001B[0m\u001B[0;34m\u001B[0m\u001B[0;34m\u001B[0m\u001B[0m\n\u001B[0m\u001B[1;32m    334\u001B[0m     \u001B[0mdraw_networkx_edges\u001B[0m\u001B[0;34m(\u001B[0m\u001B[0mG\u001B[0m\u001B[0;34m,\u001B[0m \u001B[0mpos\u001B[0m\u001B[0;34m,\u001B[0m \u001B[0marrows\u001B[0m\u001B[0;34m=\u001B[0m\u001B[0marrows\u001B[0m\u001B[0;34m,\u001B[0m \u001B[0;34m**\u001B[0m\u001B[0medge_kwds\u001B[0m\u001B[0;34m)\u001B[0m\u001B[0;34m\u001B[0m\u001B[0;34m\u001B[0m\u001B[0m\n\u001B[1;32m    335\u001B[0m     \u001B[0;32mif\u001B[0m \u001B[0mwith_labels\u001B[0m\u001B[0;34m:\u001B[0m\u001B[0;34m\u001B[0m\u001B[0;34m\u001B[0m\u001B[0m\n",
      "\u001B[0;32m~/NYU-Fall-2022/info_vis/confirmation-bias-vis/venv/lib/python3.7/site-packages/networkx/drawing/nx_pylab.py\u001B[0m in \u001B[0;36mdraw_networkx_nodes\u001B[0;34m(G, pos, nodelist, node_size, node_color, node_shape, alpha, cmap, vmin, vmax, ax, linewidths, edgecolors, label, margins)\u001B[0m\n\u001B[1;32m    454\u001B[0m         \u001B[0mxy\u001B[0m \u001B[0;34m=\u001B[0m \u001B[0mnp\u001B[0m\u001B[0;34m.\u001B[0m\u001B[0masarray\u001B[0m\u001B[0;34m(\u001B[0m\u001B[0;34m[\u001B[0m\u001B[0mpos\u001B[0m\u001B[0;34m[\u001B[0m\u001B[0mv\u001B[0m\u001B[0;34m]\u001B[0m \u001B[0;32mfor\u001B[0m \u001B[0mv\u001B[0m \u001B[0;32min\u001B[0m \u001B[0mnodelist\u001B[0m\u001B[0;34m]\u001B[0m\u001B[0;34m)\u001B[0m\u001B[0;34m\u001B[0m\u001B[0;34m\u001B[0m\u001B[0m\n\u001B[1;32m    455\u001B[0m     \u001B[0;32mexcept\u001B[0m \u001B[0mKeyError\u001B[0m \u001B[0;32mas\u001B[0m \u001B[0me\u001B[0m\u001B[0;34m:\u001B[0m\u001B[0;34m\u001B[0m\u001B[0;34m\u001B[0m\u001B[0m\n\u001B[0;32m--> 456\u001B[0;31m         \u001B[0;32mraise\u001B[0m \u001B[0mnx\u001B[0m\u001B[0;34m.\u001B[0m\u001B[0mNetworkXError\u001B[0m\u001B[0;34m(\u001B[0m\u001B[0;34mf\"Node {e} has no position.\"\u001B[0m\u001B[0;34m)\u001B[0m \u001B[0;32mfrom\u001B[0m \u001B[0me\u001B[0m\u001B[0;34m\u001B[0m\u001B[0;34m\u001B[0m\u001B[0m\n\u001B[0m\u001B[1;32m    457\u001B[0m \u001B[0;34m\u001B[0m\u001B[0m\n\u001B[1;32m    458\u001B[0m     \u001B[0;32mif\u001B[0m \u001B[0misinstance\u001B[0m\u001B[0;34m(\u001B[0m\u001B[0malpha\u001B[0m\u001B[0;34m,\u001B[0m \u001B[0mIterable\u001B[0m\u001B[0;34m)\u001B[0m\u001B[0;34m:\u001B[0m\u001B[0;34m\u001B[0m\u001B[0;34m\u001B[0m\u001B[0m\n",
      "\u001B[0;31mNetworkXError\u001B[0m: Node 0 has no position."
     ]
    },
    {
     "data": {
      "text/plain": "<Figure size 640x480 with 1 Axes>",
      "image/png": "[encoded data removed]"
     },
     "metadata": {},
     "output_type": "display_data"
    }
   ],
   "source": [
    "# Draw external edges\n",
    "nx.draw_networkx(\n",
    "    G, pos=pos, node_size=0,\n",
    "    edgelist=external, edge_color=\"#333333\",\n",
    "    alpha=0.2, with_labels=False)\n",
    "\n",
    "# Draw internal edges\n",
    "nx.draw_networkx(\n",
    "    G, pos=pos, node_size=0,\n",
    "    edgelist=internal, edge_color=internal_color,\n",
    "    alpha=0.05, with_labels=False)"
   ],
   "metadata": {
    "collapsed": false
   }
  },
  {
   "cell_type": "code",
   "execution_count": 276,
   "outputs": [],
   "source": [
    "all_clusters = []\n",
    "\n",
    "all_clusters.extend(rus_cluster)\n",
    "all_clusters.extend(ukr_eng_cluster)\n",
    "all_clusters.extend(ukr_rus_cluster)\n",
    "all_clusters.extend(ukr_ukr_cluster)\n",
    "\n",
    "all_clusters_dict = {}\n",
    "\n",
    "for cluster in all_clusters:\n",
    "    if str(cluster[0]) in G.nodes:\n",
    "        all_clusters_dict[str(cluster[0])] = str(cluster[0])"
   ],
   "metadata": {
    "collapsed": false
   }
  },
  {
   "cell_type": "code",
   "execution_count": 48,
   "outputs": [
    {
     "ename": "NameError",
     "evalue": "name 'G' is not defined",
     "output_type": "error",
     "traceback": [
      "\u001B[0;31m---------------------------------------------------------------------------\u001B[0m",
      "\u001B[0;31mNameError\u001B[0m                                 Traceback (most recent call last)",
      "\u001B[0;32m/var/folders/4l/kfc4gh5d1jn6zkrmv51vvbyw0000gn/T/ipykernel_76044/1676722822.py\u001B[0m in \u001B[0;36m<module>\u001B[0;34m\u001B[0m\n\u001B[1;32m      1\u001B[0m \u001B[0;31m# TODO: SAVE AS PDF\u001B[0m\u001B[0;34m\u001B[0m\u001B[0;34m\u001B[0m\u001B[0;34m\u001B[0m\u001B[0m\n\u001B[1;32m      2\u001B[0m \u001B[0;34m\u001B[0m\u001B[0m\n\u001B[0;32m----> 3\u001B[0;31m \u001B[0mpos\u001B[0m \u001B[0;34m=\u001B[0m \u001B[0mnx\u001B[0m\u001B[0;34m.\u001B[0m\u001B[0mspring_layout\u001B[0m\u001B[0;34m(\u001B[0m\u001B[0mG\u001B[0m\u001B[0;34m,\u001B[0m \u001B[0mk\u001B[0m\u001B[0;34m=\u001B[0m\u001B[0;36m0.15\u001B[0m\u001B[0;34m)\u001B[0m\u001B[0;34m\u001B[0m\u001B[0;34m\u001B[0m\u001B[0m\n\u001B[0m\u001B[1;32m      4\u001B[0m \u001B[0;34m\u001B[0m\u001B[0m\n\u001B[1;32m      5\u001B[0m \u001B[0mG_node_degrees\u001B[0m \u001B[0;34m=\u001B[0m \u001B[0mdict\u001B[0m\u001B[0;34m(\u001B[0m\u001B[0mG\u001B[0m\u001B[0;34m.\u001B[0m\u001B[0mdegree\u001B[0m\u001B[0;34m)\u001B[0m\u001B[0;34m\u001B[0m\u001B[0;34m\u001B[0m\u001B[0m\n",
      "\u001B[0;31mNameError\u001B[0m: name 'G' is not defined"
     ]
    }
   ],
   "source": [
    "# TODO: SAVE AS PDF\n",
    "\n",
    "pos = nx.spring_layout(G, k=0.15)\n",
    "\n",
    "G_node_degrees = dict(G.degree)\n",
    "\n",
    "# Draw internal edges\n",
    "nx.draw_networkx(\n",
    "    G, pos=pos, node_size=[v * 1 for v in G_node_degrees.values()],\n",
    "    edgelist=internal, edge_color=internal_color,\n",
    "    alpha=0.05, with_labels=True, label='Group Follower Clusters',\n",
    "    labels=all_clusters_dict, font_color='#00ff00', font_weight='bold')"
   ],
   "metadata": {
    "collapsed": false
   }
  },
  {
   "cell_type": "code",
   "execution_count": 49,
   "outputs": [],
   "source": [
    "def sort_graph_by_deg_desc(graph):\n",
    "    return sorted(G.degree, key=lambda x: x[1], reverse=True)"
   ],
   "metadata": {
    "collapsed": false
   }
  },
  {
   "cell_type": "code",
   "execution_count": 50,
   "outputs": [
    {
     "ename": "NameError",
     "evalue": "name 'G' is not defined",
     "output_type": "error",
     "traceback": [
      "\u001B[0;31m---------------------------------------------------------------------------\u001B[0m",
      "\u001B[0;31mNameError\u001B[0m                                 Traceback (most recent call last)",
      "\u001B[0;32m/var/folders/4l/kfc4gh5d1jn6zkrmv51vvbyw0000gn/T/ipykernel_76044/370835087.py\u001B[0m in \u001B[0;36m<module>\u001B[0;34m\u001B[0m\n\u001B[0;32m----> 1\u001B[0;31m \u001B[0mG_deg_sorted\u001B[0m \u001B[0;34m=\u001B[0m \u001B[0msort_graph_by_deg_desc\u001B[0m\u001B[0;34m(\u001B[0m\u001B[0mG\u001B[0m\u001B[0;34m)\u001B[0m\u001B[0;34m\u001B[0m\u001B[0;34m\u001B[0m\u001B[0m\n\u001B[0m",
      "\u001B[0;31mNameError\u001B[0m: name 'G' is not defined"
     ]
    }
   ],
   "source": [
    "G_deg_sorted = sort_graph_by_deg_desc(G)"
   ],
   "metadata": {
    "collapsed": false
   }
  },
  {
   "cell_type": "code",
   "execution_count": 51,
   "outputs": [
    {
     "name": "stdout",
     "output_type": "stream",
     "text": [
      "Performing connectivity analysis on a graph\n"
     ]
    },
    {
     "ename": "NameError",
     "evalue": "name 'subgraph' is not defined",
     "output_type": "error",
     "traceback": [
      "\u001B[0;31m---------------------------------------------------------------------------\u001B[0m",
      "\u001B[0;31mNameError\u001B[0m                                 Traceback (most recent call last)",
      "\u001B[0;32m/var/folders/4l/kfc4gh5d1jn6zkrmv51vvbyw0000gn/T/ipykernel_76044/1139622079.py\u001B[0m in \u001B[0;36m<module>\u001B[0;34m\u001B[0m\n\u001B[1;32m      1\u001B[0m \u001B[0mprint\u001B[0m\u001B[0;34m(\u001B[0m\u001B[0;34m\"Performing connectivity analysis on a graph\"\u001B[0m\u001B[0;34m)\u001B[0m\u001B[0;34m\u001B[0m\u001B[0;34m\u001B[0m\u001B[0m\n\u001B[1;32m      2\u001B[0m \u001B[0;34m\u001B[0m\u001B[0m\n\u001B[0;32m----> 3\u001B[0;31m \u001B[0mnode_connections\u001B[0m \u001B[0;34m=\u001B[0m \u001B[0mnx\u001B[0m\u001B[0;34m.\u001B[0m\u001B[0mall_pairs_node_connectivity\u001B[0m\u001B[0;34m(\u001B[0m\u001B[0msubgraph\u001B[0m\u001B[0;34m)\u001B[0m\u001B[0;34m\u001B[0m\u001B[0;34m\u001B[0m\u001B[0m\n\u001B[0m",
      "\u001B[0;31mNameError\u001B[0m: name 'subgraph' is not defined"
     ]
    }
   ],
   "source": [
    "print(\"Performing connectivity analysis on a graph\")\n",
    "\n",
    "node_connections = nx.all_pairs_node_connectivity(subgraph)"
   ],
   "metadata": {
    "collapsed": false
   }
  },
  {
   "cell_type": "code",
   "execution_count": 52,
   "outputs": [],
   "source": [
    "def get_shared_nodes_within_group(node_connections, group_members):\n",
    "    shared_connections = []\n",
    "    for username, connections_dict in node_connections.items():\n",
    "        for group_member in group_members:\n",
    "            if group_member in connections_dict.keys() and connections_dict[group_member] == 1:\n",
    "                shared_connections.append(username)\n",
    "    return shared_connections"
   ],
   "metadata": {
    "collapsed": false
   }
  },
  {
   "cell_type": "code",
   "execution_count": 53,
   "outputs": [
    {
     "ename": "NameError",
     "evalue": "name 'node_connections' is not defined",
     "output_type": "error",
     "traceback": [
      "\u001B[0;31m---------------------------------------------------------------------------\u001B[0m",
      "\u001B[0;31mNameError\u001B[0m                                 Traceback (most recent call last)",
      "\u001B[0;32m/var/folders/4l/kfc4gh5d1jn6zkrmv51vvbyw0000gn/T/ipykernel_76044/1181974466.py\u001B[0m in \u001B[0;36m<module>\u001B[0;34m\u001B[0m\n\u001B[0;32m----> 1\u001B[0;31m \u001B[0mget_shared_nodes_within_group\u001B[0m\u001B[0;34m(\u001B[0m\u001B[0mnode_connections\u001B[0m\u001B[0;34m,\u001B[0m \u001B[0mrus_cluster\u001B[0m\u001B[0;34m)\u001B[0m\u001B[0;34m\u001B[0m\u001B[0;34m\u001B[0m\u001B[0m\n\u001B[0m",
      "\u001B[0;31mNameError\u001B[0m: name 'node_connections' is not defined"
     ]
    }
   ],
   "source": [
    "get_shared_nodes_within_group(node_connections, rus_cluster)"
   ],
   "metadata": {
    "collapsed": false
   }
  },
  {
   "cell_type": "code",
   "execution_count": 51,
   "outputs": [],
   "source": [
    "def get_shared_nodes_between_groups(node_connections, cluster_groups):\n",
    "    shared_connections = {}\n",
    "    for username, connections_dict in node_connections.items():\n",
    "        for group_name, group_members in cluster_groups.items():\n",
    "            for group_member in group_members:\n",
    "                if group_member in connections_dict.keys() and connections_dict[group_member] == 1:\n",
    "                    if group_name not in shared_connections.keys():\n",
    "                        shared_connections.append(username)\n",
    "                    else:\n",
    "                        shared_connections[group_name] = shared_connections[group_name].append(username)\n",
    "    return shared_connections"
   ],
   "metadata": {
    "collapsed": false
   }
  },
  {
   "cell_type": "code",
   "execution_count": 52,
   "outputs": [],
   "source": [
    "TWITTER_CLUSTER_GROUPS = {\n",
    "    \"rus_cluster\": russia_sources_rus,\n",
    "    \"ukr_eng_cluster\": ukraine_sources_rus,\n",
    "    \"ukr_rus_cluster\": ukraine_sources_ukr,\n",
    "    \"ukr_ukr_cluster\": ukraine_sources_eng\n",
    "}"
   ],
   "metadata": {
    "collapsed": false
   }
  },
  {
   "cell_type": "code",
   "execution_count": 53,
   "outputs": [],
   "source": [
    "shared_connections_between_groups = get_shared_nodes_between_groups\\\n",
    "(node_connections, TWITTER_CLUSTER_GROUPS)"
   ],
   "metadata": {
    "collapsed": false
   }
  },
  {
   "cell_type": "code",
   "execution_count": 54,
   "outputs": [
    {
     "data": {
      "text/plain": "{}"
     },
     "execution_count": 54,
     "metadata": {},
     "output_type": "execute_result"
    }
   ],
   "source": [
    "shared_connections_between_groups"
   ],
   "metadata": {
    "collapsed": false
   }
  },
  {
   "cell_type": "code",
   "execution_count": 55,
   "outputs": [
    {
     "data": {
      "text/plain": "\"\\nimport matplotlib.pyplot as plt\\n\\nf, ax = plt.subplots(figsize=(10, 10))\\nplt.style.use('ggplot')\\nnodes = nx.draw_networkx_nodes(G, pos,\\n                               alpha=0.8)\\nnodes.set_edgecolor('k')\\nnx.draw_networkx_labels(G, pos, font_size=8)\\nnx.draw_networkx_edges(G, pos, width=1.0, alpha=0.2)\\n\""
     },
     "execution_count": 55,
     "metadata": {},
     "output_type": "execute_result"
    }
   ],
   "source": [
    "'''\n",
    "import matplotlib.pyplot as plt\n",
    "\n",
    "f, ax = plt.subplots(figsize=(10, 10))\n",
    "plt.style.use('ggplot')\n",
    "nodes = nx.draw_networkx_nodes(G, pos,\n",
    "                               alpha=0.8)\n",
    "nodes.set_edgecolor('k')\n",
    "nx.draw_networkx_labels(G, pos, font_size=8)\n",
    "nx.draw_networkx_edges(G, pos, width=1.0, alpha=0.2)\n",
    "'''"
   ],
   "metadata": {
    "collapsed": false
   }
  },
  {
   "cell_type": "code",
   "source": [
    "# TODO: analyze social network graph using NetworkX\n",
    "# TODO: perhaps the network should be cleaned of low degree connected users\n",
    "#  for visualization purposes\n",
    "# TODO: run the graph analytics on the original network w/o visualizing it"
   ],
   "metadata": {
    "collapsed": false
   },
   "execution_count": 56,
   "outputs": []
  },
  {
   "cell_type": "markdown",
   "source": [
    "<h2>Visualizing the Network using Gephi</h2>"
   ],
   "metadata": {
    "collapsed": false
   }
  },
  {
   "cell_type": "code",
   "execution_count": 57,
   "outputs": [],
   "source": [
    "# TODO: node size should correspond to the number of followers the node has\n",
    "# TODO: node color should correspond to the node group"
   ],
   "metadata": {
    "collapsed": false
   }
  },
  {
   "cell_type": "markdown",
   "source": [
    "<h2>Visualizing the Network using Neo4j</h2>"
   ],
   "metadata": {
    "collapsed": false
   }
  },
  {
   "cell_type": "markdown",
   "source": [
    "<h2>Analyzing group sentiments</h2>"
   ],
   "metadata": {
    "collapsed": false
   }
  },
  {
   "cell_type": "code",
   "execution_count": 58,
   "outputs": [],
   "source": [
    "# THIS CELL HITS TWITTER API\n",
    "\n",
    "# NOTE: THIS FUNCTION PULLS THE TWEETS MENTIONING A PARTICULAR USER, NOT FROM\n",
    "# A PARTICULAR USER\n",
    "\n",
    "def get_user_tweet_mentions(username, num_tweets, entities=None):\n",
    "\n",
    "    search_query = username + \" OR \"\n",
    "\n",
    "    if entities is not None:\n",
    "        # include all possible candidate names in a query\n",
    "        for entity in entities:\n",
    "            search_query += \"entity:\" + '\"' + entity + '\"' + \" OR \"\n",
    "\n",
    "    # remove the last OR statement\n",
    "    search_query = search_query[:-3]\n",
    "\n",
    "    search_query += \"-is:retweet\"\n",
    "\n",
    "    tweets = api.search_tweets(q = search_query, count = num_tweets,\n",
    "                               tweet_mode=\"extended\")\n",
    "\n",
    "    return tweets"
   ],
   "metadata": {
    "collapsed": false
   }
  },
  {
   "cell_type": "code",
   "execution_count": 59,
   "outputs": [],
   "source": [
    "# THIS CELL HITS TWITTER API\n",
    "\n",
    "def get_user_tweets(user_id, num_tweets):\n",
    "\n",
    "    # https://docs.tweepy.org/en/stable/client.html#tweepy.Client.get_users_tweets\n",
    "    # https://docs.tweepy.org/en/stable/expansions_and_fields.html#expansions-parameter\n",
    "    # https://dev.to/twitterdev/a-comprehensive-guide-for-using-the-twitter-api-v2-using-tweepy-in-python-15d9\n",
    "\n",
    "    tweets = client.get_users_tweets(id = user_id, max_results = num_tweets,\n",
    "                               exclude = ['retweets'], expansions='entities.mentions.username')\n",
    "\n",
    "    return tweets"
   ],
   "metadata": {
    "collapsed": false
   }
  },
  {
   "cell_type": "code",
   "execution_count": 60,
   "outputs": [],
   "source": [
    "# Sentiment in relation to a different group\n",
    "\n",
    "# Tweets word Cloud\n",
    "\n",
    "# Tweets HashTags Word Cloud\n",
    "\n",
    "# Tweets events mapping? (Maybe)"
   ],
   "metadata": {
    "collapsed": false
   }
  },
  {
   "cell_type": "code",
   "execution_count": 61,
   "outputs": [],
   "source": [
    "# https://www.caida.org/catalog/software/walrus/"
   ],
   "metadata": {
    "collapsed": false
   }
  },
  {
   "cell_type": "code",
   "execution_count": 62,
   "outputs": [
    {
     "name": "stdout",
     "output_type": "stream",
     "text": [
      "Pulling a sample of tweets for all clusters\n"
     ]
    }
   ],
   "source": [
    "print(\"Pulling a sample of tweets for all clusters\")\n",
    "\n",
    "NUM_TWEETS = 5\n",
    "USERNAME_IDX = 0\n",
    "USER_ID_IDX = 1\n",
    "\n",
    "cluster_tweets = {}\n",
    "\n",
    "for cluster in all_clusters:\n",
    "    cluster_tweets[cluster] = get_user_tweets(cluster[USER_ID_IDX], NUM_TWEETS)"
   ],
   "metadata": {
    "collapsed": false
   }
  },
  {
   "cell_type": "code",
   "execution_count": 8,
   "outputs": [
    {
     "ename": "NameError",
     "evalue": "name 'cluster_tweets' is not defined",
     "output_type": "error",
     "traceback": [
      "\u001B[0;31m---------------------------------------------------------------------------\u001B[0m",
      "\u001B[0;31mNameError\u001B[0m                                 Traceback (most recent call last)",
      "\u001B[0;32m/var/folders/4l/kfc4gh5d1jn6zkrmv51vvbyw0000gn/T/ipykernel_76044/1190134407.py\u001B[0m in \u001B[0;36m<module>\u001B[0;34m\u001B[0m\n\u001B[0;32m----> 1\u001B[0;31m \u001B[0mcluster_tweets\u001B[0m\u001B[0;34m\u001B[0m\u001B[0;34m\u001B[0m\u001B[0m\n\u001B[0m",
      "\u001B[0;31mNameError\u001B[0m: name 'cluster_tweets' is not defined"
     ]
    }
   ],
   "source": [
    "cluster_tweets"
   ],
   "metadata": {
    "collapsed": false
   }
  },
  {
   "cell_type": "code",
   "execution_count": 64,
   "outputs": [],
   "source": [
    "def convert_tweets_to_json(raw_tweets_dict):\n",
    "    json_tweets = []\n",
    "    for username, tweets in raw_tweets_dict.items():\n",
    "        for tweet in tweets:\n",
    "            json_tweet_str = json.dumps(tweet.text)\n",
    "            json_tweet = json.loads(json_tweet_str)\n",
    "            json_tweets.append(json_tweet)\n",
    "    return json_tweets"
   ],
   "metadata": {
    "collapsed": false
   }
  },
  {
   "cell_type": "code",
   "execution_count": 65,
   "outputs": [
    {
     "name": "stdout",
     "output_type": "stream",
     "text": [
      "{'created_at': 'Fri Dec 02 16:03:29 +0000 2022', 'id': 1598709448129662977, 'id_str': '1598709448129662977', 'text': 'На канале \"В гостях у Гордона\" транслируется стрим главного редактора интернет-издания \"#ГОРДОН\" Алеси #Бацман с те… https://t.co/ta77zbvZLc', 'truncated': True, 'entities': {'hashtags': [{'text': 'ГОРДОН', 'indices': [88, 95]}, {'text': 'Бацман', 'indices': [103, 110]}], 'symbols': [], 'user_mentions': [], 'urls': [{'url': 'https://t.co/ta77zbvZLc', 'expanded_url': 'https://twitter.com/i/web/status/1598709448129662977', 'display_url': 'twitter.com/i/web/status/1…', 'indices': [117, 140]}]}, 'source': '<a href=\"https://mobile.twitter.com\" rel=\"nofollow\">Twitter Web App</a>', 'in_reply_to_status_id': None, 'in_reply_to_status_id_str': None, 'in_reply_to_user_id': None, 'in_reply_to_user_id_str': None, 'in_reply_to_screen_name': None, 'user': {'id': 1334400780, 'id_str': '1334400780', 'name': 'Дмитрий Гордон', 'screen_name': 'dmitry_gordon', 'location': 'Украина', 'description': 'Украинский писатель, журналист, телеведущий, основатель интернет-издания @Gordonuacom. https://t.co/Xt1COHTG44…', 'url': 'https://t.co/va3Q3oZcxT', 'entities': {'url': {'urls': [{'url': 'https://t.co/va3Q3oZcxT', 'expanded_url': 'https://gordonua.com/', 'display_url': 'gordonua.com', 'indices': [0, 23]}]}, 'description': {'urls': [{'url': 'https://t.co/Xt1COHTG44', 'expanded_url': 'http://t.me/dmytrogordon_o', 'display_url': 't.me/dmytrogordon_o', 'indices': [87, 110]}]}}, 'protected': False, 'followers_count': 155077, 'friends_count': 304, 'listed_count': 772, 'created_at': 'Sun Apr 07 15:50:59 +0000 2013', 'favourites_count': 444, 'utc_offset': None, 'time_zone': None, 'geo_enabled': False, 'verified': True, 'statuses_count': 168548, 'lang': None, 'contributors_enabled': False, 'is_translator': False, 'is_translation_enabled': False, 'profile_background_color': '131516', 'profile_background_image_url': 'http://abs.twimg.com/images/themes/theme14/bg.gif', 'profile_background_image_url_https': 'https://abs.twimg.com/images/themes/theme14/bg.gif', 'profile_background_tile': True, 'profile_image_url': 'http://pbs.twimg.com/profile_images/3714778768/0dd3df4ba1c8a979022cb50fdea8c5c5_normal.jpeg', 'profile_image_url_https': 'https://pbs.twimg.com/profile_images/3714778768/0dd3df4ba1c8a979022cb50fdea8c5c5_normal.jpeg', 'profile_banner_url': 'https://pbs.twimg.com/profile_banners/1334400780/1646739686', 'profile_link_color': '3B4242', 'profile_sidebar_border_color': 'EEEEEE', 'profile_sidebar_fill_color': 'EFEFEF', 'profile_text_color': '333333', 'profile_use_background_image': True, 'has_extended_profile': False, 'default_profile': False, 'default_profile_image': False, 'following': False, 'follow_request_sent': False, 'notifications': False, 'translator_type': 'none', 'withheld_in_countries': []}, 'geo': None, 'coordinates': None, 'place': None, 'contributors': None, 'is_quote_status': False, 'retweet_count': 0, 'favorite_count': 8, 'favorited': False, 'retweeted': False, 'possibly_sensitive': False, 'possibly_sensitive_appealable': False, 'lang': 'ru'}\n"
     ]
    }
   ],
   "source": [
    "tweet_status = api.get_status(1598709448129662977)\n",
    "\n",
    "print(tweet_status._json)"
   ],
   "metadata": {
    "collapsed": false
   }
  },
  {
   "cell_type": "code",
   "execution_count": 66,
   "outputs": [
    {
     "data": {
      "text/plain": "{('@1tvru_news',\n  160881696): Response(data=[<Tweet id=1599119541644054528 text='Новые примеры мужества и отваги российских военных: https://t.co/SCQ2woKZYx https://t.co/xrg4orgU3t'>, <Tweet id=1599119458324611072 text='Дата, навечно вплетенная в летопись нашей воинской славы. Сегодня в России — День неизвестного солдата. День, который объединяет всех нас памятью о героях, погибших за свободу нашей Родины и наше общее будущее. Мероприятия прошли по всей стране: https://t.co/bnqi7NXNiH https://t.co/eadlOTx11b'>, <Tweet id=1599077152514723840 text='В Подмосковье сегодня чествовали уникальный коллектив врачей. Почетные награды и слова благодарности — торжественная церемония прошла в клиническом госпитале «Лапино». Он отмечает 10 лет с момента основания: https://t.co/ylr88tACVo'>, <Tweet id=1598959832866099201 text='Можно покорить любую вершину, когда такая сила воли и такие друзья рядом. Волшебный каток — акция благотворительного фонда «Жизнь в движении». Истории — когда встать на коньки — подвиг. Но эти дети могут все! А подхватят в сложный момент суперзвезды  https://t.co/7I4KvXgYeJ'>, <Tweet id=1598955175556706304 text='Вашингтон готовит новый пакет помощи для Украины. Еще почти 38 миллиардов долларов — именно о такой сумме Белый дом пытается договорится с Конгрессом.  https://t.co/4JW7ludTP1 https://t.co/knrxWU0MS5'>], includes={}, errors=[], meta={'next_token': '7140dibdnow9c7btw424cf219pxw80ujeirkzwi6epv78', 'result_count': 5, 'newest_id': '1599119541644054528', 'oldest_id': '1598955175556706304'}),\n ('@ru_rbc',\n  269770723): Response(data=[<Tweet id=1599127784617660417 text='Новые сезоны уже полюбившихся шоу и премьеры, на которые стоит обратить внимание\\nhttps://t.co/3GRXV5GedI'>, <Tweet id=1599120221079568384 text='В российских кинотеатрах большая премьера — в прокат вышел «Треугольник печали» шведа Рубена Эстлунда, получивший «Золотую пальмовую ветвь» на последнем Каннском фестивале. Критик Катя Загвоздкина объяснила, почему злая комедия могла быть и поострее\\nhttps://t.co/woHdTr62w3'>, <Tweet id=1599118303649304577 text='Всенародная любовь и слава обрушились на молодых актеров еще в раннем возрасте. Что стало с Буратино, Электроником, Сыроежкиным, Петровым и Васечкиным, и как они живут сейчас? Читайте в новом материале РБК Life\\nhttps://t.co/jiXWEF88KU'>, <Tweet id=1599101171897188352 text='Исследования показали, что при подборе персонала эйчары руководствуются внешностью кандидата намного сильнее, чем кажется. Цифры угнетают: соискатели и не подозревают, как часто им отказывали в приеме на работу из-за лишних килограммов\\n\\n#рбк_pro #рбкpro\\n\\nhttps://t.co/H5d1SeYotC https://t.co/Z4MT2v9Vdd'>, <Tweet id=1599089844692598787 text='Молдавия в декабре перенаправит газ из России в Приднестровье ради электроэнергии\\nhttps://t.co/faw3cJpcEy'>], includes={}, errors=[], meta={'next_token': '7140dibdnow9c7btw424ch42fs97j9v1lgn84qhrun60n', 'result_count': 5, 'newest_id': '1599127784617660417', 'oldest_id': '1599089844692598787'}),\n ('@dmitry_gordon',\n  1334400780): Response(data=[<Tweet id=1599152873505312769 text='СБУ назвала 10 человек из УПЦ МП, которые попали в санкционный список СНБО https://t.co/euwy0RlMlb'>, <Tweet id=1599131775501889536 text='Есть стойкое ощущение, что Крым будет возвращен под контроль Украины гораздо раньше, чем мы ожидали в 2021 году – постпред президента https://t.co/fNr1phk7lQ'>, <Tweet id=1599121697453416449 text='Зеленский о пределе цен на российскую нефть: Мир никак не может решиться на подлинное энергетическое разоружение РФ. Это слабая позиция https://t.co/gRWQfnvj3r'>, <Tweet id=1599110714882686977 text='Украинская авиация нанесла 14 ударов по оккупантам, в Донецкой области сбит вражеский самолет – Генштаб ВСУ https://t.co/UwIkjKU2HH'>, <Tweet id=1599099258611044353 text='Ставка верховного главнокомандующего обсудила ситуацию на фронте, восстановление энергетики и духовную независимость Украины https://t.co/keoj0gUanf'>], includes={}, errors=[], meta={'next_token': '7140dibdnow9c7btw424ch42havfw6ahsgwgf409waa0j', 'result_count': 5, 'newest_id': '1599152873505312769', 'oldest_id': '1599099258611044353'}),\n ('@SvobodaRadio',\n  47562921): Response(data=[<Tweet id=1599138314078294016 text='Союзникам по НАТО необходимо подумать о том, какие гарантии безопасности они могут дать России, когда та согласится вернуться за стол переговоров с Украиной. Об этом в интервью телеканалу TF1 сказал президент Франции Эммануэль Макрон. https://t.co/cCShFNT5Ec'>, <Tweet id=1599123380313038848 text='Журналист и блогер из Республики Алтай Амыр Айташев покинул Россию. Свой отъезд он объясняет опасением, что против него намеревались возбудить уголовное дело. \\nРанее Айташева дважды штрафовали по статье о дискредитации армии. https://t.co/bNAQGLobMg'>, <Tweet id=1599115025758621696 text='Заместитель госсекретаря США Виктория Нуланд выразила убеждение, что президент России Владимир Путин решил не прибегать в войне против Украины к использованию ядерного оружия из-за жёстких предупреждений со стороны других государств. https://t.co/l3qMNhzNaW'>, <Tweet id=1599097670366162944 text='Сергей Шойгу в субботу посетил Минск. О его визите в Беларусь заранее не сообщалось. Лукашенко на встрече с Шойгу заявил, что российские и белорусские военные проходят подготовку \"как единая группировка, единая армия\". https://t.co/nUzyP2AlLx'>, <Tweet id=1599084715960832001 text='Зачем Кудрин ушел в Яндекс? Отвечает экономист Сергей Хестанов  #гранивремени https://t.co/ilfC73cugY https://t.co/DVcur18534'>], includes={}, errors=[], meta={'result_count': 5, 'newest_id': '1599138314078294016', 'oldest_id': '1599084715960832001', 'next_token': '7140dibdnow9c7btw424ch42fr6rt4jp3vs8webjpxv01'})}"
     },
     "execution_count": 66,
     "metadata": {},
     "output_type": "execute_result"
    }
   ],
   "source": [
    "cluster_tweets"
   ],
   "metadata": {
    "collapsed": false
   }
  },
  {
   "cell_type": "code",
   "execution_count": 67,
   "outputs": [],
   "source": [
    "TWEETS_DIR = 'tweets/'\n",
    "\n",
    "def tweets_to_df(raw_tweets_dict):\n",
    "    tweets_df = pd.DataFrame(\n",
    "        {\n",
    "            'Cluster Username' : pd.Series(dtype='str'),\n",
    "            'Cluster ID' : pd.Series(dtype='int'),\n",
    "            'Tweet Text' : pd.Series(dtype='str')\n",
    "        }\n",
    "    )\n",
    "    for username, tweets in raw_tweets_dict.items():\n",
    "            for tweet in tweets.data:\n",
    "                new_df_row = {\n",
    "                    'Cluster Username' : username[0],\n",
    "                    'Cluster ID' : username[1],\n",
    "                    'Tweet Text' : str(tweet)\n",
    "                }\n",
    "                tweets_df = tweets_df.append(new_df_row, ignore_index=True)\n",
    "    return tweets_df\n",
    "\n",
    "def tweets_df_to_csv(tweets_df):\n",
    "    tweets_df.to_csv(TWEETS_DIR + 'tweets.csv', index=False)\n",
    "    return"
   ],
   "metadata": {
    "collapsed": false
   }
  },
  {
   "cell_type": "code",
   "execution_count": 68,
   "outputs": [],
   "source": [
    "tweets_df = tweets_to_df(cluster_tweets)\n",
    "tweets_df_to_csv(tweets_df)"
   ],
   "metadata": {
    "collapsed": false
   }
  },
  {
   "cell_type": "markdown",
   "source": [
    "<h2>Processing Collected Tweets Before Visualizing them</h2>"
   ],
   "metadata": {
    "collapsed": false
   }
  },
  {
   "cell_type": "code",
   "execution_count": 69,
   "outputs": [
    {
     "name": "stdout",
     "output_type": "stream",
     "text": [
      "Use this function to clean the tweet's body\n"
     ]
    }
   ],
   "source": [
    "print(\"Use this function to clean the tweet's body\")\n",
    "\n",
    "def clean_tweet(tweet_body):\n",
    "    # remove @ mentions from the tweet\n",
    "    # text = re.sub(r'@[A-Za-z0-9]+', '', tweet_body)\n",
    "    # remove the hashtags from tweets\n",
    "    # text = re.sub(r'#', '', text)\n",
    "    # remove retweet\n",
    "    text = re.sub(r'RT[\\s]+', '', tweet_body)\n",
    "    # remove hyperlinks\n",
    "    text = re.sub(r'https?:\\/\\/\\S+', '', text)\n",
    "    return text"
   ],
   "metadata": {
    "collapsed": false
   }
  },
  {
   "cell_type": "code",
   "execution_count": 70,
   "outputs": [],
   "source": [
    "import string\n",
    "\n",
    "def remove_ua_stopwords(tweet_body):\n",
    "    stopwords_ua = pd.read_csv(\"stopwords_ua.txt\", header=None, names=['stopwords'])\n",
    "    stop_words_ua = list(stopwords_ua.stopwords)\n",
    "    text = \"\".join([word for word in tweet_body if word not in string.punctuation])\n",
    "    text = text.lower()\n",
    "    tokens = re.split('\\W+', text)\n",
    "    text = [word for word in tokens if word not in stop_words_ua]\n",
    "    return text"
   ],
   "metadata": {
    "collapsed": false
   }
  },
  {
   "cell_type": "code",
   "execution_count": 71,
   "outputs": [
    {
     "name": "stdout",
     "output_type": "stream",
     "text": [
      "Supported langauges are: \n",
      "['arabic', 'azerbaijani', 'basque', 'bengali', 'catalan', 'chinese', 'danish', 'dutch', 'english', 'finnish', 'french', 'german', 'greek', 'hebrew', 'hinglish', 'hungarian', 'indonesian', 'italian', 'kazakh', 'nepali', 'norwegian', 'portuguese', 'romanian', 'russian', 'slovene', 'spanish', 'swedish', 'tajik', 'turkish']\n"
     ]
    }
   ],
   "source": [
    "# this fucntion doesn't support Ukrainian\n",
    "\n",
    "from nltk.corpus import stopwords\n",
    "\n",
    "print(\"Supported langauges are: \")\n",
    "print(stopwords.fileids())\n",
    "\n",
    "def remove_stopwords(tweet_body, lang='english'):\n",
    "    stop_words = set(stopwords.words(lang))\n",
    "    word_tokens = nltk.word_tokenize(tweet_body)\n",
    "    filtered_sentence = [w for w in word_tokens if not w.lower() in stop_words]\n",
    "    filtered_sentence =' '.join(filtered_sentence)\n",
    "    return filtered_sentence"
   ],
   "metadata": {
    "collapsed": false
   }
  },
  {
   "cell_type": "code",
   "execution_count": 7,
   "outputs": [
    {
     "ename": "NameError",
     "evalue": "name 'remove_ua_stopwords' is not defined",
     "output_type": "error",
     "traceback": [
      "\u001B[0;31m---------------------------------------------------------------------------\u001B[0m",
      "\u001B[0;31mNameError\u001B[0m                                 Traceback (most recent call last)",
      "\u001B[0;32m/var/folders/4l/kfc4gh5d1jn6zkrmv51vvbyw0000gn/T/ipykernel_76044/2999071691.py\u001B[0m in \u001B[0;36m<module>\u001B[0;34m\u001B[0m\n\u001B[1;32m      1\u001B[0m \u001B[0mtxt\u001B[0m \u001B[0;34m=\u001B[0m \u001B[0;34m\"Засвідчивши свою відпускну в петербурзькій Палаті цивільного суду, Шевченко став учнем Академії мистецтв, де його наставником став К. Брюллов.[49] За словами Шевченка: «настала найсвітліша доба його життя, незабутні, золоті дні» навчання в Академії мистецтв, яким він присвятив у 1856 році автобіографічну повість «Художник».\"\u001B[0m\u001B[0;34m\u001B[0m\u001B[0;34m\u001B[0m\u001B[0m\n\u001B[1;32m      2\u001B[0m \u001B[0;34m\u001B[0m\u001B[0m\n\u001B[0;32m----> 3\u001B[0;31m \u001B[0mtxt\u001B[0m \u001B[0;34m=\u001B[0m \u001B[0mremove_ua_stopwords\u001B[0m\u001B[0;34m(\u001B[0m\u001B[0mtxt\u001B[0m\u001B[0;34m)\u001B[0m\u001B[0;34m\u001B[0m\u001B[0;34m\u001B[0m\u001B[0m\n\u001B[0m\u001B[1;32m      4\u001B[0m \u001B[0;34m\u001B[0m\u001B[0m\n\u001B[1;32m      5\u001B[0m \u001B[0mprint\u001B[0m\u001B[0;34m(\u001B[0m\u001B[0mtxt\u001B[0m\u001B[0;34m)\u001B[0m\u001B[0;34m\u001B[0m\u001B[0;34m\u001B[0m\u001B[0m\n",
      "\u001B[0;31mNameError\u001B[0m: name 'remove_ua_stopwords' is not defined"
     ]
    }
   ],
   "source": [
    "txt = \"Засвідчивши свою відпускну в петербурзькій Палаті цивільного суду, Шевченко став учнем Академії мистецтв, де його наставником став К. Брюллов.[49] За словами Шевченка: «настала найсвітліша доба його життя, незабутні, золоті дні» навчання в Академії мистецтв, яким він присвятив у 1856 році автобіографічну повість «Художник».\"\n",
    "\n",
    "txt = remove_ua_stopwords(txt)\n",
    "\n",
    "print(txt)"
   ],
   "metadata": {
    "collapsed": false
   }
  },
  {
   "cell_type": "code",
   "execution_count": 73,
   "outputs": [
    {
     "name": "stdout",
     "output_type": "stream",
     "text": [
      "Окончательно фамилия « Достоевский » закрепилась внуками Данилы Ивановича , потомки которых временем становятся типичной служилой шляхтой [ 13 ] [ 14 ] . Пинская ветвь Достоевских протяжении двух веков упоминалась различных документах , временем интегрировалась польско-литовским государством , утратив дворянство [ 15 ] [ 16 ] . второй половине XVII века род перебирался Украину . это время резко сократилось количество упоминаний фамилии исторических документах [ 16 ] .\n"
     ]
    }
   ],
   "source": [
    "txt = \"Окончательно фамилия «Достоевский» закрепилась за внуками Данилы Ивановича, потомки которых со временем становятся типичной служилой шляхтой[13][14]. Пинская ветвь Достоевских на протяжении почти двух веков упоминалась в различных документах, но со временем интегрировалась польско-литовским государством, утратив дворянство[15][16]. Во второй половине XVII века род перебирался на Украину. В это же время резко сократилось количество упоминаний фамилии в исторических документах[16].\"\n",
    "\n",
    "txt = remove_stopwords(txt, lang='russian')\n",
    "\n",
    "print(txt)"
   ],
   "metadata": {
    "collapsed": false
   }
  },
  {
   "cell_type": "code",
   "execution_count": 74,
   "outputs": [],
   "source": [
    "# to be used for word cloud creation\n",
    "def get_cleaned_tokens(tweets_df, lang='english'):\n",
    "    tweet_tokens_dict = {}\n",
    "    for _, row in tweets_df.iterrows():\n",
    "        tweet_text = row['Tweet Text']\n",
    "        tweet_text = clean_tweet(tweet_text)\n",
    "        # remove the stopwords\n",
    "        if lang == 'ukrainian':\n",
    "            tweet_text = remove_ua_stopwords(tweet_text)\n",
    "        else:\n",
    "            tweet_text = remove_stopwords(tweet_text, lang=lang)\n",
    "        tokenized_tweet = nltk.word_tokenize(tweet_text)\n",
    "        if row['Cluster Username'] in tweet_tokens_dict.keys():\n",
    "            tweet_tokens_dict[row['Cluster Username']].extend(tokenized_tweet)\n",
    "        else:\n",
    "            tweet_tokens_dict[row['Cluster Username']] = tokenized_tweet\n",
    "\n",
    "    return tweet_tokens_dict"
   ],
   "metadata": {
    "collapsed": false
   }
  },
  {
   "cell_type": "markdown",
   "source": [
    "<h2>Visualizing Tweet Content using Word Cloud</h2>"
   ],
   "metadata": {
    "collapsed": false
   }
  },
  {
   "cell_type": "code",
   "execution_count": 75,
   "outputs": [],
   "source": [
    "tweets_df_tokens = get_cleaned_tokens(tweets_df, lang='russian')"
   ],
   "metadata": {
    "collapsed": false
   }
  },
  {
   "cell_type": "code",
   "execution_count": 93,
   "outputs": [],
   "source": [
    "# NOTE: wordcloud per cluster, not per group\n",
    "def create_wordcloud(tweets_df_tokens, cluster_name):\n",
    "    tweet_word_cloud = WordCloud(random_state=21,\n",
    "                           max_font_size=119).generate(' '.join(tweets_df_tokens[cluster_name]))\n",
    "    plt.figure(figsize=(20,10))\n",
    "    plt.imshow(tweet_word_cloud, interpolation='bilinear')\n",
    "    plt.axis('off')\n",
    "    plt.show()\n",
    "    return"
   ],
   "metadata": {
    "collapsed": false
   }
  },
  {
   "cell_type": "code",
   "execution_count": 94,
   "outputs": [
    {
     "ename": "NameError",
     "evalue": "name 'tweets_df_tokens' is not defined",
     "output_type": "error",
     "traceback": [
      "\u001B[0;31m---------------------------------------------------------------------------\u001B[0m",
      "\u001B[0;31mNameError\u001B[0m                                 Traceback (most recent call last)",
      "\u001B[0;32m/var/folders/4l/kfc4gh5d1jn6zkrmv51vvbyw0000gn/T/ipykernel_78359/269196087.py\u001B[0m in \u001B[0;36m<module>\u001B[0;34m\u001B[0m\n\u001B[0;32m----> 1\u001B[0;31m \u001B[0mcreate_wordcloud\u001B[0m\u001B[0;34m(\u001B[0m\u001B[0mtweets_df_tokens\u001B[0m\u001B[0;34m,\u001B[0m \u001B[0;34m'@SvobodaRadio'\u001B[0m\u001B[0;34m)\u001B[0m\u001B[0;34m\u001B[0m\u001B[0;34m\u001B[0m\u001B[0m\n\u001B[0m",
      "\u001B[0;31mNameError\u001B[0m: name 'tweets_df_tokens' is not defined"
     ]
    }
   ],
   "source": [
    "create_wordcloud(tweets_df_tokens, '@SvobodaRadio')"
   ],
   "metadata": {
    "collapsed": false
   }
  },
  {
   "cell_type": "markdown",
   "source": [
    "<h2>Performing Entity Recognition and Sentiment Analysis for different\n",
    "groups of tweets</h2>"
   ],
   "metadata": {
    "collapsed": false
   }
  },
  {
   "cell_type": "code",
   "execution_count": 78,
   "outputs": [
    {
     "name": "stdout",
     "output_type": "stream",
     "text": [
      "Loading NLP libraries for English, Ukrainian and Russian languages\n"
     ]
    }
   ],
   "source": [
    "print(\"Loading NLP libraries for English, Ukrainian and Russian languages\")"
   ],
   "metadata": {
    "collapsed": false
   }
  },
  {
   "cell_type": "code",
   "execution_count": 79,
   "outputs": [
    {
     "name": "stdout",
     "output_type": "stream",
     "text": [
      "Collecting en-core-web-sm==3.4.1\r\n",
      "  Downloading https://github.com/explosion/spacy-models/releases/download/en_core_web_sm-3.4.1/en_core_web_sm-3.4.1-py3-none-any.whl (12.8 MB)\r\n",
      "     |████████████████████████████████| 12.8 MB 4.3 MB/s            \r\n",
      "\u001B[?25hRequirement already satisfied: spacy<3.5.0,>=3.4.0 in ./venv/lib/python3.7/site-packages (from en-core-web-sm==3.4.1) (3.4.3)\r\n",
      "Requirement already satisfied: pathy>=0.3.5 in ./venv/lib/python3.7/site-packages (from spacy<3.5.0,>=3.4.0->en-core-web-sm==3.4.1) (0.10.0)\r\n",
      "Requirement already satisfied: spacy-loggers<2.0.0,>=1.0.0 in ./venv/lib/python3.7/site-packages (from spacy<3.5.0,>=3.4.0->en-core-web-sm==3.4.1) (1.0.3)\r\n",
      "Requirement already satisfied: numpy>=1.15.0 in ./venv/lib/python3.7/site-packages (from spacy<3.5.0,>=3.4.0->en-core-web-sm==3.4.1) (1.21.6)\r\n",
      "Requirement already satisfied: preshed<3.1.0,>=3.0.2 in ./venv/lib/python3.7/site-packages (from spacy<3.5.0,>=3.4.0->en-core-web-sm==3.4.1) (3.0.8)\r\n",
      "Requirement already satisfied: setuptools in ./venv/lib/python3.7/site-packages (from spacy<3.5.0,>=3.4.0->en-core-web-sm==3.4.1) (60.2.0)\r\n",
      "Requirement already satisfied: typer<0.8.0,>=0.3.0 in ./venv/lib/python3.7/site-packages (from spacy<3.5.0,>=3.4.0->en-core-web-sm==3.4.1) (0.7.0)\r\n",
      "Requirement already satisfied: wasabi<1.1.0,>=0.9.1 in ./venv/lib/python3.7/site-packages (from spacy<3.5.0,>=3.4.0->en-core-web-sm==3.4.1) (0.10.1)\r\n",
      "Requirement already satisfied: catalogue<2.1.0,>=2.0.6 in ./venv/lib/python3.7/site-packages (from spacy<3.5.0,>=3.4.0->en-core-web-sm==3.4.1) (2.0.8)\r\n",
      "Requirement already satisfied: requests<3.0.0,>=2.13.0 in ./venv/lib/python3.7/site-packages (from spacy<3.5.0,>=3.4.0->en-core-web-sm==3.4.1) (2.28.1)\r\n",
      "Requirement already satisfied: murmurhash<1.1.0,>=0.28.0 in ./venv/lib/python3.7/site-packages (from spacy<3.5.0,>=3.4.0->en-core-web-sm==3.4.1) (1.0.9)\r\n",
      "Requirement already satisfied: spacy-legacy<3.1.0,>=3.0.10 in ./venv/lib/python3.7/site-packages (from spacy<3.5.0,>=3.4.0->en-core-web-sm==3.4.1) (3.0.10)\r\n",
      "Requirement already satisfied: tqdm<5.0.0,>=4.38.0 in ./venv/lib/python3.7/site-packages (from spacy<3.5.0,>=3.4.0->en-core-web-sm==3.4.1) (4.64.1)\r\n",
      "Requirement already satisfied: typing-extensions<4.2.0,>=3.7.4 in ./venv/lib/python3.7/site-packages (from spacy<3.5.0,>=3.4.0->en-core-web-sm==3.4.1) (4.1.1)\r\n",
      "Requirement already satisfied: cymem<2.1.0,>=2.0.2 in ./venv/lib/python3.7/site-packages (from spacy<3.5.0,>=3.4.0->en-core-web-sm==3.4.1) (2.0.7)\r\n",
      "Requirement already satisfied: langcodes<4.0.0,>=3.2.0 in ./venv/lib/python3.7/site-packages (from spacy<3.5.0,>=3.4.0->en-core-web-sm==3.4.1) (3.3.0)\r\n",
      "Requirement already satisfied: srsly<3.0.0,>=2.4.3 in ./venv/lib/python3.7/site-packages (from spacy<3.5.0,>=3.4.0->en-core-web-sm==3.4.1) (2.4.5)\r\n",
      "Requirement already satisfied: pydantic!=1.8,!=1.8.1,<1.11.0,>=1.7.4 in ./venv/lib/python3.7/site-packages (from spacy<3.5.0,>=3.4.0->en-core-web-sm==3.4.1) (1.10.2)\r\n",
      "Requirement already satisfied: thinc<8.2.0,>=8.1.0 in ./venv/lib/python3.7/site-packages (from spacy<3.5.0,>=3.4.0->en-core-web-sm==3.4.1) (8.1.5)\r\n",
      "Requirement already satisfied: jinja2 in ./venv/lib/python3.7/site-packages (from spacy<3.5.0,>=3.4.0->en-core-web-sm==3.4.1) (3.1.2)\r\n",
      "Requirement already satisfied: packaging>=20.0 in ./venv/lib/python3.7/site-packages (from spacy<3.5.0,>=3.4.0->en-core-web-sm==3.4.1) (21.3)\r\n",
      "Requirement already satisfied: zipp>=0.5 in ./venv/lib/python3.7/site-packages (from catalogue<2.1.0,>=2.0.6->spacy<3.5.0,>=3.4.0->en-core-web-sm==3.4.1) (3.11.0)\r\n",
      "Requirement already satisfied: pyparsing!=3.0.5,>=2.0.2 in ./venv/lib/python3.7/site-packages (from packaging>=20.0->spacy<3.5.0,>=3.4.0->en-core-web-sm==3.4.1) (3.0.9)\r\n",
      "Requirement already satisfied: smart-open<6.0.0,>=5.2.1 in ./venv/lib/python3.7/site-packages (from pathy>=0.3.5->spacy<3.5.0,>=3.4.0->en-core-web-sm==3.4.1) (5.2.1)\r\n",
      "Requirement already satisfied: idna<4,>=2.5 in ./venv/lib/python3.7/site-packages (from requests<3.0.0,>=2.13.0->spacy<3.5.0,>=3.4.0->en-core-web-sm==3.4.1) (3.4)\r\n",
      "Requirement already satisfied: certifi>=2017.4.17 in ./venv/lib/python3.7/site-packages (from requests<3.0.0,>=2.13.0->spacy<3.5.0,>=3.4.0->en-core-web-sm==3.4.1) (2022.9.24)\r\n",
      "Requirement already satisfied: urllib3<1.27,>=1.21.1 in ./venv/lib/python3.7/site-packages (from requests<3.0.0,>=2.13.0->spacy<3.5.0,>=3.4.0->en-core-web-sm==3.4.1) (1.26.13)\r\n",
      "Requirement already satisfied: charset-normalizer<3,>=2 in ./venv/lib/python3.7/site-packages (from requests<3.0.0,>=2.13.0->spacy<3.5.0,>=3.4.0->en-core-web-sm==3.4.1) (2.1.1)\r\n",
      "Requirement already satisfied: confection<1.0.0,>=0.0.1 in ./venv/lib/python3.7/site-packages (from thinc<8.2.0,>=8.1.0->spacy<3.5.0,>=3.4.0->en-core-web-sm==3.4.1) (0.0.3)\r\n",
      "Requirement already satisfied: blis<0.8.0,>=0.7.8 in ./venv/lib/python3.7/site-packages (from thinc<8.2.0,>=8.1.0->spacy<3.5.0,>=3.4.0->en-core-web-sm==3.4.1) (0.7.9)\r\n",
      "Requirement already satisfied: click<9.0.0,>=7.1.1 in ./venv/lib/python3.7/site-packages (from typer<0.8.0,>=0.3.0->spacy<3.5.0,>=3.4.0->en-core-web-sm==3.4.1) (8.1.3)\r\n",
      "Requirement already satisfied: MarkupSafe>=2.0 in ./venv/lib/python3.7/site-packages (from jinja2->spacy<3.5.0,>=3.4.0->en-core-web-sm==3.4.1) (2.1.1)\r\n",
      "Requirement already satisfied: importlib-metadata in ./venv/lib/python3.7/site-packages (from click<9.0.0,>=7.1.1->typer<0.8.0,>=0.3.0->spacy<3.5.0,>=3.4.0->en-core-web-sm==3.4.1) (5.1.0)\r\n",
      "\u001B[33mWARNING: You are using pip version 21.3.1; however, version 22.3.1 is available.\r\n",
      "You should consider upgrading via the '/Users/dennisfenchenko/NYU-Fall-2022/info_vis/confirmation-bias-vis/venv/bin/python3 -m pip install --upgrade pip' command.\u001B[0m\r\n",
      "\u001B[38;5;2m✔ Download and installation successful\u001B[0m\r\n",
      "You can now load the package via spacy.load('en_core_web_sm')\r\n"
     ]
    }
   ],
   "source": [
    "!python3 -m spacy download en_core_web_sm\n",
    "\n",
    "nlp_eng = spacy.load('en_core_web_sm')"
   ],
   "metadata": {
    "collapsed": false
   }
  },
  {
   "cell_type": "code",
   "execution_count": 80,
   "outputs": [
    {
     "name": "stdout",
     "output_type": "stream",
     "text": [
      "Collecting uk-core-news-sm==3.4.0\r\n",
      "  Downloading https://github.com/explosion/spacy-models/releases/download/uk_core_news_sm-3.4.0/uk_core_news_sm-3.4.0-py3-none-any.whl (14.9 MB)\r\n",
      "     |████████████████████████████████| 14.9 MB 18.2 MB/s            \r\n",
      "\u001B[?25hRequirement already satisfied: spacy<3.5.0,>=3.4.0 in ./venv/lib/python3.7/site-packages (from uk-core-news-sm==3.4.0) (3.4.3)\r\n",
      "Requirement already satisfied: pymorphy2>=0.9 in ./venv/lib/python3.7/site-packages (from uk-core-news-sm==3.4.0) (0.9.1)\r\n",
      "Requirement already satisfied: pymorphy2-dicts-uk in ./venv/lib/python3.7/site-packages (from uk-core-news-sm==3.4.0) (2.4.1.1.1460299261)\r\n",
      "Requirement already satisfied: dawg-python>=0.7.1 in ./venv/lib/python3.7/site-packages (from pymorphy2>=0.9->uk-core-news-sm==3.4.0) (0.7.2)\r\n",
      "Requirement already satisfied: docopt>=0.6 in ./venv/lib/python3.7/site-packages (from pymorphy2>=0.9->uk-core-news-sm==3.4.0) (0.6.2)\r\n",
      "Requirement already satisfied: pymorphy2-dicts-ru<3.0,>=2.4 in ./venv/lib/python3.7/site-packages (from pymorphy2>=0.9->uk-core-news-sm==3.4.0) (2.4.417127.4579844)\r\n",
      "Requirement already satisfied: tqdm<5.0.0,>=4.38.0 in ./venv/lib/python3.7/site-packages (from spacy<3.5.0,>=3.4.0->uk-core-news-sm==3.4.0) (4.64.1)\r\n",
      "Requirement already satisfied: srsly<3.0.0,>=2.4.3 in ./venv/lib/python3.7/site-packages (from spacy<3.5.0,>=3.4.0->uk-core-news-sm==3.4.0) (2.4.5)\r\n",
      "Requirement already satisfied: murmurhash<1.1.0,>=0.28.0 in ./venv/lib/python3.7/site-packages (from spacy<3.5.0,>=3.4.0->uk-core-news-sm==3.4.0) (1.0.9)\r\n",
      "Requirement already satisfied: catalogue<2.1.0,>=2.0.6 in ./venv/lib/python3.7/site-packages (from spacy<3.5.0,>=3.4.0->uk-core-news-sm==3.4.0) (2.0.8)\r\n",
      "Requirement already satisfied: spacy-loggers<2.0.0,>=1.0.0 in ./venv/lib/python3.7/site-packages (from spacy<3.5.0,>=3.4.0->uk-core-news-sm==3.4.0) (1.0.3)\r\n",
      "Requirement already satisfied: typer<0.8.0,>=0.3.0 in ./venv/lib/python3.7/site-packages (from spacy<3.5.0,>=3.4.0->uk-core-news-sm==3.4.0) (0.7.0)\r\n",
      "Requirement already satisfied: spacy-legacy<3.1.0,>=3.0.10 in ./venv/lib/python3.7/site-packages (from spacy<3.5.0,>=3.4.0->uk-core-news-sm==3.4.0) (3.0.10)\r\n",
      "Requirement already satisfied: preshed<3.1.0,>=3.0.2 in ./venv/lib/python3.7/site-packages (from spacy<3.5.0,>=3.4.0->uk-core-news-sm==3.4.0) (3.0.8)\r\n",
      "Requirement already satisfied: thinc<8.2.0,>=8.1.0 in ./venv/lib/python3.7/site-packages (from spacy<3.5.0,>=3.4.0->uk-core-news-sm==3.4.0) (8.1.5)\r\n",
      "Requirement already satisfied: pydantic!=1.8,!=1.8.1,<1.11.0,>=1.7.4 in ./venv/lib/python3.7/site-packages (from spacy<3.5.0,>=3.4.0->uk-core-news-sm==3.4.0) (1.10.2)\r\n",
      "Requirement already satisfied: pathy>=0.3.5 in ./venv/lib/python3.7/site-packages (from spacy<3.5.0,>=3.4.0->uk-core-news-sm==3.4.0) (0.10.0)\r\n",
      "Requirement already satisfied: jinja2 in ./venv/lib/python3.7/site-packages (from spacy<3.5.0,>=3.4.0->uk-core-news-sm==3.4.0) (3.1.2)\r\n",
      "Requirement already satisfied: cymem<2.1.0,>=2.0.2 in ./venv/lib/python3.7/site-packages (from spacy<3.5.0,>=3.4.0->uk-core-news-sm==3.4.0) (2.0.7)\r\n",
      "Requirement already satisfied: wasabi<1.1.0,>=0.9.1 in ./venv/lib/python3.7/site-packages (from spacy<3.5.0,>=3.4.0->uk-core-news-sm==3.4.0) (0.10.1)\r\n",
      "Requirement already satisfied: typing-extensions<4.2.0,>=3.7.4 in ./venv/lib/python3.7/site-packages (from spacy<3.5.0,>=3.4.0->uk-core-news-sm==3.4.0) (4.1.1)\r\n",
      "Requirement already satisfied: packaging>=20.0 in ./venv/lib/python3.7/site-packages (from spacy<3.5.0,>=3.4.0->uk-core-news-sm==3.4.0) (21.3)\r\n",
      "Requirement already satisfied: setuptools in ./venv/lib/python3.7/site-packages (from spacy<3.5.0,>=3.4.0->uk-core-news-sm==3.4.0) (60.2.0)\r\n",
      "Requirement already satisfied: requests<3.0.0,>=2.13.0 in ./venv/lib/python3.7/site-packages (from spacy<3.5.0,>=3.4.0->uk-core-news-sm==3.4.0) (2.28.1)\r\n",
      "Requirement already satisfied: langcodes<4.0.0,>=3.2.0 in ./venv/lib/python3.7/site-packages (from spacy<3.5.0,>=3.4.0->uk-core-news-sm==3.4.0) (3.3.0)\r\n",
      "Requirement already satisfied: numpy>=1.15.0 in ./venv/lib/python3.7/site-packages (from spacy<3.5.0,>=3.4.0->uk-core-news-sm==3.4.0) (1.21.6)\r\n",
      "Requirement already satisfied: zipp>=0.5 in ./venv/lib/python3.7/site-packages (from catalogue<2.1.0,>=2.0.6->spacy<3.5.0,>=3.4.0->uk-core-news-sm==3.4.0) (3.11.0)\r\n",
      "Requirement already satisfied: pyparsing!=3.0.5,>=2.0.2 in ./venv/lib/python3.7/site-packages (from packaging>=20.0->spacy<3.5.0,>=3.4.0->uk-core-news-sm==3.4.0) (3.0.9)\r\n",
      "Requirement already satisfied: smart-open<6.0.0,>=5.2.1 in ./venv/lib/python3.7/site-packages (from pathy>=0.3.5->spacy<3.5.0,>=3.4.0->uk-core-news-sm==3.4.0) (5.2.1)\r\n",
      "Requirement already satisfied: charset-normalizer<3,>=2 in ./venv/lib/python3.7/site-packages (from requests<3.0.0,>=2.13.0->spacy<3.5.0,>=3.4.0->uk-core-news-sm==3.4.0) (2.1.1)\r\n",
      "Requirement already satisfied: idna<4,>=2.5 in ./venv/lib/python3.7/site-packages (from requests<3.0.0,>=2.13.0->spacy<3.5.0,>=3.4.0->uk-core-news-sm==3.4.0) (3.4)\r\n",
      "Requirement already satisfied: urllib3<1.27,>=1.21.1 in ./venv/lib/python3.7/site-packages (from requests<3.0.0,>=2.13.0->spacy<3.5.0,>=3.4.0->uk-core-news-sm==3.4.0) (1.26.13)\r\n",
      "Requirement already satisfied: certifi>=2017.4.17 in ./venv/lib/python3.7/site-packages (from requests<3.0.0,>=2.13.0->spacy<3.5.0,>=3.4.0->uk-core-news-sm==3.4.0) (2022.9.24)\r\n",
      "Requirement already satisfied: confection<1.0.0,>=0.0.1 in ./venv/lib/python3.7/site-packages (from thinc<8.2.0,>=8.1.0->spacy<3.5.0,>=3.4.0->uk-core-news-sm==3.4.0) (0.0.3)\r\n",
      "Requirement already satisfied: blis<0.8.0,>=0.7.8 in ./venv/lib/python3.7/site-packages (from thinc<8.2.0,>=8.1.0->spacy<3.5.0,>=3.4.0->uk-core-news-sm==3.4.0) (0.7.9)\r\n",
      "Requirement already satisfied: click<9.0.0,>=7.1.1 in ./venv/lib/python3.7/site-packages (from typer<0.8.0,>=0.3.0->spacy<3.5.0,>=3.4.0->uk-core-news-sm==3.4.0) (8.1.3)\r\n",
      "Requirement already satisfied: MarkupSafe>=2.0 in ./venv/lib/python3.7/site-packages (from jinja2->spacy<3.5.0,>=3.4.0->uk-core-news-sm==3.4.0) (2.1.1)\r\n",
      "Requirement already satisfied: importlib-metadata in ./venv/lib/python3.7/site-packages (from click<9.0.0,>=7.1.1->typer<0.8.0,>=0.3.0->spacy<3.5.0,>=3.4.0->uk-core-news-sm==3.4.0) (5.1.0)\r\n",
      "\u001B[33mWARNING: You are using pip version 21.3.1; however, version 22.3.1 is available.\r\n",
      "You should consider upgrading via the '/Users/dennisfenchenko/NYU-Fall-2022/info_vis/confirmation-bias-vis/venv/bin/python3 -m pip install --upgrade pip' command.\u001B[0m\r\n",
      "\u001B[38;5;2m✔ Download and installation successful\u001B[0m\r\n",
      "You can now load the package via spacy.load('uk_core_news_sm')\r\n"
     ]
    }
   ],
   "source": [
    "!python3 -m spacy download uk_core_news_sm\n",
    "\n",
    "nlp_ukr = spacy.load('uk_core_news_sm')"
   ],
   "metadata": {
    "collapsed": false
   }
  },
  {
   "cell_type": "code",
   "execution_count": 81,
   "outputs": [
    {
     "name": "stdout",
     "output_type": "stream",
     "text": [
      "Collecting ru-core-news-sm==3.4.0\r\n",
      "  Downloading https://github.com/explosion/spacy-models/releases/download/ru_core_news_sm-3.4.0/ru_core_news_sm-3.4.0-py3-none-any.whl (15.3 MB)\r\n",
      "     |████████████████████████████████| 15.3 MB 1.0 MB/s            \r\n",
      "\u001B[?25hRequirement already satisfied: pymorphy2>=0.9 in ./venv/lib/python3.7/site-packages (from ru-core-news-sm==3.4.0) (0.9.1)\r\n",
      "Requirement already satisfied: spacy<3.5.0,>=3.4.0 in ./venv/lib/python3.7/site-packages (from ru-core-news-sm==3.4.0) (3.4.3)\r\n",
      "Requirement already satisfied: pymorphy2-dicts-ru<3.0,>=2.4 in ./venv/lib/python3.7/site-packages (from pymorphy2>=0.9->ru-core-news-sm==3.4.0) (2.4.417127.4579844)\r\n",
      "Requirement already satisfied: dawg-python>=0.7.1 in ./venv/lib/python3.7/site-packages (from pymorphy2>=0.9->ru-core-news-sm==3.4.0) (0.7.2)\r\n",
      "Requirement already satisfied: docopt>=0.6 in ./venv/lib/python3.7/site-packages (from pymorphy2>=0.9->ru-core-news-sm==3.4.0) (0.6.2)\r\n",
      "Requirement already satisfied: spacy-loggers<2.0.0,>=1.0.0 in ./venv/lib/python3.7/site-packages (from spacy<3.5.0,>=3.4.0->ru-core-news-sm==3.4.0) (1.0.3)\r\n",
      "Requirement already satisfied: murmurhash<1.1.0,>=0.28.0 in ./venv/lib/python3.7/site-packages (from spacy<3.5.0,>=3.4.0->ru-core-news-sm==3.4.0) (1.0.9)\r\n",
      "Requirement already satisfied: langcodes<4.0.0,>=3.2.0 in ./venv/lib/python3.7/site-packages (from spacy<3.5.0,>=3.4.0->ru-core-news-sm==3.4.0) (3.3.0)\r\n",
      "Requirement already satisfied: preshed<3.1.0,>=3.0.2 in ./venv/lib/python3.7/site-packages (from spacy<3.5.0,>=3.4.0->ru-core-news-sm==3.4.0) (3.0.8)\r\n",
      "Requirement already satisfied: tqdm<5.0.0,>=4.38.0 in ./venv/lib/python3.7/site-packages (from spacy<3.5.0,>=3.4.0->ru-core-news-sm==3.4.0) (4.64.1)\r\n",
      "Requirement already satisfied: catalogue<2.1.0,>=2.0.6 in ./venv/lib/python3.7/site-packages (from spacy<3.5.0,>=3.4.0->ru-core-news-sm==3.4.0) (2.0.8)\r\n",
      "Requirement already satisfied: requests<3.0.0,>=2.13.0 in ./venv/lib/python3.7/site-packages (from spacy<3.5.0,>=3.4.0->ru-core-news-sm==3.4.0) (2.28.1)\r\n",
      "Requirement already satisfied: numpy>=1.15.0 in ./venv/lib/python3.7/site-packages (from spacy<3.5.0,>=3.4.0->ru-core-news-sm==3.4.0) (1.21.6)\r\n",
      "Requirement already satisfied: pathy>=0.3.5 in ./venv/lib/python3.7/site-packages (from spacy<3.5.0,>=3.4.0->ru-core-news-sm==3.4.0) (0.10.0)\r\n",
      "Requirement already satisfied: cymem<2.1.0,>=2.0.2 in ./venv/lib/python3.7/site-packages (from spacy<3.5.0,>=3.4.0->ru-core-news-sm==3.4.0) (2.0.7)\r\n",
      "Requirement already satisfied: packaging>=20.0 in ./venv/lib/python3.7/site-packages (from spacy<3.5.0,>=3.4.0->ru-core-news-sm==3.4.0) (21.3)\r\n",
      "Requirement already satisfied: jinja2 in ./venv/lib/python3.7/site-packages (from spacy<3.5.0,>=3.4.0->ru-core-news-sm==3.4.0) (3.1.2)\r\n",
      "Requirement already satisfied: srsly<3.0.0,>=2.4.3 in ./venv/lib/python3.7/site-packages (from spacy<3.5.0,>=3.4.0->ru-core-news-sm==3.4.0) (2.4.5)\r\n",
      "Requirement already satisfied: wasabi<1.1.0,>=0.9.1 in ./venv/lib/python3.7/site-packages (from spacy<3.5.0,>=3.4.0->ru-core-news-sm==3.4.0) (0.10.1)\r\n",
      "Requirement already satisfied: setuptools in ./venv/lib/python3.7/site-packages (from spacy<3.5.0,>=3.4.0->ru-core-news-sm==3.4.0) (60.2.0)\r\n",
      "Requirement already satisfied: typer<0.8.0,>=0.3.0 in ./venv/lib/python3.7/site-packages (from spacy<3.5.0,>=3.4.0->ru-core-news-sm==3.4.0) (0.7.0)\r\n",
      "Requirement already satisfied: typing-extensions<4.2.0,>=3.7.4 in ./venv/lib/python3.7/site-packages (from spacy<3.5.0,>=3.4.0->ru-core-news-sm==3.4.0) (4.1.1)\r\n",
      "Requirement already satisfied: pydantic!=1.8,!=1.8.1,<1.11.0,>=1.7.4 in ./venv/lib/python3.7/site-packages (from spacy<3.5.0,>=3.4.0->ru-core-news-sm==3.4.0) (1.10.2)\r\n",
      "Requirement already satisfied: spacy-legacy<3.1.0,>=3.0.10 in ./venv/lib/python3.7/site-packages (from spacy<3.5.0,>=3.4.0->ru-core-news-sm==3.4.0) (3.0.10)\r\n",
      "Requirement already satisfied: thinc<8.2.0,>=8.1.0 in ./venv/lib/python3.7/site-packages (from spacy<3.5.0,>=3.4.0->ru-core-news-sm==3.4.0) (8.1.5)\r\n",
      "Requirement already satisfied: zipp>=0.5 in ./venv/lib/python3.7/site-packages (from catalogue<2.1.0,>=2.0.6->spacy<3.5.0,>=3.4.0->ru-core-news-sm==3.4.0) (3.11.0)\r\n",
      "Requirement already satisfied: pyparsing!=3.0.5,>=2.0.2 in ./venv/lib/python3.7/site-packages (from packaging>=20.0->spacy<3.5.0,>=3.4.0->ru-core-news-sm==3.4.0) (3.0.9)\r\n",
      "Requirement already satisfied: smart-open<6.0.0,>=5.2.1 in ./venv/lib/python3.7/site-packages (from pathy>=0.3.5->spacy<3.5.0,>=3.4.0->ru-core-news-sm==3.4.0) (5.2.1)\r\n",
      "Requirement already satisfied: charset-normalizer<3,>=2 in ./venv/lib/python3.7/site-packages (from requests<3.0.0,>=2.13.0->spacy<3.5.0,>=3.4.0->ru-core-news-sm==3.4.0) (2.1.1)\r\n",
      "Requirement already satisfied: certifi>=2017.4.17 in ./venv/lib/python3.7/site-packages (from requests<3.0.0,>=2.13.0->spacy<3.5.0,>=3.4.0->ru-core-news-sm==3.4.0) (2022.9.24)\r\n",
      "Requirement already satisfied: urllib3<1.27,>=1.21.1 in ./venv/lib/python3.7/site-packages (from requests<3.0.0,>=2.13.0->spacy<3.5.0,>=3.4.0->ru-core-news-sm==3.4.0) (1.26.13)\r\n",
      "Requirement already satisfied: idna<4,>=2.5 in ./venv/lib/python3.7/site-packages (from requests<3.0.0,>=2.13.0->spacy<3.5.0,>=3.4.0->ru-core-news-sm==3.4.0) (3.4)\r\n",
      "Requirement already satisfied: blis<0.8.0,>=0.7.8 in ./venv/lib/python3.7/site-packages (from thinc<8.2.0,>=8.1.0->spacy<3.5.0,>=3.4.0->ru-core-news-sm==3.4.0) (0.7.9)\r\n",
      "Requirement already satisfied: confection<1.0.0,>=0.0.1 in ./venv/lib/python3.7/site-packages (from thinc<8.2.0,>=8.1.0->spacy<3.5.0,>=3.4.0->ru-core-news-sm==3.4.0) (0.0.3)\r\n",
      "Requirement already satisfied: click<9.0.0,>=7.1.1 in ./venv/lib/python3.7/site-packages (from typer<0.8.0,>=0.3.0->spacy<3.5.0,>=3.4.0->ru-core-news-sm==3.4.0) (8.1.3)\r\n",
      "Requirement already satisfied: MarkupSafe>=2.0 in ./venv/lib/python3.7/site-packages (from jinja2->spacy<3.5.0,>=3.4.0->ru-core-news-sm==3.4.0) (2.1.1)\r\n",
      "Requirement already satisfied: importlib-metadata in ./venv/lib/python3.7/site-packages (from click<9.0.0,>=7.1.1->typer<0.8.0,>=0.3.0->spacy<3.5.0,>=3.4.0->ru-core-news-sm==3.4.0) (5.1.0)\r\n",
      "\u001B[33mWARNING: You are using pip version 21.3.1; however, version 22.3.1 is available.\r\n",
      "You should consider upgrading via the '/Users/dennisfenchenko/NYU-Fall-2022/info_vis/confirmation-bias-vis/venv/bin/python3 -m pip install --upgrade pip' command.\u001B[0m\r\n",
      "\u001B[38;5;2m✔ Download and installation successful\u001B[0m\r\n",
      "You can now load the package via spacy.load('ru_core_news_sm')\r\n"
     ]
    }
   ],
   "source": [
    "!python3 -m spacy download ru_core_news_sm\n",
    "\n",
    "nlp_rus = spacy.load('ru_core_news_sm')"
   ],
   "metadata": {
    "collapsed": false
   }
  },
  {
   "cell_type": "code",
   "execution_count": 87,
   "outputs": [
    {
     "name": "stdout",
     "output_type": "stream",
     "text": [
      "(Гостомеле, Бэнкси, Украина, ВСУ)\n"
     ]
    }
   ],
   "source": [
    "# Spacy has vocabulary for English, Ukrainian and Russian languages\n",
    "\n",
    "text = (\"Восемь вандалов, которые срезали со стены дома в #Гостомеле женщину \"\n",
    "        \"в противогазе авторства #Бэнкси, дали показания полиции #Украина #россия #ВСУ #война #агрессияроссии #вторжениероссии #stoprussia # #войнасукраиной #Войнапутина\")\n",
    "\n",
    "doc = nlp_rus(text)\n",
    "\n",
    "# Find named entities, phrases and concepts\n",
    "for entity in doc.ents:\n",
    "    print(entity.text)\n",
    "    print(entity.text, entity.label_)"
   ],
   "metadata": {
    "collapsed": false
   }
  },
  {
   "cell_type": "code",
   "execution_count": 83,
   "outputs": [
    {
     "name": "stdout",
     "output_type": "stream",
     "text": [
      "Performing sentiment analysis on tweets\n"
     ]
    },
    {
     "data": {
      "text/plain": "{'neg': 0.0, 'neu': 0.281, 'pos': 0.719, 'compound': 0.882}"
     },
     "execution_count": 83,
     "metadata": {},
     "output_type": "execute_result"
    }
   ],
   "source": [
    "print(\"Performing sentiment analysis on tweets\")\n",
    "\n",
    "analyzer = SentimentIntensityAnalyzer()\n",
    "\n",
    "analyzer.polarity_scores(\"Вейдер очень умный, красивый и смешной!!!\")"
   ],
   "metadata": {
    "collapsed": false
   }
  },
  {
   "cell_type": "code",
   "execution_count": 84,
   "outputs": [
    {
     "data": {
      "text/plain": "{'neg': 0.234, 'neu': 0.766, 'pos': 0.0, 'compound': -0.9042}"
     },
     "execution_count": 84,
     "metadata": {},
     "output_type": "execute_result"
    }
   ],
   "source": [
    "analyzer.polarity_scores(\"Новый ракетный удар по мирным жителям Донецка. В сети публикуют момент атаки. Украинские боевики открыли огонь по многоэтажке. Прямое попадание реактивного снаряда. Взрывной волной выбило стекла в соседних зданиях. Два человека погибли https://t.co/xUgOmV4iWN https://t.co/hN8uLeHwzu\")"
   ],
   "metadata": {
    "collapsed": false
   }
  },
  {
   "cell_type": "markdown",
   "source": [
    "<h2>Performing Entity and Sentiment Analysis</h2>"
   ],
   "metadata": {
    "collapsed": false
   }
  },
  {
   "cell_type": "code",
   "execution_count": 104,
   "outputs": [],
   "source": [
    "def augment_entity_to_df(tweets_df, lang='english'):\n",
    "\n",
    "    new_df = tweets_df.copy(deep=True)\n",
    "\n",
    "    entities_col = []\n",
    "\n",
    "    for _, row in tweets_df.iterrows():\n",
    "        entities = []\n",
    "        tweet_text = row['Tweet Text']\n",
    "        tweet_text = clean_tweet(tweet_text)\n",
    "        if lang == 'english':\n",
    "            nlp_doc = nlp_eng(tweet_text)\n",
    "        elif lang == 'russian':\n",
    "            nlp_doc = nlp_rus(tweet_text)\n",
    "        elif lang == 'ukrainian':\n",
    "            nlp_doc = nlp_ukr(text)\n",
    "        else: raise Exception('Language not supported.')\n",
    "\n",
    "        # NOTE: enteteties can be filtered based on the entity. e.g. only\n",
    "        # people\n",
    "        for entity in nlp_doc.ents:\n",
    "            entities.append(entity.text)\n",
    "\n",
    "        entities_col.append(entities)\n",
    "\n",
    "    new_df['Entities'] = entities_col\n",
    "\n",
    "    return new_df"
   ],
   "metadata": {
    "collapsed": false
   }
  },
  {
   "cell_type": "code",
   "execution_count": 105,
   "outputs": [
    {
     "name": "stdout",
     "output_type": "stream",
     "text": [
      "   Cluster Username  Cluster ID  \\\n",
      "0       @1tvru_news   160881696   \n",
      "1       @1tvru_news   160881696   \n",
      "2       @1tvru_news   160881696   \n",
      "3       @1tvru_news   160881696   \n",
      "4       @1tvru_news   160881696   \n",
      "5           @ru_rbc   269770723   \n",
      "6           @ru_rbc   269770723   \n",
      "7           @ru_rbc   269770723   \n",
      "8           @ru_rbc   269770723   \n",
      "9           @ru_rbc   269770723   \n",
      "10   @dmitry_gordon  1334400780   \n",
      "11   @dmitry_gordon  1334400780   \n",
      "12   @dmitry_gordon  1334400780   \n",
      "13   @dmitry_gordon  1334400780   \n",
      "14   @dmitry_gordon  1334400780   \n",
      "15    @SvobodaRadio    47562921   \n",
      "16    @SvobodaRadio    47562921   \n",
      "17    @SvobodaRadio    47562921   \n",
      "18    @SvobodaRadio    47562921   \n",
      "19    @SvobodaRadio    47562921   \n",
      "\n",
      "                                           Tweet Text  \\\n",
      "0   Новые примеры мужества и отваги российских вое...   \n",
      "1   Дата, навечно вплетенная в летопись нашей воин...   \n",
      "2   В Подмосковье сегодня чествовали уникальный ко...   \n",
      "3   Можно покорить любую вершину, когда такая сила...   \n",
      "4   Вашингтон готовит новый пакет помощи для Украи...   \n",
      "5   Новые сезоны уже полюбившихся шоу и премьеры, ...   \n",
      "6   В российских кинотеатрах большая премьера — в ...   \n",
      "7   Всенародная любовь и слава обрушились на молод...   \n",
      "8   Исследования показали, что при подборе персона...   \n",
      "9   Молдавия в декабре перенаправит газ из России ...   \n",
      "10  СБУ назвала 10 человек из УПЦ МП, которые попа...   \n",
      "11  Есть стойкое ощущение, что Крым будет возвраще...   \n",
      "12  Зеленский о пределе цен на российскую нефть: М...   \n",
      "13  Украинская авиация нанесла 14 ударов по оккупа...   \n",
      "14  Ставка верховного главнокомандующего обсудила ...   \n",
      "15  Союзникам по НАТО необходимо подумать о том, к...   \n",
      "16  Журналист и блогер из Республики Алтай Амыр Ай...   \n",
      "17  Заместитель госсекретаря США Виктория Нуланд в...   \n",
      "18  Сергей Шойгу в субботу посетил Минск. О его ви...   \n",
      "19  Зачем Кудрин ушел в Яндекс? Отвечает экономист...   \n",
      "\n",
      "                                             Entities  \n",
      "0                                                  []  \n",
      "1                                            [России]  \n",
      "2                               [Подмосковье, Лапино]  \n",
      "3                                  [Жизнь в движении]  \n",
      "4         [Вашингтон, Украины, Белый дом, Конгрессом]  \n",
      "5                                                  []  \n",
      "6                 [Рубена Эстлунда, Катя Загвоздкина]  \n",
      "7   [Буратино, Электроником, Сыроежкиным, Петровым...  \n",
      "8                                                  []  \n",
      "9                   [Молдавия, России, Приднестровье]  \n",
      "10                                [СБУ, УПЦ МП, СНБО]  \n",
      "11                                    [Крым, Украины]  \n",
      "12                                               [РФ]  \n",
      "13                   [Донецкой области, Генштаб, ВСУ]  \n",
      "14                                          [Украины]  \n",
      "15  [НАТО, России, Украиной, TF1, Франции, Эммануэ...  \n",
      "16  [Республики Алтай, Амыр Айташев, Россию, Айташ...  \n",
      "17  [США, Виктория Нуланд, России, Владимир Путин,...  \n",
      "18  [Сергей Шойгу, Минск, Беларусь, Лукашенко, Шойгу]  \n",
      "19                  [Кудрин, Яндекс, Сергей Хестанов]  \n"
     ]
    }
   ],
   "source": [
    "new_df = augment_entity_to_df(tweets_df, lang='russian')\n",
    "print(new_df)"
   ],
   "metadata": {
    "collapsed": false
   }
  },
  {
   "cell_type": "code",
   "execution_count": 27,
   "outputs": [],
   "source": [
    "def augment_sent_to_df(tweets_df, lang='english'):\n",
    "\n",
    "    new_df = tweets_df.copy(deep=True)\n",
    "\n",
    "    analyzer = SentimentIntensityAnalyzer()\n",
    "\n",
    "    neg_sent = []\n",
    "    pos_sent = []\n",
    "\n",
    "    for _, row in tweets_df.iterrows():\n",
    "        tweet_text = row['Tweet Text']\n",
    "        tweet_text = clean_tweet(tweet_text)\n",
    "        analyzer.polarity_scores(tweet_text)\n",
    "        neg_sent.append(analyzer.polarity_scores['neg'])\n",
    "        pos_sent.append(analyzer.polarity_scores['pos'])\n",
    "\n",
    "    new_df['Neg'] = neg_sent\n",
    "    new_df['Pos'] = pos_sent\n",
    "\n",
    "    return new_df"
   ],
   "metadata": {
    "collapsed": false
   }
  },
  {
   "cell_type": "code",
   "execution_count": 30,
   "outputs": [
    {
     "ename": "NameError",
     "evalue": "name 'new_df' is not defined",
     "output_type": "error",
     "traceback": [
      "\u001B[0;31m---------------------------------------------------------------------------\u001B[0m",
      "\u001B[0;31mNameError\u001B[0m                                 Traceback (most recent call last)",
      "\u001B[0;32m/var/folders/4l/kfc4gh5d1jn6zkrmv51vvbyw0000gn/T/ipykernel_78359/4179587223.py\u001B[0m in \u001B[0;36m<module>\u001B[0;34m\u001B[0m\n\u001B[0;32m----> 1\u001B[0;31m \u001B[0mnew_df\u001B[0m \u001B[0;34m=\u001B[0m \u001B[0maugment_sent_to_df\u001B[0m\u001B[0;34m(\u001B[0m\u001B[0mnew_df\u001B[0m\u001B[0;34m,\u001B[0m \u001B[0mlang\u001B[0m\u001B[0;34m=\u001B[0m\u001B[0;34m'russian'\u001B[0m\u001B[0;34m)\u001B[0m\u001B[0;34m\u001B[0m\u001B[0;34m\u001B[0m\u001B[0m\n\u001B[0m\u001B[1;32m      2\u001B[0m \u001B[0mprint\u001B[0m\u001B[0;34m(\u001B[0m\u001B[0mnew_df\u001B[0m\u001B[0;34m)\u001B[0m\u001B[0;34m\u001B[0m\u001B[0;34m\u001B[0m\u001B[0m\n",
      "\u001B[0;31mNameError\u001B[0m: name 'new_df' is not defined"
     ]
    }
   ],
   "source": [
    "new_df = augment_sent_to_df(new_df, lang='russian')\n",
    "print(new_df)"
   ],
   "metadata": {
    "collapsed": false
   }
  },
  {
   "cell_type": "markdown",
   "source": [
    "<h2>Creating Sentiment Visualizations in Plotly</h2>"
   ],
   "metadata": {
    "collapsed": false
   }
  },
  {
   "cell_type": "code",
   "execution_count": null,
   "outputs": [],
   "source": [],
   "metadata": {
    "collapsed": false
   }
  },
  {
   "cell_type": "code",
   "execution_count": null,
   "outputs": [],
   "source": [],
   "metadata": {
    "collapsed": false
   }
  }
 ],
 "metadata": {
  "kernelspec": {
   "display_name": "Python 3",
   "language": "python",
   "name": "python3"
  },
  "language_info": {
   "codemirror_mode": {
    "name": "ipython",
    "version": 2
   },
   "file_extension": ".py",
   "mimetype": "text/x-python",
   "name": "python",
   "nbconvert_exporter": "python",
   "pygments_lexer": "ipython2",
   "version": "2.7.6"
  }
 },
 "nbformat": 4,
 "nbformat_minor": 0
}
